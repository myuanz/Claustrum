{
 "cells": [
  {
   "cell_type": "code",
   "execution_count": 1,
   "id": "f931b10c",
   "metadata": {},
   "outputs": [
    {
     "name": "stderr",
     "output_type": "stream",
     "text": [
      "\n",
      "Attaching package: ‘dplyr’\n",
      "\n",
      "\n",
      "The following objects are masked from ‘package:stats’:\n",
      "\n",
      "    filter, lag\n",
      "\n",
      "\n",
      "The following objects are masked from ‘package:base’:\n",
      "\n",
      "    intersect, setdiff, setequal, union\n",
      "\n",
      "\n",
      "The legacy packages maptools, rgdal, and rgeos, underpinning this package\n",
      "will retire shortly. Please refer to R-spatial evolution reports on\n",
      "https://r-spatial.org/r/2023/05/15/evolution4.html for details.\n",
      "This package is now running under evolution status 0 \n",
      "\n",
      "rgeos version: 0.6-3, (SVN revision 696)\n",
      " GEOS runtime version: 3.11.0-CAPI-1.17.0 \n",
      " Please note that rgeos will be retired during October 2023,\n",
      "plan transition to sf or terra functions using GEOS at your earliest convenience.\n",
      "See https://r-spatial.org/r/2023/05/15/evolution4.html for details.\n",
      " GEOS using OverlayNG\n",
      " Linking to sp version: 1.6-0 \n",
      " Polygon checking: TRUE \n",
      "\n",
      "\n",
      "Attaching SeuratObject\n",
      "\n",
      "Attaching sp\n",
      "\n",
      "Loading required package: R.oo\n",
      "\n",
      "Loading required package: R.methodsS3\n",
      "\n",
      "R.methodsS3 v1.8.2 (2022-06-13 22:00:14 UTC) successfully loaded. See ?R.methodsS3 for help.\n",
      "\n",
      "R.oo v1.25.0 (2022-06-12 02:20:02 UTC) successfully loaded. See ?R.oo for help.\n",
      "\n",
      "\n",
      "Attaching package: ‘R.oo’\n",
      "\n",
      "\n",
      "The following object is masked from ‘package:R.methodsS3’:\n",
      "\n",
      "    throw\n",
      "\n",
      "\n",
      "The following objects are masked from ‘package:methods’:\n",
      "\n",
      "    getClasses, getMethods\n",
      "\n",
      "\n",
      "The following objects are masked from ‘package:base’:\n",
      "\n",
      "    attach, detach, load, save\n",
      "\n",
      "\n",
      "R.utils v2.12.2 (2022-11-11 22:00:03 UTC) successfully loaded. See ?R.utils for help.\n",
      "\n",
      "\n",
      "Attaching package: ‘R.utils’\n",
      "\n",
      "\n",
      "The following object is masked from ‘package:utils’:\n",
      "\n",
      "    timestamp\n",
      "\n",
      "\n",
      "The following objects are masked from ‘package:base’:\n",
      "\n",
      "    cat, commandArgs, getOption, isOpen, nullfile, parse, warnings\n",
      "\n",
      "\n"
     ]
    }
   ],
   "source": [
    "library(dplyr)\n",
    "library(Seurat)\n",
    "library(patchwork)\n",
    "library(stringr)\n",
    "library(Matrix)\n",
    "library(R.utils)"
   ]
  },
  {
   "cell_type": "code",
   "execution_count": 2,
   "id": "5e8d9d78",
   "metadata": {},
   "outputs": [
    {
     "data": {
      "text/html": [
       "20"
      ],
      "text/latex": [
       "20"
      ],
      "text/markdown": [
       "20"
      ],
      "text/plain": [
       "[1] 20"
      ]
     },
     "metadata": {},
     "output_type": "display_data"
    },
    {
     "data": {
      "text/html": [
       "<style>\n",
       ".list-inline {list-style: none; margin:0; padding: 0}\n",
       ".list-inline>li {display: inline-block}\n",
       ".list-inline>li:not(:last-child)::after {content: \"\\00b7\"; padding: 0 .5ex}\n",
       "</style>\n",
       "<ol class=list-inline><li>'/home/liuyx/liuyuxuan/spa_seurat/cla/macaca/sn_0709_renew/soupX.flt_Matrix/3064-1-230602_web_0'</li><li>'/home/liuyx/liuyuxuan/spa_seurat/cla/macaca/sn_0709_renew/soupX.flt_Matrix/3064-2-230602_web_0'</li><li>'/home/liuyx/liuyuxuan/spa_seurat/cla/macaca/sn_0709_renew/soupX.flt_Matrix/3065-1-230602_web_0'</li><li>'/home/liuyx/liuyuxuan/spa_seurat/cla/macaca/sn_0709_renew/soupX.flt_Matrix/3065-2-230602_web_0'</li><li>'/home/liuyx/liuyuxuan/spa_seurat/cla/macaca/sn_0709_renew/soupX.flt_Matrix/3066-1-230602_web_0'</li><li>'/home/liuyx/liuyuxuan/spa_seurat/cla/macaca/sn_0709_renew/soupX.flt_Matrix/3066-2-230602_web_0'</li><li>'/home/liuyx/liuyuxuan/spa_seurat/cla/macaca/sn_0709_renew/soupX.flt_Matrix/3067-1-230602_web_0'</li><li>'/home/liuyx/liuyuxuan/spa_seurat/cla/macaca/sn_0709_renew/soupX.flt_Matrix/3067-2-230602_web_0'</li><li>'/home/liuyx/liuyuxuan/spa_seurat/cla/macaca/sn_0709_renew/soupX.flt_Matrix/3068-1-230602_web_0'</li><li>'/home/liuyx/liuyuxuan/spa_seurat/cla/macaca/sn_0709_renew/soupX.flt_Matrix/3068-2-230602_web_0'</li><li>'/home/liuyx/liuyuxuan/spa_seurat/cla/macaca/sn_0709_renew/soupX.flt_Matrix/3068-3-230602_web_0'</li><li>'/home/liuyx/liuyuxuan/spa_seurat/cla/macaca/sn_0709_renew/soupX.flt_Matrix/3068-4-230602_web_0'</li><li>'/home/liuyx/liuyuxuan/spa_seurat/cla/macaca/sn_0709_renew/soupX.flt_Matrix/3068-5-230602_web_0'</li><li>'/home/liuyx/liuyuxuan/spa_seurat/cla/macaca/sn_0709_renew/soupX.flt_Matrix/3068-6-230602_web_0'</li><li>'/home/liuyx/liuyuxuan/spa_seurat/cla/macaca/sn_0709_renew/soupX.flt_Matrix/3069-1-230602_web_0'</li><li>'/home/liuyx/liuyuxuan/spa_seurat/cla/macaca/sn_0709_renew/soupX.flt_Matrix/3069-2-230602_web_0'</li><li>'/home/liuyx/liuyuxuan/spa_seurat/cla/macaca/sn_0709_renew/soupX.flt_Matrix/3069-3-230602_web_0'</li><li>'/home/liuyx/liuyuxuan/spa_seurat/cla/macaca/sn_0709_renew/soupX.flt_Matrix/3069-4-230602_web_0'</li><li>'/home/liuyx/liuyuxuan/spa_seurat/cla/macaca/sn_0709_renew/soupX.flt_Matrix/3069-5-230602_web_0'</li><li>'/home/liuyx/liuyuxuan/spa_seurat/cla/macaca/sn_0709_renew/soupX.flt_Matrix/3069-6-230602_web_0'</li></ol>\n"
      ],
      "text/latex": [
       "\\begin{enumerate*}\n",
       "\\item '/home/liuyx/liuyuxuan/spa\\_seurat/cla/macaca/sn\\_0709\\_renew/soupX.flt\\_Matrix/3064-1-230602\\_web\\_0'\n",
       "\\item '/home/liuyx/liuyuxuan/spa\\_seurat/cla/macaca/sn\\_0709\\_renew/soupX.flt\\_Matrix/3064-2-230602\\_web\\_0'\n",
       "\\item '/home/liuyx/liuyuxuan/spa\\_seurat/cla/macaca/sn\\_0709\\_renew/soupX.flt\\_Matrix/3065-1-230602\\_web\\_0'\n",
       "\\item '/home/liuyx/liuyuxuan/spa\\_seurat/cla/macaca/sn\\_0709\\_renew/soupX.flt\\_Matrix/3065-2-230602\\_web\\_0'\n",
       "\\item '/home/liuyx/liuyuxuan/spa\\_seurat/cla/macaca/sn\\_0709\\_renew/soupX.flt\\_Matrix/3066-1-230602\\_web\\_0'\n",
       "\\item '/home/liuyx/liuyuxuan/spa\\_seurat/cla/macaca/sn\\_0709\\_renew/soupX.flt\\_Matrix/3066-2-230602\\_web\\_0'\n",
       "\\item '/home/liuyx/liuyuxuan/spa\\_seurat/cla/macaca/sn\\_0709\\_renew/soupX.flt\\_Matrix/3067-1-230602\\_web\\_0'\n",
       "\\item '/home/liuyx/liuyuxuan/spa\\_seurat/cla/macaca/sn\\_0709\\_renew/soupX.flt\\_Matrix/3067-2-230602\\_web\\_0'\n",
       "\\item '/home/liuyx/liuyuxuan/spa\\_seurat/cla/macaca/sn\\_0709\\_renew/soupX.flt\\_Matrix/3068-1-230602\\_web\\_0'\n",
       "\\item '/home/liuyx/liuyuxuan/spa\\_seurat/cla/macaca/sn\\_0709\\_renew/soupX.flt\\_Matrix/3068-2-230602\\_web\\_0'\n",
       "\\item '/home/liuyx/liuyuxuan/spa\\_seurat/cla/macaca/sn\\_0709\\_renew/soupX.flt\\_Matrix/3068-3-230602\\_web\\_0'\n",
       "\\item '/home/liuyx/liuyuxuan/spa\\_seurat/cla/macaca/sn\\_0709\\_renew/soupX.flt\\_Matrix/3068-4-230602\\_web\\_0'\n",
       "\\item '/home/liuyx/liuyuxuan/spa\\_seurat/cla/macaca/sn\\_0709\\_renew/soupX.flt\\_Matrix/3068-5-230602\\_web\\_0'\n",
       "\\item '/home/liuyx/liuyuxuan/spa\\_seurat/cla/macaca/sn\\_0709\\_renew/soupX.flt\\_Matrix/3068-6-230602\\_web\\_0'\n",
       "\\item '/home/liuyx/liuyuxuan/spa\\_seurat/cla/macaca/sn\\_0709\\_renew/soupX.flt\\_Matrix/3069-1-230602\\_web\\_0'\n",
       "\\item '/home/liuyx/liuyuxuan/spa\\_seurat/cla/macaca/sn\\_0709\\_renew/soupX.flt\\_Matrix/3069-2-230602\\_web\\_0'\n",
       "\\item '/home/liuyx/liuyuxuan/spa\\_seurat/cla/macaca/sn\\_0709\\_renew/soupX.flt\\_Matrix/3069-3-230602\\_web\\_0'\n",
       "\\item '/home/liuyx/liuyuxuan/spa\\_seurat/cla/macaca/sn\\_0709\\_renew/soupX.flt\\_Matrix/3069-4-230602\\_web\\_0'\n",
       "\\item '/home/liuyx/liuyuxuan/spa\\_seurat/cla/macaca/sn\\_0709\\_renew/soupX.flt\\_Matrix/3069-5-230602\\_web\\_0'\n",
       "\\item '/home/liuyx/liuyuxuan/spa\\_seurat/cla/macaca/sn\\_0709\\_renew/soupX.flt\\_Matrix/3069-6-230602\\_web\\_0'\n",
       "\\end{enumerate*}\n"
      ],
      "text/markdown": [
       "1. '/home/liuyx/liuyuxuan/spa_seurat/cla/macaca/sn_0709_renew/soupX.flt_Matrix/3064-1-230602_web_0'\n",
       "2. '/home/liuyx/liuyuxuan/spa_seurat/cla/macaca/sn_0709_renew/soupX.flt_Matrix/3064-2-230602_web_0'\n",
       "3. '/home/liuyx/liuyuxuan/spa_seurat/cla/macaca/sn_0709_renew/soupX.flt_Matrix/3065-1-230602_web_0'\n",
       "4. '/home/liuyx/liuyuxuan/spa_seurat/cla/macaca/sn_0709_renew/soupX.flt_Matrix/3065-2-230602_web_0'\n",
       "5. '/home/liuyx/liuyuxuan/spa_seurat/cla/macaca/sn_0709_renew/soupX.flt_Matrix/3066-1-230602_web_0'\n",
       "6. '/home/liuyx/liuyuxuan/spa_seurat/cla/macaca/sn_0709_renew/soupX.flt_Matrix/3066-2-230602_web_0'\n",
       "7. '/home/liuyx/liuyuxuan/spa_seurat/cla/macaca/sn_0709_renew/soupX.flt_Matrix/3067-1-230602_web_0'\n",
       "8. '/home/liuyx/liuyuxuan/spa_seurat/cla/macaca/sn_0709_renew/soupX.flt_Matrix/3067-2-230602_web_0'\n",
       "9. '/home/liuyx/liuyuxuan/spa_seurat/cla/macaca/sn_0709_renew/soupX.flt_Matrix/3068-1-230602_web_0'\n",
       "10. '/home/liuyx/liuyuxuan/spa_seurat/cla/macaca/sn_0709_renew/soupX.flt_Matrix/3068-2-230602_web_0'\n",
       "11. '/home/liuyx/liuyuxuan/spa_seurat/cla/macaca/sn_0709_renew/soupX.flt_Matrix/3068-3-230602_web_0'\n",
       "12. '/home/liuyx/liuyuxuan/spa_seurat/cla/macaca/sn_0709_renew/soupX.flt_Matrix/3068-4-230602_web_0'\n",
       "13. '/home/liuyx/liuyuxuan/spa_seurat/cla/macaca/sn_0709_renew/soupX.flt_Matrix/3068-5-230602_web_0'\n",
       "14. '/home/liuyx/liuyuxuan/spa_seurat/cla/macaca/sn_0709_renew/soupX.flt_Matrix/3068-6-230602_web_0'\n",
       "15. '/home/liuyx/liuyuxuan/spa_seurat/cla/macaca/sn_0709_renew/soupX.flt_Matrix/3069-1-230602_web_0'\n",
       "16. '/home/liuyx/liuyuxuan/spa_seurat/cla/macaca/sn_0709_renew/soupX.flt_Matrix/3069-2-230602_web_0'\n",
       "17. '/home/liuyx/liuyuxuan/spa_seurat/cla/macaca/sn_0709_renew/soupX.flt_Matrix/3069-3-230602_web_0'\n",
       "18. '/home/liuyx/liuyuxuan/spa_seurat/cla/macaca/sn_0709_renew/soupX.flt_Matrix/3069-4-230602_web_0'\n",
       "19. '/home/liuyx/liuyuxuan/spa_seurat/cla/macaca/sn_0709_renew/soupX.flt_Matrix/3069-5-230602_web_0'\n",
       "20. '/home/liuyx/liuyuxuan/spa_seurat/cla/macaca/sn_0709_renew/soupX.flt_Matrix/3069-6-230602_web_0'\n",
       "\n",
       "\n"
      ],
      "text/plain": [
       " [1] \"/home/liuyx/liuyuxuan/spa_seurat/cla/macaca/sn_0709_renew/soupX.flt_Matrix/3064-1-230602_web_0\"\n",
       " [2] \"/home/liuyx/liuyuxuan/spa_seurat/cla/macaca/sn_0709_renew/soupX.flt_Matrix/3064-2-230602_web_0\"\n",
       " [3] \"/home/liuyx/liuyuxuan/spa_seurat/cla/macaca/sn_0709_renew/soupX.flt_Matrix/3065-1-230602_web_0\"\n",
       " [4] \"/home/liuyx/liuyuxuan/spa_seurat/cla/macaca/sn_0709_renew/soupX.flt_Matrix/3065-2-230602_web_0\"\n",
       " [5] \"/home/liuyx/liuyuxuan/spa_seurat/cla/macaca/sn_0709_renew/soupX.flt_Matrix/3066-1-230602_web_0\"\n",
       " [6] \"/home/liuyx/liuyuxuan/spa_seurat/cla/macaca/sn_0709_renew/soupX.flt_Matrix/3066-2-230602_web_0\"\n",
       " [7] \"/home/liuyx/liuyuxuan/spa_seurat/cla/macaca/sn_0709_renew/soupX.flt_Matrix/3067-1-230602_web_0\"\n",
       " [8] \"/home/liuyx/liuyuxuan/spa_seurat/cla/macaca/sn_0709_renew/soupX.flt_Matrix/3067-2-230602_web_0\"\n",
       " [9] \"/home/liuyx/liuyuxuan/spa_seurat/cla/macaca/sn_0709_renew/soupX.flt_Matrix/3068-1-230602_web_0\"\n",
       "[10] \"/home/liuyx/liuyuxuan/spa_seurat/cla/macaca/sn_0709_renew/soupX.flt_Matrix/3068-2-230602_web_0\"\n",
       "[11] \"/home/liuyx/liuyuxuan/spa_seurat/cla/macaca/sn_0709_renew/soupX.flt_Matrix/3068-3-230602_web_0\"\n",
       "[12] \"/home/liuyx/liuyuxuan/spa_seurat/cla/macaca/sn_0709_renew/soupX.flt_Matrix/3068-4-230602_web_0\"\n",
       "[13] \"/home/liuyx/liuyuxuan/spa_seurat/cla/macaca/sn_0709_renew/soupX.flt_Matrix/3068-5-230602_web_0\"\n",
       "[14] \"/home/liuyx/liuyuxuan/spa_seurat/cla/macaca/sn_0709_renew/soupX.flt_Matrix/3068-6-230602_web_0\"\n",
       "[15] \"/home/liuyx/liuyuxuan/spa_seurat/cla/macaca/sn_0709_renew/soupX.flt_Matrix/3069-1-230602_web_0\"\n",
       "[16] \"/home/liuyx/liuyuxuan/spa_seurat/cla/macaca/sn_0709_renew/soupX.flt_Matrix/3069-2-230602_web_0\"\n",
       "[17] \"/home/liuyx/liuyuxuan/spa_seurat/cla/macaca/sn_0709_renew/soupX.flt_Matrix/3069-3-230602_web_0\"\n",
       "[18] \"/home/liuyx/liuyuxuan/spa_seurat/cla/macaca/sn_0709_renew/soupX.flt_Matrix/3069-4-230602_web_0\"\n",
       "[19] \"/home/liuyx/liuyuxuan/spa_seurat/cla/macaca/sn_0709_renew/soupX.flt_Matrix/3069-5-230602_web_0\"\n",
       "[20] \"/home/liuyx/liuyuxuan/spa_seurat/cla/macaca/sn_0709_renew/soupX.flt_Matrix/3069-6-230602_web_0\""
      ]
     },
     "metadata": {},
     "output_type": "display_data"
    }
   ],
   "source": [
    "all_dir=list.dirs('/home/liuyx/liuyuxuan/spa_seurat/cla/macaca/sn_0709_renew/soupX.flt_Matrix')\n",
    "all_dir=all_dir[grep('[0-9]$',all_dir)]\n",
    "length(all_dir)\n",
    "all_dir1=all_dir\n",
    "all_dir1\n"
   ]
  },
  {
   "cell_type": "code",
   "execution_count": 3,
   "id": "1b099183",
   "metadata": {
    "scrolled": true
   },
   "outputs": [
    {
     "name": "stderr",
     "output_type": "stream",
     "text": [
      "Warning message:\n",
      "“Feature names cannot have underscores ('_'), replacing with dashes ('-')”\n",
      "Warning message:\n",
      "“Feature names cannot have underscores ('_'), replacing with dashes ('-')”\n",
      "Warning message:\n",
      "“Feature names cannot have underscores ('_'), replacing with dashes ('-')”\n",
      "Warning message:\n",
      "“Feature names cannot have underscores ('_'), replacing with dashes ('-')”\n",
      "Warning message:\n",
      "“Feature names cannot have underscores ('_'), replacing with dashes ('-')”\n",
      "Warning message:\n",
      "“Feature names cannot have underscores ('_'), replacing with dashes ('-')”\n",
      "Warning message:\n",
      "“Feature names cannot have underscores ('_'), replacing with dashes ('-')”\n",
      "Warning message:\n",
      "“Feature names cannot have underscores ('_'), replacing with dashes ('-')”\n",
      "Warning message:\n",
      "“Feature names cannot have underscores ('_'), replacing with dashes ('-')”\n",
      "Warning message:\n",
      "“Feature names cannot have underscores ('_'), replacing with dashes ('-')”\n",
      "Warning message:\n",
      "“Feature names cannot have underscores ('_'), replacing with dashes ('-')”\n",
      "Warning message:\n",
      "“Feature names cannot have underscores ('_'), replacing with dashes ('-')”\n",
      "Warning message:\n",
      "“Feature names cannot have underscores ('_'), replacing with dashes ('-')”\n",
      "Warning message:\n",
      "“Feature names cannot have underscores ('_'), replacing with dashes ('-')”\n",
      "Warning message:\n",
      "“Feature names cannot have underscores ('_'), replacing with dashes ('-')”\n",
      "Warning message:\n",
      "“Feature names cannot have underscores ('_'), replacing with dashes ('-')”\n",
      "Warning message:\n",
      "“Feature names cannot have underscores ('_'), replacing with dashes ('-')”\n",
      "Warning message:\n",
      "“Feature names cannot have underscores ('_'), replacing with dashes ('-')”\n",
      "Warning message:\n",
      "“Feature names cannot have underscores ('_'), replacing with dashes ('-')”\n",
      "Warning message:\n",
      "“Feature names cannot have underscores ('_'), replacing with dashes ('-')”\n"
     ]
    }
   ],
   "source": [
    "for(i in c(1:length(all_dir))){matrix_dir=all_dir[i]\n",
    "\n",
    "if(file.exists(paste0(matrix_dir,\"/barcodes.tsv.gz\"))){\n",
    "    gunzip(paste0(matrix_dir,\"/barcodes.tsv.gz\"))\n",
    "    gunzip(paste0(matrix_dir,\"/matrix.mtx.gz\"))\n",
    "    if(file.exists(paste0(matrix_dir,\"/genes.tsv.gz\"))){\n",
    "        gunzip(paste0(matrix_dir,\"/genes.tsv.gz\"))}else{\n",
    "        gunzip(paste0(matrix_dir,\"/features.tsv.gz\"))\n",
    "    }\n",
    "    barcode.path<-paste0(matrix_dir,\"/barcodes.tsv\")\n",
    "    if(file.exists(paste0(matrix_dir,\"/genes.tsv\"))){\n",
    "        genes.path<-(paste0(matrix_dir,\"/genes.tsv\"))}else{\n",
    "        genes.path<-(paste0(matrix_dir,\"/features.tsv\"))\n",
    "    }\n",
    "    matrix.path<-paste0(matrix_dir,\"/matrix.mtx\")\n",
    "\n",
    "    zebrafish.data <- readMM(file = matrix.path) ##mac上不能读压缩文件\n",
    "    gene.names = read.delim(genes.path,header = FALSE, stringsAsFactors = FALSE)\n",
    "    barcode.names = read.delim(barcode.path,header = FALSE,stringsAsFactors = FALSE)\n",
    "    colnames(zebrafish.data) = barcode.names$V1\n",
    "    rownames(zebrafish.data) = gene.names$V1 ##把示例中的V1改成V2\n",
    "\n",
    "    # check矩阵\n",
    "    zebrafish.data[1:6, 1:6] ##check矩阵\n",
    "    dim(zebrafish.data) ##check矩阵\n",
    "\n",
    "    scRNA <- CreateSeuratObject(counts = zebrafish.data)\n",
    "\n",
    "    saveRDS(scRNA,paste0(matrix_dir,'/counts.rds'))\n",
    "}else{\n",
    "    matrix_dir=paste0(matrix_dir,'/04.Matrix')\n",
    "    gunzip(paste0(matrix_dir,\"/barcodes.tsv.gz\"))\n",
    "    gunzip(paste0(matrix_dir,\"/matrix.mtx.gz\"))\n",
    "    if(file.exists(paste0(matrix_dir,\"/genes.tsv.gz\"))){\n",
    "        gunzip(paste0(matrix_dir,\"/genes.tsv.gz\"))}else{\n",
    "        gunzip(paste0(matrix_dir,\"/features.tsv.gz\"))\n",
    "    }\n",
    "\n",
    "    barcode.path<-paste0(matrix_dir,\"/barcodes.tsv\")\n",
    "    if(file.exists(paste0(matrix_dir,\"/genes.tsv\"))){\n",
    "        genes.path<-(paste0(matrix_dir,\"/genes.tsv\"))}else{\n",
    "        genes.path<-(paste0(matrix_dir,\"/features.tsv\"))\n",
    "    }\n",
    "    matrix.path<-paste0(matrix_dir,\"/matrix.mtx\")\n",
    "\n",
    "    zebrafish.data <- readMM(file = matrix.path) ##mac上不能读压缩文件\n",
    "    gene.names = read.delim(genes.path,header = FALSE, stringsAsFactors = FALSE)\n",
    "    barcode.names = read.delim(barcode.path,header = FALSE,stringsAsFactors = FALSE)\n",
    "    colnames(zebrafish.data) = barcode.names$V1\n",
    "    rownames(zebrafish.data) = gene.names$V1 ##把示例中的V1改成V2\n",
    "\n",
    "    # check矩阵\n",
    "    zebrafish.data[1:6, 1:6] ##check矩阵\n",
    "    dim(zebrafish.data) ##check矩阵\n",
    "\n",
    "    scRNA <- CreateSeuratObject(counts = zebrafish.data)\n",
    "\n",
    "    saveRDS(scRNA,paste0(matrix_dir,'/counts.rds'))\n",
    "}}"
   ]
  },
  {
   "cell_type": "code",
   "execution_count": 4,
   "id": "c7e72f05",
   "metadata": {},
   "outputs": [
    {
     "data": {
      "text/html": [
       "<style>\n",
       ".list-inline {list-style: none; margin:0; padding: 0}\n",
       ".list-inline>li {display: inline-block}\n",
       ".list-inline>li:not(:last-child)::after {content: \"\\00b7\"; padding: 0 .5ex}\n",
       "</style>\n",
       "<ol class=list-inline><li>'/home/liuyx/liuyuxuan/spa_seurat/cla/macaca/sn_0709_renew/soupX.flt_Matrix/3064-1-230602_web_0/04.Matrix/counts.rds'</li><li>'/home/liuyx/liuyuxuan/spa_seurat/cla/macaca/sn_0709_renew/soupX.flt_Matrix/3064-2-230602_web_0/04.Matrix/counts.rds'</li><li>'/home/liuyx/liuyuxuan/spa_seurat/cla/macaca/sn_0709_renew/soupX.flt_Matrix/3065-1-230602_web_0/04.Matrix/counts.rds'</li><li>'/home/liuyx/liuyuxuan/spa_seurat/cla/macaca/sn_0709_renew/soupX.flt_Matrix/3065-2-230602_web_0/04.Matrix/counts.rds'</li><li>'/home/liuyx/liuyuxuan/spa_seurat/cla/macaca/sn_0709_renew/soupX.flt_Matrix/3066-1-230602_web_0/04.Matrix/counts.rds'</li><li>'/home/liuyx/liuyuxuan/spa_seurat/cla/macaca/sn_0709_renew/soupX.flt_Matrix/3066-2-230602_web_0/04.Matrix/counts.rds'</li><li>'/home/liuyx/liuyuxuan/spa_seurat/cla/macaca/sn_0709_renew/soupX.flt_Matrix/3067-1-230602_web_0/04.Matrix/counts.rds'</li><li>'/home/liuyx/liuyuxuan/spa_seurat/cla/macaca/sn_0709_renew/soupX.flt_Matrix/3067-2-230602_web_0/04.Matrix/counts.rds'</li><li>'/home/liuyx/liuyuxuan/spa_seurat/cla/macaca/sn_0709_renew/soupX.flt_Matrix/3068-1-230602_web_0/04.Matrix/counts.rds'</li><li>'/home/liuyx/liuyuxuan/spa_seurat/cla/macaca/sn_0709_renew/soupX.flt_Matrix/3068-2-230602_web_0/04.Matrix/counts.rds'</li><li>'/home/liuyx/liuyuxuan/spa_seurat/cla/macaca/sn_0709_renew/soupX.flt_Matrix/3068-3-230602_web_0/04.Matrix/counts.rds'</li><li>'/home/liuyx/liuyuxuan/spa_seurat/cla/macaca/sn_0709_renew/soupX.flt_Matrix/3068-4-230602_web_0/04.Matrix/counts.rds'</li><li>'/home/liuyx/liuyuxuan/spa_seurat/cla/macaca/sn_0709_renew/soupX.flt_Matrix/3068-5-230602_web_0/04.Matrix/counts.rds'</li><li>'/home/liuyx/liuyuxuan/spa_seurat/cla/macaca/sn_0709_renew/soupX.flt_Matrix/3068-6-230602_web_0/04.Matrix/counts.rds'</li><li>'/home/liuyx/liuyuxuan/spa_seurat/cla/macaca/sn_0709_renew/soupX.flt_Matrix/3069-1-230602_web_0/04.Matrix/counts.rds'</li><li>'/home/liuyx/liuyuxuan/spa_seurat/cla/macaca/sn_0709_renew/soupX.flt_Matrix/3069-2-230602_web_0/04.Matrix/counts.rds'</li><li>'/home/liuyx/liuyuxuan/spa_seurat/cla/macaca/sn_0709_renew/soupX.flt_Matrix/3069-3-230602_web_0/04.Matrix/counts.rds'</li><li>'/home/liuyx/liuyuxuan/spa_seurat/cla/macaca/sn_0709_renew/soupX.flt_Matrix/3069-4-230602_web_0/04.Matrix/counts.rds'</li><li>'/home/liuyx/liuyuxuan/spa_seurat/cla/macaca/sn_0709_renew/soupX.flt_Matrix/3069-5-230602_web_0/04.Matrix/counts.rds'</li><li>'/home/liuyx/liuyuxuan/spa_seurat/cla/macaca/sn_0709_renew/soupX.flt_Matrix/3069-6-230602_web_0/04.Matrix/counts.rds'</li></ol>\n"
      ],
      "text/latex": [
       "\\begin{enumerate*}\n",
       "\\item '/home/liuyx/liuyuxuan/spa\\_seurat/cla/macaca/sn\\_0709\\_renew/soupX.flt\\_Matrix/3064-1-230602\\_web\\_0/04.Matrix/counts.rds'\n",
       "\\item '/home/liuyx/liuyuxuan/spa\\_seurat/cla/macaca/sn\\_0709\\_renew/soupX.flt\\_Matrix/3064-2-230602\\_web\\_0/04.Matrix/counts.rds'\n",
       "\\item '/home/liuyx/liuyuxuan/spa\\_seurat/cla/macaca/sn\\_0709\\_renew/soupX.flt\\_Matrix/3065-1-230602\\_web\\_0/04.Matrix/counts.rds'\n",
       "\\item '/home/liuyx/liuyuxuan/spa\\_seurat/cla/macaca/sn\\_0709\\_renew/soupX.flt\\_Matrix/3065-2-230602\\_web\\_0/04.Matrix/counts.rds'\n",
       "\\item '/home/liuyx/liuyuxuan/spa\\_seurat/cla/macaca/sn\\_0709\\_renew/soupX.flt\\_Matrix/3066-1-230602\\_web\\_0/04.Matrix/counts.rds'\n",
       "\\item '/home/liuyx/liuyuxuan/spa\\_seurat/cla/macaca/sn\\_0709\\_renew/soupX.flt\\_Matrix/3066-2-230602\\_web\\_0/04.Matrix/counts.rds'\n",
       "\\item '/home/liuyx/liuyuxuan/spa\\_seurat/cla/macaca/sn\\_0709\\_renew/soupX.flt\\_Matrix/3067-1-230602\\_web\\_0/04.Matrix/counts.rds'\n",
       "\\item '/home/liuyx/liuyuxuan/spa\\_seurat/cla/macaca/sn\\_0709\\_renew/soupX.flt\\_Matrix/3067-2-230602\\_web\\_0/04.Matrix/counts.rds'\n",
       "\\item '/home/liuyx/liuyuxuan/spa\\_seurat/cla/macaca/sn\\_0709\\_renew/soupX.flt\\_Matrix/3068-1-230602\\_web\\_0/04.Matrix/counts.rds'\n",
       "\\item '/home/liuyx/liuyuxuan/spa\\_seurat/cla/macaca/sn\\_0709\\_renew/soupX.flt\\_Matrix/3068-2-230602\\_web\\_0/04.Matrix/counts.rds'\n",
       "\\item '/home/liuyx/liuyuxuan/spa\\_seurat/cla/macaca/sn\\_0709\\_renew/soupX.flt\\_Matrix/3068-3-230602\\_web\\_0/04.Matrix/counts.rds'\n",
       "\\item '/home/liuyx/liuyuxuan/spa\\_seurat/cla/macaca/sn\\_0709\\_renew/soupX.flt\\_Matrix/3068-4-230602\\_web\\_0/04.Matrix/counts.rds'\n",
       "\\item '/home/liuyx/liuyuxuan/spa\\_seurat/cla/macaca/sn\\_0709\\_renew/soupX.flt\\_Matrix/3068-5-230602\\_web\\_0/04.Matrix/counts.rds'\n",
       "\\item '/home/liuyx/liuyuxuan/spa\\_seurat/cla/macaca/sn\\_0709\\_renew/soupX.flt\\_Matrix/3068-6-230602\\_web\\_0/04.Matrix/counts.rds'\n",
       "\\item '/home/liuyx/liuyuxuan/spa\\_seurat/cla/macaca/sn\\_0709\\_renew/soupX.flt\\_Matrix/3069-1-230602\\_web\\_0/04.Matrix/counts.rds'\n",
       "\\item '/home/liuyx/liuyuxuan/spa\\_seurat/cla/macaca/sn\\_0709\\_renew/soupX.flt\\_Matrix/3069-2-230602\\_web\\_0/04.Matrix/counts.rds'\n",
       "\\item '/home/liuyx/liuyuxuan/spa\\_seurat/cla/macaca/sn\\_0709\\_renew/soupX.flt\\_Matrix/3069-3-230602\\_web\\_0/04.Matrix/counts.rds'\n",
       "\\item '/home/liuyx/liuyuxuan/spa\\_seurat/cla/macaca/sn\\_0709\\_renew/soupX.flt\\_Matrix/3069-4-230602\\_web\\_0/04.Matrix/counts.rds'\n",
       "\\item '/home/liuyx/liuyuxuan/spa\\_seurat/cla/macaca/sn\\_0709\\_renew/soupX.flt\\_Matrix/3069-5-230602\\_web\\_0/04.Matrix/counts.rds'\n",
       "\\item '/home/liuyx/liuyuxuan/spa\\_seurat/cla/macaca/sn\\_0709\\_renew/soupX.flt\\_Matrix/3069-6-230602\\_web\\_0/04.Matrix/counts.rds'\n",
       "\\end{enumerate*}\n"
      ],
      "text/markdown": [
       "1. '/home/liuyx/liuyuxuan/spa_seurat/cla/macaca/sn_0709_renew/soupX.flt_Matrix/3064-1-230602_web_0/04.Matrix/counts.rds'\n",
       "2. '/home/liuyx/liuyuxuan/spa_seurat/cla/macaca/sn_0709_renew/soupX.flt_Matrix/3064-2-230602_web_0/04.Matrix/counts.rds'\n",
       "3. '/home/liuyx/liuyuxuan/spa_seurat/cla/macaca/sn_0709_renew/soupX.flt_Matrix/3065-1-230602_web_0/04.Matrix/counts.rds'\n",
       "4. '/home/liuyx/liuyuxuan/spa_seurat/cla/macaca/sn_0709_renew/soupX.flt_Matrix/3065-2-230602_web_0/04.Matrix/counts.rds'\n",
       "5. '/home/liuyx/liuyuxuan/spa_seurat/cla/macaca/sn_0709_renew/soupX.flt_Matrix/3066-1-230602_web_0/04.Matrix/counts.rds'\n",
       "6. '/home/liuyx/liuyuxuan/spa_seurat/cla/macaca/sn_0709_renew/soupX.flt_Matrix/3066-2-230602_web_0/04.Matrix/counts.rds'\n",
       "7. '/home/liuyx/liuyuxuan/spa_seurat/cla/macaca/sn_0709_renew/soupX.flt_Matrix/3067-1-230602_web_0/04.Matrix/counts.rds'\n",
       "8. '/home/liuyx/liuyuxuan/spa_seurat/cla/macaca/sn_0709_renew/soupX.flt_Matrix/3067-2-230602_web_0/04.Matrix/counts.rds'\n",
       "9. '/home/liuyx/liuyuxuan/spa_seurat/cla/macaca/sn_0709_renew/soupX.flt_Matrix/3068-1-230602_web_0/04.Matrix/counts.rds'\n",
       "10. '/home/liuyx/liuyuxuan/spa_seurat/cla/macaca/sn_0709_renew/soupX.flt_Matrix/3068-2-230602_web_0/04.Matrix/counts.rds'\n",
       "11. '/home/liuyx/liuyuxuan/spa_seurat/cla/macaca/sn_0709_renew/soupX.flt_Matrix/3068-3-230602_web_0/04.Matrix/counts.rds'\n",
       "12. '/home/liuyx/liuyuxuan/spa_seurat/cla/macaca/sn_0709_renew/soupX.flt_Matrix/3068-4-230602_web_0/04.Matrix/counts.rds'\n",
       "13. '/home/liuyx/liuyuxuan/spa_seurat/cla/macaca/sn_0709_renew/soupX.flt_Matrix/3068-5-230602_web_0/04.Matrix/counts.rds'\n",
       "14. '/home/liuyx/liuyuxuan/spa_seurat/cla/macaca/sn_0709_renew/soupX.flt_Matrix/3068-6-230602_web_0/04.Matrix/counts.rds'\n",
       "15. '/home/liuyx/liuyuxuan/spa_seurat/cla/macaca/sn_0709_renew/soupX.flt_Matrix/3069-1-230602_web_0/04.Matrix/counts.rds'\n",
       "16. '/home/liuyx/liuyuxuan/spa_seurat/cla/macaca/sn_0709_renew/soupX.flt_Matrix/3069-2-230602_web_0/04.Matrix/counts.rds'\n",
       "17. '/home/liuyx/liuyuxuan/spa_seurat/cla/macaca/sn_0709_renew/soupX.flt_Matrix/3069-3-230602_web_0/04.Matrix/counts.rds'\n",
       "18. '/home/liuyx/liuyuxuan/spa_seurat/cla/macaca/sn_0709_renew/soupX.flt_Matrix/3069-4-230602_web_0/04.Matrix/counts.rds'\n",
       "19. '/home/liuyx/liuyuxuan/spa_seurat/cla/macaca/sn_0709_renew/soupX.flt_Matrix/3069-5-230602_web_0/04.Matrix/counts.rds'\n",
       "20. '/home/liuyx/liuyuxuan/spa_seurat/cla/macaca/sn_0709_renew/soupX.flt_Matrix/3069-6-230602_web_0/04.Matrix/counts.rds'\n",
       "\n",
       "\n"
      ],
      "text/plain": [
       " [1] \"/home/liuyx/liuyuxuan/spa_seurat/cla/macaca/sn_0709_renew/soupX.flt_Matrix/3064-1-230602_web_0/04.Matrix/counts.rds\"\n",
       " [2] \"/home/liuyx/liuyuxuan/spa_seurat/cla/macaca/sn_0709_renew/soupX.flt_Matrix/3064-2-230602_web_0/04.Matrix/counts.rds\"\n",
       " [3] \"/home/liuyx/liuyuxuan/spa_seurat/cla/macaca/sn_0709_renew/soupX.flt_Matrix/3065-1-230602_web_0/04.Matrix/counts.rds\"\n",
       " [4] \"/home/liuyx/liuyuxuan/spa_seurat/cla/macaca/sn_0709_renew/soupX.flt_Matrix/3065-2-230602_web_0/04.Matrix/counts.rds\"\n",
       " [5] \"/home/liuyx/liuyuxuan/spa_seurat/cla/macaca/sn_0709_renew/soupX.flt_Matrix/3066-1-230602_web_0/04.Matrix/counts.rds\"\n",
       " [6] \"/home/liuyx/liuyuxuan/spa_seurat/cla/macaca/sn_0709_renew/soupX.flt_Matrix/3066-2-230602_web_0/04.Matrix/counts.rds\"\n",
       " [7] \"/home/liuyx/liuyuxuan/spa_seurat/cla/macaca/sn_0709_renew/soupX.flt_Matrix/3067-1-230602_web_0/04.Matrix/counts.rds\"\n",
       " [8] \"/home/liuyx/liuyuxuan/spa_seurat/cla/macaca/sn_0709_renew/soupX.flt_Matrix/3067-2-230602_web_0/04.Matrix/counts.rds\"\n",
       " [9] \"/home/liuyx/liuyuxuan/spa_seurat/cla/macaca/sn_0709_renew/soupX.flt_Matrix/3068-1-230602_web_0/04.Matrix/counts.rds\"\n",
       "[10] \"/home/liuyx/liuyuxuan/spa_seurat/cla/macaca/sn_0709_renew/soupX.flt_Matrix/3068-2-230602_web_0/04.Matrix/counts.rds\"\n",
       "[11] \"/home/liuyx/liuyuxuan/spa_seurat/cla/macaca/sn_0709_renew/soupX.flt_Matrix/3068-3-230602_web_0/04.Matrix/counts.rds\"\n",
       "[12] \"/home/liuyx/liuyuxuan/spa_seurat/cla/macaca/sn_0709_renew/soupX.flt_Matrix/3068-4-230602_web_0/04.Matrix/counts.rds\"\n",
       "[13] \"/home/liuyx/liuyuxuan/spa_seurat/cla/macaca/sn_0709_renew/soupX.flt_Matrix/3068-5-230602_web_0/04.Matrix/counts.rds\"\n",
       "[14] \"/home/liuyx/liuyuxuan/spa_seurat/cla/macaca/sn_0709_renew/soupX.flt_Matrix/3068-6-230602_web_0/04.Matrix/counts.rds\"\n",
       "[15] \"/home/liuyx/liuyuxuan/spa_seurat/cla/macaca/sn_0709_renew/soupX.flt_Matrix/3069-1-230602_web_0/04.Matrix/counts.rds\"\n",
       "[16] \"/home/liuyx/liuyuxuan/spa_seurat/cla/macaca/sn_0709_renew/soupX.flt_Matrix/3069-2-230602_web_0/04.Matrix/counts.rds\"\n",
       "[17] \"/home/liuyx/liuyuxuan/spa_seurat/cla/macaca/sn_0709_renew/soupX.flt_Matrix/3069-3-230602_web_0/04.Matrix/counts.rds\"\n",
       "[18] \"/home/liuyx/liuyuxuan/spa_seurat/cla/macaca/sn_0709_renew/soupX.flt_Matrix/3069-4-230602_web_0/04.Matrix/counts.rds\"\n",
       "[19] \"/home/liuyx/liuyuxuan/spa_seurat/cla/macaca/sn_0709_renew/soupX.flt_Matrix/3069-5-230602_web_0/04.Matrix/counts.rds\"\n",
       "[20] \"/home/liuyx/liuyuxuan/spa_seurat/cla/macaca/sn_0709_renew/soupX.flt_Matrix/3069-6-230602_web_0/04.Matrix/counts.rds\""
      ]
     },
     "metadata": {},
     "output_type": "display_data"
    }
   ],
   "source": [
    "read_file='aba'\n",
    "for(i in c(1:length(all_dir))){\n",
    "matrix_dir=all_dir[i]\n",
    "if(file.exists(paste0(matrix_dir,\"/counts.rds\"))){\n",
    "    read_file=c(read_file,(paste0(matrix_dir,\"/counts.rds\")))\n",
    "}else{\n",
    "    matrix_dir=paste0(matrix_dir,'/04.Matrix')\n",
    "    read_file=c(read_file,(paste0(matrix_dir,\"/counts.rds\")))\n",
    "}}\n",
    "read_file=read_file[-1]\n",
    "read_file"
   ]
  },
  {
   "cell_type": "code",
   "execution_count": 5,
   "id": "27ce0b36",
   "metadata": {},
   "outputs": [
    {
     "data": {
      "text/plain": [
       "[[1]]\n",
       "An object of class Seurat \n",
       "19518 features across 7446 samples within 1 assay \n",
       "Active assay: RNA (19518 features, 0 variable features)\n",
       "\n",
       "[[2]]\n",
       "An object of class Seurat \n",
       "19577 features across 7310 samples within 1 assay \n",
       "Active assay: RNA (19577 features, 0 variable features)\n",
       "\n",
       "[[3]]\n",
       "An object of class Seurat \n",
       "19642 features across 6270 samples within 1 assay \n",
       "Active assay: RNA (19642 features, 0 variable features)\n",
       "\n",
       "[[4]]\n",
       "An object of class Seurat \n",
       "19750 features across 6216 samples within 1 assay \n",
       "Active assay: RNA (19750 features, 0 variable features)\n",
       "\n",
       "[[5]]\n",
       "An object of class Seurat \n",
       "19447 features across 7616 samples within 1 assay \n",
       "Active assay: RNA (19447 features, 0 variable features)\n",
       "\n",
       "[[6]]\n",
       "An object of class Seurat \n",
       "19557 features across 6869 samples within 1 assay \n",
       "Active assay: RNA (19557 features, 0 variable features)\n",
       "\n",
       "[[7]]\n",
       "An object of class Seurat \n",
       "19560 features across 5619 samples within 1 assay \n",
       "Active assay: RNA (19560 features, 0 variable features)\n",
       "\n",
       "[[8]]\n",
       "An object of class Seurat \n",
       "19826 features across 5898 samples within 1 assay \n",
       "Active assay: RNA (19826 features, 0 variable features)\n",
       "\n",
       "[[9]]\n",
       "An object of class Seurat \n",
       "19775 features across 6378 samples within 1 assay \n",
       "Active assay: RNA (19775 features, 0 variable features)\n",
       "\n",
       "[[10]]\n",
       "An object of class Seurat \n",
       "19692 features across 6897 samples within 1 assay \n",
       "Active assay: RNA (19692 features, 0 variable features)\n",
       "\n",
       "[[11]]\n",
       "An object of class Seurat \n",
       "19719 features across 6801 samples within 1 assay \n",
       "Active assay: RNA (19719 features, 0 variable features)\n",
       "\n",
       "[[12]]\n",
       "An object of class Seurat \n",
       "19698 features across 5769 samples within 1 assay \n",
       "Active assay: RNA (19698 features, 0 variable features)\n",
       "\n",
       "[[13]]\n",
       "An object of class Seurat \n",
       "19741 features across 6315 samples within 1 assay \n",
       "Active assay: RNA (19741 features, 0 variable features)\n",
       "\n",
       "[[14]]\n",
       "An object of class Seurat \n",
       "19732 features across 6353 samples within 1 assay \n",
       "Active assay: RNA (19732 features, 0 variable features)\n",
       "\n",
       "[[15]]\n",
       "An object of class Seurat \n",
       "19804 features across 6234 samples within 1 assay \n",
       "Active assay: RNA (19804 features, 0 variable features)\n",
       "\n",
       "[[16]]\n",
       "An object of class Seurat \n",
       "20062 features across 6399 samples within 1 assay \n",
       "Active assay: RNA (20062 features, 0 variable features)\n",
       "\n",
       "[[17]]\n",
       "An object of class Seurat \n",
       "19576 features across 6126 samples within 1 assay \n",
       "Active assay: RNA (19576 features, 0 variable features)\n",
       "\n",
       "[[18]]\n",
       "An object of class Seurat \n",
       "19821 features across 6295 samples within 1 assay \n",
       "Active assay: RNA (19821 features, 0 variable features)\n",
       "\n",
       "[[19]]\n",
       "An object of class Seurat \n",
       "19787 features across 6317 samples within 1 assay \n",
       "Active assay: RNA (19787 features, 0 variable features)\n",
       "\n",
       "[[20]]\n",
       "An object of class Seurat \n",
       "19412 features across 6620 samples within 1 assay \n",
       "Active assay: RNA (19412 features, 0 variable features)\n"
      ]
     },
     "metadata": {},
     "output_type": "display_data"
    }
   ],
   "source": [
    "sceList = lapply(read_file,function(folder){ \n",
    "    readRDS(folder)\n",
    "})\n",
    "sceList"
   ]
  },
  {
   "cell_type": "code",
   "execution_count": 6,
   "id": "562309bd",
   "metadata": {},
   "outputs": [
    {
     "data": {
      "text/html": [
       "<style>\n",
       ".list-inline {list-style: none; margin:0; padding: 0}\n",
       ".list-inline>li {display: inline-block}\n",
       ".list-inline>li:not(:last-child)::after {content: \"\\00b7\"; padding: 0 .5ex}\n",
       "</style>\n",
       "<ol class=list-inline><li>'3064-1'</li><li>'3064-2'</li><li>'3065-1'</li><li>'3065-2'</li><li>'3066-1'</li><li>'3066-2'</li><li>'3067-1'</li><li>'3067-2'</li><li>'3068-1'</li><li>'3068-2'</li><li>'3068-3'</li><li>'3068-4'</li><li>'3068-5'</li><li>'3068-6'</li><li>'3069-1'</li><li>'3069-2'</li><li>'3069-3'</li><li>'3069-4'</li><li>'3069-5'</li><li>'3069-6'</li></ol>\n"
      ],
      "text/latex": [
       "\\begin{enumerate*}\n",
       "\\item '3064-1'\n",
       "\\item '3064-2'\n",
       "\\item '3065-1'\n",
       "\\item '3065-2'\n",
       "\\item '3066-1'\n",
       "\\item '3066-2'\n",
       "\\item '3067-1'\n",
       "\\item '3067-2'\n",
       "\\item '3068-1'\n",
       "\\item '3068-2'\n",
       "\\item '3068-3'\n",
       "\\item '3068-4'\n",
       "\\item '3068-5'\n",
       "\\item '3068-6'\n",
       "\\item '3069-1'\n",
       "\\item '3069-2'\n",
       "\\item '3069-3'\n",
       "\\item '3069-4'\n",
       "\\item '3069-5'\n",
       "\\item '3069-6'\n",
       "\\end{enumerate*}\n"
      ],
      "text/markdown": [
       "1. '3064-1'\n",
       "2. '3064-2'\n",
       "3. '3065-1'\n",
       "4. '3065-2'\n",
       "5. '3066-1'\n",
       "6. '3066-2'\n",
       "7. '3067-1'\n",
       "8. '3067-2'\n",
       "9. '3068-1'\n",
       "10. '3068-2'\n",
       "11. '3068-3'\n",
       "12. '3068-4'\n",
       "13. '3068-5'\n",
       "14. '3068-6'\n",
       "15. '3069-1'\n",
       "16. '3069-2'\n",
       "17. '3069-3'\n",
       "18. '3069-4'\n",
       "19. '3069-5'\n",
       "20. '3069-6'\n",
       "\n",
       "\n"
      ],
      "text/plain": [
       " [1] \"3064-1\" \"3064-2\" \"3065-1\" \"3065-2\" \"3066-1\" \"3066-2\" \"3067-1\" \"3067-2\"\n",
       " [9] \"3068-1\" \"3068-2\" \"3068-3\" \"3068-4\" \"3068-5\" \"3068-6\" \"3069-1\" \"3069-2\"\n",
       "[17] \"3069-3\" \"3069-4\" \"3069-5\" \"3069-6\""
      ]
     },
     "metadata": {},
     "output_type": "display_data"
    }
   ],
   "source": [
    "read_file_renew=str_extract(read_file,'[0-9][0-9][0-9][0-9]-[0-9]*')\n",
    "\n",
    "read_file_renew\n"
   ]
  },
  {
   "cell_type": "code",
   "execution_count": 7,
   "id": "844a0f00",
   "metadata": {},
   "outputs": [
    {
     "data": {
      "text/html": [
       "<style>\n",
       ".list-inline {list-style: none; margin:0; padding: 0}\n",
       ".list-inline>li {display: inline-block}\n",
       ".list-inline>li:not(:last-child)::after {content: \"\\00b7\"; padding: 0 .5ex}\n",
       "</style>\n",
       "<ol class=list-inline><li>'3064-1'</li><li>'3064-2'</li><li>'3065-1'</li><li>'3065-2'</li><li>'3066-1'</li><li>'3066-2'</li><li>'3067-1'</li><li>'3067-2'</li><li>'3068-1'</li><li>'3068-2'</li><li>'3068-3'</li><li>'3068-4'</li><li>'3068-5'</li><li>'3068-6'</li><li>'3069-1'</li><li>'3069-2'</li><li>'3069-3'</li><li>'3069-4'</li><li>'3069-5'</li><li>'3069-6'</li></ol>\n"
      ],
      "text/latex": [
       "\\begin{enumerate*}\n",
       "\\item '3064-1'\n",
       "\\item '3064-2'\n",
       "\\item '3065-1'\n",
       "\\item '3065-2'\n",
       "\\item '3066-1'\n",
       "\\item '3066-2'\n",
       "\\item '3067-1'\n",
       "\\item '3067-2'\n",
       "\\item '3068-1'\n",
       "\\item '3068-2'\n",
       "\\item '3068-3'\n",
       "\\item '3068-4'\n",
       "\\item '3068-5'\n",
       "\\item '3068-6'\n",
       "\\item '3069-1'\n",
       "\\item '3069-2'\n",
       "\\item '3069-3'\n",
       "\\item '3069-4'\n",
       "\\item '3069-5'\n",
       "\\item '3069-6'\n",
       "\\end{enumerate*}\n"
      ],
      "text/markdown": [
       "1. '3064-1'\n",
       "2. '3064-2'\n",
       "3. '3065-1'\n",
       "4. '3065-2'\n",
       "5. '3066-1'\n",
       "6. '3066-2'\n",
       "7. '3067-1'\n",
       "8. '3067-2'\n",
       "9. '3068-1'\n",
       "10. '3068-2'\n",
       "11. '3068-3'\n",
       "12. '3068-4'\n",
       "13. '3068-5'\n",
       "14. '3068-6'\n",
       "15. '3069-1'\n",
       "16. '3069-2'\n",
       "17. '3069-3'\n",
       "18. '3069-4'\n",
       "19. '3069-5'\n",
       "20. '3069-6'\n",
       "\n",
       "\n"
      ],
      "text/plain": [
       " [1] \"3064-1\" \"3064-2\" \"3065-1\" \"3065-2\" \"3066-1\" \"3066-2\" \"3067-1\" \"3067-2\"\n",
       " [9] \"3068-1\" \"3068-2\" \"3068-3\" \"3068-4\" \"3068-5\" \"3068-6\" \"3069-1\" \"3069-2\"\n",
       "[17] \"3069-3\" \"3069-4\" \"3069-5\" \"3069-6\""
      ]
     },
     "metadata": {},
     "output_type": "display_data"
    }
   ],
   "source": [
    "unique(read_file_renew)"
   ]
  },
  {
   "cell_type": "code",
   "execution_count": 8,
   "id": "f7002769",
   "metadata": {},
   "outputs": [
    {
     "data": {
      "text/plain": [
       "\n",
       "SeuratProject \n",
       "       129748 "
      ]
     },
     "metadata": {},
     "output_type": "display_data"
    }
   ],
   "source": [
    "\n",
    "sce.big <- merge(sceList[[1]], \n",
    "                 y = c(sceList[[2]],sceList[[3]],sceList[[4]],\n",
    "                       sceList[[5]],sceList[[6]],\n",
    "                       sceList[[7]],sceList[[8]],sceList[[9]],sceList[[10]],sceList[[11]],\n",
    "                       sceList[[12]],sceList[[13]],\n",
    "                       sceList[[14]], sceList[[15]],sceList[[16]],sceList[[17]],sceList[[18]],sceList[[19]],sceList[[20]]), \n",
    "                 add.cell.ids = read_file_renew,\n",
    "                 project = \"macaca\")\n",
    "\n",
    "table(sce.big$orig.ident)\n",
    "\n",
    "sce.big@meta.data$group=str_extract(rownames(sce.big@meta.data),'[0-9][0-9][0-9][0-9]-[0-9]')\n",
    "\n"
   ]
  },
  {
   "cell_type": "code",
   "execution_count": 10,
   "id": "39251993",
   "metadata": {},
   "outputs": [
    {
     "data": {
      "text/html": [
       "20"
      ],
      "text/latex": [
       "20"
      ],
      "text/markdown": [
       "20"
      ],
      "text/plain": [
       "[1] 20"
      ]
     },
     "metadata": {},
     "output_type": "display_data"
    }
   ],
   "source": [
    "length(unique(sce.big@meta.data$group))"
   ]
  },
  {
   "cell_type": "code",
   "execution_count": 11,
   "id": "4faf60ea",
   "metadata": {},
   "outputs": [],
   "source": [
    "saveRDS(sce.big,'/home/liuyx/liuyuxuan/spa_seurat/cla/macaca/sn_0709_renew/soupX.flt_Matrix/macaque_snrna_all_soupX_unfil_batch2_0709.rds')\n"
   ]
  },
  {
   "cell_type": "code",
   "execution_count": null,
   "id": "e7e30445",
   "metadata": {},
   "outputs": [],
   "source": []
  }
 ],
 "metadata": {
  "kernelspec": {
   "display_name": "R",
   "language": "R",
   "name": "ir"
  },
  "language_info": {
   "codemirror_mode": "r",
   "file_extension": ".r",
   "mimetype": "text/x-r-source",
   "name": "R",
   "pygments_lexer": "r",
   "version": "4.1.3"
  }
 },
 "nbformat": 4,
 "nbformat_minor": 5
}
