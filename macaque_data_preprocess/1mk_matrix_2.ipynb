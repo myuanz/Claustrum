{
 "cells": [
  {
   "cell_type": "code",
   "execution_count": 1,
   "id": "33e5462d",
   "metadata": {},
   "outputs": [
    {
     "name": "stderr",
     "output_type": "stream",
     "text": [
      "\n",
      "Attaching package: ‘dplyr’\n",
      "\n",
      "\n",
      "The following objects are masked from ‘package:stats’:\n",
      "\n",
      "    filter, lag\n",
      "\n",
      "\n",
      "The following objects are masked from ‘package:base’:\n",
      "\n",
      "    intersect, setdiff, setequal, union\n",
      "\n",
      "\n",
      "The legacy packages maptools, rgdal, and rgeos, underpinning this package\n",
      "will retire shortly. Please refer to R-spatial evolution reports on\n",
      "https://r-spatial.org/r/2023/05/15/evolution4.html for details.\n",
      "This package is now running under evolution status 0 \n",
      "\n",
      "rgeos version: 0.6-3, (SVN revision 696)\n",
      " GEOS runtime version: 3.11.0-CAPI-1.17.0 \n",
      " Please note that rgeos will be retired during October 2023,\n",
      "plan transition to sf or terra functions using GEOS at your earliest convenience.\n",
      "See https://r-spatial.org/r/2023/05/15/evolution4.html for details.\n",
      " GEOS using OverlayNG\n",
      " Linking to sp version: 1.6-0 \n",
      " Polygon checking: TRUE \n",
      "\n",
      "\n",
      "Attaching SeuratObject\n",
      "\n",
      "Attaching sp\n",
      "\n",
      "Loading required package: R.oo\n",
      "\n",
      "Loading required package: R.methodsS3\n",
      "\n",
      "R.methodsS3 v1.8.2 (2022-06-13 22:00:14 UTC) successfully loaded. See ?R.methodsS3 for help.\n",
      "\n",
      "R.oo v1.25.0 (2022-06-12 02:20:02 UTC) successfully loaded. See ?R.oo for help.\n",
      "\n",
      "\n",
      "Attaching package: ‘R.oo’\n",
      "\n",
      "\n",
      "The following object is masked from ‘package:R.methodsS3’:\n",
      "\n",
      "    throw\n",
      "\n",
      "\n",
      "The following objects are masked from ‘package:methods’:\n",
      "\n",
      "    getClasses, getMethods\n",
      "\n",
      "\n",
      "The following objects are masked from ‘package:base’:\n",
      "\n",
      "    attach, detach, load, save\n",
      "\n",
      "\n",
      "R.utils v2.12.2 (2022-11-11 22:00:03 UTC) successfully loaded. See ?R.utils for help.\n",
      "\n",
      "\n",
      "Attaching package: ‘R.utils’\n",
      "\n",
      "\n",
      "The following object is masked from ‘package:utils’:\n",
      "\n",
      "    timestamp\n",
      "\n",
      "\n",
      "The following objects are masked from ‘package:base’:\n",
      "\n",
      "    cat, commandArgs, getOption, isOpen, nullfile, parse, warnings\n",
      "\n",
      "\n"
     ]
    }
   ],
   "source": [
    "library(dplyr)\n",
    "library(Seurat)\n",
    "library(patchwork)\n",
    "library(stringr)\n",
    "library(Matrix)\n",
    "library(R.utils)"
   ]
  },
  {
   "cell_type": "code",
   "execution_count": 2,
   "id": "9b447cb0",
   "metadata": {},
   "outputs": [
    {
     "data": {
      "text/html": [
       "20"
      ],
      "text/latex": [
       "20"
      ],
      "text/markdown": [
       "20"
      ],
      "text/plain": [
       "[1] 20"
      ]
     },
     "metadata": {},
     "output_type": "display_data"
    },
    {
     "data": {
      "text/html": [
       "<style>\n",
       ".list-inline {list-style: none; margin:0; padding: 0}\n",
       ".list-inline>li {display: inline-block}\n",
       ".list-inline>li:not(:last-child)::after {content: \"\\00b7\"; padding: 0 .5ex}\n",
       "</style>\n",
       "<ol class=list-inline><li>'/home/liuyx/liuyuxuan/spa_seurat/cla/macaca/sn_0821_renew_batch3_all/soupX.flt_Matrix/4144-1-230713_web_0'</li><li>'/home/liuyx/liuyuxuan/spa_seurat/cla/macaca/sn_0821_renew_batch3_all/soupX.flt_Matrix/4144-10-230713_web_0'</li><li>'/home/liuyx/liuyuxuan/spa_seurat/cla/macaca/sn_0821_renew_batch3_all/soupX.flt_Matrix/4144-11-230713_web_0'</li><li>'/home/liuyx/liuyuxuan/spa_seurat/cla/macaca/sn_0821_renew_batch3_all/soupX.flt_Matrix/4144-12-230713_web_0'</li><li>'/home/liuyx/liuyuxuan/spa_seurat/cla/macaca/sn_0821_renew_batch3_all/soupX.flt_Matrix/4144-13-230713_web_0'</li><li>'/home/liuyx/liuyuxuan/spa_seurat/cla/macaca/sn_0821_renew_batch3_all/soupX.flt_Matrix/4144-14-230713_web_0'</li><li>'/home/liuyx/liuyuxuan/spa_seurat/cla/macaca/sn_0821_renew_batch3_all/soupX.flt_Matrix/4144-15-230713_web_0'</li><li>'/home/liuyx/liuyuxuan/spa_seurat/cla/macaca/sn_0821_renew_batch3_all/soupX.flt_Matrix/4144-16-230713_web_0'</li><li>'/home/liuyx/liuyuxuan/spa_seurat/cla/macaca/sn_0821_renew_batch3_all/soupX.flt_Matrix/4144-17-230713_web_0'</li><li>'/home/liuyx/liuyuxuan/spa_seurat/cla/macaca/sn_0821_renew_batch3_all/soupX.flt_Matrix/4144-18-230713_web_0'</li><li>'/home/liuyx/liuyuxuan/spa_seurat/cla/macaca/sn_0821_renew_batch3_all/soupX.flt_Matrix/4144-19-230713_web_0'</li><li>'/home/liuyx/liuyuxuan/spa_seurat/cla/macaca/sn_0821_renew_batch3_all/soupX.flt_Matrix/4144-2-230713_web_0'</li><li>'/home/liuyx/liuyuxuan/spa_seurat/cla/macaca/sn_0821_renew_batch3_all/soupX.flt_Matrix/4144-20-230713_web_0'</li><li>'/home/liuyx/liuyuxuan/spa_seurat/cla/macaca/sn_0821_renew_batch3_all/soupX.flt_Matrix/4144-3-230713_web_0'</li><li>'/home/liuyx/liuyuxuan/spa_seurat/cla/macaca/sn_0821_renew_batch3_all/soupX.flt_Matrix/4144-4-230713_web_0'</li><li>'/home/liuyx/liuyuxuan/spa_seurat/cla/macaca/sn_0821_renew_batch3_all/soupX.flt_Matrix/4144-5-230713_web_0'</li><li>'/home/liuyx/liuyuxuan/spa_seurat/cla/macaca/sn_0821_renew_batch3_all/soupX.flt_Matrix/4144-6-230713_web_0'</li><li>'/home/liuyx/liuyuxuan/spa_seurat/cla/macaca/sn_0821_renew_batch3_all/soupX.flt_Matrix/4144-7-230713_web_0'</li><li>'/home/liuyx/liuyuxuan/spa_seurat/cla/macaca/sn_0821_renew_batch3_all/soupX.flt_Matrix/4144-8-230713_web_0'</li><li>'/home/liuyx/liuyuxuan/spa_seurat/cla/macaca/sn_0821_renew_batch3_all/soupX.flt_Matrix/4144-9-230713_web_0'</li></ol>\n"
      ],
      "text/latex": [
       "\\begin{enumerate*}\n",
       "\\item '/home/liuyx/liuyuxuan/spa\\_seurat/cla/macaca/sn\\_0821\\_renew\\_batch3\\_all/soupX.flt\\_Matrix/4144-1-230713\\_web\\_0'\n",
       "\\item '/home/liuyx/liuyuxuan/spa\\_seurat/cla/macaca/sn\\_0821\\_renew\\_batch3\\_all/soupX.flt\\_Matrix/4144-10-230713\\_web\\_0'\n",
       "\\item '/home/liuyx/liuyuxuan/spa\\_seurat/cla/macaca/sn\\_0821\\_renew\\_batch3\\_all/soupX.flt\\_Matrix/4144-11-230713\\_web\\_0'\n",
       "\\item '/home/liuyx/liuyuxuan/spa\\_seurat/cla/macaca/sn\\_0821\\_renew\\_batch3\\_all/soupX.flt\\_Matrix/4144-12-230713\\_web\\_0'\n",
       "\\item '/home/liuyx/liuyuxuan/spa\\_seurat/cla/macaca/sn\\_0821\\_renew\\_batch3\\_all/soupX.flt\\_Matrix/4144-13-230713\\_web\\_0'\n",
       "\\item '/home/liuyx/liuyuxuan/spa\\_seurat/cla/macaca/sn\\_0821\\_renew\\_batch3\\_all/soupX.flt\\_Matrix/4144-14-230713\\_web\\_0'\n",
       "\\item '/home/liuyx/liuyuxuan/spa\\_seurat/cla/macaca/sn\\_0821\\_renew\\_batch3\\_all/soupX.flt\\_Matrix/4144-15-230713\\_web\\_0'\n",
       "\\item '/home/liuyx/liuyuxuan/spa\\_seurat/cla/macaca/sn\\_0821\\_renew\\_batch3\\_all/soupX.flt\\_Matrix/4144-16-230713\\_web\\_0'\n",
       "\\item '/home/liuyx/liuyuxuan/spa\\_seurat/cla/macaca/sn\\_0821\\_renew\\_batch3\\_all/soupX.flt\\_Matrix/4144-17-230713\\_web\\_0'\n",
       "\\item '/home/liuyx/liuyuxuan/spa\\_seurat/cla/macaca/sn\\_0821\\_renew\\_batch3\\_all/soupX.flt\\_Matrix/4144-18-230713\\_web\\_0'\n",
       "\\item '/home/liuyx/liuyuxuan/spa\\_seurat/cla/macaca/sn\\_0821\\_renew\\_batch3\\_all/soupX.flt\\_Matrix/4144-19-230713\\_web\\_0'\n",
       "\\item '/home/liuyx/liuyuxuan/spa\\_seurat/cla/macaca/sn\\_0821\\_renew\\_batch3\\_all/soupX.flt\\_Matrix/4144-2-230713\\_web\\_0'\n",
       "\\item '/home/liuyx/liuyuxuan/spa\\_seurat/cla/macaca/sn\\_0821\\_renew\\_batch3\\_all/soupX.flt\\_Matrix/4144-20-230713\\_web\\_0'\n",
       "\\item '/home/liuyx/liuyuxuan/spa\\_seurat/cla/macaca/sn\\_0821\\_renew\\_batch3\\_all/soupX.flt\\_Matrix/4144-3-230713\\_web\\_0'\n",
       "\\item '/home/liuyx/liuyuxuan/spa\\_seurat/cla/macaca/sn\\_0821\\_renew\\_batch3\\_all/soupX.flt\\_Matrix/4144-4-230713\\_web\\_0'\n",
       "\\item '/home/liuyx/liuyuxuan/spa\\_seurat/cla/macaca/sn\\_0821\\_renew\\_batch3\\_all/soupX.flt\\_Matrix/4144-5-230713\\_web\\_0'\n",
       "\\item '/home/liuyx/liuyuxuan/spa\\_seurat/cla/macaca/sn\\_0821\\_renew\\_batch3\\_all/soupX.flt\\_Matrix/4144-6-230713\\_web\\_0'\n",
       "\\item '/home/liuyx/liuyuxuan/spa\\_seurat/cla/macaca/sn\\_0821\\_renew\\_batch3\\_all/soupX.flt\\_Matrix/4144-7-230713\\_web\\_0'\n",
       "\\item '/home/liuyx/liuyuxuan/spa\\_seurat/cla/macaca/sn\\_0821\\_renew\\_batch3\\_all/soupX.flt\\_Matrix/4144-8-230713\\_web\\_0'\n",
       "\\item '/home/liuyx/liuyuxuan/spa\\_seurat/cla/macaca/sn\\_0821\\_renew\\_batch3\\_all/soupX.flt\\_Matrix/4144-9-230713\\_web\\_0'\n",
       "\\end{enumerate*}\n"
      ],
      "text/markdown": [
       "1. '/home/liuyx/liuyuxuan/spa_seurat/cla/macaca/sn_0821_renew_batch3_all/soupX.flt_Matrix/4144-1-230713_web_0'\n",
       "2. '/home/liuyx/liuyuxuan/spa_seurat/cla/macaca/sn_0821_renew_batch3_all/soupX.flt_Matrix/4144-10-230713_web_0'\n",
       "3. '/home/liuyx/liuyuxuan/spa_seurat/cla/macaca/sn_0821_renew_batch3_all/soupX.flt_Matrix/4144-11-230713_web_0'\n",
       "4. '/home/liuyx/liuyuxuan/spa_seurat/cla/macaca/sn_0821_renew_batch3_all/soupX.flt_Matrix/4144-12-230713_web_0'\n",
       "5. '/home/liuyx/liuyuxuan/spa_seurat/cla/macaca/sn_0821_renew_batch3_all/soupX.flt_Matrix/4144-13-230713_web_0'\n",
       "6. '/home/liuyx/liuyuxuan/spa_seurat/cla/macaca/sn_0821_renew_batch3_all/soupX.flt_Matrix/4144-14-230713_web_0'\n",
       "7. '/home/liuyx/liuyuxuan/spa_seurat/cla/macaca/sn_0821_renew_batch3_all/soupX.flt_Matrix/4144-15-230713_web_0'\n",
       "8. '/home/liuyx/liuyuxuan/spa_seurat/cla/macaca/sn_0821_renew_batch3_all/soupX.flt_Matrix/4144-16-230713_web_0'\n",
       "9. '/home/liuyx/liuyuxuan/spa_seurat/cla/macaca/sn_0821_renew_batch3_all/soupX.flt_Matrix/4144-17-230713_web_0'\n",
       "10. '/home/liuyx/liuyuxuan/spa_seurat/cla/macaca/sn_0821_renew_batch3_all/soupX.flt_Matrix/4144-18-230713_web_0'\n",
       "11. '/home/liuyx/liuyuxuan/spa_seurat/cla/macaca/sn_0821_renew_batch3_all/soupX.flt_Matrix/4144-19-230713_web_0'\n",
       "12. '/home/liuyx/liuyuxuan/spa_seurat/cla/macaca/sn_0821_renew_batch3_all/soupX.flt_Matrix/4144-2-230713_web_0'\n",
       "13. '/home/liuyx/liuyuxuan/spa_seurat/cla/macaca/sn_0821_renew_batch3_all/soupX.flt_Matrix/4144-20-230713_web_0'\n",
       "14. '/home/liuyx/liuyuxuan/spa_seurat/cla/macaca/sn_0821_renew_batch3_all/soupX.flt_Matrix/4144-3-230713_web_0'\n",
       "15. '/home/liuyx/liuyuxuan/spa_seurat/cla/macaca/sn_0821_renew_batch3_all/soupX.flt_Matrix/4144-4-230713_web_0'\n",
       "16. '/home/liuyx/liuyuxuan/spa_seurat/cla/macaca/sn_0821_renew_batch3_all/soupX.flt_Matrix/4144-5-230713_web_0'\n",
       "17. '/home/liuyx/liuyuxuan/spa_seurat/cla/macaca/sn_0821_renew_batch3_all/soupX.flt_Matrix/4144-6-230713_web_0'\n",
       "18. '/home/liuyx/liuyuxuan/spa_seurat/cla/macaca/sn_0821_renew_batch3_all/soupX.flt_Matrix/4144-7-230713_web_0'\n",
       "19. '/home/liuyx/liuyuxuan/spa_seurat/cla/macaca/sn_0821_renew_batch3_all/soupX.flt_Matrix/4144-8-230713_web_0'\n",
       "20. '/home/liuyx/liuyuxuan/spa_seurat/cla/macaca/sn_0821_renew_batch3_all/soupX.flt_Matrix/4144-9-230713_web_0'\n",
       "\n",
       "\n"
      ],
      "text/plain": [
       " [1] \"/home/liuyx/liuyuxuan/spa_seurat/cla/macaca/sn_0821_renew_batch3_all/soupX.flt_Matrix/4144-1-230713_web_0\" \n",
       " [2] \"/home/liuyx/liuyuxuan/spa_seurat/cla/macaca/sn_0821_renew_batch3_all/soupX.flt_Matrix/4144-10-230713_web_0\"\n",
       " [3] \"/home/liuyx/liuyuxuan/spa_seurat/cla/macaca/sn_0821_renew_batch3_all/soupX.flt_Matrix/4144-11-230713_web_0\"\n",
       " [4] \"/home/liuyx/liuyuxuan/spa_seurat/cla/macaca/sn_0821_renew_batch3_all/soupX.flt_Matrix/4144-12-230713_web_0\"\n",
       " [5] \"/home/liuyx/liuyuxuan/spa_seurat/cla/macaca/sn_0821_renew_batch3_all/soupX.flt_Matrix/4144-13-230713_web_0\"\n",
       " [6] \"/home/liuyx/liuyuxuan/spa_seurat/cla/macaca/sn_0821_renew_batch3_all/soupX.flt_Matrix/4144-14-230713_web_0\"\n",
       " [7] \"/home/liuyx/liuyuxuan/spa_seurat/cla/macaca/sn_0821_renew_batch3_all/soupX.flt_Matrix/4144-15-230713_web_0\"\n",
       " [8] \"/home/liuyx/liuyuxuan/spa_seurat/cla/macaca/sn_0821_renew_batch3_all/soupX.flt_Matrix/4144-16-230713_web_0\"\n",
       " [9] \"/home/liuyx/liuyuxuan/spa_seurat/cla/macaca/sn_0821_renew_batch3_all/soupX.flt_Matrix/4144-17-230713_web_0\"\n",
       "[10] \"/home/liuyx/liuyuxuan/spa_seurat/cla/macaca/sn_0821_renew_batch3_all/soupX.flt_Matrix/4144-18-230713_web_0\"\n",
       "[11] \"/home/liuyx/liuyuxuan/spa_seurat/cla/macaca/sn_0821_renew_batch3_all/soupX.flt_Matrix/4144-19-230713_web_0\"\n",
       "[12] \"/home/liuyx/liuyuxuan/spa_seurat/cla/macaca/sn_0821_renew_batch3_all/soupX.flt_Matrix/4144-2-230713_web_0\" \n",
       "[13] \"/home/liuyx/liuyuxuan/spa_seurat/cla/macaca/sn_0821_renew_batch3_all/soupX.flt_Matrix/4144-20-230713_web_0\"\n",
       "[14] \"/home/liuyx/liuyuxuan/spa_seurat/cla/macaca/sn_0821_renew_batch3_all/soupX.flt_Matrix/4144-3-230713_web_0\" \n",
       "[15] \"/home/liuyx/liuyuxuan/spa_seurat/cla/macaca/sn_0821_renew_batch3_all/soupX.flt_Matrix/4144-4-230713_web_0\" \n",
       "[16] \"/home/liuyx/liuyuxuan/spa_seurat/cla/macaca/sn_0821_renew_batch3_all/soupX.flt_Matrix/4144-5-230713_web_0\" \n",
       "[17] \"/home/liuyx/liuyuxuan/spa_seurat/cla/macaca/sn_0821_renew_batch3_all/soupX.flt_Matrix/4144-6-230713_web_0\" \n",
       "[18] \"/home/liuyx/liuyuxuan/spa_seurat/cla/macaca/sn_0821_renew_batch3_all/soupX.flt_Matrix/4144-7-230713_web_0\" \n",
       "[19] \"/home/liuyx/liuyuxuan/spa_seurat/cla/macaca/sn_0821_renew_batch3_all/soupX.flt_Matrix/4144-8-230713_web_0\" \n",
       "[20] \"/home/liuyx/liuyuxuan/spa_seurat/cla/macaca/sn_0821_renew_batch3_all/soupX.flt_Matrix/4144-9-230713_web_0\" "
      ]
     },
     "metadata": {},
     "output_type": "display_data"
    }
   ],
   "source": [
    "all_dir=list.dirs('/home/liuyx/liuyuxuan/spa_seurat/cla/macaca/sn_0821_renew_batch3_all/soupX.flt_Matrix')\n",
    "all_dir=all_dir[grep('[0-9]$',all_dir)]\n",
    "length(all_dir)\n",
    "all_dir1=all_dir\n",
    "all_dir1\n"
   ]
  },
  {
   "cell_type": "code",
   "execution_count": 3,
   "id": "2e8e8d28",
   "metadata": {
    "scrolled": true
   },
   "outputs": [
    {
     "name": "stderr",
     "output_type": "stream",
     "text": [
      "Warning message:\n",
      "“Feature names cannot have underscores ('_'), replacing with dashes ('-')”\n",
      "Warning message:\n",
      "“Feature names cannot have underscores ('_'), replacing with dashes ('-')”\n",
      "Warning message:\n",
      "“Feature names cannot have underscores ('_'), replacing with dashes ('-')”\n",
      "Warning message:\n",
      "“Feature names cannot have underscores ('_'), replacing with dashes ('-')”\n",
      "Warning message:\n",
      "“Feature names cannot have underscores ('_'), replacing with dashes ('-')”\n",
      "Warning message:\n",
      "“Feature names cannot have underscores ('_'), replacing with dashes ('-')”\n",
      "Warning message:\n",
      "“Feature names cannot have underscores ('_'), replacing with dashes ('-')”\n",
      "Warning message:\n",
      "“Feature names cannot have underscores ('_'), replacing with dashes ('-')”\n",
      "Warning message:\n",
      "“Feature names cannot have underscores ('_'), replacing with dashes ('-')”\n",
      "Warning message:\n",
      "“Feature names cannot have underscores ('_'), replacing with dashes ('-')”\n",
      "Warning message:\n",
      "“Feature names cannot have underscores ('_'), replacing with dashes ('-')”\n",
      "Warning message:\n",
      "“Feature names cannot have underscores ('_'), replacing with dashes ('-')”\n",
      "Warning message:\n",
      "“Feature names cannot have underscores ('_'), replacing with dashes ('-')”\n",
      "Warning message:\n",
      "“Feature names cannot have underscores ('_'), replacing with dashes ('-')”\n",
      "Warning message:\n",
      "“Feature names cannot have underscores ('_'), replacing with dashes ('-')”\n",
      "Warning message:\n",
      "“Feature names cannot have underscores ('_'), replacing with dashes ('-')”\n",
      "Warning message:\n",
      "“Feature names cannot have underscores ('_'), replacing with dashes ('-')”\n",
      "Warning message:\n",
      "“Feature names cannot have underscores ('_'), replacing with dashes ('-')”\n",
      "Warning message:\n",
      "“Feature names cannot have underscores ('_'), replacing with dashes ('-')”\n",
      "Warning message:\n",
      "“Feature names cannot have underscores ('_'), replacing with dashes ('-')”\n"
     ]
    }
   ],
   "source": [
    "for(i in c(1:length(all_dir))){matrix_dir=all_dir[i]\n",
    "\n",
    "if(file.exists(paste0(matrix_dir,\"/barcodes.tsv.gz\"))){\n",
    "    gunzip(paste0(matrix_dir,\"/barcodes.tsv.gz\"))\n",
    "    gunzip(paste0(matrix_dir,\"/matrix.mtx.gz\"))\n",
    "    if(file.exists(paste0(matrix_dir,\"/genes.tsv.gz\"))){\n",
    "        gunzip(paste0(matrix_dir,\"/genes.tsv.gz\"))}else{\n",
    "        gunzip(paste0(matrix_dir,\"/features.tsv.gz\"))\n",
    "    }\n",
    "    barcode.path<-paste0(matrix_dir,\"/barcodes.tsv\")\n",
    "    if(file.exists(paste0(matrix_dir,\"/genes.tsv\"))){\n",
    "        genes.path<-(paste0(matrix_dir,\"/genes.tsv\"))}else{\n",
    "        genes.path<-(paste0(matrix_dir,\"/features.tsv\"))\n",
    "    }\n",
    "    matrix.path<-paste0(matrix_dir,\"/matrix.mtx\")\n",
    "\n",
    "    zebrafish.data <- readMM(file = matrix.path) ##mac上不能读压缩文件\n",
    "    gene.names = read.delim(genes.path,header = FALSE, stringsAsFactors = FALSE)\n",
    "    barcode.names = read.delim(barcode.path,header = FALSE,stringsAsFactors = FALSE)\n",
    "    colnames(zebrafish.data) = barcode.names$V1\n",
    "    rownames(zebrafish.data) = gene.names$V1 ##把示例中的V1改成V2\n",
    "\n",
    "    # check矩阵\n",
    "    zebrafish.data[1:6, 1:6] ##check矩阵\n",
    "    dim(zebrafish.data) ##check矩阵\n",
    "\n",
    "    scRNA <- CreateSeuratObject(counts = zebrafish.data)\n",
    "\n",
    "    saveRDS(scRNA,paste0(matrix_dir,'/counts.rds'))\n",
    "}else{\n",
    "    matrix_dir=paste0(matrix_dir,'/04.Matrix')\n",
    "    gunzip(paste0(matrix_dir,\"/barcodes.tsv.gz\"))\n",
    "    gunzip(paste0(matrix_dir,\"/matrix.mtx.gz\"))\n",
    "    if(file.exists(paste0(matrix_dir,\"/genes.tsv.gz\"))){\n",
    "        gunzip(paste0(matrix_dir,\"/genes.tsv.gz\"))}else{\n",
    "        gunzip(paste0(matrix_dir,\"/features.tsv.gz\"))\n",
    "    }\n",
    "\n",
    "    barcode.path<-paste0(matrix_dir,\"/barcodes.tsv\")\n",
    "    if(file.exists(paste0(matrix_dir,\"/genes.tsv\"))){\n",
    "        genes.path<-(paste0(matrix_dir,\"/genes.tsv\"))}else{\n",
    "        genes.path<-(paste0(matrix_dir,\"/features.tsv\"))\n",
    "    }\n",
    "    matrix.path<-paste0(matrix_dir,\"/matrix.mtx\")\n",
    "\n",
    "    zebrafish.data <- readMM(file = matrix.path) ##mac上不能读压缩文件\n",
    "    gene.names = read.delim(genes.path,header = FALSE, stringsAsFactors = FALSE)\n",
    "    barcode.names = read.delim(barcode.path,header = FALSE,stringsAsFactors = FALSE)\n",
    "    colnames(zebrafish.data) = barcode.names$V1\n",
    "    rownames(zebrafish.data) = gene.names$V1 ##把示例中的V1改成V2\n",
    "\n",
    "    # check矩阵\n",
    "    zebrafish.data[1:6, 1:6] ##check矩阵\n",
    "    dim(zebrafish.data) ##check矩阵\n",
    "\n",
    "    scRNA <- CreateSeuratObject(counts = zebrafish.data)\n",
    "\n",
    "    saveRDS(scRNA,paste0(matrix_dir,'/counts.rds'))\n",
    "}}"
   ]
  },
  {
   "cell_type": "code",
   "execution_count": 4,
   "id": "8cf9ae7e",
   "metadata": {},
   "outputs": [
    {
     "data": {
      "text/html": [
       "<style>\n",
       ".list-inline {list-style: none; margin:0; padding: 0}\n",
       ".list-inline>li {display: inline-block}\n",
       ".list-inline>li:not(:last-child)::after {content: \"\\00b7\"; padding: 0 .5ex}\n",
       "</style>\n",
       "<ol class=list-inline><li>'/home/liuyx/liuyuxuan/spa_seurat/cla/macaca/sn_0821_renew_batch3_all/soupX.flt_Matrix/4144-1-230713_web_0/04.Matrix/counts.rds'</li><li>'/home/liuyx/liuyuxuan/spa_seurat/cla/macaca/sn_0821_renew_batch3_all/soupX.flt_Matrix/4144-10-230713_web_0/04.Matrix/counts.rds'</li><li>'/home/liuyx/liuyuxuan/spa_seurat/cla/macaca/sn_0821_renew_batch3_all/soupX.flt_Matrix/4144-11-230713_web_0/04.Matrix/counts.rds'</li><li>'/home/liuyx/liuyuxuan/spa_seurat/cla/macaca/sn_0821_renew_batch3_all/soupX.flt_Matrix/4144-12-230713_web_0/04.Matrix/counts.rds'</li><li>'/home/liuyx/liuyuxuan/spa_seurat/cla/macaca/sn_0821_renew_batch3_all/soupX.flt_Matrix/4144-13-230713_web_0/04.Matrix/counts.rds'</li><li>'/home/liuyx/liuyuxuan/spa_seurat/cla/macaca/sn_0821_renew_batch3_all/soupX.flt_Matrix/4144-14-230713_web_0/04.Matrix/counts.rds'</li><li>'/home/liuyx/liuyuxuan/spa_seurat/cla/macaca/sn_0821_renew_batch3_all/soupX.flt_Matrix/4144-15-230713_web_0/04.Matrix/counts.rds'</li><li>'/home/liuyx/liuyuxuan/spa_seurat/cla/macaca/sn_0821_renew_batch3_all/soupX.flt_Matrix/4144-16-230713_web_0/04.Matrix/counts.rds'</li><li>'/home/liuyx/liuyuxuan/spa_seurat/cla/macaca/sn_0821_renew_batch3_all/soupX.flt_Matrix/4144-17-230713_web_0/04.Matrix/counts.rds'</li><li>'/home/liuyx/liuyuxuan/spa_seurat/cla/macaca/sn_0821_renew_batch3_all/soupX.flt_Matrix/4144-18-230713_web_0/04.Matrix/counts.rds'</li><li>'/home/liuyx/liuyuxuan/spa_seurat/cla/macaca/sn_0821_renew_batch3_all/soupX.flt_Matrix/4144-19-230713_web_0/04.Matrix/counts.rds'</li><li>'/home/liuyx/liuyuxuan/spa_seurat/cla/macaca/sn_0821_renew_batch3_all/soupX.flt_Matrix/4144-2-230713_web_0/04.Matrix/counts.rds'</li><li>'/home/liuyx/liuyuxuan/spa_seurat/cla/macaca/sn_0821_renew_batch3_all/soupX.flt_Matrix/4144-20-230713_web_0/04.Matrix/counts.rds'</li><li>'/home/liuyx/liuyuxuan/spa_seurat/cla/macaca/sn_0821_renew_batch3_all/soupX.flt_Matrix/4144-3-230713_web_0/04.Matrix/counts.rds'</li><li>'/home/liuyx/liuyuxuan/spa_seurat/cla/macaca/sn_0821_renew_batch3_all/soupX.flt_Matrix/4144-4-230713_web_0/04.Matrix/counts.rds'</li><li>'/home/liuyx/liuyuxuan/spa_seurat/cla/macaca/sn_0821_renew_batch3_all/soupX.flt_Matrix/4144-5-230713_web_0/04.Matrix/counts.rds'</li><li>'/home/liuyx/liuyuxuan/spa_seurat/cla/macaca/sn_0821_renew_batch3_all/soupX.flt_Matrix/4144-6-230713_web_0/04.Matrix/counts.rds'</li><li>'/home/liuyx/liuyuxuan/spa_seurat/cla/macaca/sn_0821_renew_batch3_all/soupX.flt_Matrix/4144-7-230713_web_0/04.Matrix/counts.rds'</li><li>'/home/liuyx/liuyuxuan/spa_seurat/cla/macaca/sn_0821_renew_batch3_all/soupX.flt_Matrix/4144-8-230713_web_0/04.Matrix/counts.rds'</li><li>'/home/liuyx/liuyuxuan/spa_seurat/cla/macaca/sn_0821_renew_batch3_all/soupX.flt_Matrix/4144-9-230713_web_0/04.Matrix/counts.rds'</li></ol>\n"
      ],
      "text/latex": [
       "\\begin{enumerate*}\n",
       "\\item '/home/liuyx/liuyuxuan/spa\\_seurat/cla/macaca/sn\\_0821\\_renew\\_batch3\\_all/soupX.flt\\_Matrix/4144-1-230713\\_web\\_0/04.Matrix/counts.rds'\n",
       "\\item '/home/liuyx/liuyuxuan/spa\\_seurat/cla/macaca/sn\\_0821\\_renew\\_batch3\\_all/soupX.flt\\_Matrix/4144-10-230713\\_web\\_0/04.Matrix/counts.rds'\n",
       "\\item '/home/liuyx/liuyuxuan/spa\\_seurat/cla/macaca/sn\\_0821\\_renew\\_batch3\\_all/soupX.flt\\_Matrix/4144-11-230713\\_web\\_0/04.Matrix/counts.rds'\n",
       "\\item '/home/liuyx/liuyuxuan/spa\\_seurat/cla/macaca/sn\\_0821\\_renew\\_batch3\\_all/soupX.flt\\_Matrix/4144-12-230713\\_web\\_0/04.Matrix/counts.rds'\n",
       "\\item '/home/liuyx/liuyuxuan/spa\\_seurat/cla/macaca/sn\\_0821\\_renew\\_batch3\\_all/soupX.flt\\_Matrix/4144-13-230713\\_web\\_0/04.Matrix/counts.rds'\n",
       "\\item '/home/liuyx/liuyuxuan/spa\\_seurat/cla/macaca/sn\\_0821\\_renew\\_batch3\\_all/soupX.flt\\_Matrix/4144-14-230713\\_web\\_0/04.Matrix/counts.rds'\n",
       "\\item '/home/liuyx/liuyuxuan/spa\\_seurat/cla/macaca/sn\\_0821\\_renew\\_batch3\\_all/soupX.flt\\_Matrix/4144-15-230713\\_web\\_0/04.Matrix/counts.rds'\n",
       "\\item '/home/liuyx/liuyuxuan/spa\\_seurat/cla/macaca/sn\\_0821\\_renew\\_batch3\\_all/soupX.flt\\_Matrix/4144-16-230713\\_web\\_0/04.Matrix/counts.rds'\n",
       "\\item '/home/liuyx/liuyuxuan/spa\\_seurat/cla/macaca/sn\\_0821\\_renew\\_batch3\\_all/soupX.flt\\_Matrix/4144-17-230713\\_web\\_0/04.Matrix/counts.rds'\n",
       "\\item '/home/liuyx/liuyuxuan/spa\\_seurat/cla/macaca/sn\\_0821\\_renew\\_batch3\\_all/soupX.flt\\_Matrix/4144-18-230713\\_web\\_0/04.Matrix/counts.rds'\n",
       "\\item '/home/liuyx/liuyuxuan/spa\\_seurat/cla/macaca/sn\\_0821\\_renew\\_batch3\\_all/soupX.flt\\_Matrix/4144-19-230713\\_web\\_0/04.Matrix/counts.rds'\n",
       "\\item '/home/liuyx/liuyuxuan/spa\\_seurat/cla/macaca/sn\\_0821\\_renew\\_batch3\\_all/soupX.flt\\_Matrix/4144-2-230713\\_web\\_0/04.Matrix/counts.rds'\n",
       "\\item '/home/liuyx/liuyuxuan/spa\\_seurat/cla/macaca/sn\\_0821\\_renew\\_batch3\\_all/soupX.flt\\_Matrix/4144-20-230713\\_web\\_0/04.Matrix/counts.rds'\n",
       "\\item '/home/liuyx/liuyuxuan/spa\\_seurat/cla/macaca/sn\\_0821\\_renew\\_batch3\\_all/soupX.flt\\_Matrix/4144-3-230713\\_web\\_0/04.Matrix/counts.rds'\n",
       "\\item '/home/liuyx/liuyuxuan/spa\\_seurat/cla/macaca/sn\\_0821\\_renew\\_batch3\\_all/soupX.flt\\_Matrix/4144-4-230713\\_web\\_0/04.Matrix/counts.rds'\n",
       "\\item '/home/liuyx/liuyuxuan/spa\\_seurat/cla/macaca/sn\\_0821\\_renew\\_batch3\\_all/soupX.flt\\_Matrix/4144-5-230713\\_web\\_0/04.Matrix/counts.rds'\n",
       "\\item '/home/liuyx/liuyuxuan/spa\\_seurat/cla/macaca/sn\\_0821\\_renew\\_batch3\\_all/soupX.flt\\_Matrix/4144-6-230713\\_web\\_0/04.Matrix/counts.rds'\n",
       "\\item '/home/liuyx/liuyuxuan/spa\\_seurat/cla/macaca/sn\\_0821\\_renew\\_batch3\\_all/soupX.flt\\_Matrix/4144-7-230713\\_web\\_0/04.Matrix/counts.rds'\n",
       "\\item '/home/liuyx/liuyuxuan/spa\\_seurat/cla/macaca/sn\\_0821\\_renew\\_batch3\\_all/soupX.flt\\_Matrix/4144-8-230713\\_web\\_0/04.Matrix/counts.rds'\n",
       "\\item '/home/liuyx/liuyuxuan/spa\\_seurat/cla/macaca/sn\\_0821\\_renew\\_batch3\\_all/soupX.flt\\_Matrix/4144-9-230713\\_web\\_0/04.Matrix/counts.rds'\n",
       "\\end{enumerate*}\n"
      ],
      "text/markdown": [
       "1. '/home/liuyx/liuyuxuan/spa_seurat/cla/macaca/sn_0821_renew_batch3_all/soupX.flt_Matrix/4144-1-230713_web_0/04.Matrix/counts.rds'\n",
       "2. '/home/liuyx/liuyuxuan/spa_seurat/cla/macaca/sn_0821_renew_batch3_all/soupX.flt_Matrix/4144-10-230713_web_0/04.Matrix/counts.rds'\n",
       "3. '/home/liuyx/liuyuxuan/spa_seurat/cla/macaca/sn_0821_renew_batch3_all/soupX.flt_Matrix/4144-11-230713_web_0/04.Matrix/counts.rds'\n",
       "4. '/home/liuyx/liuyuxuan/spa_seurat/cla/macaca/sn_0821_renew_batch3_all/soupX.flt_Matrix/4144-12-230713_web_0/04.Matrix/counts.rds'\n",
       "5. '/home/liuyx/liuyuxuan/spa_seurat/cla/macaca/sn_0821_renew_batch3_all/soupX.flt_Matrix/4144-13-230713_web_0/04.Matrix/counts.rds'\n",
       "6. '/home/liuyx/liuyuxuan/spa_seurat/cla/macaca/sn_0821_renew_batch3_all/soupX.flt_Matrix/4144-14-230713_web_0/04.Matrix/counts.rds'\n",
       "7. '/home/liuyx/liuyuxuan/spa_seurat/cla/macaca/sn_0821_renew_batch3_all/soupX.flt_Matrix/4144-15-230713_web_0/04.Matrix/counts.rds'\n",
       "8. '/home/liuyx/liuyuxuan/spa_seurat/cla/macaca/sn_0821_renew_batch3_all/soupX.flt_Matrix/4144-16-230713_web_0/04.Matrix/counts.rds'\n",
       "9. '/home/liuyx/liuyuxuan/spa_seurat/cla/macaca/sn_0821_renew_batch3_all/soupX.flt_Matrix/4144-17-230713_web_0/04.Matrix/counts.rds'\n",
       "10. '/home/liuyx/liuyuxuan/spa_seurat/cla/macaca/sn_0821_renew_batch3_all/soupX.flt_Matrix/4144-18-230713_web_0/04.Matrix/counts.rds'\n",
       "11. '/home/liuyx/liuyuxuan/spa_seurat/cla/macaca/sn_0821_renew_batch3_all/soupX.flt_Matrix/4144-19-230713_web_0/04.Matrix/counts.rds'\n",
       "12. '/home/liuyx/liuyuxuan/spa_seurat/cla/macaca/sn_0821_renew_batch3_all/soupX.flt_Matrix/4144-2-230713_web_0/04.Matrix/counts.rds'\n",
       "13. '/home/liuyx/liuyuxuan/spa_seurat/cla/macaca/sn_0821_renew_batch3_all/soupX.flt_Matrix/4144-20-230713_web_0/04.Matrix/counts.rds'\n",
       "14. '/home/liuyx/liuyuxuan/spa_seurat/cla/macaca/sn_0821_renew_batch3_all/soupX.flt_Matrix/4144-3-230713_web_0/04.Matrix/counts.rds'\n",
       "15. '/home/liuyx/liuyuxuan/spa_seurat/cla/macaca/sn_0821_renew_batch3_all/soupX.flt_Matrix/4144-4-230713_web_0/04.Matrix/counts.rds'\n",
       "16. '/home/liuyx/liuyuxuan/spa_seurat/cla/macaca/sn_0821_renew_batch3_all/soupX.flt_Matrix/4144-5-230713_web_0/04.Matrix/counts.rds'\n",
       "17. '/home/liuyx/liuyuxuan/spa_seurat/cla/macaca/sn_0821_renew_batch3_all/soupX.flt_Matrix/4144-6-230713_web_0/04.Matrix/counts.rds'\n",
       "18. '/home/liuyx/liuyuxuan/spa_seurat/cla/macaca/sn_0821_renew_batch3_all/soupX.flt_Matrix/4144-7-230713_web_0/04.Matrix/counts.rds'\n",
       "19. '/home/liuyx/liuyuxuan/spa_seurat/cla/macaca/sn_0821_renew_batch3_all/soupX.flt_Matrix/4144-8-230713_web_0/04.Matrix/counts.rds'\n",
       "20. '/home/liuyx/liuyuxuan/spa_seurat/cla/macaca/sn_0821_renew_batch3_all/soupX.flt_Matrix/4144-9-230713_web_0/04.Matrix/counts.rds'\n",
       "\n",
       "\n"
      ],
      "text/plain": [
       " [1] \"/home/liuyx/liuyuxuan/spa_seurat/cla/macaca/sn_0821_renew_batch3_all/soupX.flt_Matrix/4144-1-230713_web_0/04.Matrix/counts.rds\" \n",
       " [2] \"/home/liuyx/liuyuxuan/spa_seurat/cla/macaca/sn_0821_renew_batch3_all/soupX.flt_Matrix/4144-10-230713_web_0/04.Matrix/counts.rds\"\n",
       " [3] \"/home/liuyx/liuyuxuan/spa_seurat/cla/macaca/sn_0821_renew_batch3_all/soupX.flt_Matrix/4144-11-230713_web_0/04.Matrix/counts.rds\"\n",
       " [4] \"/home/liuyx/liuyuxuan/spa_seurat/cla/macaca/sn_0821_renew_batch3_all/soupX.flt_Matrix/4144-12-230713_web_0/04.Matrix/counts.rds\"\n",
       " [5] \"/home/liuyx/liuyuxuan/spa_seurat/cla/macaca/sn_0821_renew_batch3_all/soupX.flt_Matrix/4144-13-230713_web_0/04.Matrix/counts.rds\"\n",
       " [6] \"/home/liuyx/liuyuxuan/spa_seurat/cla/macaca/sn_0821_renew_batch3_all/soupX.flt_Matrix/4144-14-230713_web_0/04.Matrix/counts.rds\"\n",
       " [7] \"/home/liuyx/liuyuxuan/spa_seurat/cla/macaca/sn_0821_renew_batch3_all/soupX.flt_Matrix/4144-15-230713_web_0/04.Matrix/counts.rds\"\n",
       " [8] \"/home/liuyx/liuyuxuan/spa_seurat/cla/macaca/sn_0821_renew_batch3_all/soupX.flt_Matrix/4144-16-230713_web_0/04.Matrix/counts.rds\"\n",
       " [9] \"/home/liuyx/liuyuxuan/spa_seurat/cla/macaca/sn_0821_renew_batch3_all/soupX.flt_Matrix/4144-17-230713_web_0/04.Matrix/counts.rds\"\n",
       "[10] \"/home/liuyx/liuyuxuan/spa_seurat/cla/macaca/sn_0821_renew_batch3_all/soupX.flt_Matrix/4144-18-230713_web_0/04.Matrix/counts.rds\"\n",
       "[11] \"/home/liuyx/liuyuxuan/spa_seurat/cla/macaca/sn_0821_renew_batch3_all/soupX.flt_Matrix/4144-19-230713_web_0/04.Matrix/counts.rds\"\n",
       "[12] \"/home/liuyx/liuyuxuan/spa_seurat/cla/macaca/sn_0821_renew_batch3_all/soupX.flt_Matrix/4144-2-230713_web_0/04.Matrix/counts.rds\" \n",
       "[13] \"/home/liuyx/liuyuxuan/spa_seurat/cla/macaca/sn_0821_renew_batch3_all/soupX.flt_Matrix/4144-20-230713_web_0/04.Matrix/counts.rds\"\n",
       "[14] \"/home/liuyx/liuyuxuan/spa_seurat/cla/macaca/sn_0821_renew_batch3_all/soupX.flt_Matrix/4144-3-230713_web_0/04.Matrix/counts.rds\" \n",
       "[15] \"/home/liuyx/liuyuxuan/spa_seurat/cla/macaca/sn_0821_renew_batch3_all/soupX.flt_Matrix/4144-4-230713_web_0/04.Matrix/counts.rds\" \n",
       "[16] \"/home/liuyx/liuyuxuan/spa_seurat/cla/macaca/sn_0821_renew_batch3_all/soupX.flt_Matrix/4144-5-230713_web_0/04.Matrix/counts.rds\" \n",
       "[17] \"/home/liuyx/liuyuxuan/spa_seurat/cla/macaca/sn_0821_renew_batch3_all/soupX.flt_Matrix/4144-6-230713_web_0/04.Matrix/counts.rds\" \n",
       "[18] \"/home/liuyx/liuyuxuan/spa_seurat/cla/macaca/sn_0821_renew_batch3_all/soupX.flt_Matrix/4144-7-230713_web_0/04.Matrix/counts.rds\" \n",
       "[19] \"/home/liuyx/liuyuxuan/spa_seurat/cla/macaca/sn_0821_renew_batch3_all/soupX.flt_Matrix/4144-8-230713_web_0/04.Matrix/counts.rds\" \n",
       "[20] \"/home/liuyx/liuyuxuan/spa_seurat/cla/macaca/sn_0821_renew_batch3_all/soupX.flt_Matrix/4144-9-230713_web_0/04.Matrix/counts.rds\" "
      ]
     },
     "metadata": {},
     "output_type": "display_data"
    }
   ],
   "source": [
    "read_file='aba'\n",
    "for(i in c(1:length(all_dir))){\n",
    "matrix_dir=all_dir[i]\n",
    "if(file.exists(paste0(matrix_dir,\"/counts.rds\"))){\n",
    "    read_file=c(read_file,(paste0(matrix_dir,\"/counts.rds\")))\n",
    "}else{\n",
    "    matrix_dir=paste0(matrix_dir,'/04.Matrix')\n",
    "    read_file=c(read_file,(paste0(matrix_dir,\"/counts.rds\")))\n",
    "}}\n",
    "read_file=read_file[-1]\n",
    "read_file"
   ]
  },
  {
   "cell_type": "code",
   "execution_count": 5,
   "id": "f90179f9",
   "metadata": {},
   "outputs": [
    {
     "data": {
      "text/plain": [
       "[[1]]\n",
       "An object of class Seurat \n",
       "19577 features across 5941 samples within 1 assay \n",
       "Active assay: RNA (19577 features, 0 variable features)\n",
       "\n",
       "[[2]]\n",
       "An object of class Seurat \n",
       "19633 features across 5415 samples within 1 assay \n",
       "Active assay: RNA (19633 features, 0 variable features)\n",
       "\n",
       "[[3]]\n",
       "An object of class Seurat \n",
       "19521 features across 6014 samples within 1 assay \n",
       "Active assay: RNA (19521 features, 0 variable features)\n",
       "\n",
       "[[4]]\n",
       "An object of class Seurat \n",
       "19487 features across 6064 samples within 1 assay \n",
       "Active assay: RNA (19487 features, 0 variable features)\n",
       "\n",
       "[[5]]\n",
       "An object of class Seurat \n",
       "19487 features across 6083 samples within 1 assay \n",
       "Active assay: RNA (19487 features, 0 variable features)\n",
       "\n",
       "[[6]]\n",
       "An object of class Seurat \n",
       "19443 features across 6239 samples within 1 assay \n",
       "Active assay: RNA (19443 features, 0 variable features)\n",
       "\n",
       "[[7]]\n",
       "An object of class Seurat \n",
       "19610 features across 6012 samples within 1 assay \n",
       "Active assay: RNA (19610 features, 0 variable features)\n",
       "\n",
       "[[8]]\n",
       "An object of class Seurat \n",
       "19593 features across 5995 samples within 1 assay \n",
       "Active assay: RNA (19593 features, 0 variable features)\n",
       "\n",
       "[[9]]\n",
       "An object of class Seurat \n",
       "19616 features across 5854 samples within 1 assay \n",
       "Active assay: RNA (19616 features, 0 variable features)\n",
       "\n",
       "[[10]]\n",
       "An object of class Seurat \n",
       "19562 features across 5888 samples within 1 assay \n",
       "Active assay: RNA (19562 features, 0 variable features)\n",
       "\n",
       "[[11]]\n",
       "An object of class Seurat \n",
       "19681 features across 5895 samples within 1 assay \n",
       "Active assay: RNA (19681 features, 0 variable features)\n",
       "\n",
       "[[12]]\n",
       "An object of class Seurat \n",
       "19598 features across 5952 samples within 1 assay \n",
       "Active assay: RNA (19598 features, 0 variable features)\n",
       "\n",
       "[[13]]\n",
       "An object of class Seurat \n",
       "19648 features across 6101 samples within 1 assay \n",
       "Active assay: RNA (19648 features, 0 variable features)\n",
       "\n",
       "[[14]]\n",
       "An object of class Seurat \n",
       "19570 features across 6056 samples within 1 assay \n",
       "Active assay: RNA (19570 features, 0 variable features)\n",
       "\n",
       "[[15]]\n",
       "An object of class Seurat \n",
       "19506 features across 5970 samples within 1 assay \n",
       "Active assay: RNA (19506 features, 0 variable features)\n",
       "\n",
       "[[16]]\n",
       "An object of class Seurat \n",
       "19586 features across 5773 samples within 1 assay \n",
       "Active assay: RNA (19586 features, 0 variable features)\n",
       "\n",
       "[[17]]\n",
       "An object of class Seurat \n",
       "19564 features across 6078 samples within 1 assay \n",
       "Active assay: RNA (19564 features, 0 variable features)\n",
       "\n",
       "[[18]]\n",
       "An object of class Seurat \n",
       "19614 features across 6174 samples within 1 assay \n",
       "Active assay: RNA (19614 features, 0 variable features)\n",
       "\n",
       "[[19]]\n",
       "An object of class Seurat \n",
       "19627 features across 5778 samples within 1 assay \n",
       "Active assay: RNA (19627 features, 0 variable features)\n",
       "\n",
       "[[20]]\n",
       "An object of class Seurat \n",
       "19674 features across 5860 samples within 1 assay \n",
       "Active assay: RNA (19674 features, 0 variable features)\n"
      ]
     },
     "metadata": {},
     "output_type": "display_data"
    }
   ],
   "source": [
    "sceList = lapply(read_file,function(folder){ \n",
    "    readRDS(folder)\n",
    "})\n",
    "sceList"
   ]
  },
  {
   "cell_type": "code",
   "execution_count": 6,
   "id": "c4375533",
   "metadata": {},
   "outputs": [
    {
     "data": {
      "text/html": [
       "<style>\n",
       ".list-inline {list-style: none; margin:0; padding: 0}\n",
       ".list-inline>li {display: inline-block}\n",
       ".list-inline>li:not(:last-child)::after {content: \"\\00b7\"; padding: 0 .5ex}\n",
       "</style>\n",
       "<ol class=list-inline><li>'4144-1'</li><li>'4144-10'</li><li>'4144-11'</li><li>'4144-12'</li><li>'4144-13'</li><li>'4144-14'</li><li>'4144-15'</li><li>'4144-16'</li><li>'4144-17'</li><li>'4144-18'</li><li>'4144-19'</li><li>'4144-2'</li><li>'4144-20'</li><li>'4144-3'</li><li>'4144-4'</li><li>'4144-5'</li><li>'4144-6'</li><li>'4144-7'</li><li>'4144-8'</li><li>'4144-9'</li></ol>\n"
      ],
      "text/latex": [
       "\\begin{enumerate*}\n",
       "\\item '4144-1'\n",
       "\\item '4144-10'\n",
       "\\item '4144-11'\n",
       "\\item '4144-12'\n",
       "\\item '4144-13'\n",
       "\\item '4144-14'\n",
       "\\item '4144-15'\n",
       "\\item '4144-16'\n",
       "\\item '4144-17'\n",
       "\\item '4144-18'\n",
       "\\item '4144-19'\n",
       "\\item '4144-2'\n",
       "\\item '4144-20'\n",
       "\\item '4144-3'\n",
       "\\item '4144-4'\n",
       "\\item '4144-5'\n",
       "\\item '4144-6'\n",
       "\\item '4144-7'\n",
       "\\item '4144-8'\n",
       "\\item '4144-9'\n",
       "\\end{enumerate*}\n"
      ],
      "text/markdown": [
       "1. '4144-1'\n",
       "2. '4144-10'\n",
       "3. '4144-11'\n",
       "4. '4144-12'\n",
       "5. '4144-13'\n",
       "6. '4144-14'\n",
       "7. '4144-15'\n",
       "8. '4144-16'\n",
       "9. '4144-17'\n",
       "10. '4144-18'\n",
       "11. '4144-19'\n",
       "12. '4144-2'\n",
       "13. '4144-20'\n",
       "14. '4144-3'\n",
       "15. '4144-4'\n",
       "16. '4144-5'\n",
       "17. '4144-6'\n",
       "18. '4144-7'\n",
       "19. '4144-8'\n",
       "20. '4144-9'\n",
       "\n",
       "\n"
      ],
      "text/plain": [
       " [1] \"4144-1\"  \"4144-10\" \"4144-11\" \"4144-12\" \"4144-13\" \"4144-14\" \"4144-15\"\n",
       " [8] \"4144-16\" \"4144-17\" \"4144-18\" \"4144-19\" \"4144-2\"  \"4144-20\" \"4144-3\" \n",
       "[15] \"4144-4\"  \"4144-5\"  \"4144-6\"  \"4144-7\"  \"4144-8\"  \"4144-9\" "
      ]
     },
     "metadata": {},
     "output_type": "display_data"
    }
   ],
   "source": [
    "read_file_renew=str_extract(read_file,'[0-9][0-9][0-9][0-9]-[0-9]*')\n",
    "\n",
    "read_file_renew"
   ]
  },
  {
   "cell_type": "code",
   "execution_count": 7,
   "id": "dcd7a383",
   "metadata": {},
   "outputs": [
    {
     "data": {
      "text/html": [
       "<style>\n",
       ".list-inline {list-style: none; margin:0; padding: 0}\n",
       ".list-inline>li {display: inline-block}\n",
       ".list-inline>li:not(:last-child)::after {content: \"\\00b7\"; padding: 0 .5ex}\n",
       "</style>\n",
       "<ol class=list-inline><li>'4144-1'</li><li>'4144-10'</li><li>'4144-11'</li><li>'4144-12'</li><li>'4144-13'</li><li>'4144-14'</li><li>'4144-15'</li><li>'4144-16'</li><li>'4144-17'</li><li>'4144-18'</li><li>'4144-19'</li><li>'4144-2'</li><li>'4144-20'</li><li>'4144-3'</li><li>'4144-4'</li><li>'4144-5'</li><li>'4144-6'</li><li>'4144-7'</li><li>'4144-8'</li><li>'4144-9'</li></ol>\n"
      ],
      "text/latex": [
       "\\begin{enumerate*}\n",
       "\\item '4144-1'\n",
       "\\item '4144-10'\n",
       "\\item '4144-11'\n",
       "\\item '4144-12'\n",
       "\\item '4144-13'\n",
       "\\item '4144-14'\n",
       "\\item '4144-15'\n",
       "\\item '4144-16'\n",
       "\\item '4144-17'\n",
       "\\item '4144-18'\n",
       "\\item '4144-19'\n",
       "\\item '4144-2'\n",
       "\\item '4144-20'\n",
       "\\item '4144-3'\n",
       "\\item '4144-4'\n",
       "\\item '4144-5'\n",
       "\\item '4144-6'\n",
       "\\item '4144-7'\n",
       "\\item '4144-8'\n",
       "\\item '4144-9'\n",
       "\\end{enumerate*}\n"
      ],
      "text/markdown": [
       "1. '4144-1'\n",
       "2. '4144-10'\n",
       "3. '4144-11'\n",
       "4. '4144-12'\n",
       "5. '4144-13'\n",
       "6. '4144-14'\n",
       "7. '4144-15'\n",
       "8. '4144-16'\n",
       "9. '4144-17'\n",
       "10. '4144-18'\n",
       "11. '4144-19'\n",
       "12. '4144-2'\n",
       "13. '4144-20'\n",
       "14. '4144-3'\n",
       "15. '4144-4'\n",
       "16. '4144-5'\n",
       "17. '4144-6'\n",
       "18. '4144-7'\n",
       "19. '4144-8'\n",
       "20. '4144-9'\n",
       "\n",
       "\n"
      ],
      "text/plain": [
       " [1] \"4144-1\"  \"4144-10\" \"4144-11\" \"4144-12\" \"4144-13\" \"4144-14\" \"4144-15\"\n",
       " [8] \"4144-16\" \"4144-17\" \"4144-18\" \"4144-19\" \"4144-2\"  \"4144-20\" \"4144-3\" \n",
       "[15] \"4144-4\"  \"4144-5\"  \"4144-6\"  \"4144-7\"  \"4144-8\"  \"4144-9\" "
      ]
     },
     "metadata": {},
     "output_type": "display_data"
    }
   ],
   "source": [
    "unique(read_file_renew)"
   ]
  },
  {
   "cell_type": "code",
   "execution_count": 8,
   "id": "9302ef2a",
   "metadata": {},
   "outputs": [
    {
     "data": {
      "text/plain": [
       "\n",
       "SeuratProject \n",
       "       119142 "
      ]
     },
     "metadata": {},
     "output_type": "display_data"
    }
   ],
   "source": [
    "\n",
    "sce.big <- merge(sceList[[1]], \n",
    "                 y = c(sceList[[2]],sceList[[3]],sceList[[4]],\n",
    "                       sceList[[5]],sceList[[6]],\n",
    "                       sceList[[7]],sceList[[8]],sceList[[9]],sceList[[10]],sceList[[11]],\n",
    "                       sceList[[12]],sceList[[13]],\n",
    "                       sceList[[14]], sceList[[15]],sceList[[16]],sceList[[17]],sceList[[18]],sceList[[19]],sceList[[20]]), \n",
    "                 add.cell.ids = read_file_renew,\n",
    "                 project = \"macaca\")\n",
    "\n",
    "table(sce.big$orig.ident)\n",
    "\n"
   ]
  },
  {
   "cell_type": "code",
   "execution_count": 12,
   "id": "579010dc",
   "metadata": {},
   "outputs": [],
   "source": [
    "sce.big@meta.data$group=str_extract(rownames(sce.big@meta.data),'[0-9][0-9][0-9][0-9]-[0-9]*')\n",
    "\n"
   ]
  },
  {
   "cell_type": "code",
   "execution_count": 13,
   "id": "06472736",
   "metadata": {},
   "outputs": [
    {
     "data": {
      "text/html": [
       "20"
      ],
      "text/latex": [
       "20"
      ],
      "text/markdown": [
       "20"
      ],
      "text/plain": [
       "[1] 20"
      ]
     },
     "metadata": {},
     "output_type": "display_data"
    }
   ],
   "source": [
    "length(unique(sce.big@meta.data$group))"
   ]
  },
  {
   "cell_type": "code",
   "execution_count": 14,
   "id": "62c2bc3f",
   "metadata": {},
   "outputs": [],
   "source": [
    "saveRDS(sce.big,'/home/liuyx/liuyuxuan/spa_seurat/cla/macaca/sn_0821_renew_batch3_all/soupX.flt_Matrix/macaque_snrna_all_soupX_unfil_batch3_0821.rds')\n",
    "\n",
    "\n"
   ]
  },
  {
   "cell_type": "code",
   "execution_count": null,
   "id": "2b64dca0",
   "metadata": {},
   "outputs": [],
   "source": []
  }
 ],
 "metadata": {
  "kernelspec": {
   "display_name": "R",
   "language": "R",
   "name": "ir"
  },
  "language_info": {
   "codemirror_mode": "r",
   "file_extension": ".r",
   "mimetype": "text/x-r-source",
   "name": "R",
   "pygments_lexer": "r",
   "version": "4.1.3"
  }
 },
 "nbformat": 4,
 "nbformat_minor": 5
}
