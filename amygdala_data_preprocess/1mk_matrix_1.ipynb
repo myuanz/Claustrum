{
 "cells": [
  {
   "cell_type": "code",
   "execution_count": 1,
   "id": "e2606696",
   "metadata": {
    "scrolled": true
   },
   "outputs": [
    {
     "name": "stderr",
     "output_type": "stream",
     "text": [
      "\n",
      "Attaching package: ‘dplyr’\n",
      "\n",
      "\n",
      "The following objects are masked from ‘package:stats’:\n",
      "\n",
      "    filter, lag\n",
      "\n",
      "\n",
      "The following objects are masked from ‘package:base’:\n",
      "\n",
      "    intersect, setdiff, setequal, union\n",
      "\n",
      "\n",
      "The legacy packages maptools, rgdal, and rgeos, underpinning this package\n",
      "will retire shortly. Please refer to R-spatial evolution reports on\n",
      "https://r-spatial.org/r/2023/05/15/evolution4.html for details.\n",
      "This package is now running under evolution status 0 \n",
      "\n",
      "rgeos version: 0.6-3, (SVN revision 696)\n",
      " GEOS runtime version: 3.11.0-CAPI-1.17.0 \n",
      " Please note that rgeos will be retired during October 2023,\n",
      "plan transition to sf or terra functions using GEOS at your earliest convenience.\n",
      "See https://r-spatial.org/r/2023/05/15/evolution4.html for details.\n",
      " GEOS using OverlayNG\n",
      " Linking to sp version: 1.6-0 \n",
      " Polygon checking: TRUE \n",
      "\n",
      "\n",
      "Attaching SeuratObject\n",
      "\n",
      "Attaching sp\n",
      "\n",
      "Loading required package: R.oo\n",
      "\n",
      "Loading required package: R.methodsS3\n",
      "\n",
      "R.methodsS3 v1.8.2 (2022-06-13 22:00:14 UTC) successfully loaded. See ?R.methodsS3 for help.\n",
      "\n",
      "R.oo v1.25.0 (2022-06-12 02:20:02 UTC) successfully loaded. See ?R.oo for help.\n",
      "\n",
      "\n",
      "Attaching package: ‘R.oo’\n",
      "\n",
      "\n",
      "The following object is masked from ‘package:R.methodsS3’:\n",
      "\n",
      "    throw\n",
      "\n",
      "\n",
      "The following objects are masked from ‘package:methods’:\n",
      "\n",
      "    getClasses, getMethods\n",
      "\n",
      "\n",
      "The following objects are masked from ‘package:base’:\n",
      "\n",
      "    attach, detach, load, save\n",
      "\n",
      "\n",
      "R.utils v2.12.2 (2022-11-11 22:00:03 UTC) successfully loaded. See ?R.utils for help.\n",
      "\n",
      "\n",
      "Attaching package: ‘R.utils’\n",
      "\n",
      "\n",
      "The following object is masked from ‘package:utils’:\n",
      "\n",
      "    timestamp\n",
      "\n",
      "\n",
      "The following objects are masked from ‘package:base’:\n",
      "\n",
      "    cat, commandArgs, getOption, isOpen, nullfile, parse, warnings\n",
      "\n",
      "\n"
     ]
    }
   ],
   "source": [
    "library(dplyr)\n",
    "library(Seurat)\n",
    "library(patchwork)\n",
    "library(stringr)\n",
    "library(Matrix)\n",
    "library(R.utils)"
   ]
  },
  {
   "cell_type": "code",
   "execution_count": 2,
   "id": "2746da63",
   "metadata": {
    "scrolled": true
   },
   "outputs": [
    {
     "data": {
      "text/html": [
       "20"
      ],
      "text/latex": [
       "20"
      ],
      "text/markdown": [
       "20"
      ],
      "text/plain": [
       "[1] 20"
      ]
     },
     "metadata": {},
     "output_type": "display_data"
    },
    {
     "data": {
      "text/html": [
       "<style>\n",
       ".list-inline {list-style: none; margin:0; padding: 0}\n",
       ".list-inline>li {display: inline-block}\n",
       ".list-inline>li:not(:last-child)::after {content: \"\\00b7\"; padding: 0 .5ex}\n",
       "</style>\n",
       "<ol class=list-inline><li>'/home/liuyx/liuyuxuan/spa_seurat/cla/speciesCompare/1019_Putamen_Amygdala_analysis/from-zmy/6125-1-220812'</li><li>'/home/liuyx/liuyuxuan/spa_seurat/cla/speciesCompare/1019_Putamen_Amygdala_analysis/from-zmy/6125-2-220812'</li><li>'/home/liuyx/liuyuxuan/spa_seurat/cla/speciesCompare/1019_Putamen_Amygdala_analysis/from-zmy/MQC286R-196.SZM20230403'</li><li>'/home/liuyx/liuyuxuan/spa_seurat/cla/speciesCompare/1019_Putamen_Amygdala_analysis/from-zmy/MQC286R-229.SZM20230403'</li><li>'/home/liuyx/liuyuxuan/spa_seurat/cla/speciesCompare/1019_Putamen_Amygdala_analysis/from-zmy/ssDNA_101_LC0613'</li><li>'/home/liuyx/liuyuxuan/spa_seurat/cla/speciesCompare/1019_Putamen_Amygdala_analysis/from-zmy/ssDNA_107_LC0613'</li><li>'/home/liuyx/liuyuxuan/spa_seurat/cla/speciesCompare/1019_Putamen_Amygdala_analysis/from-zmy/ssDNA_86_LC0613'</li><li>'/home/liuyx/liuyuxuan/spa_seurat/cla/speciesCompare/1019_Putamen_Amygdala_analysis/from-zmy/ssDNA_87_LC0613'</li><li>'/home/liuyx/liuyuxuan/spa_seurat/cla/speciesCompare/1019_Putamen_Amygdala_analysis/from-zmy/ssDNA_88_LC0613'</li><li>'/home/liuyx/liuyuxuan/spa_seurat/cla/speciesCompare/1019_Putamen_Amygdala_analysis/from-zmy/ssDNA_89_LC0613'</li><li>'/home/liuyx/liuyuxuan/spa_seurat/cla/speciesCompare/1019_Putamen_Amygdala_analysis/from-zmy/ssDNA_90_LC0613'</li><li>'/home/liuyx/liuyuxuan/spa_seurat/cla/speciesCompare/1019_Putamen_Amygdala_analysis/from-zmy/SZM20230424_MQ277R-301'</li><li>'/home/liuyx/liuyuxuan/spa_seurat/cla/speciesCompare/1019_Putamen_Amygdala_analysis/from-zmy/SZM20230426_MQ277R-320'</li><li>'/home/liuyx/liuyuxuan/spa_seurat/cla/speciesCompare/1019_Putamen_Amygdala_analysis/from-zmy/SZM20230426_MQ277R-376'</li><li>'/home/liuyx/liuyuxuan/spa_seurat/cla/speciesCompare/1019_Putamen_Amygdala_analysis/from-zmy/SZM20230529_MQ277L-459'</li><li>'/home/liuyx/liuyuxuan/spa_seurat/cla/speciesCompare/1019_Putamen_Amygdala_analysis/from-zmy/SZM20230529_MQ277L-460'</li><li>'/home/liuyx/liuyuxuan/spa_seurat/cla/speciesCompare/1019_Putamen_Amygdala_analysis/from-zmy/SZM20230529_MQ277L-461'</li><li>'/home/liuyx/liuyuxuan/spa_seurat/cla/speciesCompare/1019_Putamen_Amygdala_analysis/from-zmy/SZM20230529_MQ277L-462'</li><li>'/home/liuyx/liuyuxuan/spa_seurat/cla/speciesCompare/1019_Putamen_Amygdala_analysis/from-zmy/SZM20230529_MQ277L-463'</li><li>'/home/liuyx/liuyuxuan/spa_seurat/cla/speciesCompare/1019_Putamen_Amygdala_analysis/from-zmy/SZM20230529_MQ277L-510'</li></ol>\n"
      ],
      "text/latex": [
       "\\begin{enumerate*}\n",
       "\\item '/home/liuyx/liuyuxuan/spa\\_seurat/cla/speciesCompare/1019\\_Putamen\\_Amygdala\\_analysis/from-zmy/6125-1-220812'\n",
       "\\item '/home/liuyx/liuyuxuan/spa\\_seurat/cla/speciesCompare/1019\\_Putamen\\_Amygdala\\_analysis/from-zmy/6125-2-220812'\n",
       "\\item '/home/liuyx/liuyuxuan/spa\\_seurat/cla/speciesCompare/1019\\_Putamen\\_Amygdala\\_analysis/from-zmy/MQC286R-196.SZM20230403'\n",
       "\\item '/home/liuyx/liuyuxuan/spa\\_seurat/cla/speciesCompare/1019\\_Putamen\\_Amygdala\\_analysis/from-zmy/MQC286R-229.SZM20230403'\n",
       "\\item '/home/liuyx/liuyuxuan/spa\\_seurat/cla/speciesCompare/1019\\_Putamen\\_Amygdala\\_analysis/from-zmy/ssDNA\\_101\\_LC0613'\n",
       "\\item '/home/liuyx/liuyuxuan/spa\\_seurat/cla/speciesCompare/1019\\_Putamen\\_Amygdala\\_analysis/from-zmy/ssDNA\\_107\\_LC0613'\n",
       "\\item '/home/liuyx/liuyuxuan/spa\\_seurat/cla/speciesCompare/1019\\_Putamen\\_Amygdala\\_analysis/from-zmy/ssDNA\\_86\\_LC0613'\n",
       "\\item '/home/liuyx/liuyuxuan/spa\\_seurat/cla/speciesCompare/1019\\_Putamen\\_Amygdala\\_analysis/from-zmy/ssDNA\\_87\\_LC0613'\n",
       "\\item '/home/liuyx/liuyuxuan/spa\\_seurat/cla/speciesCompare/1019\\_Putamen\\_Amygdala\\_analysis/from-zmy/ssDNA\\_88\\_LC0613'\n",
       "\\item '/home/liuyx/liuyuxuan/spa\\_seurat/cla/speciesCompare/1019\\_Putamen\\_Amygdala\\_analysis/from-zmy/ssDNA\\_89\\_LC0613'\n",
       "\\item '/home/liuyx/liuyuxuan/spa\\_seurat/cla/speciesCompare/1019\\_Putamen\\_Amygdala\\_analysis/from-zmy/ssDNA\\_90\\_LC0613'\n",
       "\\item '/home/liuyx/liuyuxuan/spa\\_seurat/cla/speciesCompare/1019\\_Putamen\\_Amygdala\\_analysis/from-zmy/SZM20230424\\_MQ277R-301'\n",
       "\\item '/home/liuyx/liuyuxuan/spa\\_seurat/cla/speciesCompare/1019\\_Putamen\\_Amygdala\\_analysis/from-zmy/SZM20230426\\_MQ277R-320'\n",
       "\\item '/home/liuyx/liuyuxuan/spa\\_seurat/cla/speciesCompare/1019\\_Putamen\\_Amygdala\\_analysis/from-zmy/SZM20230426\\_MQ277R-376'\n",
       "\\item '/home/liuyx/liuyuxuan/spa\\_seurat/cla/speciesCompare/1019\\_Putamen\\_Amygdala\\_analysis/from-zmy/SZM20230529\\_MQ277L-459'\n",
       "\\item '/home/liuyx/liuyuxuan/spa\\_seurat/cla/speciesCompare/1019\\_Putamen\\_Amygdala\\_analysis/from-zmy/SZM20230529\\_MQ277L-460'\n",
       "\\item '/home/liuyx/liuyuxuan/spa\\_seurat/cla/speciesCompare/1019\\_Putamen\\_Amygdala\\_analysis/from-zmy/SZM20230529\\_MQ277L-461'\n",
       "\\item '/home/liuyx/liuyuxuan/spa\\_seurat/cla/speciesCompare/1019\\_Putamen\\_Amygdala\\_analysis/from-zmy/SZM20230529\\_MQ277L-462'\n",
       "\\item '/home/liuyx/liuyuxuan/spa\\_seurat/cla/speciesCompare/1019\\_Putamen\\_Amygdala\\_analysis/from-zmy/SZM20230529\\_MQ277L-463'\n",
       "\\item '/home/liuyx/liuyuxuan/spa\\_seurat/cla/speciesCompare/1019\\_Putamen\\_Amygdala\\_analysis/from-zmy/SZM20230529\\_MQ277L-510'\n",
       "\\end{enumerate*}\n"
      ],
      "text/markdown": [
       "1. '/home/liuyx/liuyuxuan/spa_seurat/cla/speciesCompare/1019_Putamen_Amygdala_analysis/from-zmy/6125-1-220812'\n",
       "2. '/home/liuyx/liuyuxuan/spa_seurat/cla/speciesCompare/1019_Putamen_Amygdala_analysis/from-zmy/6125-2-220812'\n",
       "3. '/home/liuyx/liuyuxuan/spa_seurat/cla/speciesCompare/1019_Putamen_Amygdala_analysis/from-zmy/MQC286R-196.SZM20230403'\n",
       "4. '/home/liuyx/liuyuxuan/spa_seurat/cla/speciesCompare/1019_Putamen_Amygdala_analysis/from-zmy/MQC286R-229.SZM20230403'\n",
       "5. '/home/liuyx/liuyuxuan/spa_seurat/cla/speciesCompare/1019_Putamen_Amygdala_analysis/from-zmy/ssDNA_101_LC0613'\n",
       "6. '/home/liuyx/liuyuxuan/spa_seurat/cla/speciesCompare/1019_Putamen_Amygdala_analysis/from-zmy/ssDNA_107_LC0613'\n",
       "7. '/home/liuyx/liuyuxuan/spa_seurat/cla/speciesCompare/1019_Putamen_Amygdala_analysis/from-zmy/ssDNA_86_LC0613'\n",
       "8. '/home/liuyx/liuyuxuan/spa_seurat/cla/speciesCompare/1019_Putamen_Amygdala_analysis/from-zmy/ssDNA_87_LC0613'\n",
       "9. '/home/liuyx/liuyuxuan/spa_seurat/cla/speciesCompare/1019_Putamen_Amygdala_analysis/from-zmy/ssDNA_88_LC0613'\n",
       "10. '/home/liuyx/liuyuxuan/spa_seurat/cla/speciesCompare/1019_Putamen_Amygdala_analysis/from-zmy/ssDNA_89_LC0613'\n",
       "11. '/home/liuyx/liuyuxuan/spa_seurat/cla/speciesCompare/1019_Putamen_Amygdala_analysis/from-zmy/ssDNA_90_LC0613'\n",
       "12. '/home/liuyx/liuyuxuan/spa_seurat/cla/speciesCompare/1019_Putamen_Amygdala_analysis/from-zmy/SZM20230424_MQ277R-301'\n",
       "13. '/home/liuyx/liuyuxuan/spa_seurat/cla/speciesCompare/1019_Putamen_Amygdala_analysis/from-zmy/SZM20230426_MQ277R-320'\n",
       "14. '/home/liuyx/liuyuxuan/spa_seurat/cla/speciesCompare/1019_Putamen_Amygdala_analysis/from-zmy/SZM20230426_MQ277R-376'\n",
       "15. '/home/liuyx/liuyuxuan/spa_seurat/cla/speciesCompare/1019_Putamen_Amygdala_analysis/from-zmy/SZM20230529_MQ277L-459'\n",
       "16. '/home/liuyx/liuyuxuan/spa_seurat/cla/speciesCompare/1019_Putamen_Amygdala_analysis/from-zmy/SZM20230529_MQ277L-460'\n",
       "17. '/home/liuyx/liuyuxuan/spa_seurat/cla/speciesCompare/1019_Putamen_Amygdala_analysis/from-zmy/SZM20230529_MQ277L-461'\n",
       "18. '/home/liuyx/liuyuxuan/spa_seurat/cla/speciesCompare/1019_Putamen_Amygdala_analysis/from-zmy/SZM20230529_MQ277L-462'\n",
       "19. '/home/liuyx/liuyuxuan/spa_seurat/cla/speciesCompare/1019_Putamen_Amygdala_analysis/from-zmy/SZM20230529_MQ277L-463'\n",
       "20. '/home/liuyx/liuyuxuan/spa_seurat/cla/speciesCompare/1019_Putamen_Amygdala_analysis/from-zmy/SZM20230529_MQ277L-510'\n",
       "\n",
       "\n"
      ],
      "text/plain": [
       " [1] \"/home/liuyx/liuyuxuan/spa_seurat/cla/speciesCompare/1019_Putamen_Amygdala_analysis/from-zmy/6125-1-220812\"          \n",
       " [2] \"/home/liuyx/liuyuxuan/spa_seurat/cla/speciesCompare/1019_Putamen_Amygdala_analysis/from-zmy/6125-2-220812\"          \n",
       " [3] \"/home/liuyx/liuyuxuan/spa_seurat/cla/speciesCompare/1019_Putamen_Amygdala_analysis/from-zmy/MQC286R-196.SZM20230403\"\n",
       " [4] \"/home/liuyx/liuyuxuan/spa_seurat/cla/speciesCompare/1019_Putamen_Amygdala_analysis/from-zmy/MQC286R-229.SZM20230403\"\n",
       " [5] \"/home/liuyx/liuyuxuan/spa_seurat/cla/speciesCompare/1019_Putamen_Amygdala_analysis/from-zmy/ssDNA_101_LC0613\"       \n",
       " [6] \"/home/liuyx/liuyuxuan/spa_seurat/cla/speciesCompare/1019_Putamen_Amygdala_analysis/from-zmy/ssDNA_107_LC0613\"       \n",
       " [7] \"/home/liuyx/liuyuxuan/spa_seurat/cla/speciesCompare/1019_Putamen_Amygdala_analysis/from-zmy/ssDNA_86_LC0613\"        \n",
       " [8] \"/home/liuyx/liuyuxuan/spa_seurat/cla/speciesCompare/1019_Putamen_Amygdala_analysis/from-zmy/ssDNA_87_LC0613\"        \n",
       " [9] \"/home/liuyx/liuyuxuan/spa_seurat/cla/speciesCompare/1019_Putamen_Amygdala_analysis/from-zmy/ssDNA_88_LC0613\"        \n",
       "[10] \"/home/liuyx/liuyuxuan/spa_seurat/cla/speciesCompare/1019_Putamen_Amygdala_analysis/from-zmy/ssDNA_89_LC0613\"        \n",
       "[11] \"/home/liuyx/liuyuxuan/spa_seurat/cla/speciesCompare/1019_Putamen_Amygdala_analysis/from-zmy/ssDNA_90_LC0613\"        \n",
       "[12] \"/home/liuyx/liuyuxuan/spa_seurat/cla/speciesCompare/1019_Putamen_Amygdala_analysis/from-zmy/SZM20230424_MQ277R-301\" \n",
       "[13] \"/home/liuyx/liuyuxuan/spa_seurat/cla/speciesCompare/1019_Putamen_Amygdala_analysis/from-zmy/SZM20230426_MQ277R-320\" \n",
       "[14] \"/home/liuyx/liuyuxuan/spa_seurat/cla/speciesCompare/1019_Putamen_Amygdala_analysis/from-zmy/SZM20230426_MQ277R-376\" \n",
       "[15] \"/home/liuyx/liuyuxuan/spa_seurat/cla/speciesCompare/1019_Putamen_Amygdala_analysis/from-zmy/SZM20230529_MQ277L-459\" \n",
       "[16] \"/home/liuyx/liuyuxuan/spa_seurat/cla/speciesCompare/1019_Putamen_Amygdala_analysis/from-zmy/SZM20230529_MQ277L-460\" \n",
       "[17] \"/home/liuyx/liuyuxuan/spa_seurat/cla/speciesCompare/1019_Putamen_Amygdala_analysis/from-zmy/SZM20230529_MQ277L-461\" \n",
       "[18] \"/home/liuyx/liuyuxuan/spa_seurat/cla/speciesCompare/1019_Putamen_Amygdala_analysis/from-zmy/SZM20230529_MQ277L-462\" \n",
       "[19] \"/home/liuyx/liuyuxuan/spa_seurat/cla/speciesCompare/1019_Putamen_Amygdala_analysis/from-zmy/SZM20230529_MQ277L-463\" \n",
       "[20] \"/home/liuyx/liuyuxuan/spa_seurat/cla/speciesCompare/1019_Putamen_Amygdala_analysis/from-zmy/SZM20230529_MQ277L-510\" "
      ]
     },
     "metadata": {},
     "output_type": "display_data"
    }
   ],
   "source": [
    "all_dir=list.dirs('/home/liuyx/liuyuxuan/spa_seurat/cla/speciesCompare/1019_Putamen_Amygdala_analysis/from-zmy')\n",
    "all_dir=str_extract(all_dir,'.*[0-9][0-9][0-9]$')\n",
    "all_dir=all_dir[-c(1:length(all_dir))[is.na(all_dir)]]\n",
    "length(all_dir)\n",
    "all_dir\n",
    "\n",
    "\n"
   ]
  },
  {
   "cell_type": "code",
   "execution_count": 3,
   "id": "298c16bf",
   "metadata": {},
   "outputs": [
    {
     "data": {
      "text/html": [
       "TRUE"
      ],
      "text/latex": [
       "TRUE"
      ],
      "text/markdown": [
       "TRUE"
      ],
      "text/plain": [
       "[1] TRUE"
      ]
     },
     "metadata": {},
     "output_type": "display_data"
    }
   ],
   "source": [
    "if(1==1)"
   ]
  },
  {
   "cell_type": "code",
   "execution_count": 19,
   "id": "27c4eac9",
   "metadata": {},
   "outputs": [
    {
     "name": "stdout",
     "output_type": "stream",
     "text": [
      "[1] 1\n",
      "[1] 1\n",
      "[1] 1\n",
      "[1] 1\n",
      "[1] 1\n",
      "[1] 1\n",
      "[1] 1\n",
      "[1] 1\n",
      "[1] 1\n",
      "[1] 1\n",
      "[1] 1\n",
      "[1] 1\n",
      "[1] 1\n",
      "[1] 1\n",
      "[1] 1\n",
      "[1] 1\n",
      "[1] 1\n",
      "[1] 1\n",
      "[1] 1\n"
     ]
    }
   ],
   "source": [
    "for(i in c(1:20)){matrix_dir=all_dir[i]\n",
    "\n",
    "if(file.exists(paste0(matrix_dir,'/filter_matrix/counts.rds'))){print(1)}else{if(file.exists(paste0(matrix_dir,\"/filter_matrix/barcodes.tsv.gz\"))){\n",
    "    #gunzip(paste0(matrix_dir,\"/barcodes.tsv.gz\"))\n",
    "    #gunzip(paste0(matrix_dir,\"/matrix.mtx.gz\"))\n",
    "    #gunzip(paste0(matrix_dir,\"/genes.tsv.gz\"))\n",
    "\n",
    "    barcode.path<-paste0(matrix_dir,\"/filter_matrix/barcodes.tsv.gz\")\n",
    "    genes.path<-paste0(matrix_dir,\"/filter_matrix/features.tsv.gz\")\n",
    "    matrix.path<-paste0(matrix_dir,\"/filter_matrix/matrix.mtx.gz\")\n",
    "\n",
    "    zebrafish.data <- readMM(file = matrix.path) ##mac上不能读压缩文件\n",
    "    gene.names = read.delim(genes.path,header = FALSE, stringsAsFactors = FALSE)\n",
    "    barcode.names = read.delim(barcode.path,header = FALSE,stringsAsFactors = FALSE)\n",
    "    colnames(zebrafish.data) = barcode.names$V1\n",
    "    rownames(zebrafish.data) = gene.names$V1 ##把示例中的V1改成V2\n",
    "\n",
    "    # check矩阵\n",
    "    zebrafish.data[1:6, 1:6] ##check矩阵\n",
    "    dim(zebrafish.data) ##check矩阵\n",
    "\n",
    "    scRNA <- CreateSeuratObject(counts = zebrafish.data)\n",
    "\n",
    "    saveRDS(scRNA,paste0(matrix_dir,'/filter_matrix/counts.rds'))\n",
    "}}}\n"
   ]
  },
  {
   "cell_type": "code",
   "execution_count": 20,
   "id": "1531bf02",
   "metadata": {
    "scrolled": true
   },
   "outputs": [
    {
     "data": {
      "text/html": [
       "<style>\n",
       ".list-inline {list-style: none; margin:0; padding: 0}\n",
       ".list-inline>li {display: inline-block}\n",
       ".list-inline>li:not(:last-child)::after {content: \"\\00b7\"; padding: 0 .5ex}\n",
       "</style>\n",
       "<ol class=list-inline><li>'/home/liuyx/liuyuxuan/spa_seurat/cla/speciesCompare/1019_Putamen_Amygdala_analysis/from-zmy/6125-1-220812/filter_matrix/counts.rds'</li><li>'/home/liuyx/liuyuxuan/spa_seurat/cla/speciesCompare/1019_Putamen_Amygdala_analysis/from-zmy/6125-2-220812/filter_matrix/counts.rds'</li><li>'/home/liuyx/liuyuxuan/spa_seurat/cla/speciesCompare/1019_Putamen_Amygdala_analysis/from-zmy/MQC286R-196.SZM20230403/filter_matrix/counts.rds'</li><li>'/home/liuyx/liuyuxuan/spa_seurat/cla/speciesCompare/1019_Putamen_Amygdala_analysis/from-zmy/MQC286R-229.SZM20230403/filter_matrix/counts.rds'</li><li>'/home/liuyx/liuyuxuan/spa_seurat/cla/speciesCompare/1019_Putamen_Amygdala_analysis/from-zmy/ssDNA_101_LC0613/filter_matrix/counts.rds'</li><li>'/home/liuyx/liuyuxuan/spa_seurat/cla/speciesCompare/1019_Putamen_Amygdala_analysis/from-zmy/ssDNA_107_LC0613/filter_matrix/counts.rds'</li><li>'/home/liuyx/liuyuxuan/spa_seurat/cla/speciesCompare/1019_Putamen_Amygdala_analysis/from-zmy/ssDNA_86_LC0613/filter_matrix/counts.rds'</li><li>'/home/liuyx/liuyuxuan/spa_seurat/cla/speciesCompare/1019_Putamen_Amygdala_analysis/from-zmy/ssDNA_87_LC0613/filter_matrix/counts.rds'</li><li>'/home/liuyx/liuyuxuan/spa_seurat/cla/speciesCompare/1019_Putamen_Amygdala_analysis/from-zmy/ssDNA_88_LC0613/filter_matrix/counts.rds'</li><li>'/home/liuyx/liuyuxuan/spa_seurat/cla/speciesCompare/1019_Putamen_Amygdala_analysis/from-zmy/ssDNA_89_LC0613/filter_matrix/counts.rds'</li><li>'/home/liuyx/liuyuxuan/spa_seurat/cla/speciesCompare/1019_Putamen_Amygdala_analysis/from-zmy/ssDNA_90_LC0613/filter_matrix/counts.rds'</li><li>'/home/liuyx/liuyuxuan/spa_seurat/cla/speciesCompare/1019_Putamen_Amygdala_analysis/from-zmy/SZM20230424_MQ277R-301/filter_matrix/counts.rds'</li><li>'/home/liuyx/liuyuxuan/spa_seurat/cla/speciesCompare/1019_Putamen_Amygdala_analysis/from-zmy/SZM20230426_MQ277R-320/filter_matrix/counts.rds'</li><li>'/home/liuyx/liuyuxuan/spa_seurat/cla/speciesCompare/1019_Putamen_Amygdala_analysis/from-zmy/SZM20230426_MQ277R-376/filter_matrix/counts.rds'</li><li>'/home/liuyx/liuyuxuan/spa_seurat/cla/speciesCompare/1019_Putamen_Amygdala_analysis/from-zmy/SZM20230529_MQ277L-459/filter_matrix/counts.rds'</li><li>'/home/liuyx/liuyuxuan/spa_seurat/cla/speciesCompare/1019_Putamen_Amygdala_analysis/from-zmy/SZM20230529_MQ277L-460/filter_matrix/counts.rds'</li><li>'/home/liuyx/liuyuxuan/spa_seurat/cla/speciesCompare/1019_Putamen_Amygdala_analysis/from-zmy/SZM20230529_MQ277L-461/filter_matrix/counts.rds'</li><li>'/home/liuyx/liuyuxuan/spa_seurat/cla/speciesCompare/1019_Putamen_Amygdala_analysis/from-zmy/SZM20230529_MQ277L-462/filter_matrix/counts.rds'</li><li>'/home/liuyx/liuyuxuan/spa_seurat/cla/speciesCompare/1019_Putamen_Amygdala_analysis/from-zmy/SZM20230529_MQ277L-463/filter_matrix/counts.rds'</li><li>'/home/liuyx/liuyuxuan/spa_seurat/cla/speciesCompare/1019_Putamen_Amygdala_analysis/from-zmy/SZM20230529_MQ277L-510/filter_matrix/counts.rds'</li></ol>\n"
      ],
      "text/latex": [
       "\\begin{enumerate*}\n",
       "\\item '/home/liuyx/liuyuxuan/spa\\_seurat/cla/speciesCompare/1019\\_Putamen\\_Amygdala\\_analysis/from-zmy/6125-1-220812/filter\\_matrix/counts.rds'\n",
       "\\item '/home/liuyx/liuyuxuan/spa\\_seurat/cla/speciesCompare/1019\\_Putamen\\_Amygdala\\_analysis/from-zmy/6125-2-220812/filter\\_matrix/counts.rds'\n",
       "\\item '/home/liuyx/liuyuxuan/spa\\_seurat/cla/speciesCompare/1019\\_Putamen\\_Amygdala\\_analysis/from-zmy/MQC286R-196.SZM20230403/filter\\_matrix/counts.rds'\n",
       "\\item '/home/liuyx/liuyuxuan/spa\\_seurat/cla/speciesCompare/1019\\_Putamen\\_Amygdala\\_analysis/from-zmy/MQC286R-229.SZM20230403/filter\\_matrix/counts.rds'\n",
       "\\item '/home/liuyx/liuyuxuan/spa\\_seurat/cla/speciesCompare/1019\\_Putamen\\_Amygdala\\_analysis/from-zmy/ssDNA\\_101\\_LC0613/filter\\_matrix/counts.rds'\n",
       "\\item '/home/liuyx/liuyuxuan/spa\\_seurat/cla/speciesCompare/1019\\_Putamen\\_Amygdala\\_analysis/from-zmy/ssDNA\\_107\\_LC0613/filter\\_matrix/counts.rds'\n",
       "\\item '/home/liuyx/liuyuxuan/spa\\_seurat/cla/speciesCompare/1019\\_Putamen\\_Amygdala\\_analysis/from-zmy/ssDNA\\_86\\_LC0613/filter\\_matrix/counts.rds'\n",
       "\\item '/home/liuyx/liuyuxuan/spa\\_seurat/cla/speciesCompare/1019\\_Putamen\\_Amygdala\\_analysis/from-zmy/ssDNA\\_87\\_LC0613/filter\\_matrix/counts.rds'\n",
       "\\item '/home/liuyx/liuyuxuan/spa\\_seurat/cla/speciesCompare/1019\\_Putamen\\_Amygdala\\_analysis/from-zmy/ssDNA\\_88\\_LC0613/filter\\_matrix/counts.rds'\n",
       "\\item '/home/liuyx/liuyuxuan/spa\\_seurat/cla/speciesCompare/1019\\_Putamen\\_Amygdala\\_analysis/from-zmy/ssDNA\\_89\\_LC0613/filter\\_matrix/counts.rds'\n",
       "\\item '/home/liuyx/liuyuxuan/spa\\_seurat/cla/speciesCompare/1019\\_Putamen\\_Amygdala\\_analysis/from-zmy/ssDNA\\_90\\_LC0613/filter\\_matrix/counts.rds'\n",
       "\\item '/home/liuyx/liuyuxuan/spa\\_seurat/cla/speciesCompare/1019\\_Putamen\\_Amygdala\\_analysis/from-zmy/SZM20230424\\_MQ277R-301/filter\\_matrix/counts.rds'\n",
       "\\item '/home/liuyx/liuyuxuan/spa\\_seurat/cla/speciesCompare/1019\\_Putamen\\_Amygdala\\_analysis/from-zmy/SZM20230426\\_MQ277R-320/filter\\_matrix/counts.rds'\n",
       "\\item '/home/liuyx/liuyuxuan/spa\\_seurat/cla/speciesCompare/1019\\_Putamen\\_Amygdala\\_analysis/from-zmy/SZM20230426\\_MQ277R-376/filter\\_matrix/counts.rds'\n",
       "\\item '/home/liuyx/liuyuxuan/spa\\_seurat/cla/speciesCompare/1019\\_Putamen\\_Amygdala\\_analysis/from-zmy/SZM20230529\\_MQ277L-459/filter\\_matrix/counts.rds'\n",
       "\\item '/home/liuyx/liuyuxuan/spa\\_seurat/cla/speciesCompare/1019\\_Putamen\\_Amygdala\\_analysis/from-zmy/SZM20230529\\_MQ277L-460/filter\\_matrix/counts.rds'\n",
       "\\item '/home/liuyx/liuyuxuan/spa\\_seurat/cla/speciesCompare/1019\\_Putamen\\_Amygdala\\_analysis/from-zmy/SZM20230529\\_MQ277L-461/filter\\_matrix/counts.rds'\n",
       "\\item '/home/liuyx/liuyuxuan/spa\\_seurat/cla/speciesCompare/1019\\_Putamen\\_Amygdala\\_analysis/from-zmy/SZM20230529\\_MQ277L-462/filter\\_matrix/counts.rds'\n",
       "\\item '/home/liuyx/liuyuxuan/spa\\_seurat/cla/speciesCompare/1019\\_Putamen\\_Amygdala\\_analysis/from-zmy/SZM20230529\\_MQ277L-463/filter\\_matrix/counts.rds'\n",
       "\\item '/home/liuyx/liuyuxuan/spa\\_seurat/cla/speciesCompare/1019\\_Putamen\\_Amygdala\\_analysis/from-zmy/SZM20230529\\_MQ277L-510/filter\\_matrix/counts.rds'\n",
       "\\end{enumerate*}\n"
      ],
      "text/markdown": [
       "1. '/home/liuyx/liuyuxuan/spa_seurat/cla/speciesCompare/1019_Putamen_Amygdala_analysis/from-zmy/6125-1-220812/filter_matrix/counts.rds'\n",
       "2. '/home/liuyx/liuyuxuan/spa_seurat/cla/speciesCompare/1019_Putamen_Amygdala_analysis/from-zmy/6125-2-220812/filter_matrix/counts.rds'\n",
       "3. '/home/liuyx/liuyuxuan/spa_seurat/cla/speciesCompare/1019_Putamen_Amygdala_analysis/from-zmy/MQC286R-196.SZM20230403/filter_matrix/counts.rds'\n",
       "4. '/home/liuyx/liuyuxuan/spa_seurat/cla/speciesCompare/1019_Putamen_Amygdala_analysis/from-zmy/MQC286R-229.SZM20230403/filter_matrix/counts.rds'\n",
       "5. '/home/liuyx/liuyuxuan/spa_seurat/cla/speciesCompare/1019_Putamen_Amygdala_analysis/from-zmy/ssDNA_101_LC0613/filter_matrix/counts.rds'\n",
       "6. '/home/liuyx/liuyuxuan/spa_seurat/cla/speciesCompare/1019_Putamen_Amygdala_analysis/from-zmy/ssDNA_107_LC0613/filter_matrix/counts.rds'\n",
       "7. '/home/liuyx/liuyuxuan/spa_seurat/cla/speciesCompare/1019_Putamen_Amygdala_analysis/from-zmy/ssDNA_86_LC0613/filter_matrix/counts.rds'\n",
       "8. '/home/liuyx/liuyuxuan/spa_seurat/cla/speciesCompare/1019_Putamen_Amygdala_analysis/from-zmy/ssDNA_87_LC0613/filter_matrix/counts.rds'\n",
       "9. '/home/liuyx/liuyuxuan/spa_seurat/cla/speciesCompare/1019_Putamen_Amygdala_analysis/from-zmy/ssDNA_88_LC0613/filter_matrix/counts.rds'\n",
       "10. '/home/liuyx/liuyuxuan/spa_seurat/cla/speciesCompare/1019_Putamen_Amygdala_analysis/from-zmy/ssDNA_89_LC0613/filter_matrix/counts.rds'\n",
       "11. '/home/liuyx/liuyuxuan/spa_seurat/cla/speciesCompare/1019_Putamen_Amygdala_analysis/from-zmy/ssDNA_90_LC0613/filter_matrix/counts.rds'\n",
       "12. '/home/liuyx/liuyuxuan/spa_seurat/cla/speciesCompare/1019_Putamen_Amygdala_analysis/from-zmy/SZM20230424_MQ277R-301/filter_matrix/counts.rds'\n",
       "13. '/home/liuyx/liuyuxuan/spa_seurat/cla/speciesCompare/1019_Putamen_Amygdala_analysis/from-zmy/SZM20230426_MQ277R-320/filter_matrix/counts.rds'\n",
       "14. '/home/liuyx/liuyuxuan/spa_seurat/cla/speciesCompare/1019_Putamen_Amygdala_analysis/from-zmy/SZM20230426_MQ277R-376/filter_matrix/counts.rds'\n",
       "15. '/home/liuyx/liuyuxuan/spa_seurat/cla/speciesCompare/1019_Putamen_Amygdala_analysis/from-zmy/SZM20230529_MQ277L-459/filter_matrix/counts.rds'\n",
       "16. '/home/liuyx/liuyuxuan/spa_seurat/cla/speciesCompare/1019_Putamen_Amygdala_analysis/from-zmy/SZM20230529_MQ277L-460/filter_matrix/counts.rds'\n",
       "17. '/home/liuyx/liuyuxuan/spa_seurat/cla/speciesCompare/1019_Putamen_Amygdala_analysis/from-zmy/SZM20230529_MQ277L-461/filter_matrix/counts.rds'\n",
       "18. '/home/liuyx/liuyuxuan/spa_seurat/cla/speciesCompare/1019_Putamen_Amygdala_analysis/from-zmy/SZM20230529_MQ277L-462/filter_matrix/counts.rds'\n",
       "19. '/home/liuyx/liuyuxuan/spa_seurat/cla/speciesCompare/1019_Putamen_Amygdala_analysis/from-zmy/SZM20230529_MQ277L-463/filter_matrix/counts.rds'\n",
       "20. '/home/liuyx/liuyuxuan/spa_seurat/cla/speciesCompare/1019_Putamen_Amygdala_analysis/from-zmy/SZM20230529_MQ277L-510/filter_matrix/counts.rds'\n",
       "\n",
       "\n"
      ],
      "text/plain": [
       " [1] \"/home/liuyx/liuyuxuan/spa_seurat/cla/speciesCompare/1019_Putamen_Amygdala_analysis/from-zmy/6125-1-220812/filter_matrix/counts.rds\"          \n",
       " [2] \"/home/liuyx/liuyuxuan/spa_seurat/cla/speciesCompare/1019_Putamen_Amygdala_analysis/from-zmy/6125-2-220812/filter_matrix/counts.rds\"          \n",
       " [3] \"/home/liuyx/liuyuxuan/spa_seurat/cla/speciesCompare/1019_Putamen_Amygdala_analysis/from-zmy/MQC286R-196.SZM20230403/filter_matrix/counts.rds\"\n",
       " [4] \"/home/liuyx/liuyuxuan/spa_seurat/cla/speciesCompare/1019_Putamen_Amygdala_analysis/from-zmy/MQC286R-229.SZM20230403/filter_matrix/counts.rds\"\n",
       " [5] \"/home/liuyx/liuyuxuan/spa_seurat/cla/speciesCompare/1019_Putamen_Amygdala_analysis/from-zmy/ssDNA_101_LC0613/filter_matrix/counts.rds\"       \n",
       " [6] \"/home/liuyx/liuyuxuan/spa_seurat/cla/speciesCompare/1019_Putamen_Amygdala_analysis/from-zmy/ssDNA_107_LC0613/filter_matrix/counts.rds\"       \n",
       " [7] \"/home/liuyx/liuyuxuan/spa_seurat/cla/speciesCompare/1019_Putamen_Amygdala_analysis/from-zmy/ssDNA_86_LC0613/filter_matrix/counts.rds\"        \n",
       " [8] \"/home/liuyx/liuyuxuan/spa_seurat/cla/speciesCompare/1019_Putamen_Amygdala_analysis/from-zmy/ssDNA_87_LC0613/filter_matrix/counts.rds\"        \n",
       " [9] \"/home/liuyx/liuyuxuan/spa_seurat/cla/speciesCompare/1019_Putamen_Amygdala_analysis/from-zmy/ssDNA_88_LC0613/filter_matrix/counts.rds\"        \n",
       "[10] \"/home/liuyx/liuyuxuan/spa_seurat/cla/speciesCompare/1019_Putamen_Amygdala_analysis/from-zmy/ssDNA_89_LC0613/filter_matrix/counts.rds\"        \n",
       "[11] \"/home/liuyx/liuyuxuan/spa_seurat/cla/speciesCompare/1019_Putamen_Amygdala_analysis/from-zmy/ssDNA_90_LC0613/filter_matrix/counts.rds\"        \n",
       "[12] \"/home/liuyx/liuyuxuan/spa_seurat/cla/speciesCompare/1019_Putamen_Amygdala_analysis/from-zmy/SZM20230424_MQ277R-301/filter_matrix/counts.rds\" \n",
       "[13] \"/home/liuyx/liuyuxuan/spa_seurat/cla/speciesCompare/1019_Putamen_Amygdala_analysis/from-zmy/SZM20230426_MQ277R-320/filter_matrix/counts.rds\" \n",
       "[14] \"/home/liuyx/liuyuxuan/spa_seurat/cla/speciesCompare/1019_Putamen_Amygdala_analysis/from-zmy/SZM20230426_MQ277R-376/filter_matrix/counts.rds\" \n",
       "[15] \"/home/liuyx/liuyuxuan/spa_seurat/cla/speciesCompare/1019_Putamen_Amygdala_analysis/from-zmy/SZM20230529_MQ277L-459/filter_matrix/counts.rds\" \n",
       "[16] \"/home/liuyx/liuyuxuan/spa_seurat/cla/speciesCompare/1019_Putamen_Amygdala_analysis/from-zmy/SZM20230529_MQ277L-460/filter_matrix/counts.rds\" \n",
       "[17] \"/home/liuyx/liuyuxuan/spa_seurat/cla/speciesCompare/1019_Putamen_Amygdala_analysis/from-zmy/SZM20230529_MQ277L-461/filter_matrix/counts.rds\" \n",
       "[18] \"/home/liuyx/liuyuxuan/spa_seurat/cla/speciesCompare/1019_Putamen_Amygdala_analysis/from-zmy/SZM20230529_MQ277L-462/filter_matrix/counts.rds\" \n",
       "[19] \"/home/liuyx/liuyuxuan/spa_seurat/cla/speciesCompare/1019_Putamen_Amygdala_analysis/from-zmy/SZM20230529_MQ277L-463/filter_matrix/counts.rds\" \n",
       "[20] \"/home/liuyx/liuyuxuan/spa_seurat/cla/speciesCompare/1019_Putamen_Amygdala_analysis/from-zmy/SZM20230529_MQ277L-510/filter_matrix/counts.rds\" "
      ]
     },
     "metadata": {},
     "output_type": "display_data"
    }
   ],
   "source": [
    "read_file='aba'\n",
    "for(i in c(1:20)){\n",
    "matrix_dir=all_dir[i]\n",
    "if(file.exists(paste0(matrix_dir,\"/filter_matrix/counts.rds\"))){\n",
    "    read_file=c(read_file,(paste0(matrix_dir,\"/filter_matrix/counts.rds\")))\n",
    "}}\n",
    "read_file=read_file[-1]\n",
    "read_file\n"
   ]
  },
  {
   "cell_type": "code",
   "execution_count": null,
   "id": "8841c9b8",
   "metadata": {},
   "outputs": [],
   "source": []
  },
  {
   "cell_type": "code",
   "execution_count": 21,
   "id": "5fdbaf46",
   "metadata": {
    "scrolled": false
   },
   "outputs": [
    {
     "data": {
      "text/html": [
       "12"
      ],
      "text/latex": [
       "12"
      ],
      "text/markdown": [
       "12"
      ],
      "text/plain": [
       "[1] 12"
      ]
     },
     "metadata": {},
     "output_type": "display_data"
    },
    {
     "data": {
      "text/html": [
       "<style>\n",
       ".list-inline {list-style: none; margin:0; padding: 0}\n",
       ".list-inline>li {display: inline-block}\n",
       ".list-inline>li:not(:last-child)::after {content: \"\\00b7\"; padding: 0 .5ex}\n",
       "</style>\n",
       "<ol class=list-inline><li>'/home/liuyx/liuyuxuan/spa_seurat/cla/speciesCompare/1019_Putamen_Amygdala_analysis/lyx_20231019/105T85-1-210422/counts.rds'</li><li>'/home/liuyx/liuyuxuan/spa_seurat/cla/speciesCompare/1019_Putamen_Amygdala_analysis/lyx_20231019/105T85-2-210422/counts.rds'</li><li>'/home/liuyx/liuyuxuan/spa_seurat/cla/speciesCompare/1019_Putamen_Amygdala_analysis/lyx_20231019/72T61-1-210420/counts.rds'</li><li>'/home/liuyx/liuyuxuan/spa_seurat/cla/speciesCompare/1019_Putamen_Amygdala_analysis/lyx_20231019/72T61-2-210420/counts.rds'</li><li>'/home/liuyx/liuyuxuan/spa_seurat/cla/speciesCompare/1019_Putamen_Amygdala_analysis/lyx_20231019/76T61-1-210420/counts.rds'</li><li>'/home/liuyx/liuyuxuan/spa_seurat/cla/speciesCompare/1019_Putamen_Amygdala_analysis/lyx_20231019/76T61-2-210420/counts.rds'</li><li>'/home/liuyx/liuyuxuan/spa_seurat/cla/speciesCompare/1019_Putamen_Amygdala_analysis/lyx_20231019/7T35-1-210426/counts.rds'</li><li>'/home/liuyx/liuyuxuan/spa_seurat/cla/speciesCompare/1019_Putamen_Amygdala_analysis/lyx_20231019/7T35-2-210426/counts.rds'</li><li>'/home/liuyx/liuyuxuan/spa_seurat/cla/speciesCompare/1019_Putamen_Amygdala_analysis/lyx_20231019/88T73-1-210421/counts.rds'</li><li>'/home/liuyx/liuyuxuan/spa_seurat/cla/speciesCompare/1019_Putamen_Amygdala_analysis/lyx_20231019/88T73-2-210421/counts.rds'</li><li>'/home/liuyx/liuyuxuan/spa_seurat/cla/speciesCompare/1019_Putamen_Amygdala_analysis/lyx_20231019/90T85-1-210421/counts.rds'</li><li>'/home/liuyx/liuyuxuan/spa_seurat/cla/speciesCompare/1019_Putamen_Amygdala_analysis/lyx_20231019/90T85-2-210421/counts.rds'</li></ol>\n"
      ],
      "text/latex": [
       "\\begin{enumerate*}\n",
       "\\item '/home/liuyx/liuyuxuan/spa\\_seurat/cla/speciesCompare/1019\\_Putamen\\_Amygdala\\_analysis/lyx\\_20231019/105T85-1-210422/counts.rds'\n",
       "\\item '/home/liuyx/liuyuxuan/spa\\_seurat/cla/speciesCompare/1019\\_Putamen\\_Amygdala\\_analysis/lyx\\_20231019/105T85-2-210422/counts.rds'\n",
       "\\item '/home/liuyx/liuyuxuan/spa\\_seurat/cla/speciesCompare/1019\\_Putamen\\_Amygdala\\_analysis/lyx\\_20231019/72T61-1-210420/counts.rds'\n",
       "\\item '/home/liuyx/liuyuxuan/spa\\_seurat/cla/speciesCompare/1019\\_Putamen\\_Amygdala\\_analysis/lyx\\_20231019/72T61-2-210420/counts.rds'\n",
       "\\item '/home/liuyx/liuyuxuan/spa\\_seurat/cla/speciesCompare/1019\\_Putamen\\_Amygdala\\_analysis/lyx\\_20231019/76T61-1-210420/counts.rds'\n",
       "\\item '/home/liuyx/liuyuxuan/spa\\_seurat/cla/speciesCompare/1019\\_Putamen\\_Amygdala\\_analysis/lyx\\_20231019/76T61-2-210420/counts.rds'\n",
       "\\item '/home/liuyx/liuyuxuan/spa\\_seurat/cla/speciesCompare/1019\\_Putamen\\_Amygdala\\_analysis/lyx\\_20231019/7T35-1-210426/counts.rds'\n",
       "\\item '/home/liuyx/liuyuxuan/spa\\_seurat/cla/speciesCompare/1019\\_Putamen\\_Amygdala\\_analysis/lyx\\_20231019/7T35-2-210426/counts.rds'\n",
       "\\item '/home/liuyx/liuyuxuan/spa\\_seurat/cla/speciesCompare/1019\\_Putamen\\_Amygdala\\_analysis/lyx\\_20231019/88T73-1-210421/counts.rds'\n",
       "\\item '/home/liuyx/liuyuxuan/spa\\_seurat/cla/speciesCompare/1019\\_Putamen\\_Amygdala\\_analysis/lyx\\_20231019/88T73-2-210421/counts.rds'\n",
       "\\item '/home/liuyx/liuyuxuan/spa\\_seurat/cla/speciesCompare/1019\\_Putamen\\_Amygdala\\_analysis/lyx\\_20231019/90T85-1-210421/counts.rds'\n",
       "\\item '/home/liuyx/liuyuxuan/spa\\_seurat/cla/speciesCompare/1019\\_Putamen\\_Amygdala\\_analysis/lyx\\_20231019/90T85-2-210421/counts.rds'\n",
       "\\end{enumerate*}\n"
      ],
      "text/markdown": [
       "1. '/home/liuyx/liuyuxuan/spa_seurat/cla/speciesCompare/1019_Putamen_Amygdala_analysis/lyx_20231019/105T85-1-210422/counts.rds'\n",
       "2. '/home/liuyx/liuyuxuan/spa_seurat/cla/speciesCompare/1019_Putamen_Amygdala_analysis/lyx_20231019/105T85-2-210422/counts.rds'\n",
       "3. '/home/liuyx/liuyuxuan/spa_seurat/cla/speciesCompare/1019_Putamen_Amygdala_analysis/lyx_20231019/72T61-1-210420/counts.rds'\n",
       "4. '/home/liuyx/liuyuxuan/spa_seurat/cla/speciesCompare/1019_Putamen_Amygdala_analysis/lyx_20231019/72T61-2-210420/counts.rds'\n",
       "5. '/home/liuyx/liuyuxuan/spa_seurat/cla/speciesCompare/1019_Putamen_Amygdala_analysis/lyx_20231019/76T61-1-210420/counts.rds'\n",
       "6. '/home/liuyx/liuyuxuan/spa_seurat/cla/speciesCompare/1019_Putamen_Amygdala_analysis/lyx_20231019/76T61-2-210420/counts.rds'\n",
       "7. '/home/liuyx/liuyuxuan/spa_seurat/cla/speciesCompare/1019_Putamen_Amygdala_analysis/lyx_20231019/7T35-1-210426/counts.rds'\n",
       "8. '/home/liuyx/liuyuxuan/spa_seurat/cla/speciesCompare/1019_Putamen_Amygdala_analysis/lyx_20231019/7T35-2-210426/counts.rds'\n",
       "9. '/home/liuyx/liuyuxuan/spa_seurat/cla/speciesCompare/1019_Putamen_Amygdala_analysis/lyx_20231019/88T73-1-210421/counts.rds'\n",
       "10. '/home/liuyx/liuyuxuan/spa_seurat/cla/speciesCompare/1019_Putamen_Amygdala_analysis/lyx_20231019/88T73-2-210421/counts.rds'\n",
       "11. '/home/liuyx/liuyuxuan/spa_seurat/cla/speciesCompare/1019_Putamen_Amygdala_analysis/lyx_20231019/90T85-1-210421/counts.rds'\n",
       "12. '/home/liuyx/liuyuxuan/spa_seurat/cla/speciesCompare/1019_Putamen_Amygdala_analysis/lyx_20231019/90T85-2-210421/counts.rds'\n",
       "\n",
       "\n"
      ],
      "text/plain": [
       " [1] \"/home/liuyx/liuyuxuan/spa_seurat/cla/speciesCompare/1019_Putamen_Amygdala_analysis/lyx_20231019/105T85-1-210422/counts.rds\"\n",
       " [2] \"/home/liuyx/liuyuxuan/spa_seurat/cla/speciesCompare/1019_Putamen_Amygdala_analysis/lyx_20231019/105T85-2-210422/counts.rds\"\n",
       " [3] \"/home/liuyx/liuyuxuan/spa_seurat/cla/speciesCompare/1019_Putamen_Amygdala_analysis/lyx_20231019/72T61-1-210420/counts.rds\" \n",
       " [4] \"/home/liuyx/liuyuxuan/spa_seurat/cla/speciesCompare/1019_Putamen_Amygdala_analysis/lyx_20231019/72T61-2-210420/counts.rds\" \n",
       " [5] \"/home/liuyx/liuyuxuan/spa_seurat/cla/speciesCompare/1019_Putamen_Amygdala_analysis/lyx_20231019/76T61-1-210420/counts.rds\" \n",
       " [6] \"/home/liuyx/liuyuxuan/spa_seurat/cla/speciesCompare/1019_Putamen_Amygdala_analysis/lyx_20231019/76T61-2-210420/counts.rds\" \n",
       " [7] \"/home/liuyx/liuyuxuan/spa_seurat/cla/speciesCompare/1019_Putamen_Amygdala_analysis/lyx_20231019/7T35-1-210426/counts.rds\"  \n",
       " [8] \"/home/liuyx/liuyuxuan/spa_seurat/cla/speciesCompare/1019_Putamen_Amygdala_analysis/lyx_20231019/7T35-2-210426/counts.rds\"  \n",
       " [9] \"/home/liuyx/liuyuxuan/spa_seurat/cla/speciesCompare/1019_Putamen_Amygdala_analysis/lyx_20231019/88T73-1-210421/counts.rds\" \n",
       "[10] \"/home/liuyx/liuyuxuan/spa_seurat/cla/speciesCompare/1019_Putamen_Amygdala_analysis/lyx_20231019/88T73-2-210421/counts.rds\" \n",
       "[11] \"/home/liuyx/liuyuxuan/spa_seurat/cla/speciesCompare/1019_Putamen_Amygdala_analysis/lyx_20231019/90T85-1-210421/counts.rds\" \n",
       "[12] \"/home/liuyx/liuyuxuan/spa_seurat/cla/speciesCompare/1019_Putamen_Amygdala_analysis/lyx_20231019/90T85-2-210421/counts.rds\" "
      ]
     },
     "metadata": {},
     "output_type": "display_data"
    }
   ],
   "source": [
    "\n",
    "dir2='/home/liuyx/liuyuxuan/spa_seurat/cla/speciesCompare/1019_Putamen_Amygdala_analysis/lyx_20231019/'\n",
    "file2=list.files(dir2)\n",
    "file2=paste0(dir2,file2)\n",
    "all_f=c()\n",
    "for(i in file2){\n",
    "    file_add=list.files(i)\n",
    "    file_add=paste0(i,'/',file_add)\n",
    "    all_f=c(all_f,file_add)\n",
    "}\n",
    "count_f=all_f[grep('counts',all_f)]\n",
    "length(count_f)\n",
    "count_f\n"
   ]
  },
  {
   "cell_type": "code",
   "execution_count": 22,
   "id": "23d2d1d0",
   "metadata": {},
   "outputs": [],
   "source": [
    "all_f=c(count_f,read_file)"
   ]
  },
  {
   "cell_type": "code",
   "execution_count": 64,
   "id": "0937a55f",
   "metadata": {},
   "outputs": [
    {
     "data": {
      "text/html": [
       "<style>\n",
       ".list-inline {list-style: none; margin:0; padding: 0}\n",
       ".list-inline>li {display: inline-block}\n",
       ".list-inline>li:not(:last-child)::after {content: \"\\00b7\"; padding: 0 .5ex}\n",
       "</style>\n",
       "<ol class=list-inline><li>'/home/liuyx/liuyuxuan/spa_seurat/cla/speciesCompare/1019_Putamen_Amygdala_analysis/lyx_20231019/105T85-1-210422/counts.rds'</li><li>'/home/liuyx/liuyuxuan/spa_seurat/cla/speciesCompare/1019_Putamen_Amygdala_analysis/lyx_20231019/105T85-2-210422/counts.rds'</li><li>'/home/liuyx/liuyuxuan/spa_seurat/cla/speciesCompare/1019_Putamen_Amygdala_analysis/lyx_20231019/72T61-1-210420/counts.rds'</li><li>'/home/liuyx/liuyuxuan/spa_seurat/cla/speciesCompare/1019_Putamen_Amygdala_analysis/lyx_20231019/72T61-2-210420/counts.rds'</li><li>'/home/liuyx/liuyuxuan/spa_seurat/cla/speciesCompare/1019_Putamen_Amygdala_analysis/lyx_20231019/7T35-1-210426/counts.rds'</li><li>'/home/liuyx/liuyuxuan/spa_seurat/cla/speciesCompare/1019_Putamen_Amygdala_analysis/lyx_20231019/7T35-2-210426/counts.rds'</li><li>'/home/liuyx/liuyuxuan/spa_seurat/cla/speciesCompare/1019_Putamen_Amygdala_analysis/lyx_20231019/90T85-1-210421/counts.rds'</li><li>'/home/liuyx/liuyuxuan/spa_seurat/cla/speciesCompare/1019_Putamen_Amygdala_analysis/lyx_20231019/90T85-2-210421/counts.rds'</li><li>'/home/liuyx/liuyuxuan/spa_seurat/cla/speciesCompare/1019_Putamen_Amygdala_analysis/from-zmy/MQC286R-196.SZM20230403/filter_matrix/counts.rds'</li><li>'/home/liuyx/liuyuxuan/spa_seurat/cla/speciesCompare/1019_Putamen_Amygdala_analysis/from-zmy/SZM20230529_MQ277L-510/filter_matrix/counts.rds'</li><li>'/home/liuyx/liuyuxuan/spa_seurat/cla/speciesCompare/1019_Putamen_Amygdala_analysis/from-zmy/ssDNA_107_LC0613/filter_matrix/counts.rds'</li></ol>\n"
      ],
      "text/latex": [
       "\\begin{enumerate*}\n",
       "\\item '/home/liuyx/liuyuxuan/spa\\_seurat/cla/speciesCompare/1019\\_Putamen\\_Amygdala\\_analysis/lyx\\_20231019/105T85-1-210422/counts.rds'\n",
       "\\item '/home/liuyx/liuyuxuan/spa\\_seurat/cla/speciesCompare/1019\\_Putamen\\_Amygdala\\_analysis/lyx\\_20231019/105T85-2-210422/counts.rds'\n",
       "\\item '/home/liuyx/liuyuxuan/spa\\_seurat/cla/speciesCompare/1019\\_Putamen\\_Amygdala\\_analysis/lyx\\_20231019/72T61-1-210420/counts.rds'\n",
       "\\item '/home/liuyx/liuyuxuan/spa\\_seurat/cla/speciesCompare/1019\\_Putamen\\_Amygdala\\_analysis/lyx\\_20231019/72T61-2-210420/counts.rds'\n",
       "\\item '/home/liuyx/liuyuxuan/spa\\_seurat/cla/speciesCompare/1019\\_Putamen\\_Amygdala\\_analysis/lyx\\_20231019/7T35-1-210426/counts.rds'\n",
       "\\item '/home/liuyx/liuyuxuan/spa\\_seurat/cla/speciesCompare/1019\\_Putamen\\_Amygdala\\_analysis/lyx\\_20231019/7T35-2-210426/counts.rds'\n",
       "\\item '/home/liuyx/liuyuxuan/spa\\_seurat/cla/speciesCompare/1019\\_Putamen\\_Amygdala\\_analysis/lyx\\_20231019/90T85-1-210421/counts.rds'\n",
       "\\item '/home/liuyx/liuyuxuan/spa\\_seurat/cla/speciesCompare/1019\\_Putamen\\_Amygdala\\_analysis/lyx\\_20231019/90T85-2-210421/counts.rds'\n",
       "\\item '/home/liuyx/liuyuxuan/spa\\_seurat/cla/speciesCompare/1019\\_Putamen\\_Amygdala\\_analysis/from-zmy/MQC286R-196.SZM20230403/filter\\_matrix/counts.rds'\n",
       "\\item '/home/liuyx/liuyuxuan/spa\\_seurat/cla/speciesCompare/1019\\_Putamen\\_Amygdala\\_analysis/from-zmy/SZM20230529\\_MQ277L-510/filter\\_matrix/counts.rds'\n",
       "\\item '/home/liuyx/liuyuxuan/spa\\_seurat/cla/speciesCompare/1019\\_Putamen\\_Amygdala\\_analysis/from-zmy/ssDNA\\_107\\_LC0613/filter\\_matrix/counts.rds'\n",
       "\\end{enumerate*}\n"
      ],
      "text/markdown": [
       "1. '/home/liuyx/liuyuxuan/spa_seurat/cla/speciesCompare/1019_Putamen_Amygdala_analysis/lyx_20231019/105T85-1-210422/counts.rds'\n",
       "2. '/home/liuyx/liuyuxuan/spa_seurat/cla/speciesCompare/1019_Putamen_Amygdala_analysis/lyx_20231019/105T85-2-210422/counts.rds'\n",
       "3. '/home/liuyx/liuyuxuan/spa_seurat/cla/speciesCompare/1019_Putamen_Amygdala_analysis/lyx_20231019/72T61-1-210420/counts.rds'\n",
       "4. '/home/liuyx/liuyuxuan/spa_seurat/cla/speciesCompare/1019_Putamen_Amygdala_analysis/lyx_20231019/72T61-2-210420/counts.rds'\n",
       "5. '/home/liuyx/liuyuxuan/spa_seurat/cla/speciesCompare/1019_Putamen_Amygdala_analysis/lyx_20231019/7T35-1-210426/counts.rds'\n",
       "6. '/home/liuyx/liuyuxuan/spa_seurat/cla/speciesCompare/1019_Putamen_Amygdala_analysis/lyx_20231019/7T35-2-210426/counts.rds'\n",
       "7. '/home/liuyx/liuyuxuan/spa_seurat/cla/speciesCompare/1019_Putamen_Amygdala_analysis/lyx_20231019/90T85-1-210421/counts.rds'\n",
       "8. '/home/liuyx/liuyuxuan/spa_seurat/cla/speciesCompare/1019_Putamen_Amygdala_analysis/lyx_20231019/90T85-2-210421/counts.rds'\n",
       "9. '/home/liuyx/liuyuxuan/spa_seurat/cla/speciesCompare/1019_Putamen_Amygdala_analysis/from-zmy/MQC286R-196.SZM20230403/filter_matrix/counts.rds'\n",
       "10. '/home/liuyx/liuyuxuan/spa_seurat/cla/speciesCompare/1019_Putamen_Amygdala_analysis/from-zmy/SZM20230529_MQ277L-510/filter_matrix/counts.rds'\n",
       "11. '/home/liuyx/liuyuxuan/spa_seurat/cla/speciesCompare/1019_Putamen_Amygdala_analysis/from-zmy/ssDNA_107_LC0613/filter_matrix/counts.rds'\n",
       "\n",
       "\n"
      ],
      "text/plain": [
       " [1] \"/home/liuyx/liuyuxuan/spa_seurat/cla/speciesCompare/1019_Putamen_Amygdala_analysis/lyx_20231019/105T85-1-210422/counts.rds\"                  \n",
       " [2] \"/home/liuyx/liuyuxuan/spa_seurat/cla/speciesCompare/1019_Putamen_Amygdala_analysis/lyx_20231019/105T85-2-210422/counts.rds\"                  \n",
       " [3] \"/home/liuyx/liuyuxuan/spa_seurat/cla/speciesCompare/1019_Putamen_Amygdala_analysis/lyx_20231019/72T61-1-210420/counts.rds\"                   \n",
       " [4] \"/home/liuyx/liuyuxuan/spa_seurat/cla/speciesCompare/1019_Putamen_Amygdala_analysis/lyx_20231019/72T61-2-210420/counts.rds\"                   \n",
       " [5] \"/home/liuyx/liuyuxuan/spa_seurat/cla/speciesCompare/1019_Putamen_Amygdala_analysis/lyx_20231019/7T35-1-210426/counts.rds\"                    \n",
       " [6] \"/home/liuyx/liuyuxuan/spa_seurat/cla/speciesCompare/1019_Putamen_Amygdala_analysis/lyx_20231019/7T35-2-210426/counts.rds\"                    \n",
       " [7] \"/home/liuyx/liuyuxuan/spa_seurat/cla/speciesCompare/1019_Putamen_Amygdala_analysis/lyx_20231019/90T85-1-210421/counts.rds\"                   \n",
       " [8] \"/home/liuyx/liuyuxuan/spa_seurat/cla/speciesCompare/1019_Putamen_Amygdala_analysis/lyx_20231019/90T85-2-210421/counts.rds\"                   \n",
       " [9] \"/home/liuyx/liuyuxuan/spa_seurat/cla/speciesCompare/1019_Putamen_Amygdala_analysis/from-zmy/MQC286R-196.SZM20230403/filter_matrix/counts.rds\"\n",
       "[10] \"/home/liuyx/liuyuxuan/spa_seurat/cla/speciesCompare/1019_Putamen_Amygdala_analysis/from-zmy/SZM20230529_MQ277L-510/filter_matrix/counts.rds\" \n",
       "[11] \"/home/liuyx/liuyuxuan/spa_seurat/cla/speciesCompare/1019_Putamen_Amygdala_analysis/from-zmy/ssDNA_107_LC0613/filter_matrix/counts.rds\"       "
      ]
     },
     "metadata": {},
     "output_type": "display_data"
    },
    {
     "data": {
      "text/html": [
       "11"
      ],
      "text/latex": [
       "11"
      ],
      "text/markdown": [
       "11"
      ],
      "text/plain": [
       "[1] 11"
      ]
     },
     "metadata": {},
     "output_type": "display_data"
    }
   ],
   "source": [
    "puta_f1=all_f[grep('105T85',all_f)]\n",
    "puta_f2=all_f[grep('72T61',all_f)]\n",
    "puta_f3=all_f[grep('7T35',all_f)]\n",
    "puta_f4=all_f[grep('90T85',all_f)]\n",
    "puta_f5=all_f[grep('MQC286R-196',all_f)]\n",
    "puta_f6=all_f[grep('MQ277L-510',all_f)]\n",
    "puta_f7=all_f[grep('MQ277L-616',all_f)]\n",
    "puta_f8=all_f[grep('107',all_f)]\n",
    "\n",
    "puta_all=c(puta_f1,puta_f2,puta_f3,puta_f4,puta_f5,puta_f6,puta_f7,puta_f8)\n",
    "\n",
    "puta_all\n",
    "length(puta_all)\n"
   ]
  },
  {
   "cell_type": "code",
   "execution_count": 51,
   "id": "c8f15b20",
   "metadata": {},
   "outputs": [],
   "source": [
    "sceList = lapply(puta_all,function(folder){ \n",
    "    readRDS(folder)\n",
    "})\n"
   ]
  },
  {
   "cell_type": "code",
   "execution_count": 54,
   "id": "79ca2bff",
   "metadata": {
    "scrolled": true
   },
   "outputs": [
    {
     "data": {
      "text/html": [
       "<style>\n",
       ".list-inline {list-style: none; margin:0; padding: 0}\n",
       ".list-inline>li {display: inline-block}\n",
       ".list-inline>li:not(:last-child)::after {content: \"\\00b7\"; padding: 0 .5ex}\n",
       "</style>\n",
       "<ol class=list-inline><li>'/home/liuyx/liuyuxuan/spa_seurat/cla/speciesCompare/1019_Putamen_Amygdala_analysis/lyx_20231019/105T85-1-210422/counts.rds'</li><li>'/home/liuyx/liuyuxuan/spa_seurat/cla/speciesCompare/1019_Putamen_Amygdala_analysis/lyx_20231019/105T85-2-210422/counts.rds'</li><li>'/home/liuyx/liuyuxuan/spa_seurat/cla/speciesCompare/1019_Putamen_Amygdala_analysis/lyx_20231019/72T61-1-210420/counts.rds'</li><li>'/home/liuyx/liuyuxuan/spa_seurat/cla/speciesCompare/1019_Putamen_Amygdala_analysis/lyx_20231019/72T61-2-210420/counts.rds'</li><li>'/home/liuyx/liuyuxuan/spa_seurat/cla/speciesCompare/1019_Putamen_Amygdala_analysis/lyx_20231019/7T35-1-210426/counts.rds'</li><li>'/home/liuyx/liuyuxuan/spa_seurat/cla/speciesCompare/1019_Putamen_Amygdala_analysis/lyx_20231019/7T35-2-210426/counts.rds'</li><li>'/home/liuyx/liuyuxuan/spa_seurat/cla/speciesCompare/1019_Putamen_Amygdala_analysis/lyx_20231019/90T85-1-210421/counts.rds'</li><li>'/home/liuyx/liuyuxuan/spa_seurat/cla/speciesCompare/1019_Putamen_Amygdala_analysis/lyx_20231019/90T85-2-210421/counts.rds'</li><li>'/home/liuyx/liuyuxuan/spa_seurat/cla/speciesCompare/1019_Putamen_Amygdala_analysis/from-zmy/MQC286R-196.SZM20230403/filter_matrix/counts.rds'</li><li>'/home/liuyx/liuyuxuan/spa_seurat/cla/speciesCompare/1019_Putamen_Amygdala_analysis/from-zmy/SZM20230529_MQ277L-510/filter_matrix/counts.rds'</li><li>'/home/liuyx/liuyuxuan/spa_seurat/cla/speciesCompare/1019_Putamen_Amygdala_analysis/from-zmy/ssDNA_107_LC0613/filter_matrix/counts.rds'</li></ol>\n"
      ],
      "text/latex": [
       "\\begin{enumerate*}\n",
       "\\item '/home/liuyx/liuyuxuan/spa\\_seurat/cla/speciesCompare/1019\\_Putamen\\_Amygdala\\_analysis/lyx\\_20231019/105T85-1-210422/counts.rds'\n",
       "\\item '/home/liuyx/liuyuxuan/spa\\_seurat/cla/speciesCompare/1019\\_Putamen\\_Amygdala\\_analysis/lyx\\_20231019/105T85-2-210422/counts.rds'\n",
       "\\item '/home/liuyx/liuyuxuan/spa\\_seurat/cla/speciesCompare/1019\\_Putamen\\_Amygdala\\_analysis/lyx\\_20231019/72T61-1-210420/counts.rds'\n",
       "\\item '/home/liuyx/liuyuxuan/spa\\_seurat/cla/speciesCompare/1019\\_Putamen\\_Amygdala\\_analysis/lyx\\_20231019/72T61-2-210420/counts.rds'\n",
       "\\item '/home/liuyx/liuyuxuan/spa\\_seurat/cla/speciesCompare/1019\\_Putamen\\_Amygdala\\_analysis/lyx\\_20231019/7T35-1-210426/counts.rds'\n",
       "\\item '/home/liuyx/liuyuxuan/spa\\_seurat/cla/speciesCompare/1019\\_Putamen\\_Amygdala\\_analysis/lyx\\_20231019/7T35-2-210426/counts.rds'\n",
       "\\item '/home/liuyx/liuyuxuan/spa\\_seurat/cla/speciesCompare/1019\\_Putamen\\_Amygdala\\_analysis/lyx\\_20231019/90T85-1-210421/counts.rds'\n",
       "\\item '/home/liuyx/liuyuxuan/spa\\_seurat/cla/speciesCompare/1019\\_Putamen\\_Amygdala\\_analysis/lyx\\_20231019/90T85-2-210421/counts.rds'\n",
       "\\item '/home/liuyx/liuyuxuan/spa\\_seurat/cla/speciesCompare/1019\\_Putamen\\_Amygdala\\_analysis/from-zmy/MQC286R-196.SZM20230403/filter\\_matrix/counts.rds'\n",
       "\\item '/home/liuyx/liuyuxuan/spa\\_seurat/cla/speciesCompare/1019\\_Putamen\\_Amygdala\\_analysis/from-zmy/SZM20230529\\_MQ277L-510/filter\\_matrix/counts.rds'\n",
       "\\item '/home/liuyx/liuyuxuan/spa\\_seurat/cla/speciesCompare/1019\\_Putamen\\_Amygdala\\_analysis/from-zmy/ssDNA\\_107\\_LC0613/filter\\_matrix/counts.rds'\n",
       "\\end{enumerate*}\n"
      ],
      "text/markdown": [
       "1. '/home/liuyx/liuyuxuan/spa_seurat/cla/speciesCompare/1019_Putamen_Amygdala_analysis/lyx_20231019/105T85-1-210422/counts.rds'\n",
       "2. '/home/liuyx/liuyuxuan/spa_seurat/cla/speciesCompare/1019_Putamen_Amygdala_analysis/lyx_20231019/105T85-2-210422/counts.rds'\n",
       "3. '/home/liuyx/liuyuxuan/spa_seurat/cla/speciesCompare/1019_Putamen_Amygdala_analysis/lyx_20231019/72T61-1-210420/counts.rds'\n",
       "4. '/home/liuyx/liuyuxuan/spa_seurat/cla/speciesCompare/1019_Putamen_Amygdala_analysis/lyx_20231019/72T61-2-210420/counts.rds'\n",
       "5. '/home/liuyx/liuyuxuan/spa_seurat/cla/speciesCompare/1019_Putamen_Amygdala_analysis/lyx_20231019/7T35-1-210426/counts.rds'\n",
       "6. '/home/liuyx/liuyuxuan/spa_seurat/cla/speciesCompare/1019_Putamen_Amygdala_analysis/lyx_20231019/7T35-2-210426/counts.rds'\n",
       "7. '/home/liuyx/liuyuxuan/spa_seurat/cla/speciesCompare/1019_Putamen_Amygdala_analysis/lyx_20231019/90T85-1-210421/counts.rds'\n",
       "8. '/home/liuyx/liuyuxuan/spa_seurat/cla/speciesCompare/1019_Putamen_Amygdala_analysis/lyx_20231019/90T85-2-210421/counts.rds'\n",
       "9. '/home/liuyx/liuyuxuan/spa_seurat/cla/speciesCompare/1019_Putamen_Amygdala_analysis/from-zmy/MQC286R-196.SZM20230403/filter_matrix/counts.rds'\n",
       "10. '/home/liuyx/liuyuxuan/spa_seurat/cla/speciesCompare/1019_Putamen_Amygdala_analysis/from-zmy/SZM20230529_MQ277L-510/filter_matrix/counts.rds'\n",
       "11. '/home/liuyx/liuyuxuan/spa_seurat/cla/speciesCompare/1019_Putamen_Amygdala_analysis/from-zmy/ssDNA_107_LC0613/filter_matrix/counts.rds'\n",
       "\n",
       "\n"
      ],
      "text/plain": [
       " [1] \"/home/liuyx/liuyuxuan/spa_seurat/cla/speciesCompare/1019_Putamen_Amygdala_analysis/lyx_20231019/105T85-1-210422/counts.rds\"                  \n",
       " [2] \"/home/liuyx/liuyuxuan/spa_seurat/cla/speciesCompare/1019_Putamen_Amygdala_analysis/lyx_20231019/105T85-2-210422/counts.rds\"                  \n",
       " [3] \"/home/liuyx/liuyuxuan/spa_seurat/cla/speciesCompare/1019_Putamen_Amygdala_analysis/lyx_20231019/72T61-1-210420/counts.rds\"                   \n",
       " [4] \"/home/liuyx/liuyuxuan/spa_seurat/cla/speciesCompare/1019_Putamen_Amygdala_analysis/lyx_20231019/72T61-2-210420/counts.rds\"                   \n",
       " [5] \"/home/liuyx/liuyuxuan/spa_seurat/cla/speciesCompare/1019_Putamen_Amygdala_analysis/lyx_20231019/7T35-1-210426/counts.rds\"                    \n",
       " [6] \"/home/liuyx/liuyuxuan/spa_seurat/cla/speciesCompare/1019_Putamen_Amygdala_analysis/lyx_20231019/7T35-2-210426/counts.rds\"                    \n",
       " [7] \"/home/liuyx/liuyuxuan/spa_seurat/cla/speciesCompare/1019_Putamen_Amygdala_analysis/lyx_20231019/90T85-1-210421/counts.rds\"                   \n",
       " [8] \"/home/liuyx/liuyuxuan/spa_seurat/cla/speciesCompare/1019_Putamen_Amygdala_analysis/lyx_20231019/90T85-2-210421/counts.rds\"                   \n",
       " [9] \"/home/liuyx/liuyuxuan/spa_seurat/cla/speciesCompare/1019_Putamen_Amygdala_analysis/from-zmy/MQC286R-196.SZM20230403/filter_matrix/counts.rds\"\n",
       "[10] \"/home/liuyx/liuyuxuan/spa_seurat/cla/speciesCompare/1019_Putamen_Amygdala_analysis/from-zmy/SZM20230529_MQ277L-510/filter_matrix/counts.rds\" \n",
       "[11] \"/home/liuyx/liuyuxuan/spa_seurat/cla/speciesCompare/1019_Putamen_Amygdala_analysis/from-zmy/ssDNA_107_LC0613/filter_matrix/counts.rds\"       "
      ]
     },
     "metadata": {},
     "output_type": "display_data"
    }
   ],
   "source": [
    "puta_all"
   ]
  },
  {
   "cell_type": "code",
   "execution_count": 57,
   "id": "72e3654a",
   "metadata": {},
   "outputs": [
    {
     "data": {
      "text/html": [
       "<style>\n",
       ".list-inline {list-style: none; margin:0; padding: 0}\n",
       ".list-inline>li {display: inline-block}\n",
       ".list-inline>li:not(:last-child)::after {content: \"\\00b7\"; padding: 0 .5ex}\n",
       "</style>\n",
       "<ol class=list-inline><li>'MQ179-105T85'</li><li>'MQ179-105T85'</li><li>'MQ179-72T61'</li><li>'MQ179-72T61'</li><li>'MQ179-90T85'</li><li>'MQ179-90T85'</li><li>'MQ179-7T35'</li><li>'MQ179-7T35'</li><li>'MQC286R-196'</li><li>'MQ277L-510'</li><li>'MQ277L-616'</li></ol>\n"
      ],
      "text/latex": [
       "\\begin{enumerate*}\n",
       "\\item 'MQ179-105T85'\n",
       "\\item 'MQ179-105T85'\n",
       "\\item 'MQ179-72T61'\n",
       "\\item 'MQ179-72T61'\n",
       "\\item 'MQ179-90T85'\n",
       "\\item 'MQ179-90T85'\n",
       "\\item 'MQ179-7T35'\n",
       "\\item 'MQ179-7T35'\n",
       "\\item 'MQC286R-196'\n",
       "\\item 'MQ277L-510'\n",
       "\\item 'MQ277L-616'\n",
       "\\end{enumerate*}\n"
      ],
      "text/markdown": [
       "1. 'MQ179-105T85'\n",
       "2. 'MQ179-105T85'\n",
       "3. 'MQ179-72T61'\n",
       "4. 'MQ179-72T61'\n",
       "5. 'MQ179-90T85'\n",
       "6. 'MQ179-90T85'\n",
       "7. 'MQ179-7T35'\n",
       "8. 'MQ179-7T35'\n",
       "9. 'MQC286R-196'\n",
       "10. 'MQ277L-510'\n",
       "11. 'MQ277L-616'\n",
       "\n",
       "\n"
      ],
      "text/plain": [
       " [1] \"MQ179-105T85\" \"MQ179-105T85\" \"MQ179-72T61\"  \"MQ179-72T61\"  \"MQ179-90T85\" \n",
       " [6] \"MQ179-90T85\"  \"MQ179-7T35\"   \"MQ179-7T35\"   \"MQC286R-196\"  \"MQ277L-510\"  \n",
       "[11] \"MQ277L-616\"  "
      ]
     },
     "metadata": {},
     "output_type": "display_data"
    }
   ],
   "source": [
    "read_file_renew1=paste0('MQ179-',str_extract(puta_all[1:2],'[0-9][0-9][0-9]T[0-9][0-9]'))\n",
    "read_file_renew2=paste0('MQ179-',str_extract(puta_all[c(3:4,7:8)],'[0-9][0-9]T[0-9][0-9]'))\n",
    "read_file_renew3=paste0('MQ179-',str_extract(puta_all[5:6],'[0-9]T[0-9][0-9]'))\n",
    "read_file_renew4=str_extract(puta_all[9],'MQC[0-9][0-9][0-9]R-[0-9][0-9][0-9]')\n",
    "read_file_renew5=str_extract(puta_all[10],'MQ[0-9][0-9][0-9]L-[0-9][0-9][0-9]')\n",
    "read_file_renew6='MQ277L-616'\n",
    "read_file_renew=c(read_file_renew1,read_file_renew2,read_file_renew3,read_file_renew4,read_file_renew5,read_file_renew6)\n",
    "\n",
    "\n",
    "read_file_renew\n"
   ]
  },
  {
   "cell_type": "code",
   "execution_count": 58,
   "id": "1a81575d",
   "metadata": {},
   "outputs": [
    {
     "name": "stderr",
     "output_type": "stream",
     "text": [
      "Warning message in CheckDuplicateCellNames(object.list = objects):\n",
      "“Some cell names are duplicated across objects provided. Renaming to enforce unique cell names.”\n"
     ]
    },
    {
     "data": {
      "text/plain": [
       "\n",
       "SeuratProject \n",
       "        59464 "
      ]
     },
     "metadata": {},
     "output_type": "display_data"
    }
   ],
   "source": [
    "\n",
    "sce.big <- merge(sceList[[1]], \n",
    "                 y = c(sceList[[2]],sceList[[3]],sceList[[4]],sceList[[5]],sceList[[6]],sceList[[7]],sceList[[8]],\n",
    "                      sceList[[9]],sceList[[10]],sceList[[11]]), \n",
    "                 add.cell.ids = read_file_renew,\n",
    "                 project = \"macaca\")\n",
    "\n",
    "table(sce.big$orig.ident)\n",
    "\n",
    "\n"
   ]
  },
  {
   "cell_type": "code",
   "execution_count": 59,
   "id": "16077125",
   "metadata": {},
   "outputs": [
    {
     "data": {
      "text/html": [
       "<style>\n",
       ".list-inline {list-style: none; margin:0; padding: 0}\n",
       ".list-inline>li {display: inline-block}\n",
       ".list-inline>li:not(:last-child)::after {content: \"\\00b7\"; padding: 0 .5ex}\n",
       "</style>\n",
       "<ol class=list-inline><li>'MQ179-105T85_CELL394_N1_1'</li><li>'MQ179-105T85_CELL1405_N1_1'</li><li>'MQ179-105T85_CELL104_N2_1'</li><li>'MQ179-105T85_CELL2042_N1_1'</li><li>'MQ179-105T85_CELL416_N1_1'</li><li>'MQ179-105T85_CELL75_N3_1'</li></ol>\n"
      ],
      "text/latex": [
       "\\begin{enumerate*}\n",
       "\\item 'MQ179-105T85\\_CELL394\\_N1\\_1'\n",
       "\\item 'MQ179-105T85\\_CELL1405\\_N1\\_1'\n",
       "\\item 'MQ179-105T85\\_CELL104\\_N2\\_1'\n",
       "\\item 'MQ179-105T85\\_CELL2042\\_N1\\_1'\n",
       "\\item 'MQ179-105T85\\_CELL416\\_N1\\_1'\n",
       "\\item 'MQ179-105T85\\_CELL75\\_N3\\_1'\n",
       "\\end{enumerate*}\n"
      ],
      "text/markdown": [
       "1. 'MQ179-105T85_CELL394_N1_1'\n",
       "2. 'MQ179-105T85_CELL1405_N1_1'\n",
       "3. 'MQ179-105T85_CELL104_N2_1'\n",
       "4. 'MQ179-105T85_CELL2042_N1_1'\n",
       "5. 'MQ179-105T85_CELL416_N1_1'\n",
       "6. 'MQ179-105T85_CELL75_N3_1'\n",
       "\n",
       "\n"
      ],
      "text/plain": [
       "[1] \"MQ179-105T85_CELL394_N1_1\"  \"MQ179-105T85_CELL1405_N1_1\"\n",
       "[3] \"MQ179-105T85_CELL104_N2_1\"  \"MQ179-105T85_CELL2042_N1_1\"\n",
       "[5] \"MQ179-105T85_CELL416_N1_1\"  \"MQ179-105T85_CELL75_N3_1\"  "
      ]
     },
     "metadata": {},
     "output_type": "display_data"
    }
   ],
   "source": [
    "head(rownames(sce.big@meta.data))"
   ]
  },
  {
   "cell_type": "code",
   "execution_count": 60,
   "id": "013bb192",
   "metadata": {},
   "outputs": [],
   "source": [
    "sce.big@meta.data$group=str_extract(rownames(sce.big@meta.data),'MQ.*T[0-9][0-9]_')\n",
    "\n",
    "sce.big@meta.data[is.na(sce.big@meta.data$group),]$group=str_extract(rownames(sce.big@meta.data[is.na(sce.big@meta.data$group),]),'MQ.*-[0-9][0-9][0-9]')\n",
    "\n",
    "sce.big@meta.data$group=gsub('_','',sce.big@meta.data$group)\n"
   ]
  },
  {
   "cell_type": "code",
   "execution_count": 61,
   "id": "78ac43fa",
   "metadata": {},
   "outputs": [
    {
     "data": {
      "text/html": [
       "<style>\n",
       ".list-inline {list-style: none; margin:0; padding: 0}\n",
       ".list-inline>li {display: inline-block}\n",
       ".list-inline>li:not(:last-child)::after {content: \"\\00b7\"; padding: 0 .5ex}\n",
       "</style>\n",
       "<ol class=list-inline><li>'MQ179-105T85'</li><li>'MQ179-72T61'</li><li>'MQ179-90T85'</li><li>'MQ179-7T35'</li><li>'MQC286R-196'</li><li>'MQ277L-510'</li><li>'MQ277L-616'</li></ol>\n"
      ],
      "text/latex": [
       "\\begin{enumerate*}\n",
       "\\item 'MQ179-105T85'\n",
       "\\item 'MQ179-72T61'\n",
       "\\item 'MQ179-90T85'\n",
       "\\item 'MQ179-7T35'\n",
       "\\item 'MQC286R-196'\n",
       "\\item 'MQ277L-510'\n",
       "\\item 'MQ277L-616'\n",
       "\\end{enumerate*}\n"
      ],
      "text/markdown": [
       "1. 'MQ179-105T85'\n",
       "2. 'MQ179-72T61'\n",
       "3. 'MQ179-90T85'\n",
       "4. 'MQ179-7T35'\n",
       "5. 'MQC286R-196'\n",
       "6. 'MQ277L-510'\n",
       "7. 'MQ277L-616'\n",
       "\n",
       "\n"
      ],
      "text/plain": [
       "[1] \"MQ179-105T85\" \"MQ179-72T61\"  \"MQ179-90T85\"  \"MQ179-7T35\"   \"MQC286R-196\" \n",
       "[6] \"MQ277L-510\"   \"MQ277L-616\"  "
      ]
     },
     "metadata": {},
     "output_type": "display_data"
    }
   ],
   "source": [
    "unique(sce.big@meta.data$group)"
   ]
  },
  {
   "cell_type": "code",
   "execution_count": 66,
   "id": "9e280bad",
   "metadata": {},
   "outputs": [
    {
     "data": {
      "text/plain": [
       "An object of class Seurat \n",
       "23193 features across 59464 samples within 1 assay \n",
       "Active assay: RNA (23193 features, 0 variable features)"
      ]
     },
     "metadata": {},
     "output_type": "display_data"
    }
   ],
   "source": [
    "sce.big"
   ]
  },
  {
   "cell_type": "code",
   "execution_count": 65,
   "id": "7f79a265",
   "metadata": {},
   "outputs": [],
   "source": [
    "saveRDS(sce.big,'/home/liuyx/liuyuxuan/spa_seurat/cla/speciesCompare/1019_Putamen_Amygdala_analysis/data_preprocess/Putamen_raw_unfil_1020.rds')\n",
    "\n",
    "\n"
   ]
  },
  {
   "cell_type": "code",
   "execution_count": null,
   "id": "32241db7",
   "metadata": {},
   "outputs": [],
   "source": []
  },
  {
   "cell_type": "code",
   "execution_count": 23,
   "id": "3431e402",
   "metadata": {},
   "outputs": [
    {
     "data": {
      "text/html": [
       "<style>\n",
       ".list-inline {list-style: none; margin:0; padding: 0}\n",
       ".list-inline>li {display: inline-block}\n",
       ".list-inline>li:not(:last-child)::after {content: \"\\00b7\"; padding: 0 .5ex}\n",
       "</style>\n",
       "<ol class=list-inline><li>'/home/liuyx/liuyuxuan/spa_seurat/cla/speciesCompare/1019_Putamen_Amygdala_analysis/lyx_20231019/76T61-1-210420/counts.rds'</li><li>'/home/liuyx/liuyuxuan/spa_seurat/cla/speciesCompare/1019_Putamen_Amygdala_analysis/lyx_20231019/76T61-2-210420/counts.rds'</li><li>'/home/liuyx/liuyuxuan/spa_seurat/cla/speciesCompare/1019_Putamen_Amygdala_analysis/lyx_20231019/88T73-1-210421/counts.rds'</li><li>'/home/liuyx/liuyuxuan/spa_seurat/cla/speciesCompare/1019_Putamen_Amygdala_analysis/lyx_20231019/88T73-2-210421/counts.rds'</li><li>'/home/liuyx/liuyuxuan/spa_seurat/cla/speciesCompare/1019_Putamen_Amygdala_analysis/from-zmy/MQC286R-229.SZM20230403/filter_matrix/counts.rds'</li><li>'/home/liuyx/liuyuxuan/spa_seurat/cla/speciesCompare/1019_Putamen_Amygdala_analysis/from-zmy/SZM20230529_MQ277L-459/filter_matrix/counts.rds'</li><li>'/home/liuyx/liuyuxuan/spa_seurat/cla/speciesCompare/1019_Putamen_Amygdala_analysis/from-zmy/SZM20230529_MQ277L-460/filter_matrix/counts.rds'</li><li>'/home/liuyx/liuyuxuan/spa_seurat/cla/speciesCompare/1019_Putamen_Amygdala_analysis/from-zmy/SZM20230529_MQ277L-461/filter_matrix/counts.rds'</li><li>'/home/liuyx/liuyuxuan/spa_seurat/cla/speciesCompare/1019_Putamen_Amygdala_analysis/from-zmy/SZM20230529_MQ277L-462/filter_matrix/counts.rds'</li><li>'/home/liuyx/liuyuxuan/spa_seurat/cla/speciesCompare/1019_Putamen_Amygdala_analysis/from-zmy/SZM20230529_MQ277L-463/filter_matrix/counts.rds'</li><li>'/home/liuyx/liuyuxuan/spa_seurat/cla/speciesCompare/1019_Putamen_Amygdala_analysis/from-zmy/ssDNA_101_LC0613/filter_matrix/counts.rds'</li></ol>\n"
      ],
      "text/latex": [
       "\\begin{enumerate*}\n",
       "\\item '/home/liuyx/liuyuxuan/spa\\_seurat/cla/speciesCompare/1019\\_Putamen\\_Amygdala\\_analysis/lyx\\_20231019/76T61-1-210420/counts.rds'\n",
       "\\item '/home/liuyx/liuyuxuan/spa\\_seurat/cla/speciesCompare/1019\\_Putamen\\_Amygdala\\_analysis/lyx\\_20231019/76T61-2-210420/counts.rds'\n",
       "\\item '/home/liuyx/liuyuxuan/spa\\_seurat/cla/speciesCompare/1019\\_Putamen\\_Amygdala\\_analysis/lyx\\_20231019/88T73-1-210421/counts.rds'\n",
       "\\item '/home/liuyx/liuyuxuan/spa\\_seurat/cla/speciesCompare/1019\\_Putamen\\_Amygdala\\_analysis/lyx\\_20231019/88T73-2-210421/counts.rds'\n",
       "\\item '/home/liuyx/liuyuxuan/spa\\_seurat/cla/speciesCompare/1019\\_Putamen\\_Amygdala\\_analysis/from-zmy/MQC286R-229.SZM20230403/filter\\_matrix/counts.rds'\n",
       "\\item '/home/liuyx/liuyuxuan/spa\\_seurat/cla/speciesCompare/1019\\_Putamen\\_Amygdala\\_analysis/from-zmy/SZM20230529\\_MQ277L-459/filter\\_matrix/counts.rds'\n",
       "\\item '/home/liuyx/liuyuxuan/spa\\_seurat/cla/speciesCompare/1019\\_Putamen\\_Amygdala\\_analysis/from-zmy/SZM20230529\\_MQ277L-460/filter\\_matrix/counts.rds'\n",
       "\\item '/home/liuyx/liuyuxuan/spa\\_seurat/cla/speciesCompare/1019\\_Putamen\\_Amygdala\\_analysis/from-zmy/SZM20230529\\_MQ277L-461/filter\\_matrix/counts.rds'\n",
       "\\item '/home/liuyx/liuyuxuan/spa\\_seurat/cla/speciesCompare/1019\\_Putamen\\_Amygdala\\_analysis/from-zmy/SZM20230529\\_MQ277L-462/filter\\_matrix/counts.rds'\n",
       "\\item '/home/liuyx/liuyuxuan/spa\\_seurat/cla/speciesCompare/1019\\_Putamen\\_Amygdala\\_analysis/from-zmy/SZM20230529\\_MQ277L-463/filter\\_matrix/counts.rds'\n",
       "\\item '/home/liuyx/liuyuxuan/spa\\_seurat/cla/speciesCompare/1019\\_Putamen\\_Amygdala\\_analysis/from-zmy/ssDNA\\_101\\_LC0613/filter\\_matrix/counts.rds'\n",
       "\\end{enumerate*}\n"
      ],
      "text/markdown": [
       "1. '/home/liuyx/liuyuxuan/spa_seurat/cla/speciesCompare/1019_Putamen_Amygdala_analysis/lyx_20231019/76T61-1-210420/counts.rds'\n",
       "2. '/home/liuyx/liuyuxuan/spa_seurat/cla/speciesCompare/1019_Putamen_Amygdala_analysis/lyx_20231019/76T61-2-210420/counts.rds'\n",
       "3. '/home/liuyx/liuyuxuan/spa_seurat/cla/speciesCompare/1019_Putamen_Amygdala_analysis/lyx_20231019/88T73-1-210421/counts.rds'\n",
       "4. '/home/liuyx/liuyuxuan/spa_seurat/cla/speciesCompare/1019_Putamen_Amygdala_analysis/lyx_20231019/88T73-2-210421/counts.rds'\n",
       "5. '/home/liuyx/liuyuxuan/spa_seurat/cla/speciesCompare/1019_Putamen_Amygdala_analysis/from-zmy/MQC286R-229.SZM20230403/filter_matrix/counts.rds'\n",
       "6. '/home/liuyx/liuyuxuan/spa_seurat/cla/speciesCompare/1019_Putamen_Amygdala_analysis/from-zmy/SZM20230529_MQ277L-459/filter_matrix/counts.rds'\n",
       "7. '/home/liuyx/liuyuxuan/spa_seurat/cla/speciesCompare/1019_Putamen_Amygdala_analysis/from-zmy/SZM20230529_MQ277L-460/filter_matrix/counts.rds'\n",
       "8. '/home/liuyx/liuyuxuan/spa_seurat/cla/speciesCompare/1019_Putamen_Amygdala_analysis/from-zmy/SZM20230529_MQ277L-461/filter_matrix/counts.rds'\n",
       "9. '/home/liuyx/liuyuxuan/spa_seurat/cla/speciesCompare/1019_Putamen_Amygdala_analysis/from-zmy/SZM20230529_MQ277L-462/filter_matrix/counts.rds'\n",
       "10. '/home/liuyx/liuyuxuan/spa_seurat/cla/speciesCompare/1019_Putamen_Amygdala_analysis/from-zmy/SZM20230529_MQ277L-463/filter_matrix/counts.rds'\n",
       "11. '/home/liuyx/liuyuxuan/spa_seurat/cla/speciesCompare/1019_Putamen_Amygdala_analysis/from-zmy/ssDNA_101_LC0613/filter_matrix/counts.rds'\n",
       "\n",
       "\n"
      ],
      "text/plain": [
       " [1] \"/home/liuyx/liuyuxuan/spa_seurat/cla/speciesCompare/1019_Putamen_Amygdala_analysis/lyx_20231019/76T61-1-210420/counts.rds\"                   \n",
       " [2] \"/home/liuyx/liuyuxuan/spa_seurat/cla/speciesCompare/1019_Putamen_Amygdala_analysis/lyx_20231019/76T61-2-210420/counts.rds\"                   \n",
       " [3] \"/home/liuyx/liuyuxuan/spa_seurat/cla/speciesCompare/1019_Putamen_Amygdala_analysis/lyx_20231019/88T73-1-210421/counts.rds\"                   \n",
       " [4] \"/home/liuyx/liuyuxuan/spa_seurat/cla/speciesCompare/1019_Putamen_Amygdala_analysis/lyx_20231019/88T73-2-210421/counts.rds\"                   \n",
       " [5] \"/home/liuyx/liuyuxuan/spa_seurat/cla/speciesCompare/1019_Putamen_Amygdala_analysis/from-zmy/MQC286R-229.SZM20230403/filter_matrix/counts.rds\"\n",
       " [6] \"/home/liuyx/liuyuxuan/spa_seurat/cla/speciesCompare/1019_Putamen_Amygdala_analysis/from-zmy/SZM20230529_MQ277L-459/filter_matrix/counts.rds\" \n",
       " [7] \"/home/liuyx/liuyuxuan/spa_seurat/cla/speciesCompare/1019_Putamen_Amygdala_analysis/from-zmy/SZM20230529_MQ277L-460/filter_matrix/counts.rds\" \n",
       " [8] \"/home/liuyx/liuyuxuan/spa_seurat/cla/speciesCompare/1019_Putamen_Amygdala_analysis/from-zmy/SZM20230529_MQ277L-461/filter_matrix/counts.rds\" \n",
       " [9] \"/home/liuyx/liuyuxuan/spa_seurat/cla/speciesCompare/1019_Putamen_Amygdala_analysis/from-zmy/SZM20230529_MQ277L-462/filter_matrix/counts.rds\" \n",
       "[10] \"/home/liuyx/liuyuxuan/spa_seurat/cla/speciesCompare/1019_Putamen_Amygdala_analysis/from-zmy/SZM20230529_MQ277L-463/filter_matrix/counts.rds\" \n",
       "[11] \"/home/liuyx/liuyuxuan/spa_seurat/cla/speciesCompare/1019_Putamen_Amygdala_analysis/from-zmy/ssDNA_101_LC0613/filter_matrix/counts.rds\"       "
      ]
     },
     "metadata": {},
     "output_type": "display_data"
    }
   ],
   "source": [
    "amy_f1=all_f[grep('76T61',all_f)]\n",
    "amy_f2=all_f[grep('88T73',all_f)]\n",
    "amy_f3=all_f[grep('229',all_f)]\n",
    "amy_f4=all_f[grep('MQ277L-459',all_f)]\n",
    "amy_f5=all_f[grep('MQ277L-460',all_f)]\n",
    "amy_f6=all_f[grep('MQ277L-461',all_f)]\n",
    "amy_f7=all_f[grep('MQ277L-462',all_f)]\n",
    "amy_f8=all_f[grep('MQ277L-463',all_f)]\n",
    "amy_f9=all_f[grep('_101_',all_f)]\n",
    "\n",
    "\n",
    "amy_all=c(amy_f1,amy_f2,amy_f3,amy_f4,amy_f5,amy_f6,amy_f7,amy_f8,amy_f9)\n",
    "\n",
    "amy_all\n"
   ]
  },
  {
   "cell_type": "code",
   "execution_count": 25,
   "id": "3a2ac453",
   "metadata": {},
   "outputs": [],
   "source": [
    "sceList = lapply(amy_all,function(folder){ \n",
    "    readRDS(folder)\n",
    "})\n"
   ]
  },
  {
   "cell_type": "code",
   "execution_count": 35,
   "id": "7b004c5e",
   "metadata": {},
   "outputs": [
    {
     "data": {
      "text/html": [
       "<style>\n",
       ".list-inline {list-style: none; margin:0; padding: 0}\n",
       ".list-inline>li {display: inline-block}\n",
       ".list-inline>li:not(:last-child)::after {content: \"\\00b7\"; padding: 0 .5ex}\n",
       "</style>\n",
       "<ol class=list-inline><li>'MQ179-76T61'</li><li>'MQ179-76T61'</li><li>'MQ179-88T73'</li><li>'MQ179-88T73'</li><li>'MQC286R-229'</li><li>'MQ277L-459'</li><li>'MQ277L-460'</li><li>'MQ277L-461'</li><li>'MQ277L-462'</li><li>'MQ277L-463'</li><li>'MQ277L-371'</li></ol>\n"
      ],
      "text/latex": [
       "\\begin{enumerate*}\n",
       "\\item 'MQ179-76T61'\n",
       "\\item 'MQ179-76T61'\n",
       "\\item 'MQ179-88T73'\n",
       "\\item 'MQ179-88T73'\n",
       "\\item 'MQC286R-229'\n",
       "\\item 'MQ277L-459'\n",
       "\\item 'MQ277L-460'\n",
       "\\item 'MQ277L-461'\n",
       "\\item 'MQ277L-462'\n",
       "\\item 'MQ277L-463'\n",
       "\\item 'MQ277L-371'\n",
       "\\end{enumerate*}\n"
      ],
      "text/markdown": [
       "1. 'MQ179-76T61'\n",
       "2. 'MQ179-76T61'\n",
       "3. 'MQ179-88T73'\n",
       "4. 'MQ179-88T73'\n",
       "5. 'MQC286R-229'\n",
       "6. 'MQ277L-459'\n",
       "7. 'MQ277L-460'\n",
       "8. 'MQ277L-461'\n",
       "9. 'MQ277L-462'\n",
       "10. 'MQ277L-463'\n",
       "11. 'MQ277L-371'\n",
       "\n",
       "\n"
      ],
      "text/plain": [
       " [1] \"MQ179-76T61\" \"MQ179-76T61\" \"MQ179-88T73\" \"MQ179-88T73\" \"MQC286R-229\"\n",
       " [6] \"MQ277L-459\"  \"MQ277L-460\"  \"MQ277L-461\"  \"MQ277L-462\"  \"MQ277L-463\" \n",
       "[11] \"MQ277L-371\" "
      ]
     },
     "metadata": {},
     "output_type": "display_data"
    }
   ],
   "source": [
    "read_file_renew1=paste0('MQ179-',str_extract(amy_all[1:4],'[0-9][0-9]T[0-9][0-9]'))\n",
    "read_file_renew2=str_extract(amy_all[5],'MQC[0-9][0-9][0-9]R-[0-9][0-9][0-9]')\n",
    "read_file_renew3=str_extract(amy_all[6:10],'MQ[0-9][0-9][0-9]L-[0-9][0-9][0-9]')\n",
    "read_file_renew4='MQ277L-371'\n",
    "read_file_renew=c(read_file_renew1,read_file_renew2,read_file_renew3,read_file_renew4)\n",
    "\n",
    "\n",
    "read_file_renew\n"
   ]
  },
  {
   "cell_type": "code",
   "execution_count": 36,
   "id": "02b62513",
   "metadata": {},
   "outputs": [
    {
     "name": "stderr",
     "output_type": "stream",
     "text": [
      "Warning message in CheckDuplicateCellNames(object.list = objects):\n",
      "“Some cell names are duplicated across objects provided. Renaming to enforce unique cell names.”\n"
     ]
    },
    {
     "data": {
      "text/plain": [
       "\n",
       "SeuratProject \n",
       "       248328 "
      ]
     },
     "metadata": {},
     "output_type": "display_data"
    }
   ],
   "source": [
    "\n",
    "sce.big <- merge(sceList[[1]], \n",
    "                 y = c(sceList[[2]],sceList[[3]],sceList[[4]],sceList[[5]],sceList[[6]],sceList[[7]],sceList[[8]],\n",
    "                      sceList[[9]],sceList[[10]],sceList[[11]]), \n",
    "                 add.cell.ids = read_file_renew,\n",
    "                 project = \"macaca\")\n",
    "\n",
    "table(sce.big$orig.ident)\n",
    "\n",
    "\n"
   ]
  },
  {
   "cell_type": "code",
   "execution_count": 37,
   "id": "81b83e0f",
   "metadata": {},
   "outputs": [
    {
     "data": {
      "text/html": [
       "<style>\n",
       ".list-inline {list-style: none; margin:0; padding: 0}\n",
       ".list-inline>li {display: inline-block}\n",
       ".list-inline>li:not(:last-child)::after {content: \"\\00b7\"; padding: 0 .5ex}\n",
       "</style>\n",
       "<ol class=list-inline><li>'MQ179-76T61_CELL1337_N1_1'</li><li>'MQ179-76T61_CELL416_N1_1'</li><li>'MQ179-76T61_CELL167_N2_1'</li><li>'MQ179-76T61_CELL2533_N1_1'</li><li>'MQ179-76T61_CELL627_N1_1'</li><li>'MQ179-76T61_CELL1937_N1_1'</li></ol>\n"
      ],
      "text/latex": [
       "\\begin{enumerate*}\n",
       "\\item 'MQ179-76T61\\_CELL1337\\_N1\\_1'\n",
       "\\item 'MQ179-76T61\\_CELL416\\_N1\\_1'\n",
       "\\item 'MQ179-76T61\\_CELL167\\_N2\\_1'\n",
       "\\item 'MQ179-76T61\\_CELL2533\\_N1\\_1'\n",
       "\\item 'MQ179-76T61\\_CELL627\\_N1\\_1'\n",
       "\\item 'MQ179-76T61\\_CELL1937\\_N1\\_1'\n",
       "\\end{enumerate*}\n"
      ],
      "text/markdown": [
       "1. 'MQ179-76T61_CELL1337_N1_1'\n",
       "2. 'MQ179-76T61_CELL416_N1_1'\n",
       "3. 'MQ179-76T61_CELL167_N2_1'\n",
       "4. 'MQ179-76T61_CELL2533_N1_1'\n",
       "5. 'MQ179-76T61_CELL627_N1_1'\n",
       "6. 'MQ179-76T61_CELL1937_N1_1'\n",
       "\n",
       "\n"
      ],
      "text/plain": [
       "[1] \"MQ179-76T61_CELL1337_N1_1\" \"MQ179-76T61_CELL416_N1_1\" \n",
       "[3] \"MQ179-76T61_CELL167_N2_1\"  \"MQ179-76T61_CELL2533_N1_1\"\n",
       "[5] \"MQ179-76T61_CELL627_N1_1\"  \"MQ179-76T61_CELL1937_N1_1\""
      ]
     },
     "metadata": {},
     "output_type": "display_data"
    }
   ],
   "source": [
    "head(rownames(sce.big@meta.data))"
   ]
  },
  {
   "cell_type": "code",
   "execution_count": 44,
   "id": "e1998ead",
   "metadata": {},
   "outputs": [],
   "source": [
    "sce.big@meta.data$group=str_extract(rownames(sce.big@meta.data),'MQ.*T[0-9][0-9]_')\n",
    "\n",
    "sce.big@meta.data[is.na(sce.big@meta.data$group),]$group=str_extract(rownames(sce.big@meta.data[is.na(sce.big@meta.data$group),]),'MQ.*-[0-9][0-9][0-9]')\n",
    "\n",
    "sce.big@meta.data$group=gsub('_','',sce.big@meta.data$group)\n"
   ]
  },
  {
   "cell_type": "code",
   "execution_count": 45,
   "id": "52ec1014",
   "metadata": {},
   "outputs": [
    {
     "data": {
      "text/html": [
       "<style>\n",
       ".list-inline {list-style: none; margin:0; padding: 0}\n",
       ".list-inline>li {display: inline-block}\n",
       ".list-inline>li:not(:last-child)::after {content: \"\\00b7\"; padding: 0 .5ex}\n",
       "</style>\n",
       "<ol class=list-inline><li>'MQ179-76T61'</li><li>'MQ179-88T73'</li><li>'MQC286R-229'</li><li>'MQ277L-459'</li><li>'MQ277L-460'</li><li>'MQ277L-461'</li><li>'MQ277L-462'</li><li>'MQ277L-463'</li><li>'MQ277L-371'</li></ol>\n"
      ],
      "text/latex": [
       "\\begin{enumerate*}\n",
       "\\item 'MQ179-76T61'\n",
       "\\item 'MQ179-88T73'\n",
       "\\item 'MQC286R-229'\n",
       "\\item 'MQ277L-459'\n",
       "\\item 'MQ277L-460'\n",
       "\\item 'MQ277L-461'\n",
       "\\item 'MQ277L-462'\n",
       "\\item 'MQ277L-463'\n",
       "\\item 'MQ277L-371'\n",
       "\\end{enumerate*}\n"
      ],
      "text/markdown": [
       "1. 'MQ179-76T61'\n",
       "2. 'MQ179-88T73'\n",
       "3. 'MQC286R-229'\n",
       "4. 'MQ277L-459'\n",
       "5. 'MQ277L-460'\n",
       "6. 'MQ277L-461'\n",
       "7. 'MQ277L-462'\n",
       "8. 'MQ277L-463'\n",
       "9. 'MQ277L-371'\n",
       "\n",
       "\n"
      ],
      "text/plain": [
       "[1] \"MQ179-76T61\" \"MQ179-88T73\" \"MQC286R-229\" \"MQ277L-459\"  \"MQ277L-460\" \n",
       "[6] \"MQ277L-461\"  \"MQ277L-462\"  \"MQ277L-463\"  \"MQ277L-371\" "
      ]
     },
     "metadata": {},
     "output_type": "display_data"
    }
   ],
   "source": [
    "unique(sce.big@meta.data$group)"
   ]
  },
  {
   "cell_type": "code",
   "execution_count": 46,
   "id": "d89d0948",
   "metadata": {},
   "outputs": [],
   "source": [
    "saveRDS(sce.big,'/home/liuyx/liuyuxuan/spa_seurat/cla/speciesCompare/1019_Putamen_Amygdala_analysis/data_preprocess/Amygdala_raw_unfil_1020.rds')\n",
    "\n"
   ]
  },
  {
   "cell_type": "code",
   "execution_count": null,
   "id": "bdcd6bf6",
   "metadata": {},
   "outputs": [],
   "source": []
  },
  {
   "cell_type": "code",
   "execution_count": null,
   "id": "7cf7b035",
   "metadata": {},
   "outputs": [],
   "source": []
  },
  {
   "cell_type": "code",
   "execution_count": null,
   "id": "76726b20",
   "metadata": {},
   "outputs": [],
   "source": []
  },
  {
   "cell_type": "code",
   "execution_count": null,
   "id": "64ba3b5f",
   "metadata": {},
   "outputs": [],
   "source": []
  },
  {
   "cell_type": "code",
   "execution_count": null,
   "id": "e795a119",
   "metadata": {},
   "outputs": [],
   "source": []
  },
  {
   "cell_type": "code",
   "execution_count": null,
   "id": "dd3de88e",
   "metadata": {},
   "outputs": [],
   "source": []
  },
  {
   "cell_type": "code",
   "execution_count": null,
   "id": "83fcb3be",
   "metadata": {},
   "outputs": [],
   "source": []
  },
  {
   "cell_type": "code",
   "execution_count": null,
   "id": "36ba797c",
   "metadata": {},
   "outputs": [],
   "source": []
  },
  {
   "cell_type": "code",
   "execution_count": null,
   "id": "e81bddf0",
   "metadata": {},
   "outputs": [],
   "source": []
  },
  {
   "cell_type": "code",
   "execution_count": null,
   "id": "1ffa56c4",
   "metadata": {},
   "outputs": [],
   "source": []
  },
  {
   "cell_type": "code",
   "execution_count": null,
   "id": "6c8a268b",
   "metadata": {},
   "outputs": [],
   "source": []
  },
  {
   "cell_type": "code",
   "execution_count": null,
   "id": "8f0fae4b",
   "metadata": {},
   "outputs": [],
   "source": []
  },
  {
   "cell_type": "code",
   "execution_count": null,
   "id": "4dfb42f5",
   "metadata": {},
   "outputs": [],
   "source": []
  },
  {
   "cell_type": "code",
   "execution_count": null,
   "id": "8c27b216",
   "metadata": {},
   "outputs": [],
   "source": []
  },
  {
   "cell_type": "code",
   "execution_count": null,
   "id": "e26715a5",
   "metadata": {},
   "outputs": [],
   "source": []
  },
  {
   "cell_type": "code",
   "execution_count": null,
   "id": "52b312f8",
   "metadata": {},
   "outputs": [],
   "source": []
  },
  {
   "cell_type": "code",
   "execution_count": null,
   "id": "9a30ae22",
   "metadata": {},
   "outputs": [],
   "source": []
  },
  {
   "cell_type": "code",
   "execution_count": null,
   "id": "a0013bdd",
   "metadata": {},
   "outputs": [],
   "source": []
  },
  {
   "cell_type": "code",
   "execution_count": null,
   "id": "696d61c8",
   "metadata": {},
   "outputs": [],
   "source": []
  },
  {
   "cell_type": "code",
   "execution_count": null,
   "id": "1a480be3",
   "metadata": {},
   "outputs": [],
   "source": []
  },
  {
   "cell_type": "code",
   "execution_count": 14,
   "id": "2e3ec9f9",
   "metadata": {},
   "outputs": [],
   "source": [
    "sceList = lapply(read_file,function(folder){ \n",
    "    readRDS(folder)\n",
    "})\n"
   ]
  },
  {
   "cell_type": "code",
   "execution_count": null,
   "id": "87190258",
   "metadata": {},
   "outputs": [],
   "source": [
    "read_file_renew=str_extract(read_file,'1016.*[0-9][0-9][0-9]')\n",
    "read_file_renew=gsub('1016/from-zmy/','',read_file_renew)\n",
    "read_file_renew\n"
   ]
  }
 ],
 "metadata": {
  "kernelspec": {
   "display_name": "R",
   "language": "R",
   "name": "ir"
  },
  "language_info": {
   "codemirror_mode": "r",
   "file_extension": ".r",
   "mimetype": "text/x-r-source",
   "name": "R",
   "pygments_lexer": "r",
   "version": "4.1.3"
  }
 },
 "nbformat": 4,
 "nbformat_minor": 5
}
