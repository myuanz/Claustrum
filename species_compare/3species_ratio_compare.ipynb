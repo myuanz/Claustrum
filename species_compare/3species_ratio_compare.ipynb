{
 "cells": [
  {
   "cell_type": "code",
   "execution_count": 1,
   "id": "4eacf1c7",
   "metadata": {},
   "outputs": [],
   "source": [
    "suppressMessages(library(tidyverse))\n",
    "suppressMessages(library(parallel))\n",
    "suppressMessages(library(Seurat))\n",
    "suppressMessages(library(patchwork))\n",
    "suppressMessages(library(Matrix))\n",
    "suppressMessages(library(viridis))\n",
    "suppressMessages(library(cowplot))\n",
    "suppressMessages(library(ggsci))\n",
    "suppressMessages(library(pheatmap))\n",
    "suppressMessages(library(RColorBrewer))\n",
    "suppressMessages(library(reshape2))\n",
    "suppressMessages(library(LSD))\n",
    "suppressMessages(library(readxl))\n",
    "suppressMessages(library(ggrepel))\n",
    "suppressMessages(library(harmony))\n",
    "suppressMessages(library(scrattch.hicat))\n",
    "library(Seurat)"
   ]
  },
  {
   "cell_type": "code",
   "execution_count": null,
   "id": "90a43f21",
   "metadata": {},
   "outputs": [],
   "source": []
  },
  {
   "cell_type": "code",
   "execution_count": 2,
   "id": "9989c267",
   "metadata": {},
   "outputs": [],
   "source": [
    "marmoset_meta=read.csv('/home/liuyx/liuyuxuan/spa_seurat/cla/speciesCompare/3species_compare_240130/marmoset_meta_0321_renew.csv')\n",
    "mouse_meta=read.csv('/home/liuyx/liuyuxuan/spa_seurat/cla/speciesCompare/3species_compare_240130/mouse_meta.csv')\n",
    "macaque_meta=read.csv('/home/liuyx/liuyuxuan/spa_seurat/cla/speciesCompare/3species_compare_240130/macaque_meta.csv')\n",
    "\n"
   ]
  },
  {
   "cell_type": "code",
   "execution_count": 3,
   "id": "6d3aae3a",
   "metadata": {},
   "outputs": [
    {
     "data": {
      "text/html": [
       "<style>\n",
       ".list-inline {list-style: none; margin:0; padding: 0}\n",
       ".list-inline>li {display: inline-block}\n",
       ".list-inline>li:not(:last-child)::after {content: \"\\00b7\"; padding: 0 .5ex}\n",
       "</style>\n",
       "<ol class=list-inline><li>'MT23R-001'</li><li>'MT30-008'</li><li>'MT29-043'</li><li>'MT29-051'</li></ol>\n"
      ],
      "text/latex": [
       "\\begin{enumerate*}\n",
       "\\item 'MT23R-001'\n",
       "\\item 'MT30-008'\n",
       "\\item 'MT29-043'\n",
       "\\item 'MT29-051'\n",
       "\\end{enumerate*}\n"
      ],
      "text/markdown": [
       "1. 'MT23R-001'\n",
       "2. 'MT30-008'\n",
       "3. 'MT29-043'\n",
       "4. 'MT29-051'\n",
       "\n",
       "\n"
      ],
      "text/plain": [
       "[1] \"MT23R-001\" \"MT30-008\"  \"MT29-043\"  \"MT29-051\" "
      ]
     },
     "metadata": {},
     "output_type": "display_data"
    },
    {
     "data": {
      "text/html": [
       "<style>\n",
       ".list-inline {list-style: none; margin:0; padding: 0}\n",
       ".list-inline>li {display: inline-block}\n",
       ".list-inline>li:not(:last-child)::after {content: \"\\00b7\"; padding: 0 .5ex}\n",
       "</style>\n",
       "<ol class=list-inline><li>'MS-cla-001'</li><li>'MS060-cla001'</li><li>'MS060-cla 001'</li></ol>\n"
      ],
      "text/latex": [
       "\\begin{enumerate*}\n",
       "\\item 'MS-cla-001'\n",
       "\\item 'MS060-cla001'\n",
       "\\item 'MS060-cla 001'\n",
       "\\end{enumerate*}\n"
      ],
      "text/markdown": [
       "1. 'MS-cla-001'\n",
       "2. 'MS060-cla001'\n",
       "3. 'MS060-cla 001'\n",
       "\n",
       "\n"
      ],
      "text/plain": [
       "[1] \"MS-cla-001\"    \"MS060-cla001\"  \"MS060-cla 001\""
      ]
     },
     "metadata": {},
     "output_type": "display_data"
    },
    {
     "data": {
      "text/html": [
       "<style>\n",
       ".list-inline {list-style: none; margin:0; padding: 0}\n",
       ".list-inline>li {display: inline-block}\n",
       ".list-inline>li:not(:last-child)::after {content: \"\\00b7\"; padding: 0 .5ex}\n",
       "</style>\n",
       "<ol class=list-inline><li>'MQ286'</li><li>'MQ279'</li><li>'MQ277'</li><li>'MQ439'</li></ol>\n"
      ],
      "text/latex": [
       "\\begin{enumerate*}\n",
       "\\item 'MQ286'\n",
       "\\item 'MQ279'\n",
       "\\item 'MQ277'\n",
       "\\item 'MQ439'\n",
       "\\end{enumerate*}\n"
      ],
      "text/markdown": [
       "1. 'MQ286'\n",
       "2. 'MQ279'\n",
       "3. 'MQ277'\n",
       "4. 'MQ439'\n",
       "\n",
       "\n"
      ],
      "text/plain": [
       "[1] \"MQ286\" \"MQ279\" \"MQ277\" \"MQ439\""
      ]
     },
     "metadata": {},
     "output_type": "display_data"
    }
   ],
   "source": [
    "macaque_meta$sample=macaque_meta$donor2\n",
    "unique(marmoset_meta$sample)\n",
    "unique(mouse_meta$sample)\n",
    "unique(macaque_meta$sample)"
   ]
  },
  {
   "cell_type": "code",
   "execution_count": 4,
   "id": "44bcf34c",
   "metadata": {},
   "outputs": [],
   "source": [
    "\n",
    "\n",
    "all_n=unique(marmoset_meta$Cluster)\n",
    "ex_n=all_n[grep('GLUT',all_n)]\n",
    "in_n=c(all_n[grep('GABA',all_n)],all_n[grep('DRD',all_n)])\n",
    "non_n=setdiff(all_n,c(ex_n,in_n))\n",
    "marmoset_meta$Subgroup='test'\n",
    "marmoset_meta[marmoset_meta$Cluster %in% ex_n,]$Subgroup='GLUT'\n",
    "marmoset_meta[marmoset_meta$Cluster %in% in_n,]$Subgroup='GABA'\n",
    "marmoset_meta[marmoset_meta$Cluster %in% non_n,]$Subgroup='No-Neuron'\n",
    "\n",
    "\n",
    "#!!!inhibit慎重\n",
    "\n",
    "all_n=unique(macaque_meta$Cluster)\n",
    "ex_n=all_n[grep('GLUT',all_n)]\n",
    "in_n=c(all_n[grep('GABA',all_n)],all_n[grep('DRD',all_n)])\n",
    "non_n=setdiff(all_n,c(ex_n,in_n))\n",
    "macaque_meta$Subgroup='test'\n",
    "macaque_meta[macaque_meta$Cluster %in% ex_n,]$Subgroup='GLUT'\n",
    "macaque_meta[macaque_meta$Cluster %in% in_n,]$Subgroup='GABA'\n",
    "macaque_meta[macaque_meta$Cluster %in% non_n,]$Subgroup='No-Neuron'\n",
    "\n",
    "\n",
    "#!!!inhibit慎重\n",
    "\n",
    "\n",
    "all_n=unique(mouse_meta$Cluster)\n",
    "ex_n=all_n[grep('GLUT',all_n)]\n",
    "in_n=c(all_n[grep('GABA',all_n)])\n",
    "non_n=setdiff(all_n,c(ex_n,in_n))\n",
    "mouse_meta$Subgroup='test'\n",
    "mouse_meta[mouse_meta$Cluster %in% ex_n,]$Subgroup='GLUT'\n",
    "mouse_meta[mouse_meta$Cluster %in% in_n,]$Subgroup='GABA'\n",
    "mouse_meta[mouse_meta$Cluster %in% non_n,]$Subgroup='No-Neuron'\n",
    "\n",
    "\n"
   ]
  },
  {
   "cell_type": "code",
   "execution_count": 5,
   "id": "6bc8854d",
   "metadata": {},
   "outputs": [
    {
     "data": {
      "text/html": [
       "<style>\n",
       ".list-inline {list-style: none; margin:0; padding: 0}\n",
       ".list-inline>li {display: inline-block}\n",
       ".list-inline>li:not(:last-child)::after {content: \"\\00b7\"; padding: 0 .5ex}\n",
       "</style>\n",
       "<ol class=list-inline><li>'GLUT'</li><li>'GABA'</li><li>'No-Neuron'</li></ol>\n"
      ],
      "text/latex": [
       "\\begin{enumerate*}\n",
       "\\item 'GLUT'\n",
       "\\item 'GABA'\n",
       "\\item 'No-Neuron'\n",
       "\\end{enumerate*}\n"
      ],
      "text/markdown": [
       "1. 'GLUT'\n",
       "2. 'GABA'\n",
       "3. 'No-Neuron'\n",
       "\n",
       "\n"
      ],
      "text/plain": [
       "[1] \"GLUT\"      \"GABA\"      \"No-Neuron\""
      ]
     },
     "metadata": {},
     "output_type": "display_data"
    },
    {
     "data": {
      "text/html": [
       "<style>\n",
       ".list-inline {list-style: none; margin:0; padding: 0}\n",
       ".list-inline>li {display: inline-block}\n",
       ".list-inline>li:not(:last-child)::after {content: \"\\00b7\"; padding: 0 .5ex}\n",
       "</style>\n",
       "<ol class=list-inline><li>'GLUT'</li><li>'GABA'</li><li>'No-Neuron'</li></ol>\n"
      ],
      "text/latex": [
       "\\begin{enumerate*}\n",
       "\\item 'GLUT'\n",
       "\\item 'GABA'\n",
       "\\item 'No-Neuron'\n",
       "\\end{enumerate*}\n"
      ],
      "text/markdown": [
       "1. 'GLUT'\n",
       "2. 'GABA'\n",
       "3. 'No-Neuron'\n",
       "\n",
       "\n"
      ],
      "text/plain": [
       "[1] \"GLUT\"      \"GABA\"      \"No-Neuron\""
      ]
     },
     "metadata": {},
     "output_type": "display_data"
    },
    {
     "data": {
      "text/html": [
       "<style>\n",
       ".list-inline {list-style: none; margin:0; padding: 0}\n",
       ".list-inline>li {display: inline-block}\n",
       ".list-inline>li:not(:last-child)::after {content: \"\\00b7\"; padding: 0 .5ex}\n",
       "</style>\n",
       "<ol class=list-inline><li>'GLUT'</li><li>'GABA'</li><li>'No-Neuron'</li></ol>\n"
      ],
      "text/latex": [
       "\\begin{enumerate*}\n",
       "\\item 'GLUT'\n",
       "\\item 'GABA'\n",
       "\\item 'No-Neuron'\n",
       "\\end{enumerate*}\n"
      ],
      "text/markdown": [
       "1. 'GLUT'\n",
       "2. 'GABA'\n",
       "3. 'No-Neuron'\n",
       "\n",
       "\n"
      ],
      "text/plain": [
       "[1] \"GLUT\"      \"GABA\"      \"No-Neuron\""
      ]
     },
     "metadata": {},
     "output_type": "display_data"
    }
   ],
   "source": [
    "meta_mouse=mouse_meta\n",
    "#meta_mouse$Subgroup=meta_mouse$SuperCluster\n",
    "\n",
    "meta_macaque=macaque_meta\n",
    "#meta_macaque$Subgroup=meta_macaque$SuperCluster\n",
    "\n",
    "meta_marmoset=marmoset_meta\n",
    "#meta_marmoset$Subgroup=meta_marmoset$SuperCluster\n",
    "\n",
    "unique(meta_mouse$Subgroup)\n",
    "unique(meta_macaque$Subgroup)\n",
    "unique(meta_marmoset$Subgroup)"
   ]
  },
  {
   "cell_type": "code",
   "execution_count": 6,
   "id": "93111ff7",
   "metadata": {
    "scrolled": true
   },
   "outputs": [
    {
     "data": {
      "text/html": [
       "<table class=\"dataframe\">\n",
       "<caption>A tibble: 33 × 6</caption>\n",
       "<thead>\n",
       "\t<tr><th scope=col>Subgroup</th><th scope=col>part_num</th><th scope=col>all</th><th scope=col>ratio</th><th scope=col>donor</th><th scope=col>species</th></tr>\n",
       "\t<tr><th scope=col>&lt;chr&gt;</th><th scope=col>&lt;dbl&gt;</th><th scope=col>&lt;dbl&gt;</th><th scope=col>&lt;dbl&gt;</th><th scope=col>&lt;chr&gt;</th><th scope=col>&lt;chr&gt;</th></tr>\n",
       "</thead>\n",
       "<tbody>\n",
       "\t<tr><td>GABA     </td><td> 1767</td><td>13838</td><td>12.769186</td><td>marmoset_MT23R-001 </td><td>marmoset</td></tr>\n",
       "\t<tr><td>GLUT     </td><td> 9660</td><td>13838</td><td>69.807776</td><td>marmoset_MT23R-001 </td><td>marmoset</td></tr>\n",
       "\t<tr><td>No-Neuron</td><td> 2411</td><td>13838</td><td>17.423038</td><td>marmoset_MT23R-001 </td><td>marmoset</td></tr>\n",
       "\t<tr><td>GABA     </td><td> 7753</td><td>48628</td><td>15.943489</td><td>marmoset_MT30-008  </td><td>marmoset</td></tr>\n",
       "\t<tr><td>GLUT     </td><td>36226</td><td>48628</td><td>74.496175</td><td>marmoset_MT30-008  </td><td>marmoset</td></tr>\n",
       "\t<tr><td>No-Neuron</td><td> 4649</td><td>48628</td><td> 9.560336</td><td>marmoset_MT30-008  </td><td>marmoset</td></tr>\n",
       "\t<tr><td>GABA     </td><td> 6601</td><td>33418</td><td>19.752828</td><td>marmoset_MT29-043  </td><td>marmoset</td></tr>\n",
       "\t<tr><td>GLUT     </td><td>22744</td><td>33418</td><td>68.059130</td><td>marmoset_MT29-043  </td><td>marmoset</td></tr>\n",
       "\t<tr><td>No-Neuron</td><td> 4073</td><td>33418</td><td>12.188042</td><td>marmoset_MT29-043  </td><td>marmoset</td></tr>\n",
       "\t<tr><td>GABA     </td><td> 2274</td><td>13502</td><td>16.841949</td><td>marmoset_MT29-051  </td><td>marmoset</td></tr>\n",
       "\t<tr><td>GLUT     </td><td> 9767</td><td>13502</td><td>72.337431</td><td>marmoset_MT29-051  </td><td>marmoset</td></tr>\n",
       "\t<tr><td>No-Neuron</td><td> 1461</td><td>13502</td><td>10.820619</td><td>marmoset_MT29-051  </td><td>marmoset</td></tr>\n",
       "\t<tr><td>GABA     </td><td>12354</td><td>56944</td><td>21.694999</td><td>mouse_MS-cla-001   </td><td>mouse   </td></tr>\n",
       "\t<tr><td>GLUT     </td><td>36274</td><td>56944</td><td>63.701180</td><td>mouse_MS-cla-001   </td><td>mouse   </td></tr>\n",
       "\t<tr><td>No-Neuron</td><td> 8316</td><td>56944</td><td>14.603821</td><td>mouse_MS-cla-001   </td><td>mouse   </td></tr>\n",
       "\t<tr><td>GABA     </td><td>17148</td><td>86434</td><td>19.839415</td><td>mouse_MS060-cla001 </td><td>mouse   </td></tr>\n",
       "\t<tr><td>GLUT     </td><td>55684</td><td>86434</td><td>64.423722</td><td>mouse_MS060-cla001 </td><td>mouse   </td></tr>\n",
       "\t<tr><td>No-Neuron</td><td>13602</td><td>86434</td><td>15.736863</td><td>mouse_MS060-cla001 </td><td>mouse   </td></tr>\n",
       "\t<tr><td>GABA     </td><td>16531</td><td>91608</td><td>18.045367</td><td>mouse_MS060-cla 001</td><td>mouse   </td></tr>\n",
       "\t<tr><td>GLUT     </td><td>61587</td><td>91608</td><td>67.228845</td><td>mouse_MS060-cla 001</td><td>mouse   </td></tr>\n",
       "\t<tr><td>No-Neuron</td><td>13490</td><td>91608</td><td>14.725788</td><td>mouse_MS060-cla 001</td><td>mouse   </td></tr>\n",
       "\t<tr><td>GABA     </td><td> 8461</td><td>40118</td><td>21.090284</td><td>macaque_MQ286      </td><td>macaque </td></tr>\n",
       "\t<tr><td>GLUT     </td><td>17142</td><td>40118</td><td>42.728950</td><td>macaque_MQ286      </td><td>macaque </td></tr>\n",
       "\t<tr><td>No-Neuron</td><td>14515</td><td>40118</td><td>36.180767</td><td>macaque_MQ286      </td><td>macaque </td></tr>\n",
       "\t<tr><td>GABA     </td><td> 5846</td><td>50699</td><td>11.530799</td><td>macaque_MQ279      </td><td>macaque </td></tr>\n",
       "\t<tr><td>GLUT     </td><td>22624</td><td>50699</td><td>44.624154</td><td>macaque_MQ279      </td><td>macaque </td></tr>\n",
       "\t<tr><td>No-Neuron</td><td>22229</td><td>50699</td><td>43.845046</td><td>macaque_MQ279      </td><td>macaque </td></tr>\n",
       "\t<tr><td>GABA     </td><td>10671</td><td>69813</td><td>15.285119</td><td>macaque_MQ277      </td><td>macaque </td></tr>\n",
       "\t<tr><td>GLUT     </td><td>34819</td><td>69813</td><td>49.874665</td><td>macaque_MQ277      </td><td>macaque </td></tr>\n",
       "\t<tr><td>No-Neuron</td><td>24323</td><td>69813</td><td>34.840216</td><td>macaque_MQ277      </td><td>macaque </td></tr>\n",
       "\t<tr><td>GABA     </td><td> 9315</td><td>67120</td><td>13.878129</td><td>macaque_MQ439      </td><td>macaque </td></tr>\n",
       "\t<tr><td>GLUT     </td><td>47421</td><td>67120</td><td>70.651073</td><td>macaque_MQ439      </td><td>macaque </td></tr>\n",
       "\t<tr><td>No-Neuron</td><td>10384</td><td>67120</td><td>15.470799</td><td>macaque_MQ439      </td><td>macaque </td></tr>\n",
       "</tbody>\n",
       "</table>\n"
      ],
      "text/latex": [
       "A tibble: 33 × 6\n",
       "\\begin{tabular}{llllll}\n",
       " Subgroup & part\\_num & all & ratio & donor & species\\\\\n",
       " <chr> & <dbl> & <dbl> & <dbl> & <chr> & <chr>\\\\\n",
       "\\hline\n",
       "\t GABA      &  1767 & 13838 & 12.769186 & marmoset\\_MT23R-001  & marmoset\\\\\n",
       "\t GLUT      &  9660 & 13838 & 69.807776 & marmoset\\_MT23R-001  & marmoset\\\\\n",
       "\t No-Neuron &  2411 & 13838 & 17.423038 & marmoset\\_MT23R-001  & marmoset\\\\\n",
       "\t GABA      &  7753 & 48628 & 15.943489 & marmoset\\_MT30-008   & marmoset\\\\\n",
       "\t GLUT      & 36226 & 48628 & 74.496175 & marmoset\\_MT30-008   & marmoset\\\\\n",
       "\t No-Neuron &  4649 & 48628 &  9.560336 & marmoset\\_MT30-008   & marmoset\\\\\n",
       "\t GABA      &  6601 & 33418 & 19.752828 & marmoset\\_MT29-043   & marmoset\\\\\n",
       "\t GLUT      & 22744 & 33418 & 68.059130 & marmoset\\_MT29-043   & marmoset\\\\\n",
       "\t No-Neuron &  4073 & 33418 & 12.188042 & marmoset\\_MT29-043   & marmoset\\\\\n",
       "\t GABA      &  2274 & 13502 & 16.841949 & marmoset\\_MT29-051   & marmoset\\\\\n",
       "\t GLUT      &  9767 & 13502 & 72.337431 & marmoset\\_MT29-051   & marmoset\\\\\n",
       "\t No-Neuron &  1461 & 13502 & 10.820619 & marmoset\\_MT29-051   & marmoset\\\\\n",
       "\t GABA      & 12354 & 56944 & 21.694999 & mouse\\_MS-cla-001    & mouse   \\\\\n",
       "\t GLUT      & 36274 & 56944 & 63.701180 & mouse\\_MS-cla-001    & mouse   \\\\\n",
       "\t No-Neuron &  8316 & 56944 & 14.603821 & mouse\\_MS-cla-001    & mouse   \\\\\n",
       "\t GABA      & 17148 & 86434 & 19.839415 & mouse\\_MS060-cla001  & mouse   \\\\\n",
       "\t GLUT      & 55684 & 86434 & 64.423722 & mouse\\_MS060-cla001  & mouse   \\\\\n",
       "\t No-Neuron & 13602 & 86434 & 15.736863 & mouse\\_MS060-cla001  & mouse   \\\\\n",
       "\t GABA      & 16531 & 91608 & 18.045367 & mouse\\_MS060-cla 001 & mouse   \\\\\n",
       "\t GLUT      & 61587 & 91608 & 67.228845 & mouse\\_MS060-cla 001 & mouse   \\\\\n",
       "\t No-Neuron & 13490 & 91608 & 14.725788 & mouse\\_MS060-cla 001 & mouse   \\\\\n",
       "\t GABA      &  8461 & 40118 & 21.090284 & macaque\\_MQ286       & macaque \\\\\n",
       "\t GLUT      & 17142 & 40118 & 42.728950 & macaque\\_MQ286       & macaque \\\\\n",
       "\t No-Neuron & 14515 & 40118 & 36.180767 & macaque\\_MQ286       & macaque \\\\\n",
       "\t GABA      &  5846 & 50699 & 11.530799 & macaque\\_MQ279       & macaque \\\\\n",
       "\t GLUT      & 22624 & 50699 & 44.624154 & macaque\\_MQ279       & macaque \\\\\n",
       "\t No-Neuron & 22229 & 50699 & 43.845046 & macaque\\_MQ279       & macaque \\\\\n",
       "\t GABA      & 10671 & 69813 & 15.285119 & macaque\\_MQ277       & macaque \\\\\n",
       "\t GLUT      & 34819 & 69813 & 49.874665 & macaque\\_MQ277       & macaque \\\\\n",
       "\t No-Neuron & 24323 & 69813 & 34.840216 & macaque\\_MQ277       & macaque \\\\\n",
       "\t GABA      &  9315 & 67120 & 13.878129 & macaque\\_MQ439       & macaque \\\\\n",
       "\t GLUT      & 47421 & 67120 & 70.651073 & macaque\\_MQ439       & macaque \\\\\n",
       "\t No-Neuron & 10384 & 67120 & 15.470799 & macaque\\_MQ439       & macaque \\\\\n",
       "\\end{tabular}\n"
      ],
      "text/markdown": [
       "\n",
       "A tibble: 33 × 6\n",
       "\n",
       "| Subgroup &lt;chr&gt; | part_num &lt;dbl&gt; | all &lt;dbl&gt; | ratio &lt;dbl&gt; | donor &lt;chr&gt; | species &lt;chr&gt; |\n",
       "|---|---|---|---|---|---|\n",
       "| GABA      |  1767 | 13838 | 12.769186 | marmoset_MT23R-001  | marmoset |\n",
       "| GLUT      |  9660 | 13838 | 69.807776 | marmoset_MT23R-001  | marmoset |\n",
       "| No-Neuron |  2411 | 13838 | 17.423038 | marmoset_MT23R-001  | marmoset |\n",
       "| GABA      |  7753 | 48628 | 15.943489 | marmoset_MT30-008   | marmoset |\n",
       "| GLUT      | 36226 | 48628 | 74.496175 | marmoset_MT30-008   | marmoset |\n",
       "| No-Neuron |  4649 | 48628 |  9.560336 | marmoset_MT30-008   | marmoset |\n",
       "| GABA      |  6601 | 33418 | 19.752828 | marmoset_MT29-043   | marmoset |\n",
       "| GLUT      | 22744 | 33418 | 68.059130 | marmoset_MT29-043   | marmoset |\n",
       "| No-Neuron |  4073 | 33418 | 12.188042 | marmoset_MT29-043   | marmoset |\n",
       "| GABA      |  2274 | 13502 | 16.841949 | marmoset_MT29-051   | marmoset |\n",
       "| GLUT      |  9767 | 13502 | 72.337431 | marmoset_MT29-051   | marmoset |\n",
       "| No-Neuron |  1461 | 13502 | 10.820619 | marmoset_MT29-051   | marmoset |\n",
       "| GABA      | 12354 | 56944 | 21.694999 | mouse_MS-cla-001    | mouse    |\n",
       "| GLUT      | 36274 | 56944 | 63.701180 | mouse_MS-cla-001    | mouse    |\n",
       "| No-Neuron |  8316 | 56944 | 14.603821 | mouse_MS-cla-001    | mouse    |\n",
       "| GABA      | 17148 | 86434 | 19.839415 | mouse_MS060-cla001  | mouse    |\n",
       "| GLUT      | 55684 | 86434 | 64.423722 | mouse_MS060-cla001  | mouse    |\n",
       "| No-Neuron | 13602 | 86434 | 15.736863 | mouse_MS060-cla001  | mouse    |\n",
       "| GABA      | 16531 | 91608 | 18.045367 | mouse_MS060-cla 001 | mouse    |\n",
       "| GLUT      | 61587 | 91608 | 67.228845 | mouse_MS060-cla 001 | mouse    |\n",
       "| No-Neuron | 13490 | 91608 | 14.725788 | mouse_MS060-cla 001 | mouse    |\n",
       "| GABA      |  8461 | 40118 | 21.090284 | macaque_MQ286       | macaque  |\n",
       "| GLUT      | 17142 | 40118 | 42.728950 | macaque_MQ286       | macaque  |\n",
       "| No-Neuron | 14515 | 40118 | 36.180767 | macaque_MQ286       | macaque  |\n",
       "| GABA      |  5846 | 50699 | 11.530799 | macaque_MQ279       | macaque  |\n",
       "| GLUT      | 22624 | 50699 | 44.624154 | macaque_MQ279       | macaque  |\n",
       "| No-Neuron | 22229 | 50699 | 43.845046 | macaque_MQ279       | macaque  |\n",
       "| GABA      | 10671 | 69813 | 15.285119 | macaque_MQ277       | macaque  |\n",
       "| GLUT      | 34819 | 69813 | 49.874665 | macaque_MQ277       | macaque  |\n",
       "| No-Neuron | 24323 | 69813 | 34.840216 | macaque_MQ277       | macaque  |\n",
       "| GABA      |  9315 | 67120 | 13.878129 | macaque_MQ439       | macaque  |\n",
       "| GLUT      | 47421 | 67120 | 70.651073 | macaque_MQ439       | macaque  |\n",
       "| No-Neuron | 10384 | 67120 | 15.470799 | macaque_MQ439       | macaque  |\n",
       "\n"
      ],
      "text/plain": [
       "   Subgroup  part_num all   ratio     donor               species \n",
       "1  GABA       1767    13838 12.769186 marmoset_MT23R-001  marmoset\n",
       "2  GLUT       9660    13838 69.807776 marmoset_MT23R-001  marmoset\n",
       "3  No-Neuron  2411    13838 17.423038 marmoset_MT23R-001  marmoset\n",
       "4  GABA       7753    48628 15.943489 marmoset_MT30-008   marmoset\n",
       "5  GLUT      36226    48628 74.496175 marmoset_MT30-008   marmoset\n",
       "6  No-Neuron  4649    48628  9.560336 marmoset_MT30-008   marmoset\n",
       "7  GABA       6601    33418 19.752828 marmoset_MT29-043   marmoset\n",
       "8  GLUT      22744    33418 68.059130 marmoset_MT29-043   marmoset\n",
       "9  No-Neuron  4073    33418 12.188042 marmoset_MT29-043   marmoset\n",
       "10 GABA       2274    13502 16.841949 marmoset_MT29-051   marmoset\n",
       "11 GLUT       9767    13502 72.337431 marmoset_MT29-051   marmoset\n",
       "12 No-Neuron  1461    13502 10.820619 marmoset_MT29-051   marmoset\n",
       "13 GABA      12354    56944 21.694999 mouse_MS-cla-001    mouse   \n",
       "14 GLUT      36274    56944 63.701180 mouse_MS-cla-001    mouse   \n",
       "15 No-Neuron  8316    56944 14.603821 mouse_MS-cla-001    mouse   \n",
       "16 GABA      17148    86434 19.839415 mouse_MS060-cla001  mouse   \n",
       "17 GLUT      55684    86434 64.423722 mouse_MS060-cla001  mouse   \n",
       "18 No-Neuron 13602    86434 15.736863 mouse_MS060-cla001  mouse   \n",
       "19 GABA      16531    91608 18.045367 mouse_MS060-cla 001 mouse   \n",
       "20 GLUT      61587    91608 67.228845 mouse_MS060-cla 001 mouse   \n",
       "21 No-Neuron 13490    91608 14.725788 mouse_MS060-cla 001 mouse   \n",
       "22 GABA       8461    40118 21.090284 macaque_MQ286       macaque \n",
       "23 GLUT      17142    40118 42.728950 macaque_MQ286       macaque \n",
       "24 No-Neuron 14515    40118 36.180767 macaque_MQ286       macaque \n",
       "25 GABA       5846    50699 11.530799 macaque_MQ279       macaque \n",
       "26 GLUT      22624    50699 44.624154 macaque_MQ279       macaque \n",
       "27 No-Neuron 22229    50699 43.845046 macaque_MQ279       macaque \n",
       "28 GABA      10671    69813 15.285119 macaque_MQ277       macaque \n",
       "29 GLUT      34819    69813 49.874665 macaque_MQ277       macaque \n",
       "30 No-Neuron 24323    69813 34.840216 macaque_MQ277       macaque \n",
       "31 GABA       9315    67120 13.878129 macaque_MQ439       macaque \n",
       "32 GLUT      47421    67120 70.651073 macaque_MQ439       macaque \n",
       "33 No-Neuron 10384    67120 15.470799 macaque_MQ439       macaque "
      ]
     },
     "metadata": {},
     "output_type": "display_data"
    }
   ],
   "source": [
    "meta_mouse$num=1\n",
    "mouse_sum=meta_mouse %>% group_by(Subgroup) %>% summarise(part_num=sum(num))\n",
    "mouse_sum$all=sum(mouse_sum$part_num)\n",
    "mouse_sum$ratio=mouse_sum$part_num/mouse_sum$all*100\n",
    "\n",
    "mouse_sum_all=data.frame()\n",
    "for(i in unique(mouse_meta$sample)){\n",
    "    meta_mouse_sub=meta_mouse[meta_mouse$sample %in% i,]\n",
    "    meta_mouse_sub$num=1\n",
    "    mouse_sum=meta_mouse_sub %>% group_by(Subgroup) %>% summarise(part_num=sum(num))\n",
    "    mouse_sum$all=sum(mouse_sum$part_num)\n",
    "    mouse_sum$ratio=mouse_sum$part_num/mouse_sum$all*100\n",
    "    mouse_sum$donor=paste0('mouse_',i)\n",
    "    mouse_sum_all=rbind(mouse_sum_all,mouse_sum)\n",
    "}\n",
    "\n",
    "\n",
    "macaque_sum_all=data.frame()\n",
    "for(i in unique(macaque_meta$sample)){\n",
    "    meta_macaque_sub=meta_macaque[meta_macaque$sample %in% i,]\n",
    "    meta_macaque_sub$num=1\n",
    "    macaque_sum=meta_macaque_sub %>% group_by(Subgroup) %>% summarise(part_num=sum(num))\n",
    "    macaque_sum$all=sum(macaque_sum$part_num)\n",
    "    macaque_sum$ratio=macaque_sum$part_num/macaque_sum$all*100\n",
    "    macaque_sum$donor=paste0('macaque_',i)\n",
    "    macaque_sum_all=rbind(macaque_sum_all,macaque_sum)\n",
    "}\n",
    "\n",
    "marmoset_sum_all=data.frame()\n",
    "for(i in unique(marmoset_meta$sample)){\n",
    "    meta_marmoset_sub=meta_marmoset[meta_marmoset$sample %in% i,]\n",
    "    meta_marmoset_sub$num=1\n",
    "    marmoset_sum=meta_marmoset_sub %>% group_by(Subgroup) %>% summarise(part_num=sum(num))\n",
    "    marmoset_sum$all=sum(marmoset_sum$part_num)\n",
    "    marmoset_sum$ratio=marmoset_sum$part_num/marmoset_sum$all*100\n",
    "    marmoset_sum$donor=paste0('marmoset_',i)\n",
    "    marmoset_sum_all=rbind(marmoset_sum_all,marmoset_sum)\n",
    "}\n",
    "\n",
    "marmoset_sum_all$species='marmoset'\n",
    "mouse_sum_all$species='mouse'\n",
    "macaque_sum_all$species='macaque'\n",
    "sum_all=rbind(marmoset_sum_all,mouse_sum_all,macaque_sum_all)\n",
    "sum_all"
   ]
  },
  {
   "cell_type": "code",
   "execution_count": 7,
   "id": "dd748b48",
   "metadata": {},
   "outputs": [
    {
     "name": "stderr",
     "output_type": "stream",
     "text": [
      "\n",
      "Attaching package: ‘ggpubr’\n",
      "\n",
      "\n",
      "The following object is masked from ‘package:cowplot’:\n",
      "\n",
      "    get_legend\n",
      "\n",
      "\n",
      "\n",
      "Attaching package: ‘rstatix’\n",
      "\n",
      "\n",
      "The following object is masked from ‘package:stats’:\n",
      "\n",
      "    filter\n",
      "\n",
      "\n"
     ]
    }
   ],
   "source": [
    "library(ggpubr)\n",
    "library(ggprism)\n",
    "library(dplyr)\n",
    "library(rstatix)"
   ]
  },
  {
   "cell_type": "code",
   "execution_count": 8,
   "id": "ec500f23",
   "metadata": {
    "scrolled": true
   },
   "outputs": [
    {
     "name": "stderr",
     "output_type": "stream",
     "text": [
      "Scale for 'fill' is already present. Adding another scale for 'fill', which\n",
      "will replace the existing scale.\n",
      "\n"
     ]
    },
    {
     "data": {
      "image/png": "[encoded data removed]",
      "text/plain": [
       "plot without title"
      ]
     },
     "metadata": {
      "image/png": {
       "height": 300,
       "width": 360
      }
     },
     "output_type": "display_data"
    }
   ],
   "source": [
    "options(repr.plot.width=6, repr.plot.height=5)\n",
    "\n",
    "\n",
    "test=ggbarplot(sum_all, x = \"Subgroup\", y = \"ratio\", \n",
    "          add = c(\"mean_sd\"),\n",
    "          color = \"species\",fill = \"species\", palette = \"npg\",\n",
    "position = position_dodge(0.8))+  scale_fill_prism(palette = \"candy_bright\")#使用ggprism包修改颜色\n",
    "test"
   ]
  },
  {
   "cell_type": "code",
   "execution_count": 9,
   "id": "0eb18854",
   "metadata": {},
   "outputs": [
    {
     "data": {
      "image/png": "[encoded data removed]",
      "text/plain": [
       "plot without title"
      ]
     },
     "metadata": {
      "image/png": {
       "height": 300,
       "width": 360
      }
     },
     "output_type": "display_data"
    }
   ],
   "source": [
    "stat.test <- sum_all %>% group_by(Subgroup) %>%\n",
    "  t_test(ratio ~ species) %>%\n",
    "  #adjust_pvalue()%>% \n",
    "  add_significance(\"p.adj\")\n",
    "stat.test <- stat.test %>% \n",
    "  add_xy_position(x='Subgroup',dodge = 1)\n",
    "  #add_y_position()\n",
    "gp1=test + stat_pvalue_manual(\n",
    "  stat.test,  label = \"p.adj.signif\", tip.length = 0\n",
    "  ) +\n",
    "  scale_y_continuous(expand = expansion(mult = c(0, .5)))\n",
    "\n",
    "gp1"
   ]
  },
  {
   "cell_type": "code",
   "execution_count": 11,
   "id": "6e07e706",
   "metadata": {},
   "outputs": [],
   "source": [
    "typeeee='ALL'\n",
    "write.csv(sum_all,paste0('/home/liuyx/liuyuxuan/spa_seurat/cla/fig_1206/species_compare_df/',typeeee,'_summary.csv'))\n"
   ]
  },
  {
   "cell_type": "code",
   "execution_count": 24,
   "id": "69429fbf",
   "metadata": {},
   "outputs": [
    {
     "data": {
      "image/png": "[encoded data removed]",
      "text/plain": [
       "plot without title"
      ]
     },
     "metadata": {
      "image/png": {
       "height": 600,
       "width": 1500
      }
     },
     "output_type": "display_data"
    }
   ],
   "source": [
    "options(repr.plot.width=25, repr.plot.height=10)\n",
    "test + stat_pvalue_manual(\n",
    "  stat.test[stat.test$p.adj.signif %in% c('**','***'),],  label = \"p.adj.signif\", tip.length = 0\n",
    "  ) +\n",
    "  scale_y_continuous(expand = expansion(mult = c(0, .5)))\n",
    "\n"
   ]
  },
  {
   "cell_type": "code",
   "execution_count": null,
   "id": "d7cc9b8c",
   "metadata": {},
   "outputs": [],
   "source": []
  },
  {
   "cell_type": "code",
   "execution_count": null,
   "id": "e7c26bd9",
   "metadata": {},
   "outputs": [],
   "source": []
  },
  {
   "cell_type": "code",
   "execution_count": null,
   "id": "fbf24519",
   "metadata": {},
   "outputs": [],
   "source": []
  },
  {
   "cell_type": "code",
   "execution_count": 12,
   "id": "70280213",
   "metadata": {},
   "outputs": [
    {
     "data": {
      "text/html": [
       "<style>\n",
       ".list-inline {list-style: none; margin:0; padding: 0}\n",
       ".list-inline>li {display: inline-block}\n",
       ".list-inline>li:not(:last-child)::after {content: \"\\00b7\"; padding: 0 .5ex}\n",
       "</style>\n",
       "<ol class=list-inline><li>'GLUT_VENO'</li><li>'GLUT_GNB4+'</li><li>'GLUT_GNB4-'</li></ol>\n"
      ],
      "text/latex": [
       "\\begin{enumerate*}\n",
       "\\item 'GLUT\\_VENO'\n",
       "\\item 'GLUT\\_GNB4+'\n",
       "\\item 'GLUT\\_GNB4-'\n",
       "\\end{enumerate*}\n"
      ],
      "text/markdown": [
       "1. 'GLUT_VENO'\n",
       "2. 'GLUT_GNB4+'\n",
       "3. 'GLUT_GNB4-'\n",
       "\n",
       "\n"
      ],
      "text/plain": [
       "[1] \"GLUT_VENO\"  \"GLUT_GNB4+\" \"GLUT_GNB4-\""
      ]
     },
     "metadata": {},
     "output_type": "display_data"
    },
    {
     "data": {
      "text/html": [
       "<style>\n",
       ".list-inline {list-style: none; margin:0; padding: 0}\n",
       ".list-inline>li {display: inline-block}\n",
       ".list-inline>li:not(:last-child)::after {content: \"\\00b7\"; padding: 0 .5ex}\n",
       "</style>\n",
       "<ol class=list-inline><li>'GLUT_GNB4-'</li><li>'GLUT_GNB4+'</li><li>'GLUT_VENO'</li></ol>\n"
      ],
      "text/latex": [
       "\\begin{enumerate*}\n",
       "\\item 'GLUT\\_GNB4-'\n",
       "\\item 'GLUT\\_GNB4+'\n",
       "\\item 'GLUT\\_VENO'\n",
       "\\end{enumerate*}\n"
      ],
      "text/markdown": [
       "1. 'GLUT_GNB4-'\n",
       "2. 'GLUT_GNB4+'\n",
       "3. 'GLUT_VENO'\n",
       "\n",
       "\n"
      ],
      "text/plain": [
       "[1] \"GLUT_GNB4-\" \"GLUT_GNB4+\" \"GLUT_VENO\" "
      ]
     },
     "metadata": {},
     "output_type": "display_data"
    },
    {
     "data": {
      "text/html": [
       "<style>\n",
       ".list-inline {list-style: none; margin:0; padding: 0}\n",
       ".list-inline>li {display: inline-block}\n",
       ".list-inline>li:not(:last-child)::after {content: \"\\00b7\"; padding: 0 .5ex}\n",
       "</style>\n",
       "<ol class=list-inline><li>'GLUT_GNB4+'</li><li>'GLUT_VENO'</li><li>'GLUT_GNB4-'</li></ol>\n"
      ],
      "text/latex": [
       "\\begin{enumerate*}\n",
       "\\item 'GLUT\\_GNB4+'\n",
       "\\item 'GLUT\\_VENO'\n",
       "\\item 'GLUT\\_GNB4-'\n",
       "\\end{enumerate*}\n"
      ],
      "text/markdown": [
       "1. 'GLUT_GNB4+'\n",
       "2. 'GLUT_VENO'\n",
       "3. 'GLUT_GNB4-'\n",
       "\n",
       "\n"
      ],
      "text/plain": [
       "[1] \"GLUT_GNB4+\" \"GLUT_VENO\"  \"GLUT_GNB4-\""
      ]
     },
     "metadata": {},
     "output_type": "display_data"
    }
   ],
   "source": [
    "meta_mouse=mouse_meta[mouse_meta$Subgroup=='GLUT',]\n",
    "meta_mouse$Subgroup=meta_mouse$SuperCluster\n",
    "\n",
    "meta_macaque=macaque_meta[macaque_meta$Subgroup=='GLUT',]\n",
    "meta_macaque$Subgroup=meta_macaque$SuperCluster\n",
    "\n",
    "meta_marmoset= marmoset_meta[marmoset_meta$Subgroup=='GLUT',]\n",
    "meta_marmoset$Subgroup=meta_marmoset$SuperCluster\n",
    "\n",
    "unique(meta_mouse$Subgroup)\n",
    "unique(meta_macaque$Subgroup)\n",
    "unique(meta_marmoset$Subgroup)"
   ]
  },
  {
   "cell_type": "code",
   "execution_count": 13,
   "id": "06ff4dfc",
   "metadata": {
    "scrolled": true
   },
   "outputs": [
    {
     "data": {
      "text/html": [
       "<table class=\"dataframe\">\n",
       "<caption>A tibble: 33 × 6</caption>\n",
       "<thead>\n",
       "\t<tr><th scope=col>Subgroup</th><th scope=col>part_num</th><th scope=col>all</th><th scope=col>ratio</th><th scope=col>donor</th><th scope=col>species</th></tr>\n",
       "\t<tr><th scope=col>&lt;chr&gt;</th><th scope=col>&lt;dbl&gt;</th><th scope=col>&lt;dbl&gt;</th><th scope=col>&lt;dbl&gt;</th><th scope=col>&lt;chr&gt;</th><th scope=col>&lt;chr&gt;</th></tr>\n",
       "</thead>\n",
       "<tbody>\n",
       "\t<tr><td>GLUT_GNB4-</td><td> 2917</td><td> 9660</td><td>30.196687</td><td>marmoset_MT23R-001 </td><td>marmoset</td></tr>\n",
       "\t<tr><td>GLUT_GNB4+</td><td> 5300</td><td> 9660</td><td>54.865424</td><td>marmoset_MT23R-001 </td><td>marmoset</td></tr>\n",
       "\t<tr><td>GLUT_VENO </td><td> 1443</td><td> 9660</td><td>14.937888</td><td>marmoset_MT23R-001 </td><td>marmoset</td></tr>\n",
       "\t<tr><td>GLUT_GNB4-</td><td>11591</td><td>36226</td><td>31.996356</td><td>marmoset_MT30-008  </td><td>marmoset</td></tr>\n",
       "\t<tr><td>GLUT_GNB4+</td><td>18394</td><td>36226</td><td>50.775686</td><td>marmoset_MT30-008  </td><td>marmoset</td></tr>\n",
       "\t<tr><td>GLUT_VENO </td><td> 6241</td><td>36226</td><td>17.227958</td><td>marmoset_MT30-008  </td><td>marmoset</td></tr>\n",
       "\t<tr><td>GLUT_GNB4-</td><td> 4538</td><td>22744</td><td>19.952515</td><td>marmoset_MT29-043  </td><td>marmoset</td></tr>\n",
       "\t<tr><td>GLUT_GNB4+</td><td>15818</td><td>22744</td><td>69.548013</td><td>marmoset_MT29-043  </td><td>marmoset</td></tr>\n",
       "\t<tr><td>GLUT_VENO </td><td> 2388</td><td>22744</td><td>10.499472</td><td>marmoset_MT29-043  </td><td>marmoset</td></tr>\n",
       "\t<tr><td>GLUT_GNB4-</td><td> 3424</td><td> 9767</td><td>35.056824</td><td>marmoset_MT29-051  </td><td>marmoset</td></tr>\n",
       "\t<tr><td>GLUT_GNB4+</td><td> 4931</td><td> 9767</td><td>50.486332</td><td>marmoset_MT29-051  </td><td>marmoset</td></tr>\n",
       "\t<tr><td>GLUT_VENO </td><td> 1412</td><td> 9767</td><td>14.456844</td><td>marmoset_MT29-051  </td><td>marmoset</td></tr>\n",
       "\t<tr><td>GLUT_GNB4-</td><td>14343</td><td>36274</td><td>39.540718</td><td>mouse_MS-cla-001   </td><td>mouse   </td></tr>\n",
       "\t<tr><td>GLUT_GNB4+</td><td> 6460</td><td>36274</td><td>17.808899</td><td>mouse_MS-cla-001   </td><td>mouse   </td></tr>\n",
       "\t<tr><td>GLUT_VENO </td><td>15471</td><td>36274</td><td>42.650383</td><td>mouse_MS-cla-001   </td><td>mouse   </td></tr>\n",
       "\t<tr><td>GLUT_GNB4-</td><td>22597</td><td>55684</td><td>40.580777</td><td>mouse_MS060-cla001 </td><td>mouse   </td></tr>\n",
       "\t<tr><td>GLUT_GNB4+</td><td> 7034</td><td>55684</td><td>12.631995</td><td>mouse_MS060-cla001 </td><td>mouse   </td></tr>\n",
       "\t<tr><td>GLUT_VENO </td><td>26053</td><td>55684</td><td>46.787228</td><td>mouse_MS060-cla001 </td><td>mouse   </td></tr>\n",
       "\t<tr><td>GLUT_GNB4-</td><td>25458</td><td>61587</td><td>41.336646</td><td>mouse_MS060-cla 001</td><td>mouse   </td></tr>\n",
       "\t<tr><td>GLUT_GNB4+</td><td> 8448</td><td>61587</td><td>13.717181</td><td>mouse_MS060-cla 001</td><td>mouse   </td></tr>\n",
       "\t<tr><td>GLUT_VENO </td><td>27681</td><td>61587</td><td>44.946174</td><td>mouse_MS060-cla 001</td><td>mouse   </td></tr>\n",
       "\t<tr><td>GLUT_GNB4-</td><td> 5500</td><td>17142</td><td>32.084938</td><td>macaque_MQ286      </td><td>macaque </td></tr>\n",
       "\t<tr><td>GLUT_GNB4+</td><td>10256</td><td>17142</td><td>59.829658</td><td>macaque_MQ286      </td><td>macaque </td></tr>\n",
       "\t<tr><td>GLUT_VENO </td><td> 1386</td><td>17142</td><td> 8.085404</td><td>macaque_MQ286      </td><td>macaque </td></tr>\n",
       "\t<tr><td>GLUT_GNB4-</td><td> 5649</td><td>22624</td><td>24.969059</td><td>macaque_MQ279      </td><td>macaque </td></tr>\n",
       "\t<tr><td>GLUT_GNB4+</td><td>15554</td><td>22624</td><td>68.750000</td><td>macaque_MQ279      </td><td>macaque </td></tr>\n",
       "\t<tr><td>GLUT_VENO </td><td> 1421</td><td>22624</td><td> 6.280941</td><td>macaque_MQ279      </td><td>macaque </td></tr>\n",
       "\t<tr><td>GLUT_GNB4-</td><td>12647</td><td>34819</td><td>36.322123</td><td>macaque_MQ277      </td><td>macaque </td></tr>\n",
       "\t<tr><td>GLUT_GNB4+</td><td>18555</td><td>34819</td><td>53.289870</td><td>macaque_MQ277      </td><td>macaque </td></tr>\n",
       "\t<tr><td>GLUT_VENO </td><td> 3617</td><td>34819</td><td>10.388007</td><td>macaque_MQ277      </td><td>macaque </td></tr>\n",
       "\t<tr><td>GLUT_GNB4-</td><td>10076</td><td>47421</td><td>21.247970</td><td>macaque_MQ439      </td><td>macaque </td></tr>\n",
       "\t<tr><td>GLUT_GNB4+</td><td>34579</td><td>47421</td><td>72.919171</td><td>macaque_MQ439      </td><td>macaque </td></tr>\n",
       "\t<tr><td>GLUT_VENO </td><td> 2766</td><td>47421</td><td> 5.832859</td><td>macaque_MQ439      </td><td>macaque </td></tr>\n",
       "</tbody>\n",
       "</table>\n"
      ],
      "text/latex": [
       "A tibble: 33 × 6\n",
       "\\begin{tabular}{llllll}\n",
       " Subgroup & part\\_num & all & ratio & donor & species\\\\\n",
       " <chr> & <dbl> & <dbl> & <dbl> & <chr> & <chr>\\\\\n",
       "\\hline\n",
       "\t GLUT\\_GNB4- &  2917 &  9660 & 30.196687 & marmoset\\_MT23R-001  & marmoset\\\\\n",
       "\t GLUT\\_GNB4+ &  5300 &  9660 & 54.865424 & marmoset\\_MT23R-001  & marmoset\\\\\n",
       "\t GLUT\\_VENO  &  1443 &  9660 & 14.937888 & marmoset\\_MT23R-001  & marmoset\\\\\n",
       "\t GLUT\\_GNB4- & 11591 & 36226 & 31.996356 & marmoset\\_MT30-008   & marmoset\\\\\n",
       "\t GLUT\\_GNB4+ & 18394 & 36226 & 50.775686 & marmoset\\_MT30-008   & marmoset\\\\\n",
       "\t GLUT\\_VENO  &  6241 & 36226 & 17.227958 & marmoset\\_MT30-008   & marmoset\\\\\n",
       "\t GLUT\\_GNB4- &  4538 & 22744 & 19.952515 & marmoset\\_MT29-043   & marmoset\\\\\n",
       "\t GLUT\\_GNB4+ & 15818 & 22744 & 69.548013 & marmoset\\_MT29-043   & marmoset\\\\\n",
       "\t GLUT\\_VENO  &  2388 & 22744 & 10.499472 & marmoset\\_MT29-043   & marmoset\\\\\n",
       "\t GLUT\\_GNB4- &  3424 &  9767 & 35.056824 & marmoset\\_MT29-051   & marmoset\\\\\n",
       "\t GLUT\\_GNB4+ &  4931 &  9767 & 50.486332 & marmoset\\_MT29-051   & marmoset\\\\\n",
       "\t GLUT\\_VENO  &  1412 &  9767 & 14.456844 & marmoset\\_MT29-051   & marmoset\\\\\n",
       "\t GLUT\\_GNB4- & 14343 & 36274 & 39.540718 & mouse\\_MS-cla-001    & mouse   \\\\\n",
       "\t GLUT\\_GNB4+ &  6460 & 36274 & 17.808899 & mouse\\_MS-cla-001    & mouse   \\\\\n",
       "\t GLUT\\_VENO  & 15471 & 36274 & 42.650383 & mouse\\_MS-cla-001    & mouse   \\\\\n",
       "\t GLUT\\_GNB4- & 22597 & 55684 & 40.580777 & mouse\\_MS060-cla001  & mouse   \\\\\n",
       "\t GLUT\\_GNB4+ &  7034 & 55684 & 12.631995 & mouse\\_MS060-cla001  & mouse   \\\\\n",
       "\t GLUT\\_VENO  & 26053 & 55684 & 46.787228 & mouse\\_MS060-cla001  & mouse   \\\\\n",
       "\t GLUT\\_GNB4- & 25458 & 61587 & 41.336646 & mouse\\_MS060-cla 001 & mouse   \\\\\n",
       "\t GLUT\\_GNB4+ &  8448 & 61587 & 13.717181 & mouse\\_MS060-cla 001 & mouse   \\\\\n",
       "\t GLUT\\_VENO  & 27681 & 61587 & 44.946174 & mouse\\_MS060-cla 001 & mouse   \\\\\n",
       "\t GLUT\\_GNB4- &  5500 & 17142 & 32.084938 & macaque\\_MQ286       & macaque \\\\\n",
       "\t GLUT\\_GNB4+ & 10256 & 17142 & 59.829658 & macaque\\_MQ286       & macaque \\\\\n",
       "\t GLUT\\_VENO  &  1386 & 17142 &  8.085404 & macaque\\_MQ286       & macaque \\\\\n",
       "\t GLUT\\_GNB4- &  5649 & 22624 & 24.969059 & macaque\\_MQ279       & macaque \\\\\n",
       "\t GLUT\\_GNB4+ & 15554 & 22624 & 68.750000 & macaque\\_MQ279       & macaque \\\\\n",
       "\t GLUT\\_VENO  &  1421 & 22624 &  6.280941 & macaque\\_MQ279       & macaque \\\\\n",
       "\t GLUT\\_GNB4- & 12647 & 34819 & 36.322123 & macaque\\_MQ277       & macaque \\\\\n",
       "\t GLUT\\_GNB4+ & 18555 & 34819 & 53.289870 & macaque\\_MQ277       & macaque \\\\\n",
       "\t GLUT\\_VENO  &  3617 & 34819 & 10.388007 & macaque\\_MQ277       & macaque \\\\\n",
       "\t GLUT\\_GNB4- & 10076 & 47421 & 21.247970 & macaque\\_MQ439       & macaque \\\\\n",
       "\t GLUT\\_GNB4+ & 34579 & 47421 & 72.919171 & macaque\\_MQ439       & macaque \\\\\n",
       "\t GLUT\\_VENO  &  2766 & 47421 &  5.832859 & macaque\\_MQ439       & macaque \\\\\n",
       "\\end{tabular}\n"
      ],
      "text/markdown": [
       "\n",
       "A tibble: 33 × 6\n",
       "\n",
       "| Subgroup &lt;chr&gt; | part_num &lt;dbl&gt; | all &lt;dbl&gt; | ratio &lt;dbl&gt; | donor &lt;chr&gt; | species &lt;chr&gt; |\n",
       "|---|---|---|---|---|---|\n",
       "| GLUT_GNB4- |  2917 |  9660 | 30.196687 | marmoset_MT23R-001  | marmoset |\n",
       "| GLUT_GNB4+ |  5300 |  9660 | 54.865424 | marmoset_MT23R-001  | marmoset |\n",
       "| GLUT_VENO  |  1443 |  9660 | 14.937888 | marmoset_MT23R-001  | marmoset |\n",
       "| GLUT_GNB4- | 11591 | 36226 | 31.996356 | marmoset_MT30-008   | marmoset |\n",
       "| GLUT_GNB4+ | 18394 | 36226 | 50.775686 | marmoset_MT30-008   | marmoset |\n",
       "| GLUT_VENO  |  6241 | 36226 | 17.227958 | marmoset_MT30-008   | marmoset |\n",
       "| GLUT_GNB4- |  4538 | 22744 | 19.952515 | marmoset_MT29-043   | marmoset |\n",
       "| GLUT_GNB4+ | 15818 | 22744 | 69.548013 | marmoset_MT29-043   | marmoset |\n",
       "| GLUT_VENO  |  2388 | 22744 | 10.499472 | marmoset_MT29-043   | marmoset |\n",
       "| GLUT_GNB4- |  3424 |  9767 | 35.056824 | marmoset_MT29-051   | marmoset |\n",
       "| GLUT_GNB4+ |  4931 |  9767 | 50.486332 | marmoset_MT29-051   | marmoset |\n",
       "| GLUT_VENO  |  1412 |  9767 | 14.456844 | marmoset_MT29-051   | marmoset |\n",
       "| GLUT_GNB4- | 14343 | 36274 | 39.540718 | mouse_MS-cla-001    | mouse    |\n",
       "| GLUT_GNB4+ |  6460 | 36274 | 17.808899 | mouse_MS-cla-001    | mouse    |\n",
       "| GLUT_VENO  | 15471 | 36274 | 42.650383 | mouse_MS-cla-001    | mouse    |\n",
       "| GLUT_GNB4- | 22597 | 55684 | 40.580777 | mouse_MS060-cla001  | mouse    |\n",
       "| GLUT_GNB4+ |  7034 | 55684 | 12.631995 | mouse_MS060-cla001  | mouse    |\n",
       "| GLUT_VENO  | 26053 | 55684 | 46.787228 | mouse_MS060-cla001  | mouse    |\n",
       "| GLUT_GNB4- | 25458 | 61587 | 41.336646 | mouse_MS060-cla 001 | mouse    |\n",
       "| GLUT_GNB4+ |  8448 | 61587 | 13.717181 | mouse_MS060-cla 001 | mouse    |\n",
       "| GLUT_VENO  | 27681 | 61587 | 44.946174 | mouse_MS060-cla 001 | mouse    |\n",
       "| GLUT_GNB4- |  5500 | 17142 | 32.084938 | macaque_MQ286       | macaque  |\n",
       "| GLUT_GNB4+ | 10256 | 17142 | 59.829658 | macaque_MQ286       | macaque  |\n",
       "| GLUT_VENO  |  1386 | 17142 |  8.085404 | macaque_MQ286       | macaque  |\n",
       "| GLUT_GNB4- |  5649 | 22624 | 24.969059 | macaque_MQ279       | macaque  |\n",
       "| GLUT_GNB4+ | 15554 | 22624 | 68.750000 | macaque_MQ279       | macaque  |\n",
       "| GLUT_VENO  |  1421 | 22624 |  6.280941 | macaque_MQ279       | macaque  |\n",
       "| GLUT_GNB4- | 12647 | 34819 | 36.322123 | macaque_MQ277       | macaque  |\n",
       "| GLUT_GNB4+ | 18555 | 34819 | 53.289870 | macaque_MQ277       | macaque  |\n",
       "| GLUT_VENO  |  3617 | 34819 | 10.388007 | macaque_MQ277       | macaque  |\n",
       "| GLUT_GNB4- | 10076 | 47421 | 21.247970 | macaque_MQ439       | macaque  |\n",
       "| GLUT_GNB4+ | 34579 | 47421 | 72.919171 | macaque_MQ439       | macaque  |\n",
       "| GLUT_VENO  |  2766 | 47421 |  5.832859 | macaque_MQ439       | macaque  |\n",
       "\n"
      ],
      "text/plain": [
       "   Subgroup   part_num all   ratio     donor               species \n",
       "1  GLUT_GNB4-  2917     9660 30.196687 marmoset_MT23R-001  marmoset\n",
       "2  GLUT_GNB4+  5300     9660 54.865424 marmoset_MT23R-001  marmoset\n",
       "3  GLUT_VENO   1443     9660 14.937888 marmoset_MT23R-001  marmoset\n",
       "4  GLUT_GNB4- 11591    36226 31.996356 marmoset_MT30-008   marmoset\n",
       "5  GLUT_GNB4+ 18394    36226 50.775686 marmoset_MT30-008   marmoset\n",
       "6  GLUT_VENO   6241    36226 17.227958 marmoset_MT30-008   marmoset\n",
       "7  GLUT_GNB4-  4538    22744 19.952515 marmoset_MT29-043   marmoset\n",
       "8  GLUT_GNB4+ 15818    22744 69.548013 marmoset_MT29-043   marmoset\n",
       "9  GLUT_VENO   2388    22744 10.499472 marmoset_MT29-043   marmoset\n",
       "10 GLUT_GNB4-  3424     9767 35.056824 marmoset_MT29-051   marmoset\n",
       "11 GLUT_GNB4+  4931     9767 50.486332 marmoset_MT29-051   marmoset\n",
       "12 GLUT_VENO   1412     9767 14.456844 marmoset_MT29-051   marmoset\n",
       "13 GLUT_GNB4- 14343    36274 39.540718 mouse_MS-cla-001    mouse   \n",
       "14 GLUT_GNB4+  6460    36274 17.808899 mouse_MS-cla-001    mouse   \n",
       "15 GLUT_VENO  15471    36274 42.650383 mouse_MS-cla-001    mouse   \n",
       "16 GLUT_GNB4- 22597    55684 40.580777 mouse_MS060-cla001  mouse   \n",
       "17 GLUT_GNB4+  7034    55684 12.631995 mouse_MS060-cla001  mouse   \n",
       "18 GLUT_VENO  26053    55684 46.787228 mouse_MS060-cla001  mouse   \n",
       "19 GLUT_GNB4- 25458    61587 41.336646 mouse_MS060-cla 001 mouse   \n",
       "20 GLUT_GNB4+  8448    61587 13.717181 mouse_MS060-cla 001 mouse   \n",
       "21 GLUT_VENO  27681    61587 44.946174 mouse_MS060-cla 001 mouse   \n",
       "22 GLUT_GNB4-  5500    17142 32.084938 macaque_MQ286       macaque \n",
       "23 GLUT_GNB4+ 10256    17142 59.829658 macaque_MQ286       macaque \n",
       "24 GLUT_VENO   1386    17142  8.085404 macaque_MQ286       macaque \n",
       "25 GLUT_GNB4-  5649    22624 24.969059 macaque_MQ279       macaque \n",
       "26 GLUT_GNB4+ 15554    22624 68.750000 macaque_MQ279       macaque \n",
       "27 GLUT_VENO   1421    22624  6.280941 macaque_MQ279       macaque \n",
       "28 GLUT_GNB4- 12647    34819 36.322123 macaque_MQ277       macaque \n",
       "29 GLUT_GNB4+ 18555    34819 53.289870 macaque_MQ277       macaque \n",
       "30 GLUT_VENO   3617    34819 10.388007 macaque_MQ277       macaque \n",
       "31 GLUT_GNB4- 10076    47421 21.247970 macaque_MQ439       macaque \n",
       "32 GLUT_GNB4+ 34579    47421 72.919171 macaque_MQ439       macaque \n",
       "33 GLUT_VENO   2766    47421  5.832859 macaque_MQ439       macaque "
      ]
     },
     "metadata": {},
     "output_type": "display_data"
    }
   ],
   "source": [
    "meta_mouse$num=1\n",
    "mouse_sum=meta_mouse %>% group_by(Subgroup) %>% summarise(part_num=sum(num))\n",
    "mouse_sum$all=sum(mouse_sum$part_num)\n",
    "mouse_sum$ratio=mouse_sum$part_num/mouse_sum$all*100\n",
    "\n",
    "mouse_sum_all=data.frame()\n",
    "for(i in unique(mouse_meta$sample)){\n",
    "    meta_mouse_sub=meta_mouse[meta_mouse$sample %in% i,]\n",
    "    meta_mouse_sub$num=1\n",
    "    mouse_sum=meta_mouse_sub %>% group_by(Subgroup) %>% summarise(part_num=sum(num))\n",
    "    mouse_sum$all=sum(mouse_sum$part_num)\n",
    "    mouse_sum$ratio=mouse_sum$part_num/mouse_sum$all*100\n",
    "    mouse_sum$donor=paste0('mouse_',i)\n",
    "    mouse_sum_all=rbind(mouse_sum_all,mouse_sum)\n",
    "}\n",
    "\n",
    "\n",
    "macaque_sum_all=data.frame()\n",
    "for(i in unique(macaque_meta$sample)){\n",
    "    meta_macaque_sub=meta_macaque[meta_macaque$sample %in% i,]\n",
    "    meta_macaque_sub$num=1\n",
    "    macaque_sum=meta_macaque_sub %>% group_by(Subgroup) %>% summarise(part_num=sum(num))\n",
    "    macaque_sum$all=sum(macaque_sum$part_num)\n",
    "    macaque_sum$ratio=macaque_sum$part_num/macaque_sum$all*100\n",
    "    macaque_sum$donor=paste0('macaque_',i)\n",
    "    macaque_sum_all=rbind(macaque_sum_all,macaque_sum)\n",
    "}\n",
    "\n",
    "marmoset_sum_all=data.frame()\n",
    "for(i in unique(marmoset_meta$sample)){\n",
    "    meta_marmoset_sub=meta_marmoset[meta_marmoset$sample %in% i,]\n",
    "    meta_marmoset_sub$num=1\n",
    "    marmoset_sum=meta_marmoset_sub %>% group_by(Subgroup) %>% summarise(part_num=sum(num))\n",
    "    marmoset_sum$all=sum(marmoset_sum$part_num)\n",
    "    marmoset_sum$ratio=marmoset_sum$part_num/marmoset_sum$all*100\n",
    "    marmoset_sum$donor=paste0('marmoset_',i)\n",
    "    marmoset_sum_all=rbind(marmoset_sum_all,marmoset_sum)\n",
    "}\n",
    "\n",
    "marmoset_sum_all$species='marmoset'\n",
    "mouse_sum_all$species='mouse'\n",
    "macaque_sum_all$species='macaque'\n",
    "sum_all=rbind(marmoset_sum_all,mouse_sum_all,macaque_sum_all)\n",
    "sum_all"
   ]
  },
  {
   "cell_type": "code",
   "execution_count": 14,
   "id": "51d6daef",
   "metadata": {},
   "outputs": [
    {
     "name": "stderr",
     "output_type": "stream",
     "text": [
      "Scale for 'fill' is already present. Adding another scale for 'fill', which\n",
      "will replace the existing scale.\n",
      "\n"
     ]
    },
    {
     "data": {
      "image/png": "[encoded data removed]",
      "text/plain": [
       "plot without title"
      ]
     },
     "metadata": {
      "image/png": {
       "height": 300,
       "width": 360
      }
     },
     "output_type": "display_data"
    }
   ],
   "source": [
    "options(repr.plot.width=6, repr.plot.height=5)\n",
    "\n",
    "\n",
    "test=ggbarplot(sum_all, x = \"Subgroup\", y = \"ratio\", \n",
    "          add = c(\"mean_sd\"),\n",
    "          color = \"species\",fill = \"species\", palette = \"npg\",\n",
    "position = position_dodge(0.8))+  scale_fill_prism(palette = \"candy_bright\")#使用ggprism包修改颜色\n",
    "test"
   ]
  },
  {
   "cell_type": "code",
   "execution_count": 15,
   "id": "79e04d20",
   "metadata": {},
   "outputs": [
    {
     "data": {
      "image/png": "[encoded data removed]",
      "text/plain": [
       "plot without title"
      ]
     },
     "metadata": {
      "image/png": {
       "height": 300,
       "width": 360
      }
     },
     "output_type": "display_data"
    }
   ],
   "source": [
    "stat.test <- sum_all %>% group_by(Subgroup) %>%\n",
    "  t_test(ratio ~ species) %>%\n",
    "  #adjust_pvalue()%>% \n",
    "  add_significance(\"p.adj\")\n",
    "stat.test <- stat.test %>% \n",
    "  add_xy_position(x='Subgroup',dodge = 1)\n",
    "  #add_y_position()\n",
    "gp2=test + stat_pvalue_manual(\n",
    "  stat.test,  label = \"p.adj.signif\", tip.length = 0\n",
    "  ) +\n",
    "  scale_y_continuous(expand = expansion(mult = c(0, .5)))\n",
    "\n",
    "gp2"
   ]
  },
  {
   "cell_type": "code",
   "execution_count": 16,
   "id": "8103f964",
   "metadata": {},
   "outputs": [
    {
     "name": "stderr",
     "output_type": "stream",
     "text": [
      "\u001b[1m\u001b[22m`summarise()` has grouped output by 'Subgroup'. You can override using the\n",
      "`.groups` argument.\n"
     ]
    },
    {
     "data": {
      "text/html": [
       "<table class=\"dataframe\">\n",
       "<caption>A grouped_df: 9 × 3</caption>\n",
       "<thead>\n",
       "\t<tr><th scope=col>Subgroup</th><th scope=col>species</th><th scope=col>ratio_m</th></tr>\n",
       "\t<tr><th scope=col>&lt;chr&gt;</th><th scope=col>&lt;chr&gt;</th><th scope=col>&lt;dbl&gt;</th></tr>\n",
       "</thead>\n",
       "<tbody>\n",
       "\t<tr><td>GLUT_GNB4-</td><td>macaque </td><td>28.656023</td></tr>\n",
       "\t<tr><td>GLUT_GNB4-</td><td>marmoset</td><td>29.300596</td></tr>\n",
       "\t<tr><td>GLUT_GNB4-</td><td>mouse   </td><td>40.486047</td></tr>\n",
       "\t<tr><td>GLUT_GNB4+</td><td>macaque </td><td>63.697175</td></tr>\n",
       "\t<tr><td>GLUT_GNB4+</td><td>marmoset</td><td>56.418864</td></tr>\n",
       "\t<tr><td>GLUT_GNB4+</td><td>mouse   </td><td>14.719358</td></tr>\n",
       "\t<tr><td>GLUT_VENO </td><td>macaque </td><td> 7.646803</td></tr>\n",
       "\t<tr><td>GLUT_VENO </td><td>marmoset</td><td>14.280541</td></tr>\n",
       "\t<tr><td>GLUT_VENO </td><td>mouse   </td><td>44.794595</td></tr>\n",
       "</tbody>\n",
       "</table>\n"
      ],
      "text/latex": [
       "A grouped\\_df: 9 × 3\n",
       "\\begin{tabular}{lll}\n",
       " Subgroup & species & ratio\\_m\\\\\n",
       " <chr> & <chr> & <dbl>\\\\\n",
       "\\hline\n",
       "\t GLUT\\_GNB4- & macaque  & 28.656023\\\\\n",
       "\t GLUT\\_GNB4- & marmoset & 29.300596\\\\\n",
       "\t GLUT\\_GNB4- & mouse    & 40.486047\\\\\n",
       "\t GLUT\\_GNB4+ & macaque  & 63.697175\\\\\n",
       "\t GLUT\\_GNB4+ & marmoset & 56.418864\\\\\n",
       "\t GLUT\\_GNB4+ & mouse    & 14.719358\\\\\n",
       "\t GLUT\\_VENO  & macaque  &  7.646803\\\\\n",
       "\t GLUT\\_VENO  & marmoset & 14.280541\\\\\n",
       "\t GLUT\\_VENO  & mouse    & 44.794595\\\\\n",
       "\\end{tabular}\n"
      ],
      "text/markdown": [
       "\n",
       "A grouped_df: 9 × 3\n",
       "\n",
       "| Subgroup &lt;chr&gt; | species &lt;chr&gt; | ratio_m &lt;dbl&gt; |\n",
       "|---|---|---|\n",
       "| GLUT_GNB4- | macaque  | 28.656023 |\n",
       "| GLUT_GNB4- | marmoset | 29.300596 |\n",
       "| GLUT_GNB4- | mouse    | 40.486047 |\n",
       "| GLUT_GNB4+ | macaque  | 63.697175 |\n",
       "| GLUT_GNB4+ | marmoset | 56.418864 |\n",
       "| GLUT_GNB4+ | mouse    | 14.719358 |\n",
       "| GLUT_VENO  | macaque  |  7.646803 |\n",
       "| GLUT_VENO  | marmoset | 14.280541 |\n",
       "| GLUT_VENO  | mouse    | 44.794595 |\n",
       "\n"
      ],
      "text/plain": [
       "  Subgroup   species  ratio_m  \n",
       "1 GLUT_GNB4- macaque  28.656023\n",
       "2 GLUT_GNB4- marmoset 29.300596\n",
       "3 GLUT_GNB4- mouse    40.486047\n",
       "4 GLUT_GNB4+ macaque  63.697175\n",
       "5 GLUT_GNB4+ marmoset 56.418864\n",
       "6 GLUT_GNB4+ mouse    14.719358\n",
       "7 GLUT_VENO  macaque   7.646803\n",
       "8 GLUT_VENO  marmoset 14.280541\n",
       "9 GLUT_VENO  mouse    44.794595"
      ]
     },
     "metadata": {},
     "output_type": "display_data"
    }
   ],
   "source": [
    "sum_all %>% group_by(Subgroup,species) %>% summarise(ratio_m=mean(ratio))"
   ]
  },
  {
   "cell_type": "code",
   "execution_count": 17,
   "id": "3310f8aa",
   "metadata": {},
   "outputs": [],
   "source": [
    "typeeee='GLUT'\n",
    "write.csv(sum_all,paste0('/home/liuyx/liuyuxuan/spa_seurat/cla/fig_1206/species_compare_df/',typeeee,'_summary.csv'))\n"
   ]
  },
  {
   "cell_type": "code",
   "execution_count": null,
   "id": "3183cb33",
   "metadata": {},
   "outputs": [],
   "source": []
  },
  {
   "cell_type": "code",
   "execution_count": null,
   "id": "a1c7e26e",
   "metadata": {},
   "outputs": [],
   "source": []
  },
  {
   "cell_type": "code",
   "execution_count": 18,
   "id": "9cb836ff",
   "metadata": {},
   "outputs": [
    {
     "data": {
      "text/html": [
       "<style>\n",
       ".list-inline {list-style: none; margin:0; padding: 0}\n",
       ".list-inline>li {display: inline-block}\n",
       ".list-inline>li:not(:last-child)::after {content: \"\\00b7\"; padding: 0 .5ex}\n",
       "</style>\n",
       "<ol class=list-inline><li>'GABA_PVALB'</li><li>'GABA_LAMP5'</li><li>'GABA_SST'</li><li>'GABA_VIP'</li><li>'GABA_CHC'</li><li>'GABA_LAMP5_LHX6'</li><li>'GABA_RELN'</li><li>'GABA_DRD2'</li></ol>\n"
      ],
      "text/latex": [
       "\\begin{enumerate*}\n",
       "\\item 'GABA\\_PVALB'\n",
       "\\item 'GABA\\_LAMP5'\n",
       "\\item 'GABA\\_SST'\n",
       "\\item 'GABA\\_VIP'\n",
       "\\item 'GABA\\_CHC'\n",
       "\\item 'GABA\\_LAMP5\\_LHX6'\n",
       "\\item 'GABA\\_RELN'\n",
       "\\item 'GABA\\_DRD2'\n",
       "\\end{enumerate*}\n"
      ],
      "text/markdown": [
       "1. 'GABA_PVALB'\n",
       "2. 'GABA_LAMP5'\n",
       "3. 'GABA_SST'\n",
       "4. 'GABA_VIP'\n",
       "5. 'GABA_CHC'\n",
       "6. 'GABA_LAMP5_LHX6'\n",
       "7. 'GABA_RELN'\n",
       "8. 'GABA_DRD2'\n",
       "\n",
       "\n"
      ],
      "text/plain": [
       "[1] \"GABA_PVALB\"      \"GABA_LAMP5\"      \"GABA_SST\"        \"GABA_VIP\"       \n",
       "[5] \"GABA_CHC\"        \"GABA_LAMP5_LHX6\" \"GABA_RELN\"       \"GABA_DRD2\"      "
      ]
     },
     "metadata": {},
     "output_type": "display_data"
    },
    {
     "data": {
      "text/html": [
       "<style>\n",
       ".list-inline {list-style: none; margin:0; padding: 0}\n",
       ".list-inline>li {display: inline-block}\n",
       ".list-inline>li:not(:last-child)::after {content: \"\\00b7\"; padding: 0 .5ex}\n",
       "</style>\n",
       "<ol class=list-inline><li>'GABA_PVALB'</li><li>'GABA_SST'</li><li>'GABA_LAMP5'</li><li>'GABA_LAMP5_LHX6'</li><li>'GABA_VIP'</li><li>'GABA_RELN'</li><li>'GABA_CHC'</li><li>'GABA_DRD2'</li></ol>\n"
      ],
      "text/latex": [
       "\\begin{enumerate*}\n",
       "\\item 'GABA\\_PVALB'\n",
       "\\item 'GABA\\_SST'\n",
       "\\item 'GABA\\_LAMP5'\n",
       "\\item 'GABA\\_LAMP5\\_LHX6'\n",
       "\\item 'GABA\\_VIP'\n",
       "\\item 'GABA\\_RELN'\n",
       "\\item 'GABA\\_CHC'\n",
       "\\item 'GABA\\_DRD2'\n",
       "\\end{enumerate*}\n"
      ],
      "text/markdown": [
       "1. 'GABA_PVALB'\n",
       "2. 'GABA_SST'\n",
       "3. 'GABA_LAMP5'\n",
       "4. 'GABA_LAMP5_LHX6'\n",
       "5. 'GABA_VIP'\n",
       "6. 'GABA_RELN'\n",
       "7. 'GABA_CHC'\n",
       "8. 'GABA_DRD2'\n",
       "\n",
       "\n"
      ],
      "text/plain": [
       "[1] \"GABA_PVALB\"      \"GABA_SST\"        \"GABA_LAMP5\"      \"GABA_LAMP5_LHX6\"\n",
       "[5] \"GABA_VIP\"        \"GABA_RELN\"       \"GABA_CHC\"        \"GABA_DRD2\"      "
      ]
     },
     "metadata": {},
     "output_type": "display_data"
    },
    {
     "data": {
      "text/html": [
       "<style>\n",
       ".list-inline {list-style: none; margin:0; padding: 0}\n",
       ".list-inline>li {display: inline-block}\n",
       ".list-inline>li:not(:last-child)::after {content: \"\\00b7\"; padding: 0 .5ex}\n",
       "</style>\n",
       "<ol class=list-inline><li>'GABA_PVALB'</li><li>'GABA_SST'</li><li>'GABA_LAMP5_LHX6'</li><li>'GABA_VIP'</li><li>'GABA_RELN'</li><li>'GABA_LAMP5'</li><li>'GABA_CHC'</li><li>'GABA_DRD2'</li></ol>\n"
      ],
      "text/latex": [
       "\\begin{enumerate*}\n",
       "\\item 'GABA\\_PVALB'\n",
       "\\item 'GABA\\_SST'\n",
       "\\item 'GABA\\_LAMP5\\_LHX6'\n",
       "\\item 'GABA\\_VIP'\n",
       "\\item 'GABA\\_RELN'\n",
       "\\item 'GABA\\_LAMP5'\n",
       "\\item 'GABA\\_CHC'\n",
       "\\item 'GABA\\_DRD2'\n",
       "\\end{enumerate*}\n"
      ],
      "text/markdown": [
       "1. 'GABA_PVALB'\n",
       "2. 'GABA_SST'\n",
       "3. 'GABA_LAMP5_LHX6'\n",
       "4. 'GABA_VIP'\n",
       "5. 'GABA_RELN'\n",
       "6. 'GABA_LAMP5'\n",
       "7. 'GABA_CHC'\n",
       "8. 'GABA_DRD2'\n",
       "\n",
       "\n"
      ],
      "text/plain": [
       "[1] \"GABA_PVALB\"      \"GABA_SST\"        \"GABA_LAMP5_LHX6\" \"GABA_VIP\"       \n",
       "[5] \"GABA_RELN\"       \"GABA_LAMP5\"      \"GABA_CHC\"        \"GABA_DRD2\"      "
      ]
     },
     "metadata": {},
     "output_type": "display_data"
    }
   ],
   "source": [
    "meta_mouse=mouse_meta[mouse_meta$Subgroup=='GABA',]\n",
    "meta_mouse$Subgroup=meta_mouse$SuperCluster\n",
    "\n",
    "meta_macaque=macaque_meta[macaque_meta$Subgroup=='GABA',]\n",
    "meta_macaque$Subgroup=meta_macaque$SuperCluster\n",
    "\n",
    "meta_marmoset= marmoset_meta[marmoset_meta$Subgroup=='GABA',]\n",
    "meta_marmoset$Subgroup=meta_marmoset$SuperCluster\n",
    "\n",
    "unique(meta_mouse$Subgroup)\n",
    "unique(meta_macaque$Subgroup)\n",
    "unique(meta_marmoset$Subgroup)"
   ]
  },
  {
   "cell_type": "code",
   "execution_count": 19,
   "id": "45706e92",
   "metadata": {
    "scrolled": true
   },
   "outputs": [
    {
     "data": {
      "text/html": [
       "<table class=\"dataframe\">\n",
       "<caption>A tibble: 88 × 6</caption>\n",
       "<thead>\n",
       "\t<tr><th scope=col>Subgroup</th><th scope=col>part_num</th><th scope=col>all</th><th scope=col>ratio</th><th scope=col>donor</th><th scope=col>species</th></tr>\n",
       "\t<tr><th scope=col>&lt;chr&gt;</th><th scope=col>&lt;dbl&gt;</th><th scope=col>&lt;dbl&gt;</th><th scope=col>&lt;dbl&gt;</th><th scope=col>&lt;chr&gt;</th><th scope=col>&lt;chr&gt;</th></tr>\n",
       "</thead>\n",
       "<tbody>\n",
       "\t<tr><td>GABA_CHC       </td><td>  26</td><td>1767</td><td> 1.471420</td><td>marmoset_MT23R-001</td><td>marmoset</td></tr>\n",
       "\t<tr><td>GABA_DRD2      </td><td> 526</td><td>1767</td><td>29.767968</td><td>marmoset_MT23R-001</td><td>marmoset</td></tr>\n",
       "\t<tr><td>GABA_LAMP5     </td><td>  75</td><td>1767</td><td> 4.244482</td><td>marmoset_MT23R-001</td><td>marmoset</td></tr>\n",
       "\t<tr><td>GABA_LAMP5_LHX6</td><td> 104</td><td>1767</td><td> 5.885682</td><td>marmoset_MT23R-001</td><td>marmoset</td></tr>\n",
       "\t<tr><td>GABA_PVALB     </td><td> 557</td><td>1767</td><td>31.522354</td><td>marmoset_MT23R-001</td><td>marmoset</td></tr>\n",
       "\t<tr><td>GABA_RELN      </td><td> 100</td><td>1767</td><td> 5.659310</td><td>marmoset_MT23R-001</td><td>marmoset</td></tr>\n",
       "\t<tr><td>GABA_SST       </td><td> 269</td><td>1767</td><td>15.223543</td><td>marmoset_MT23R-001</td><td>marmoset</td></tr>\n",
       "\t<tr><td>GABA_VIP       </td><td> 110</td><td>1767</td><td> 6.225241</td><td>marmoset_MT23R-001</td><td>marmoset</td></tr>\n",
       "\t<tr><td>GABA_CHC       </td><td> 162</td><td>7753</td><td> 2.089514</td><td>marmoset_MT30-008 </td><td>marmoset</td></tr>\n",
       "\t<tr><td>GABA_DRD2      </td><td>1646</td><td>7753</td><td>21.230491</td><td>marmoset_MT30-008 </td><td>marmoset</td></tr>\n",
       "\t<tr><td>GABA_LAMP5     </td><td> 307</td><td>7753</td><td> 3.959758</td><td>marmoset_MT30-008 </td><td>marmoset</td></tr>\n",
       "\t<tr><td>GABA_LAMP5_LHX6</td><td> 548</td><td>7753</td><td> 7.068232</td><td>marmoset_MT30-008 </td><td>marmoset</td></tr>\n",
       "\t<tr><td>GABA_PVALB     </td><td>3141</td><td>7753</td><td>40.513350</td><td>marmoset_MT30-008 </td><td>marmoset</td></tr>\n",
       "\t<tr><td>GABA_RELN      </td><td> 272</td><td>7753</td><td> 3.508319</td><td>marmoset_MT30-008 </td><td>marmoset</td></tr>\n",
       "\t<tr><td>GABA_SST       </td><td>1308</td><td>7753</td><td>16.870889</td><td>marmoset_MT30-008 </td><td>marmoset</td></tr>\n",
       "\t<tr><td>GABA_VIP       </td><td> 369</td><td>7753</td><td> 4.759448</td><td>marmoset_MT30-008 </td><td>marmoset</td></tr>\n",
       "\t<tr><td>GABA_CHC       </td><td>  90</td><td>6601</td><td> 1.363430</td><td>marmoset_MT29-043 </td><td>marmoset</td></tr>\n",
       "\t<tr><td>GABA_DRD2      </td><td>2204</td><td>6601</td><td>33.388880</td><td>marmoset_MT29-043 </td><td>marmoset</td></tr>\n",
       "\t<tr><td>GABA_LAMP5     </td><td> 230</td><td>6601</td><td> 3.484321</td><td>marmoset_MT29-043 </td><td>marmoset</td></tr>\n",
       "\t<tr><td>GABA_LAMP5_LHX6</td><td> 315</td><td>6601</td><td> 4.772004</td><td>marmoset_MT29-043 </td><td>marmoset</td></tr>\n",
       "\t<tr><td>GABA_PVALB     </td><td>2116</td><td>6601</td><td>32.055749</td><td>marmoset_MT29-043 </td><td>marmoset</td></tr>\n",
       "\t<tr><td>GABA_RELN      </td><td> 329</td><td>6601</td><td> 4.984093</td><td>marmoset_MT29-043 </td><td>marmoset</td></tr>\n",
       "\t<tr><td>GABA_SST       </td><td> 838</td><td>6601</td><td>12.695046</td><td>marmoset_MT29-043 </td><td>marmoset</td></tr>\n",
       "\t<tr><td>GABA_VIP       </td><td> 479</td><td>6601</td><td> 7.256476</td><td>marmoset_MT29-043 </td><td>marmoset</td></tr>\n",
       "\t<tr><td>GABA_CHC       </td><td>  26</td><td>2274</td><td> 1.143360</td><td>marmoset_MT29-051 </td><td>marmoset</td></tr>\n",
       "\t<tr><td>GABA_DRD2      </td><td> 849</td><td>2274</td><td>37.335092</td><td>marmoset_MT29-051 </td><td>marmoset</td></tr>\n",
       "\t<tr><td>GABA_LAMP5     </td><td>  75</td><td>2274</td><td> 3.298153</td><td>marmoset_MT29-051 </td><td>marmoset</td></tr>\n",
       "\t<tr><td>GABA_LAMP5_LHX6</td><td> 129</td><td>2274</td><td> 5.672823</td><td>marmoset_MT29-051 </td><td>marmoset</td></tr>\n",
       "\t<tr><td>GABA_PVALB     </td><td> 753</td><td>2274</td><td>33.113456</td><td>marmoset_MT29-051 </td><td>marmoset</td></tr>\n",
       "\t<tr><td>GABA_RELN      </td><td>  53</td><td>2274</td><td> 2.330695</td><td>marmoset_MT29-051 </td><td>marmoset</td></tr>\n",
       "\t<tr><td>⋮</td><td>⋮</td><td>⋮</td><td>⋮</td><td>⋮</td><td>⋮</td></tr>\n",
       "\t<tr><td>GABA_LAMP5     </td><td> 435</td><td> 8461</td><td> 5.141236</td><td>macaque_MQ286</td><td>macaque</td></tr>\n",
       "\t<tr><td>GABA_LAMP5_LHX6</td><td> 538</td><td> 8461</td><td> 6.358586</td><td>macaque_MQ286</td><td>macaque</td></tr>\n",
       "\t<tr><td>GABA_PVALB     </td><td>1246</td><td> 8461</td><td>14.726392</td><td>macaque_MQ286</td><td>macaque</td></tr>\n",
       "\t<tr><td>GABA_RELN      </td><td> 233</td><td> 8461</td><td> 2.753812</td><td>macaque_MQ286</td><td>macaque</td></tr>\n",
       "\t<tr><td>GABA_SST       </td><td> 711</td><td> 8461</td><td> 8.403262</td><td>macaque_MQ286</td><td>macaque</td></tr>\n",
       "\t<tr><td>GABA_VIP       </td><td> 908</td><td> 8461</td><td>10.731592</td><td>macaque_MQ286</td><td>macaque</td></tr>\n",
       "\t<tr><td>GABA_CHC       </td><td> 253</td><td> 5846</td><td> 4.327745</td><td>macaque_MQ279</td><td>macaque</td></tr>\n",
       "\t<tr><td>GABA_DRD2      </td><td> 849</td><td> 5846</td><td>14.522751</td><td>macaque_MQ279</td><td>macaque</td></tr>\n",
       "\t<tr><td>GABA_LAMP5     </td><td> 345</td><td> 5846</td><td> 5.901471</td><td>macaque_MQ279</td><td>macaque</td></tr>\n",
       "\t<tr><td>GABA_LAMP5_LHX6</td><td> 818</td><td> 5846</td><td>13.992473</td><td>macaque_MQ279</td><td>macaque</td></tr>\n",
       "\t<tr><td>GABA_PVALB     </td><td>1398</td><td> 5846</td><td>23.913787</td><td>macaque_MQ279</td><td>macaque</td></tr>\n",
       "\t<tr><td>GABA_RELN      </td><td> 434</td><td> 5846</td><td> 7.423880</td><td>macaque_MQ279</td><td>macaque</td></tr>\n",
       "\t<tr><td>GABA_SST       </td><td> 650</td><td> 5846</td><td>11.118714</td><td>macaque_MQ279</td><td>macaque</td></tr>\n",
       "\t<tr><td>GABA_VIP       </td><td>1099</td><td> 5846</td><td>18.799179</td><td>macaque_MQ279</td><td>macaque</td></tr>\n",
       "\t<tr><td>GABA_CHC       </td><td> 280</td><td>10671</td><td> 2.623934</td><td>macaque_MQ277</td><td>macaque</td></tr>\n",
       "\t<tr><td>GABA_DRD2      </td><td>2771</td><td>10671</td><td>25.967576</td><td>macaque_MQ277</td><td>macaque</td></tr>\n",
       "\t<tr><td>GABA_LAMP5     </td><td> 557</td><td>10671</td><td> 5.219754</td><td>macaque_MQ277</td><td>macaque</td></tr>\n",
       "\t<tr><td>GABA_LAMP5_LHX6</td><td>1104</td><td>10671</td><td>10.345797</td><td>macaque_MQ277</td><td>macaque</td></tr>\n",
       "\t<tr><td>GABA_PVALB     </td><td>2686</td><td>10671</td><td>25.171024</td><td>macaque_MQ277</td><td>macaque</td></tr>\n",
       "\t<tr><td>GABA_RELN      </td><td> 488</td><td>10671</td><td> 4.573142</td><td>macaque_MQ277</td><td>macaque</td></tr>\n",
       "\t<tr><td>GABA_SST       </td><td>1582</td><td>10671</td><td>14.825227</td><td>macaque_MQ277</td><td>macaque</td></tr>\n",
       "\t<tr><td>GABA_VIP       </td><td>1203</td><td>10671</td><td>11.273545</td><td>macaque_MQ277</td><td>macaque</td></tr>\n",
       "\t<tr><td>GABA_CHC       </td><td> 432</td><td> 9315</td><td> 4.637681</td><td>macaque_MQ439</td><td>macaque</td></tr>\n",
       "\t<tr><td>GABA_DRD2      </td><td> 308</td><td> 9315</td><td> 3.306495</td><td>macaque_MQ439</td><td>macaque</td></tr>\n",
       "\t<tr><td>GABA_LAMP5     </td><td> 770</td><td> 9315</td><td> 8.266237</td><td>macaque_MQ439</td><td>macaque</td></tr>\n",
       "\t<tr><td>GABA_LAMP5_LHX6</td><td>1708</td><td> 9315</td><td>18.336017</td><td>macaque_MQ439</td><td>macaque</td></tr>\n",
       "\t<tr><td>GABA_PVALB     </td><td>2928</td><td> 9315</td><td>31.433172</td><td>macaque_MQ439</td><td>macaque</td></tr>\n",
       "\t<tr><td>GABA_RELN      </td><td> 741</td><td> 9315</td><td> 7.954911</td><td>macaque_MQ439</td><td>macaque</td></tr>\n",
       "\t<tr><td>GABA_SST       </td><td>1002</td><td> 9315</td><td>10.756844</td><td>macaque_MQ439</td><td>macaque</td></tr>\n",
       "\t<tr><td>GABA_VIP       </td><td>1426</td><td> 9315</td><td>15.308642</td><td>macaque_MQ439</td><td>macaque</td></tr>\n",
       "</tbody>\n",
       "</table>\n"
      ],
      "text/latex": [
       "A tibble: 88 × 6\n",
       "\\begin{tabular}{llllll}\n",
       " Subgroup & part\\_num & all & ratio & donor & species\\\\\n",
       " <chr> & <dbl> & <dbl> & <dbl> & <chr> & <chr>\\\\\n",
       "\\hline\n",
       "\t GABA\\_CHC        &   26 & 1767 &  1.471420 & marmoset\\_MT23R-001 & marmoset\\\\\n",
       "\t GABA\\_DRD2       &  526 & 1767 & 29.767968 & marmoset\\_MT23R-001 & marmoset\\\\\n",
       "\t GABA\\_LAMP5      &   75 & 1767 &  4.244482 & marmoset\\_MT23R-001 & marmoset\\\\\n",
       "\t GABA\\_LAMP5\\_LHX6 &  104 & 1767 &  5.885682 & marmoset\\_MT23R-001 & marmoset\\\\\n",
       "\t GABA\\_PVALB      &  557 & 1767 & 31.522354 & marmoset\\_MT23R-001 & marmoset\\\\\n",
       "\t GABA\\_RELN       &  100 & 1767 &  5.659310 & marmoset\\_MT23R-001 & marmoset\\\\\n",
       "\t GABA\\_SST        &  269 & 1767 & 15.223543 & marmoset\\_MT23R-001 & marmoset\\\\\n",
       "\t GABA\\_VIP        &  110 & 1767 &  6.225241 & marmoset\\_MT23R-001 & marmoset\\\\\n",
       "\t GABA\\_CHC        &  162 & 7753 &  2.089514 & marmoset\\_MT30-008  & marmoset\\\\\n",
       "\t GABA\\_DRD2       & 1646 & 7753 & 21.230491 & marmoset\\_MT30-008  & marmoset\\\\\n",
       "\t GABA\\_LAMP5      &  307 & 7753 &  3.959758 & marmoset\\_MT30-008  & marmoset\\\\\n",
       "\t GABA\\_LAMP5\\_LHX6 &  548 & 7753 &  7.068232 & marmoset\\_MT30-008  & marmoset\\\\\n",
       "\t GABA\\_PVALB      & 3141 & 7753 & 40.513350 & marmoset\\_MT30-008  & marmoset\\\\\n",
       "\t GABA\\_RELN       &  272 & 7753 &  3.508319 & marmoset\\_MT30-008  & marmoset\\\\\n",
       "\t GABA\\_SST        & 1308 & 7753 & 16.870889 & marmoset\\_MT30-008  & marmoset\\\\\n",
       "\t GABA\\_VIP        &  369 & 7753 &  4.759448 & marmoset\\_MT30-008  & marmoset\\\\\n",
       "\t GABA\\_CHC        &   90 & 6601 &  1.363430 & marmoset\\_MT29-043  & marmoset\\\\\n",
       "\t GABA\\_DRD2       & 2204 & 6601 & 33.388880 & marmoset\\_MT29-043  & marmoset\\\\\n",
       "\t GABA\\_LAMP5      &  230 & 6601 &  3.484321 & marmoset\\_MT29-043  & marmoset\\\\\n",
       "\t GABA\\_LAMP5\\_LHX6 &  315 & 6601 &  4.772004 & marmoset\\_MT29-043  & marmoset\\\\\n",
       "\t GABA\\_PVALB      & 2116 & 6601 & 32.055749 & marmoset\\_MT29-043  & marmoset\\\\\n",
       "\t GABA\\_RELN       &  329 & 6601 &  4.984093 & marmoset\\_MT29-043  & marmoset\\\\\n",
       "\t GABA\\_SST        &  838 & 6601 & 12.695046 & marmoset\\_MT29-043  & marmoset\\\\\n",
       "\t GABA\\_VIP        &  479 & 6601 &  7.256476 & marmoset\\_MT29-043  & marmoset\\\\\n",
       "\t GABA\\_CHC        &   26 & 2274 &  1.143360 & marmoset\\_MT29-051  & marmoset\\\\\n",
       "\t GABA\\_DRD2       &  849 & 2274 & 37.335092 & marmoset\\_MT29-051  & marmoset\\\\\n",
       "\t GABA\\_LAMP5      &   75 & 2274 &  3.298153 & marmoset\\_MT29-051  & marmoset\\\\\n",
       "\t GABA\\_LAMP5\\_LHX6 &  129 & 2274 &  5.672823 & marmoset\\_MT29-051  & marmoset\\\\\n",
       "\t GABA\\_PVALB      &  753 & 2274 & 33.113456 & marmoset\\_MT29-051  & marmoset\\\\\n",
       "\t GABA\\_RELN       &   53 & 2274 &  2.330695 & marmoset\\_MT29-051  & marmoset\\\\\n",
       "\t ⋮ & ⋮ & ⋮ & ⋮ & ⋮ & ⋮\\\\\n",
       "\t GABA\\_LAMP5      &  435 &  8461 &  5.141236 & macaque\\_MQ286 & macaque\\\\\n",
       "\t GABA\\_LAMP5\\_LHX6 &  538 &  8461 &  6.358586 & macaque\\_MQ286 & macaque\\\\\n",
       "\t GABA\\_PVALB      & 1246 &  8461 & 14.726392 & macaque\\_MQ286 & macaque\\\\\n",
       "\t GABA\\_RELN       &  233 &  8461 &  2.753812 & macaque\\_MQ286 & macaque\\\\\n",
       "\t GABA\\_SST        &  711 &  8461 &  8.403262 & macaque\\_MQ286 & macaque\\\\\n",
       "\t GABA\\_VIP        &  908 &  8461 & 10.731592 & macaque\\_MQ286 & macaque\\\\\n",
       "\t GABA\\_CHC        &  253 &  5846 &  4.327745 & macaque\\_MQ279 & macaque\\\\\n",
       "\t GABA\\_DRD2       &  849 &  5846 & 14.522751 & macaque\\_MQ279 & macaque\\\\\n",
       "\t GABA\\_LAMP5      &  345 &  5846 &  5.901471 & macaque\\_MQ279 & macaque\\\\\n",
       "\t GABA\\_LAMP5\\_LHX6 &  818 &  5846 & 13.992473 & macaque\\_MQ279 & macaque\\\\\n",
       "\t GABA\\_PVALB      & 1398 &  5846 & 23.913787 & macaque\\_MQ279 & macaque\\\\\n",
       "\t GABA\\_RELN       &  434 &  5846 &  7.423880 & macaque\\_MQ279 & macaque\\\\\n",
       "\t GABA\\_SST        &  650 &  5846 & 11.118714 & macaque\\_MQ279 & macaque\\\\\n",
       "\t GABA\\_VIP        & 1099 &  5846 & 18.799179 & macaque\\_MQ279 & macaque\\\\\n",
       "\t GABA\\_CHC        &  280 & 10671 &  2.623934 & macaque\\_MQ277 & macaque\\\\\n",
       "\t GABA\\_DRD2       & 2771 & 10671 & 25.967576 & macaque\\_MQ277 & macaque\\\\\n",
       "\t GABA\\_LAMP5      &  557 & 10671 &  5.219754 & macaque\\_MQ277 & macaque\\\\\n",
       "\t GABA\\_LAMP5\\_LHX6 & 1104 & 10671 & 10.345797 & macaque\\_MQ277 & macaque\\\\\n",
       "\t GABA\\_PVALB      & 2686 & 10671 & 25.171024 & macaque\\_MQ277 & macaque\\\\\n",
       "\t GABA\\_RELN       &  488 & 10671 &  4.573142 & macaque\\_MQ277 & macaque\\\\\n",
       "\t GABA\\_SST        & 1582 & 10671 & 14.825227 & macaque\\_MQ277 & macaque\\\\\n",
       "\t GABA\\_VIP        & 1203 & 10671 & 11.273545 & macaque\\_MQ277 & macaque\\\\\n",
       "\t GABA\\_CHC        &  432 &  9315 &  4.637681 & macaque\\_MQ439 & macaque\\\\\n",
       "\t GABA\\_DRD2       &  308 &  9315 &  3.306495 & macaque\\_MQ439 & macaque\\\\\n",
       "\t GABA\\_LAMP5      &  770 &  9315 &  8.266237 & macaque\\_MQ439 & macaque\\\\\n",
       "\t GABA\\_LAMP5\\_LHX6 & 1708 &  9315 & 18.336017 & macaque\\_MQ439 & macaque\\\\\n",
       "\t GABA\\_PVALB      & 2928 &  9315 & 31.433172 & macaque\\_MQ439 & macaque\\\\\n",
       "\t GABA\\_RELN       &  741 &  9315 &  7.954911 & macaque\\_MQ439 & macaque\\\\\n",
       "\t GABA\\_SST        & 1002 &  9315 & 10.756844 & macaque\\_MQ439 & macaque\\\\\n",
       "\t GABA\\_VIP        & 1426 &  9315 & 15.308642 & macaque\\_MQ439 & macaque\\\\\n",
       "\\end{tabular}\n"
      ],
      "text/markdown": [
       "\n",
       "A tibble: 88 × 6\n",
       "\n",
       "| Subgroup &lt;chr&gt; | part_num &lt;dbl&gt; | all &lt;dbl&gt; | ratio &lt;dbl&gt; | donor &lt;chr&gt; | species &lt;chr&gt; |\n",
       "|---|---|---|---|---|---|\n",
       "| GABA_CHC        |   26 | 1767 |  1.471420 | marmoset_MT23R-001 | marmoset |\n",
       "| GABA_DRD2       |  526 | 1767 | 29.767968 | marmoset_MT23R-001 | marmoset |\n",
       "| GABA_LAMP5      |   75 | 1767 |  4.244482 | marmoset_MT23R-001 | marmoset |\n",
       "| GABA_LAMP5_LHX6 |  104 | 1767 |  5.885682 | marmoset_MT23R-001 | marmoset |\n",
       "| GABA_PVALB      |  557 | 1767 | 31.522354 | marmoset_MT23R-001 | marmoset |\n",
       "| GABA_RELN       |  100 | 1767 |  5.659310 | marmoset_MT23R-001 | marmoset |\n",
       "| GABA_SST        |  269 | 1767 | 15.223543 | marmoset_MT23R-001 | marmoset |\n",
       "| GABA_VIP        |  110 | 1767 |  6.225241 | marmoset_MT23R-001 | marmoset |\n",
       "| GABA_CHC        |  162 | 7753 |  2.089514 | marmoset_MT30-008  | marmoset |\n",
       "| GABA_DRD2       | 1646 | 7753 | 21.230491 | marmoset_MT30-008  | marmoset |\n",
       "| GABA_LAMP5      |  307 | 7753 |  3.959758 | marmoset_MT30-008  | marmoset |\n",
       "| GABA_LAMP5_LHX6 |  548 | 7753 |  7.068232 | marmoset_MT30-008  | marmoset |\n",
       "| GABA_PVALB      | 3141 | 7753 | 40.513350 | marmoset_MT30-008  | marmoset |\n",
       "| GABA_RELN       |  272 | 7753 |  3.508319 | marmoset_MT30-008  | marmoset |\n",
       "| GABA_SST        | 1308 | 7753 | 16.870889 | marmoset_MT30-008  | marmoset |\n",
       "| GABA_VIP        |  369 | 7753 |  4.759448 | marmoset_MT30-008  | marmoset |\n",
       "| GABA_CHC        |   90 | 6601 |  1.363430 | marmoset_MT29-043  | marmoset |\n",
       "| GABA_DRD2       | 2204 | 6601 | 33.388880 | marmoset_MT29-043  | marmoset |\n",
       "| GABA_LAMP5      |  230 | 6601 |  3.484321 | marmoset_MT29-043  | marmoset |\n",
       "| GABA_LAMP5_LHX6 |  315 | 6601 |  4.772004 | marmoset_MT29-043  | marmoset |\n",
       "| GABA_PVALB      | 2116 | 6601 | 32.055749 | marmoset_MT29-043  | marmoset |\n",
       "| GABA_RELN       |  329 | 6601 |  4.984093 | marmoset_MT29-043  | marmoset |\n",
       "| GABA_SST        |  838 | 6601 | 12.695046 | marmoset_MT29-043  | marmoset |\n",
       "| GABA_VIP        |  479 | 6601 |  7.256476 | marmoset_MT29-043  | marmoset |\n",
       "| GABA_CHC        |   26 | 2274 |  1.143360 | marmoset_MT29-051  | marmoset |\n",
       "| GABA_DRD2       |  849 | 2274 | 37.335092 | marmoset_MT29-051  | marmoset |\n",
       "| GABA_LAMP5      |   75 | 2274 |  3.298153 | marmoset_MT29-051  | marmoset |\n",
       "| GABA_LAMP5_LHX6 |  129 | 2274 |  5.672823 | marmoset_MT29-051  | marmoset |\n",
       "| GABA_PVALB      |  753 | 2274 | 33.113456 | marmoset_MT29-051  | marmoset |\n",
       "| GABA_RELN       |   53 | 2274 |  2.330695 | marmoset_MT29-051  | marmoset |\n",
       "| ⋮ | ⋮ | ⋮ | ⋮ | ⋮ | ⋮ |\n",
       "| GABA_LAMP5      |  435 |  8461 |  5.141236 | macaque_MQ286 | macaque |\n",
       "| GABA_LAMP5_LHX6 |  538 |  8461 |  6.358586 | macaque_MQ286 | macaque |\n",
       "| GABA_PVALB      | 1246 |  8461 | 14.726392 | macaque_MQ286 | macaque |\n",
       "| GABA_RELN       |  233 |  8461 |  2.753812 | macaque_MQ286 | macaque |\n",
       "| GABA_SST        |  711 |  8461 |  8.403262 | macaque_MQ286 | macaque |\n",
       "| GABA_VIP        |  908 |  8461 | 10.731592 | macaque_MQ286 | macaque |\n",
       "| GABA_CHC        |  253 |  5846 |  4.327745 | macaque_MQ279 | macaque |\n",
       "| GABA_DRD2       |  849 |  5846 | 14.522751 | macaque_MQ279 | macaque |\n",
       "| GABA_LAMP5      |  345 |  5846 |  5.901471 | macaque_MQ279 | macaque |\n",
       "| GABA_LAMP5_LHX6 |  818 |  5846 | 13.992473 | macaque_MQ279 | macaque |\n",
       "| GABA_PVALB      | 1398 |  5846 | 23.913787 | macaque_MQ279 | macaque |\n",
       "| GABA_RELN       |  434 |  5846 |  7.423880 | macaque_MQ279 | macaque |\n",
       "| GABA_SST        |  650 |  5846 | 11.118714 | macaque_MQ279 | macaque |\n",
       "| GABA_VIP        | 1099 |  5846 | 18.799179 | macaque_MQ279 | macaque |\n",
       "| GABA_CHC        |  280 | 10671 |  2.623934 | macaque_MQ277 | macaque |\n",
       "| GABA_DRD2       | 2771 | 10671 | 25.967576 | macaque_MQ277 | macaque |\n",
       "| GABA_LAMP5      |  557 | 10671 |  5.219754 | macaque_MQ277 | macaque |\n",
       "| GABA_LAMP5_LHX6 | 1104 | 10671 | 10.345797 | macaque_MQ277 | macaque |\n",
       "| GABA_PVALB      | 2686 | 10671 | 25.171024 | macaque_MQ277 | macaque |\n",
       "| GABA_RELN       |  488 | 10671 |  4.573142 | macaque_MQ277 | macaque |\n",
       "| GABA_SST        | 1582 | 10671 | 14.825227 | macaque_MQ277 | macaque |\n",
       "| GABA_VIP        | 1203 | 10671 | 11.273545 | macaque_MQ277 | macaque |\n",
       "| GABA_CHC        |  432 |  9315 |  4.637681 | macaque_MQ439 | macaque |\n",
       "| GABA_DRD2       |  308 |  9315 |  3.306495 | macaque_MQ439 | macaque |\n",
       "| GABA_LAMP5      |  770 |  9315 |  8.266237 | macaque_MQ439 | macaque |\n",
       "| GABA_LAMP5_LHX6 | 1708 |  9315 | 18.336017 | macaque_MQ439 | macaque |\n",
       "| GABA_PVALB      | 2928 |  9315 | 31.433172 | macaque_MQ439 | macaque |\n",
       "| GABA_RELN       |  741 |  9315 |  7.954911 | macaque_MQ439 | macaque |\n",
       "| GABA_SST        | 1002 |  9315 | 10.756844 | macaque_MQ439 | macaque |\n",
       "| GABA_VIP        | 1426 |  9315 | 15.308642 | macaque_MQ439 | macaque |\n",
       "\n"
      ],
      "text/plain": [
       "   Subgroup        part_num all   ratio     donor              species \n",
       "1  GABA_CHC          26     1767   1.471420 marmoset_MT23R-001 marmoset\n",
       "2  GABA_DRD2        526     1767  29.767968 marmoset_MT23R-001 marmoset\n",
       "3  GABA_LAMP5        75     1767   4.244482 marmoset_MT23R-001 marmoset\n",
       "4  GABA_LAMP5_LHX6  104     1767   5.885682 marmoset_MT23R-001 marmoset\n",
       "5  GABA_PVALB       557     1767  31.522354 marmoset_MT23R-001 marmoset\n",
       "6  GABA_RELN        100     1767   5.659310 marmoset_MT23R-001 marmoset\n",
       "7  GABA_SST         269     1767  15.223543 marmoset_MT23R-001 marmoset\n",
       "8  GABA_VIP         110     1767   6.225241 marmoset_MT23R-001 marmoset\n",
       "9  GABA_CHC         162     7753   2.089514 marmoset_MT30-008  marmoset\n",
       "10 GABA_DRD2       1646     7753  21.230491 marmoset_MT30-008  marmoset\n",
       "11 GABA_LAMP5       307     7753   3.959758 marmoset_MT30-008  marmoset\n",
       "12 GABA_LAMP5_LHX6  548     7753   7.068232 marmoset_MT30-008  marmoset\n",
       "13 GABA_PVALB      3141     7753  40.513350 marmoset_MT30-008  marmoset\n",
       "14 GABA_RELN        272     7753   3.508319 marmoset_MT30-008  marmoset\n",
       "15 GABA_SST        1308     7753  16.870889 marmoset_MT30-008  marmoset\n",
       "16 GABA_VIP         369     7753   4.759448 marmoset_MT30-008  marmoset\n",
       "17 GABA_CHC          90     6601   1.363430 marmoset_MT29-043  marmoset\n",
       "18 GABA_DRD2       2204     6601  33.388880 marmoset_MT29-043  marmoset\n",
       "19 GABA_LAMP5       230     6601   3.484321 marmoset_MT29-043  marmoset\n",
       "20 GABA_LAMP5_LHX6  315     6601   4.772004 marmoset_MT29-043  marmoset\n",
       "21 GABA_PVALB      2116     6601  32.055749 marmoset_MT29-043  marmoset\n",
       "22 GABA_RELN        329     6601   4.984093 marmoset_MT29-043  marmoset\n",
       "23 GABA_SST         838     6601  12.695046 marmoset_MT29-043  marmoset\n",
       "24 GABA_VIP         479     6601   7.256476 marmoset_MT29-043  marmoset\n",
       "25 GABA_CHC          26     2274   1.143360 marmoset_MT29-051  marmoset\n",
       "26 GABA_DRD2        849     2274  37.335092 marmoset_MT29-051  marmoset\n",
       "27 GABA_LAMP5        75     2274   3.298153 marmoset_MT29-051  marmoset\n",
       "28 GABA_LAMP5_LHX6  129     2274   5.672823 marmoset_MT29-051  marmoset\n",
       "29 GABA_PVALB       753     2274  33.113456 marmoset_MT29-051  marmoset\n",
       "30 GABA_RELN         53     2274   2.330695 marmoset_MT29-051  marmoset\n",
       "⋮  ⋮               ⋮        ⋮     ⋮         ⋮                  ⋮       \n",
       "59 GABA_LAMP5       435      8461  5.141236 macaque_MQ286      macaque \n",
       "60 GABA_LAMP5_LHX6  538      8461  6.358586 macaque_MQ286      macaque \n",
       "61 GABA_PVALB      1246      8461 14.726392 macaque_MQ286      macaque \n",
       "62 GABA_RELN        233      8461  2.753812 macaque_MQ286      macaque \n",
       "63 GABA_SST         711      8461  8.403262 macaque_MQ286      macaque \n",
       "64 GABA_VIP         908      8461 10.731592 macaque_MQ286      macaque \n",
       "65 GABA_CHC         253      5846  4.327745 macaque_MQ279      macaque \n",
       "66 GABA_DRD2        849      5846 14.522751 macaque_MQ279      macaque \n",
       "67 GABA_LAMP5       345      5846  5.901471 macaque_MQ279      macaque \n",
       "68 GABA_LAMP5_LHX6  818      5846 13.992473 macaque_MQ279      macaque \n",
       "69 GABA_PVALB      1398      5846 23.913787 macaque_MQ279      macaque \n",
       "70 GABA_RELN        434      5846  7.423880 macaque_MQ279      macaque \n",
       "71 GABA_SST         650      5846 11.118714 macaque_MQ279      macaque \n",
       "72 GABA_VIP        1099      5846 18.799179 macaque_MQ279      macaque \n",
       "73 GABA_CHC         280     10671  2.623934 macaque_MQ277      macaque \n",
       "74 GABA_DRD2       2771     10671 25.967576 macaque_MQ277      macaque \n",
       "75 GABA_LAMP5       557     10671  5.219754 macaque_MQ277      macaque \n",
       "76 GABA_LAMP5_LHX6 1104     10671 10.345797 macaque_MQ277      macaque \n",
       "77 GABA_PVALB      2686     10671 25.171024 macaque_MQ277      macaque \n",
       "78 GABA_RELN        488     10671  4.573142 macaque_MQ277      macaque \n",
       "79 GABA_SST        1582     10671 14.825227 macaque_MQ277      macaque \n",
       "80 GABA_VIP        1203     10671 11.273545 macaque_MQ277      macaque \n",
       "81 GABA_CHC         432      9315  4.637681 macaque_MQ439      macaque \n",
       "82 GABA_DRD2        308      9315  3.306495 macaque_MQ439      macaque \n",
       "83 GABA_LAMP5       770      9315  8.266237 macaque_MQ439      macaque \n",
       "84 GABA_LAMP5_LHX6 1708      9315 18.336017 macaque_MQ439      macaque \n",
       "85 GABA_PVALB      2928      9315 31.433172 macaque_MQ439      macaque \n",
       "86 GABA_RELN        741      9315  7.954911 macaque_MQ439      macaque \n",
       "87 GABA_SST        1002      9315 10.756844 macaque_MQ439      macaque \n",
       "88 GABA_VIP        1426      9315 15.308642 macaque_MQ439      macaque "
      ]
     },
     "metadata": {},
     "output_type": "display_data"
    }
   ],
   "source": [
    "meta_mouse$num=1\n",
    "mouse_sum=meta_mouse %>% group_by(Subgroup) %>% summarise(part_num=sum(num))\n",
    "mouse_sum$all=sum(mouse_sum$part_num)\n",
    "mouse_sum$ratio=mouse_sum$part_num/mouse_sum$all*100\n",
    "\n",
    "mouse_sum_all=data.frame()\n",
    "for(i in unique(mouse_meta$sample)){\n",
    "    meta_mouse_sub=meta_mouse[meta_mouse$sample %in% i,]\n",
    "    meta_mouse_sub$num=1\n",
    "    mouse_sum=meta_mouse_sub %>% group_by(Subgroup) %>% summarise(part_num=sum(num))\n",
    "    mouse_sum$all=sum(mouse_sum$part_num)\n",
    "    mouse_sum$ratio=mouse_sum$part_num/mouse_sum$all*100\n",
    "    mouse_sum$donor=paste0('mouse_',i)\n",
    "    mouse_sum_all=rbind(mouse_sum_all,mouse_sum)\n",
    "}\n",
    "\n",
    "\n",
    "macaque_sum_all=data.frame()\n",
    "for(i in unique(macaque_meta$sample)){\n",
    "    meta_macaque_sub=meta_macaque[meta_macaque$sample %in% i,]\n",
    "    meta_macaque_sub$num=1\n",
    "    macaque_sum=meta_macaque_sub %>% group_by(Subgroup) %>% summarise(part_num=sum(num))\n",
    "    macaque_sum$all=sum(macaque_sum$part_num)\n",
    "    macaque_sum$ratio=macaque_sum$part_num/macaque_sum$all*100\n",
    "    macaque_sum$donor=paste0('macaque_',i)\n",
    "    macaque_sum_all=rbind(macaque_sum_all,macaque_sum)\n",
    "}\n",
    "\n",
    "marmoset_sum_all=data.frame()\n",
    "for(i in unique(marmoset_meta$sample)){\n",
    "    meta_marmoset_sub=meta_marmoset[meta_marmoset$sample %in% i,]\n",
    "    meta_marmoset_sub$num=1\n",
    "    marmoset_sum=meta_marmoset_sub %>% group_by(Subgroup) %>% summarise(part_num=sum(num))\n",
    "    marmoset_sum$all=sum(marmoset_sum$part_num)\n",
    "    marmoset_sum$ratio=marmoset_sum$part_num/marmoset_sum$all*100\n",
    "    marmoset_sum$donor=paste0('marmoset_',i)\n",
    "    marmoset_sum_all=rbind(marmoset_sum_all,marmoset_sum)\n",
    "}\n",
    "\n",
    "marmoset_sum_all$species='marmoset'\n",
    "mouse_sum_all$species='mouse'\n",
    "macaque_sum_all$species='macaque'\n",
    "sum_all=rbind(marmoset_sum_all,mouse_sum_all,macaque_sum_all)\n",
    "sum_all"
   ]
  },
  {
   "cell_type": "code",
   "execution_count": 20,
   "id": "38c00d96",
   "metadata": {},
   "outputs": [
    {
     "name": "stderr",
     "output_type": "stream",
     "text": [
      "Scale for 'fill' is already present. Adding another scale for 'fill', which\n",
      "will replace the existing scale.\n",
      "\n"
     ]
    },
    {
     "data": {
      "image/png": "[encoded data removed]",
      "text/plain": [
       "plot without title"
      ]
     },
     "metadata": {
      "image/png": {
       "height": 300,
       "width": 720
      }
     },
     "output_type": "display_data"
    },
    {
     "data": {
      "image/png": "[encoded data removed]",
      "text/plain": [
       "plot without title"
      ]
     },
     "metadata": {
      "image/png": {
       "height": 300,
       "width": 720
      }
     },
     "output_type": "display_data"
    }
   ],
   "source": [
    "options(repr.plot.width=12, repr.plot.height=5)\n",
    "\n",
    "\n",
    "test=ggbarplot(sum_all, x = \"Subgroup\", y = \"ratio\", \n",
    "          add = c(\"mean_sd\"),\n",
    "          color = \"species\",fill = \"species\", palette = \"npg\",\n",
    "position = position_dodge(0.8))+  scale_fill_prism(palette = \"candy_bright\")#使用ggprism包修改颜色\n",
    "test\n",
    "\n",
    "stat.test <- sum_all %>% group_by(Subgroup) %>%\n",
    "  t_test(ratio ~ species) %>%\n",
    "  #adjust_pvalue()%>% \n",
    "  add_significance(\"p.adj\")\n",
    "stat.test <- stat.test %>% \n",
    "  add_xy_position(x='Subgroup',dodge = 1)\n",
    "  #add_y_position()\n",
    "gp3=test + stat_pvalue_manual(\n",
    "  stat.test,  label = \"p.adj.signif\", tip.length = 0\n",
    "  ) +\n",
    "  scale_y_continuous(expand = expansion(mult = c(0, .5)))\n",
    "\n",
    "gp3\n"
   ]
  },
  {
   "cell_type": "code",
   "execution_count": 22,
   "id": "8a78f7a9",
   "metadata": {},
   "outputs": [],
   "source": [
    "typeeee='GABA'\n",
    "write.csv(sum_all,paste0('/home/liuyx/liuyuxuan/spa_seurat/cla/fig_1206/species_compare_df/',typeeee,'_summary.csv'))\n"
   ]
  },
  {
   "cell_type": "code",
   "execution_count": 23,
   "id": "d81f27f8",
   "metadata": {},
   "outputs": [
    {
     "data": {
      "text/html": [
       "<table class=\"dataframe\">\n",
       "<caption>A tibble: 3 × 8</caption>\n",
       "<thead>\n",
       "\t<tr><th scope=col>.y.</th><th scope=col>group1</th><th scope=col>group2</th><th scope=col>p</th><th scope=col>p.adj</th><th scope=col>p.format</th><th scope=col>p.signif</th><th scope=col>method</th></tr>\n",
       "\t<tr><th scope=col>&lt;chr&gt;</th><th scope=col>&lt;chr&gt;</th><th scope=col>&lt;chr&gt;</th><th scope=col>&lt;dbl&gt;</th><th scope=col>&lt;dbl&gt;</th><th scope=col>&lt;chr&gt;</th><th scope=col>&lt;chr&gt;</th><th scope=col>&lt;chr&gt;</th></tr>\n",
       "</thead>\n",
       "<tbody>\n",
       "\t<tr><td>ratio</td><td>marmoset</td><td>mouse  </td><td>0.32917303</td><td>0.450</td><td>0.329</td><td>ns</td><td>Wilcoxon</td></tr>\n",
       "\t<tr><td>ratio</td><td>marmoset</td><td>macaque</td><td>0.22440071</td><td>0.450</td><td>0.224</td><td>ns</td><td>Wilcoxon</td></tr>\n",
       "\t<tr><td>ratio</td><td>mouse   </td><td>macaque</td><td>0.01117972</td><td>0.034</td><td>0.011</td><td>* </td><td>Wilcoxon</td></tr>\n",
       "</tbody>\n",
       "</table>\n"
      ],
      "text/latex": [
       "A tibble: 3 × 8\n",
       "\\begin{tabular}{llllllll}\n",
       " .y. & group1 & group2 & p & p.adj & p.format & p.signif & method\\\\\n",
       " <chr> & <chr> & <chr> & <dbl> & <dbl> & <chr> & <chr> & <chr>\\\\\n",
       "\\hline\n",
       "\t ratio & marmoset & mouse   & 0.32917303 & 0.450 & 0.329 & ns & Wilcoxon\\\\\n",
       "\t ratio & marmoset & macaque & 0.22440071 & 0.450 & 0.224 & ns & Wilcoxon\\\\\n",
       "\t ratio & mouse    & macaque & 0.01117972 & 0.034 & 0.011 & *  & Wilcoxon\\\\\n",
       "\\end{tabular}\n"
      ],
      "text/markdown": [
       "\n",
       "A tibble: 3 × 8\n",
       "\n",
       "| .y. &lt;chr&gt; | group1 &lt;chr&gt; | group2 &lt;chr&gt; | p &lt;dbl&gt; | p.adj &lt;dbl&gt; | p.format &lt;chr&gt; | p.signif &lt;chr&gt; | method &lt;chr&gt; |\n",
       "|---|---|---|---|---|---|---|---|\n",
       "| ratio | marmoset | mouse   | 0.32917303 | 0.450 | 0.329 | ns | Wilcoxon |\n",
       "| ratio | marmoset | macaque | 0.22440071 | 0.450 | 0.224 | ns | Wilcoxon |\n",
       "| ratio | mouse    | macaque | 0.01117972 | 0.034 | 0.011 | *  | Wilcoxon |\n",
       "\n"
      ],
      "text/plain": [
       "  .y.   group1   group2  p          p.adj p.format p.signif method  \n",
       "1 ratio marmoset mouse   0.32917303 0.450 0.329    ns       Wilcoxon\n",
       "2 ratio marmoset macaque 0.22440071 0.450 0.224    ns       Wilcoxon\n",
       "3 ratio mouse    macaque 0.01117972 0.034 0.011    *        Wilcoxon"
      ]
     },
     "metadata": {},
     "output_type": "display_data"
    }
   ],
   "source": [
    "sum_all_sub=sum_all[sum_all$Subgroup=='GABA_RELN',]\n",
    "sum_all_sub=rbind(sum_all_sub,sum_all_sub)\n",
    "compare_means(ratio ~ species,data=sum_all_sub)"
   ]
  },
  {
   "cell_type": "code",
   "execution_count": 24,
   "id": "305d65d9",
   "metadata": {
    "scrolled": true
   },
   "outputs": [
    {
     "data": {
      "text/html": [
       "<style>\n",
       ".list-inline {list-style: none; margin:0; padding: 0}\n",
       ".list-inline>li {display: inline-block}\n",
       ".list-inline>li:not(:last-child)::after {content: \"\\00b7\"; padding: 0 .5ex}\n",
       "</style>\n",
       "<ol class=list-inline><li>'GABA_CHC'</li><li>'GABA_DRD2'</li><li>'GABA_LAMP5'</li><li>'GABA_LAMP5_LHX6'</li><li>'GABA_PVALB'</li><li>'GABA_RELN'</li><li>'GABA_SST'</li><li>'GABA_VIP'</li></ol>\n"
      ],
      "text/latex": [
       "\\begin{enumerate*}\n",
       "\\item 'GABA\\_CHC'\n",
       "\\item 'GABA\\_DRD2'\n",
       "\\item 'GABA\\_LAMP5'\n",
       "\\item 'GABA\\_LAMP5\\_LHX6'\n",
       "\\item 'GABA\\_PVALB'\n",
       "\\item 'GABA\\_RELN'\n",
       "\\item 'GABA\\_SST'\n",
       "\\item 'GABA\\_VIP'\n",
       "\\end{enumerate*}\n"
      ],
      "text/markdown": [
       "1. 'GABA_CHC'\n",
       "2. 'GABA_DRD2'\n",
       "3. 'GABA_LAMP5'\n",
       "4. 'GABA_LAMP5_LHX6'\n",
       "5. 'GABA_PVALB'\n",
       "6. 'GABA_RELN'\n",
       "7. 'GABA_SST'\n",
       "8. 'GABA_VIP'\n",
       "\n",
       "\n"
      ],
      "text/plain": [
       "[1] \"GABA_CHC\"        \"GABA_DRD2\"       \"GABA_LAMP5\"      \"GABA_LAMP5_LHX6\"\n",
       "[5] \"GABA_PVALB\"      \"GABA_RELN\"       \"GABA_SST\"        \"GABA_VIP\"       "
      ]
     },
     "metadata": {},
     "output_type": "display_data"
    }
   ],
   "source": [
    "unique(sum_all$Subgroup)"
   ]
  },
  {
   "cell_type": "code",
   "execution_count": 25,
   "id": "9a4532ef",
   "metadata": {},
   "outputs": [
    {
     "data": {
      "text/plain": [
       "\n",
       "\tShapiro-Wilk normality test\n",
       "\n",
       "data:  ratio[species == \"marmoset\"]\n",
       "W = 0.95887, p-value = 0.7718\n"
      ]
     },
     "metadata": {},
     "output_type": "display_data"
    },
    {
     "data": {
      "text/plain": [
       "\n",
       "\tShapiro-Wilk normality test\n",
       "\n",
       "data:  ratio[species == \"mouse\"]\n",
       "W = 0.89598, p-value = 0.3728\n"
      ]
     },
     "metadata": {},
     "output_type": "display_data"
    },
    {
     "data": {
      "text/plain": [
       "\n",
       "\tShapiro-Wilk normality test\n",
       "\n",
       "data:  ratio[species == \"macaque\"]\n",
       "W = 0.91047, p-value = 0.4849\n"
      ]
     },
     "metadata": {},
     "output_type": "display_data"
    },
    {
     "data": {
      "text/plain": [
       "\n",
       "\tShapiro-Wilk normality test\n",
       "\n",
       "data:  ratio[species == \"marmoset\"]\n",
       "W = 0.90564, p-value = 0.4596\n"
      ]
     },
     "metadata": {},
     "output_type": "display_data"
    },
    {
     "data": {
      "text/plain": [
       "\n",
       "\tShapiro-Wilk normality test\n",
       "\n",
       "data:  ratio[species == \"mouse\"]\n",
       "W = 0.95283, p-value = 0.5819\n"
      ]
     },
     "metadata": {},
     "output_type": "display_data"
    },
    {
     "data": {
      "text/plain": [
       "\n",
       "\tShapiro-Wilk normality test\n",
       "\n",
       "data:  ratio[species == \"macaque\"]\n",
       "W = 0.8989, p-value = 0.4256\n"
      ]
     },
     "metadata": {},
     "output_type": "display_data"
    },
    {
     "data": {
      "text/plain": [
       "\n",
       "\tShapiro-Wilk normality test\n",
       "\n",
       "data:  ratio[species == \"marmoset\"]\n",
       "W = 0.9625, p-value = 0.7946\n"
      ]
     },
     "metadata": {},
     "output_type": "display_data"
    },
    {
     "data": {
      "text/plain": [
       "\n",
       "\tShapiro-Wilk normality test\n",
       "\n",
       "data:  ratio[species == \"mouse\"]\n",
       "W = 0.91501, p-value = 0.435\n"
      ]
     },
     "metadata": {},
     "output_type": "display_data"
    },
    {
     "data": {
      "text/plain": [
       "\n",
       "\tShapiro-Wilk normality test\n",
       "\n",
       "data:  ratio[species == \"macaque\"]\n",
       "W = 0.96543, p-value = 0.813\n"
      ]
     },
     "metadata": {},
     "output_type": "display_data"
    },
    {
     "data": {
      "text/plain": [
       "\n",
       "\tShapiro-Wilk normality test\n",
       "\n",
       "data:  ratio[species == \"marmoset\"]\n",
       "W = 0.94477, p-value = 0.6836\n"
      ]
     },
     "metadata": {},
     "output_type": "display_data"
    },
    {
     "data": {
      "text/plain": [
       "\n",
       "\tShapiro-Wilk normality test\n",
       "\n",
       "data:  ratio[species == \"mouse\"]\n",
       "W = 0.86219, p-value = 0.2736\n"
      ]
     },
     "metadata": {},
     "output_type": "display_data"
    },
    {
     "data": {
      "text/plain": [
       "\n",
       "\tShapiro-Wilk normality test\n",
       "\n",
       "data:  ratio[species == \"macaque\"]\n",
       "W = 0.79611, p-value = 0.09543\n"
      ]
     },
     "metadata": {},
     "output_type": "display_data"
    },
    {
     "data": {
      "text/plain": [
       "\n",
       "\tShapiro-Wilk normality test\n",
       "\n",
       "data:  ratio[species == \"marmoset\"]\n",
       "W = 0.95232, p-value = 0.7307\n"
      ]
     },
     "metadata": {},
     "output_type": "display_data"
    },
    {
     "data": {
      "text/plain": [
       "\n",
       "\tShapiro-Wilk normality test\n",
       "\n",
       "data:  ratio[species == \"mouse\"]\n",
       "W = 0.97754, p-value = 0.7127\n"
      ]
     },
     "metadata": {},
     "output_type": "display_data"
    },
    {
     "data": {
      "text/plain": [
       "\n",
       "\tShapiro-Wilk normality test\n",
       "\n",
       "data:  ratio[species == \"macaque\"]\n",
       "W = 0.90149, p-value = 0.4385\n"
      ]
     },
     "metadata": {},
     "output_type": "display_data"
    }
   ],
   "source": [
    "sub_sum_all=sum_all[sum_all$Subgroup=='GABA_RELN',]\n",
    "with(sub_sum_all, shapiro.test(ratio[species=='marmoset']))\n",
    "sub_sum_all=sum_all[sum_all$Subgroup=='GABA_RELN',]\n",
    "with(sub_sum_all, shapiro.test(ratio[species=='mouse']))\n",
    "sub_sum_all=sum_all[sum_all$Subgroup=='GABA_RELN',]\n",
    "with(sub_sum_all, shapiro.test(ratio[species=='macaque']))\n",
    "\n",
    "sub_sum_all=sum_all[sum_all$Subgroup=='GABA_CHC',]\n",
    "with(sub_sum_all, shapiro.test(ratio[species=='marmoset']))\n",
    "sub_sum_all=sum_all[sum_all$Subgroup=='GABA_CHC',]\n",
    "with(sub_sum_all, shapiro.test(ratio[species=='mouse']))\n",
    "sub_sum_all=sum_all[sum_all$Subgroup=='GABA_CHC',]\n",
    "with(sub_sum_all, shapiro.test(ratio[species=='macaque']))\n",
    "\n",
    "sub_sum_all=sum_all[sum_all$Subgroup=='GABA_DRD2',]\n",
    "with(sub_sum_all, shapiro.test(ratio[species=='marmoset']))\n",
    "sub_sum_all=sum_all[sum_all$Subgroup=='GABA_DRD2',]\n",
    "with(sub_sum_all, shapiro.test(ratio[species=='mouse']))\n",
    "sub_sum_all=sum_all[sum_all$Subgroup=='GABA_DRD2',]\n",
    "with(sub_sum_all, shapiro.test(ratio[species=='macaque']))\n",
    "\n",
    "sub_sum_all=sum_all[sum_all$Subgroup=='GABA_LAMP5',]\n",
    "with(sub_sum_all, shapiro.test(ratio[species=='marmoset']))\n",
    "sub_sum_all=sum_all[sum_all$Subgroup=='GABA_LAMP5',]\n",
    "with(sub_sum_all, shapiro.test(ratio[species=='mouse']))\n",
    "sub_sum_all=sum_all[sum_all$Subgroup=='GABA_LAMP5',]\n",
    "with(sub_sum_all, shapiro.test(ratio[species=='macaque']))\n",
    "\n",
    "\n",
    "sub_sum_all=sum_all[sum_all$Subgroup=='GABA_VIP',]\n",
    "with(sub_sum_all, shapiro.test(ratio[species=='marmoset']))\n",
    "sub_sum_all=sum_all[sum_all$Subgroup=='GABA_VIP',]\n",
    "with(sub_sum_all, shapiro.test(ratio[species=='mouse']))\n",
    "sub_sum_all=sum_all[sum_all$Subgroup=='GABA_VIP',]\n",
    "with(sub_sum_all, shapiro.test(ratio[species=='macaque']))"
   ]
  },
  {
   "cell_type": "code",
   "execution_count": null,
   "id": "f1416860",
   "metadata": {},
   "outputs": [],
   "source": [
    "\n"
   ]
  },
  {
   "cell_type": "code",
   "execution_count": null,
   "id": "da9cc3b6",
   "metadata": {},
   "outputs": [],
   "source": []
  },
  {
   "cell_type": "code",
   "execution_count": null,
   "id": "8dac1d7a",
   "metadata": {},
   "outputs": [],
   "source": []
  },
  {
   "cell_type": "code",
   "execution_count": null,
   "id": "7ff554cf",
   "metadata": {},
   "outputs": [],
   "source": []
  },
  {
   "cell_type": "code",
   "execution_count": null,
   "id": "17fc1457",
   "metadata": {},
   "outputs": [],
   "source": []
  },
  {
   "cell_type": "code",
   "execution_count": null,
   "id": "ddfcae2b",
   "metadata": {},
   "outputs": [],
   "source": []
  },
  {
   "cell_type": "code",
   "execution_count": 26,
   "id": "0961ea5e",
   "metadata": {},
   "outputs": [
    {
     "data": {
      "text/html": [
       "<style>\n",
       ".list-inline {list-style: none; margin:0; padding: 0}\n",
       ".list-inline>li {display: inline-block}\n",
       ".list-inline>li:not(:last-child)::after {content: \"\\00b7\"; padding: 0 .5ex}\n",
       "</style>\n",
       "<ol class=list-inline><li>'OPC'</li><li>'Oligo'</li><li>'Endotheial'</li><li>'Astrocytes'</li><li>'Microglia'</li></ol>\n"
      ],
      "text/latex": [
       "\\begin{enumerate*}\n",
       "\\item 'OPC'\n",
       "\\item 'Oligo'\n",
       "\\item 'Endotheial'\n",
       "\\item 'Astrocytes'\n",
       "\\item 'Microglia'\n",
       "\\end{enumerate*}\n"
      ],
      "text/markdown": [
       "1. 'OPC'\n",
       "2. 'Oligo'\n",
       "3. 'Endotheial'\n",
       "4. 'Astrocytes'\n",
       "5. 'Microglia'\n",
       "\n",
       "\n"
      ],
      "text/plain": [
       "[1] \"OPC\"        \"Oligo\"      \"Endotheial\" \"Astrocytes\" \"Microglia\" "
      ]
     },
     "metadata": {},
     "output_type": "display_data"
    },
    {
     "data": {
      "text/html": [
       "<style>\n",
       ".list-inline {list-style: none; margin:0; padding: 0}\n",
       ".list-inline>li {display: inline-block}\n",
       ".list-inline>li:not(:last-child)::after {content: \"\\00b7\"; padding: 0 .5ex}\n",
       "</style>\n",
       "<ol class=list-inline><li>'Oligo'</li><li>'Astrocytes'</li><li>'Microglia'</li><li>'OPC'</li><li>'Endotheial'</li></ol>\n"
      ],
      "text/latex": [
       "\\begin{enumerate*}\n",
       "\\item 'Oligo'\n",
       "\\item 'Astrocytes'\n",
       "\\item 'Microglia'\n",
       "\\item 'OPC'\n",
       "\\item 'Endotheial'\n",
       "\\end{enumerate*}\n"
      ],
      "text/markdown": [
       "1. 'Oligo'\n",
       "2. 'Astrocytes'\n",
       "3. 'Microglia'\n",
       "4. 'OPC'\n",
       "5. 'Endotheial'\n",
       "\n",
       "\n"
      ],
      "text/plain": [
       "[1] \"Oligo\"      \"Astrocytes\" \"Microglia\"  \"OPC\"        \"Endotheial\""
      ]
     },
     "metadata": {},
     "output_type": "display_data"
    },
    {
     "data": {
      "text/html": [
       "<style>\n",
       ".list-inline {list-style: none; margin:0; padding: 0}\n",
       ".list-inline>li {display: inline-block}\n",
       ".list-inline>li:not(:last-child)::after {content: \"\\00b7\"; padding: 0 .5ex}\n",
       "</style>\n",
       "<ol class=list-inline><li>'OPC'</li><li>'Astrocytes'</li><li>'Endotheial'</li><li>'Oligo'</li><li>'Microglia'</li></ol>\n"
      ],
      "text/latex": [
       "\\begin{enumerate*}\n",
       "\\item 'OPC'\n",
       "\\item 'Astrocytes'\n",
       "\\item 'Endotheial'\n",
       "\\item 'Oligo'\n",
       "\\item 'Microglia'\n",
       "\\end{enumerate*}\n"
      ],
      "text/markdown": [
       "1. 'OPC'\n",
       "2. 'Astrocytes'\n",
       "3. 'Endotheial'\n",
       "4. 'Oligo'\n",
       "5. 'Microglia'\n",
       "\n",
       "\n"
      ],
      "text/plain": [
       "[1] \"OPC\"        \"Astrocytes\" \"Endotheial\" \"Oligo\"      \"Microglia\" "
      ]
     },
     "metadata": {},
     "output_type": "display_data"
    }
   ],
   "source": [
    "meta_mouse=mouse_meta[mouse_meta$Subgroup=='No-Neuron',]\n",
    "meta_mouse$Subgroup=meta_mouse$SuperCluster\n",
    "\n",
    "meta_macaque=macaque_meta[macaque_meta$Subgroup=='No-Neuron',]\n",
    "meta_macaque$Subgroup=meta_macaque$SuperCluster\n",
    "\n",
    "meta_marmoset= marmoset_meta[marmoset_meta$Subgroup=='No-Neuron',]\n",
    "meta_marmoset$Subgroup=meta_marmoset$SuperCluster\n",
    "\n",
    "unique(meta_mouse$Subgroup)\n",
    "unique(meta_macaque$Subgroup)\n",
    "unique(meta_marmoset$Subgroup)"
   ]
  },
  {
   "cell_type": "code",
   "execution_count": 27,
   "id": "53a4c675",
   "metadata": {
    "scrolled": true
   },
   "outputs": [
    {
     "data": {
      "text/html": [
       "<table class=\"dataframe\">\n",
       "<caption>A tibble: 55 × 6</caption>\n",
       "<thead>\n",
       "\t<tr><th scope=col>Subgroup</th><th scope=col>part_num</th><th scope=col>all</th><th scope=col>ratio</th><th scope=col>donor</th><th scope=col>species</th></tr>\n",
       "\t<tr><th scope=col>&lt;chr&gt;</th><th scope=col>&lt;dbl&gt;</th><th scope=col>&lt;dbl&gt;</th><th scope=col>&lt;dbl&gt;</th><th scope=col>&lt;chr&gt;</th><th scope=col>&lt;chr&gt;</th></tr>\n",
       "</thead>\n",
       "<tbody>\n",
       "\t<tr><td>Astrocytes</td><td>  892</td><td> 2411</td><td>36.997097</td><td>marmoset_MT23R-001 </td><td>marmoset</td></tr>\n",
       "\t<tr><td>Endotheial</td><td>   87</td><td> 2411</td><td> 3.608461</td><td>marmoset_MT23R-001 </td><td>marmoset</td></tr>\n",
       "\t<tr><td>Microglia </td><td>   94</td><td> 2411</td><td> 3.898797</td><td>marmoset_MT23R-001 </td><td>marmoset</td></tr>\n",
       "\t<tr><td>Oligo     </td><td> 1268</td><td> 2411</td><td>52.592285</td><td>marmoset_MT23R-001 </td><td>marmoset</td></tr>\n",
       "\t<tr><td>OPC       </td><td>   70</td><td> 2411</td><td> 2.903360</td><td>marmoset_MT23R-001 </td><td>marmoset</td></tr>\n",
       "\t<tr><td>Astrocytes</td><td> 2258</td><td> 4649</td><td>48.569585</td><td>marmoset_MT30-008  </td><td>marmoset</td></tr>\n",
       "\t<tr><td>Endotheial</td><td>  104</td><td> 4649</td><td> 2.237040</td><td>marmoset_MT30-008  </td><td>marmoset</td></tr>\n",
       "\t<tr><td>Microglia </td><td>  234</td><td> 4649</td><td> 5.033341</td><td>marmoset_MT30-008  </td><td>marmoset</td></tr>\n",
       "\t<tr><td>Oligo     </td><td> 1925</td><td> 4649</td><td>41.406754</td><td>marmoset_MT30-008  </td><td>marmoset</td></tr>\n",
       "\t<tr><td>OPC       </td><td>  128</td><td> 4649</td><td> 2.753280</td><td>marmoset_MT30-008  </td><td>marmoset</td></tr>\n",
       "\t<tr><td>Astrocytes</td><td> 2030</td><td> 4073</td><td>49.840412</td><td>marmoset_MT29-043  </td><td>marmoset</td></tr>\n",
       "\t<tr><td>Endotheial</td><td>   86</td><td> 4073</td><td> 2.111466</td><td>marmoset_MT29-043  </td><td>marmoset</td></tr>\n",
       "\t<tr><td>Microglia </td><td>  329</td><td> 4073</td><td> 8.077584</td><td>marmoset_MT29-043  </td><td>marmoset</td></tr>\n",
       "\t<tr><td>Oligo     </td><td> 1528</td><td> 4073</td><td>37.515345</td><td>marmoset_MT29-043  </td><td>marmoset</td></tr>\n",
       "\t<tr><td>OPC       </td><td>  100</td><td> 4073</td><td> 2.455193</td><td>marmoset_MT29-043  </td><td>marmoset</td></tr>\n",
       "\t<tr><td>Astrocytes</td><td>  427</td><td> 1461</td><td>29.226557</td><td>marmoset_MT29-051  </td><td>marmoset</td></tr>\n",
       "\t<tr><td>Endotheial</td><td>   16</td><td> 1461</td><td> 1.095140</td><td>marmoset_MT29-051  </td><td>marmoset</td></tr>\n",
       "\t<tr><td>Microglia </td><td>   58</td><td> 1461</td><td> 3.969884</td><td>marmoset_MT29-051  </td><td>marmoset</td></tr>\n",
       "\t<tr><td>Oligo     </td><td>  943</td><td> 1461</td><td>64.544832</td><td>marmoset_MT29-051  </td><td>marmoset</td></tr>\n",
       "\t<tr><td>OPC       </td><td>   17</td><td> 1461</td><td> 1.163587</td><td>marmoset_MT29-051  </td><td>marmoset</td></tr>\n",
       "\t<tr><td>Astrocytes</td><td> 1485</td><td> 8316</td><td>17.857143</td><td>mouse_MS-cla-001   </td><td>mouse   </td></tr>\n",
       "\t<tr><td>Endotheial</td><td> 2515</td><td> 8316</td><td>30.242905</td><td>mouse_MS-cla-001   </td><td>mouse   </td></tr>\n",
       "\t<tr><td>Microglia </td><td>  807</td><td> 8316</td><td> 9.704185</td><td>mouse_MS-cla-001   </td><td>mouse   </td></tr>\n",
       "\t<tr><td>Oligo     </td><td> 2888</td><td> 8316</td><td>34.728235</td><td>mouse_MS-cla-001   </td><td>mouse   </td></tr>\n",
       "\t<tr><td>OPC       </td><td>  621</td><td> 8316</td><td> 7.467532</td><td>mouse_MS-cla-001   </td><td>mouse   </td></tr>\n",
       "\t<tr><td>Astrocytes</td><td> 2269</td><td>13602</td><td>16.681370</td><td>mouse_MS060-cla001 </td><td>mouse   </td></tr>\n",
       "\t<tr><td>Endotheial</td><td> 4190</td><td>13602</td><td>30.804293</td><td>mouse_MS060-cla001 </td><td>mouse   </td></tr>\n",
       "\t<tr><td>Microglia </td><td>  905</td><td>13602</td><td> 6.653433</td><td>mouse_MS060-cla001 </td><td>mouse   </td></tr>\n",
       "\t<tr><td>Oligo     </td><td> 5583</td><td>13602</td><td>41.045434</td><td>mouse_MS060-cla001 </td><td>mouse   </td></tr>\n",
       "\t<tr><td>OPC       </td><td>  655</td><td>13602</td><td> 4.815468</td><td>mouse_MS060-cla001 </td><td>mouse   </td></tr>\n",
       "\t<tr><td>Astrocytes</td><td> 2292</td><td>13490</td><td>16.990363</td><td>mouse_MS060-cla 001</td><td>mouse   </td></tr>\n",
       "\t<tr><td>Endotheial</td><td> 3680</td><td>13490</td><td>27.279466</td><td>mouse_MS060-cla 001</td><td>mouse   </td></tr>\n",
       "\t<tr><td>Microglia </td><td> 1177</td><td>13490</td><td> 8.724981</td><td>mouse_MS060-cla 001</td><td>mouse   </td></tr>\n",
       "\t<tr><td>Oligo     </td><td> 5368</td><td>13490</td><td>39.792439</td><td>mouse_MS060-cla 001</td><td>mouse   </td></tr>\n",
       "\t<tr><td>OPC       </td><td>  973</td><td>13490</td><td> 7.212750</td><td>mouse_MS060-cla 001</td><td>mouse   </td></tr>\n",
       "\t<tr><td>Astrocytes</td><td> 3673</td><td>14515</td><td>25.304857</td><td>macaque_MQ286      </td><td>macaque </td></tr>\n",
       "\t<tr><td>Endotheial</td><td>  249</td><td>14515</td><td> 1.715467</td><td>macaque_MQ286      </td><td>macaque </td></tr>\n",
       "\t<tr><td>Microglia </td><td>  865</td><td>14515</td><td> 5.959352</td><td>macaque_MQ286      </td><td>macaque </td></tr>\n",
       "\t<tr><td>Oligo     </td><td> 8232</td><td>14515</td><td>56.713744</td><td>macaque_MQ286      </td><td>macaque </td></tr>\n",
       "\t<tr><td>OPC       </td><td> 1496</td><td>14515</td><td>10.306579</td><td>macaque_MQ286      </td><td>macaque </td></tr>\n",
       "\t<tr><td>Astrocytes</td><td> 6318</td><td>22229</td><td>28.422331</td><td>macaque_MQ279      </td><td>macaque </td></tr>\n",
       "\t<tr><td>Endotheial</td><td>  296</td><td>22229</td><td> 1.331594</td><td>macaque_MQ279      </td><td>macaque </td></tr>\n",
       "\t<tr><td>Microglia </td><td> 1761</td><td>22229</td><td> 7.922084</td><td>macaque_MQ279      </td><td>macaque </td></tr>\n",
       "\t<tr><td>Oligo     </td><td>10881</td><td>22229</td><td>48.949570</td><td>macaque_MQ279      </td><td>macaque </td></tr>\n",
       "\t<tr><td>OPC       </td><td> 2973</td><td>22229</td><td>13.374421</td><td>macaque_MQ279      </td><td>macaque </td></tr>\n",
       "\t<tr><td>Astrocytes</td><td> 8806</td><td>24323</td><td>36.204416</td><td>macaque_MQ277      </td><td>macaque </td></tr>\n",
       "\t<tr><td>Endotheial</td><td>  696</td><td>24323</td><td> 2.861489</td><td>macaque_MQ277      </td><td>macaque </td></tr>\n",
       "\t<tr><td>Microglia </td><td>  838</td><td>24323</td><td> 3.445299</td><td>macaque_MQ277      </td><td>macaque </td></tr>\n",
       "\t<tr><td>Oligo     </td><td>12667</td><td>24323</td><td>52.078280</td><td>macaque_MQ277      </td><td>macaque </td></tr>\n",
       "\t<tr><td>OPC       </td><td> 1316</td><td>24323</td><td> 5.410517</td><td>macaque_MQ277      </td><td>macaque </td></tr>\n",
       "\t<tr><td>Astrocytes</td><td> 4973</td><td>10384</td><td>47.890986</td><td>macaque_MQ439      </td><td>macaque </td></tr>\n",
       "\t<tr><td>Endotheial</td><td>  155</td><td>10384</td><td> 1.492681</td><td>macaque_MQ439      </td><td>macaque </td></tr>\n",
       "\t<tr><td>Microglia </td><td>  371</td><td>10384</td><td> 3.572804</td><td>macaque_MQ439      </td><td>macaque </td></tr>\n",
       "\t<tr><td>Oligo     </td><td> 4470</td><td>10384</td><td>43.046995</td><td>macaque_MQ439      </td><td>macaque </td></tr>\n",
       "\t<tr><td>OPC       </td><td>  415</td><td>10384</td><td> 3.996533</td><td>macaque_MQ439      </td><td>macaque </td></tr>\n",
       "</tbody>\n",
       "</table>\n"
      ],
      "text/latex": [
       "A tibble: 55 × 6\n",
       "\\begin{tabular}{llllll}\n",
       " Subgroup & part\\_num & all & ratio & donor & species\\\\\n",
       " <chr> & <dbl> & <dbl> & <dbl> & <chr> & <chr>\\\\\n",
       "\\hline\n",
       "\t Astrocytes &   892 &  2411 & 36.997097 & marmoset\\_MT23R-001  & marmoset\\\\\n",
       "\t Endotheial &    87 &  2411 &  3.608461 & marmoset\\_MT23R-001  & marmoset\\\\\n",
       "\t Microglia  &    94 &  2411 &  3.898797 & marmoset\\_MT23R-001  & marmoset\\\\\n",
       "\t Oligo      &  1268 &  2411 & 52.592285 & marmoset\\_MT23R-001  & marmoset\\\\\n",
       "\t OPC        &    70 &  2411 &  2.903360 & marmoset\\_MT23R-001  & marmoset\\\\\n",
       "\t Astrocytes &  2258 &  4649 & 48.569585 & marmoset\\_MT30-008   & marmoset\\\\\n",
       "\t Endotheial &   104 &  4649 &  2.237040 & marmoset\\_MT30-008   & marmoset\\\\\n",
       "\t Microglia  &   234 &  4649 &  5.033341 & marmoset\\_MT30-008   & marmoset\\\\\n",
       "\t Oligo      &  1925 &  4649 & 41.406754 & marmoset\\_MT30-008   & marmoset\\\\\n",
       "\t OPC        &   128 &  4649 &  2.753280 & marmoset\\_MT30-008   & marmoset\\\\\n",
       "\t Astrocytes &  2030 &  4073 & 49.840412 & marmoset\\_MT29-043   & marmoset\\\\\n",
       "\t Endotheial &    86 &  4073 &  2.111466 & marmoset\\_MT29-043   & marmoset\\\\\n",
       "\t Microglia  &   329 &  4073 &  8.077584 & marmoset\\_MT29-043   & marmoset\\\\\n",
       "\t Oligo      &  1528 &  4073 & 37.515345 & marmoset\\_MT29-043   & marmoset\\\\\n",
       "\t OPC        &   100 &  4073 &  2.455193 & marmoset\\_MT29-043   & marmoset\\\\\n",
       "\t Astrocytes &   427 &  1461 & 29.226557 & marmoset\\_MT29-051   & marmoset\\\\\n",
       "\t Endotheial &    16 &  1461 &  1.095140 & marmoset\\_MT29-051   & marmoset\\\\\n",
       "\t Microglia  &    58 &  1461 &  3.969884 & marmoset\\_MT29-051   & marmoset\\\\\n",
       "\t Oligo      &   943 &  1461 & 64.544832 & marmoset\\_MT29-051   & marmoset\\\\\n",
       "\t OPC        &    17 &  1461 &  1.163587 & marmoset\\_MT29-051   & marmoset\\\\\n",
       "\t Astrocytes &  1485 &  8316 & 17.857143 & mouse\\_MS-cla-001    & mouse   \\\\\n",
       "\t Endotheial &  2515 &  8316 & 30.242905 & mouse\\_MS-cla-001    & mouse   \\\\\n",
       "\t Microglia  &   807 &  8316 &  9.704185 & mouse\\_MS-cla-001    & mouse   \\\\\n",
       "\t Oligo      &  2888 &  8316 & 34.728235 & mouse\\_MS-cla-001    & mouse   \\\\\n",
       "\t OPC        &   621 &  8316 &  7.467532 & mouse\\_MS-cla-001    & mouse   \\\\\n",
       "\t Astrocytes &  2269 & 13602 & 16.681370 & mouse\\_MS060-cla001  & mouse   \\\\\n",
       "\t Endotheial &  4190 & 13602 & 30.804293 & mouse\\_MS060-cla001  & mouse   \\\\\n",
       "\t Microglia  &   905 & 13602 &  6.653433 & mouse\\_MS060-cla001  & mouse   \\\\\n",
       "\t Oligo      &  5583 & 13602 & 41.045434 & mouse\\_MS060-cla001  & mouse   \\\\\n",
       "\t OPC        &   655 & 13602 &  4.815468 & mouse\\_MS060-cla001  & mouse   \\\\\n",
       "\t Astrocytes &  2292 & 13490 & 16.990363 & mouse\\_MS060-cla 001 & mouse   \\\\\n",
       "\t Endotheial &  3680 & 13490 & 27.279466 & mouse\\_MS060-cla 001 & mouse   \\\\\n",
       "\t Microglia  &  1177 & 13490 &  8.724981 & mouse\\_MS060-cla 001 & mouse   \\\\\n",
       "\t Oligo      &  5368 & 13490 & 39.792439 & mouse\\_MS060-cla 001 & mouse   \\\\\n",
       "\t OPC        &   973 & 13490 &  7.212750 & mouse\\_MS060-cla 001 & mouse   \\\\\n",
       "\t Astrocytes &  3673 & 14515 & 25.304857 & macaque\\_MQ286       & macaque \\\\\n",
       "\t Endotheial &   249 & 14515 &  1.715467 & macaque\\_MQ286       & macaque \\\\\n",
       "\t Microglia  &   865 & 14515 &  5.959352 & macaque\\_MQ286       & macaque \\\\\n",
       "\t Oligo      &  8232 & 14515 & 56.713744 & macaque\\_MQ286       & macaque \\\\\n",
       "\t OPC        &  1496 & 14515 & 10.306579 & macaque\\_MQ286       & macaque \\\\\n",
       "\t Astrocytes &  6318 & 22229 & 28.422331 & macaque\\_MQ279       & macaque \\\\\n",
       "\t Endotheial &   296 & 22229 &  1.331594 & macaque\\_MQ279       & macaque \\\\\n",
       "\t Microglia  &  1761 & 22229 &  7.922084 & macaque\\_MQ279       & macaque \\\\\n",
       "\t Oligo      & 10881 & 22229 & 48.949570 & macaque\\_MQ279       & macaque \\\\\n",
       "\t OPC        &  2973 & 22229 & 13.374421 & macaque\\_MQ279       & macaque \\\\\n",
       "\t Astrocytes &  8806 & 24323 & 36.204416 & macaque\\_MQ277       & macaque \\\\\n",
       "\t Endotheial &   696 & 24323 &  2.861489 & macaque\\_MQ277       & macaque \\\\\n",
       "\t Microglia  &   838 & 24323 &  3.445299 & macaque\\_MQ277       & macaque \\\\\n",
       "\t Oligo      & 12667 & 24323 & 52.078280 & macaque\\_MQ277       & macaque \\\\\n",
       "\t OPC        &  1316 & 24323 &  5.410517 & macaque\\_MQ277       & macaque \\\\\n",
       "\t Astrocytes &  4973 & 10384 & 47.890986 & macaque\\_MQ439       & macaque \\\\\n",
       "\t Endotheial &   155 & 10384 &  1.492681 & macaque\\_MQ439       & macaque \\\\\n",
       "\t Microglia  &   371 & 10384 &  3.572804 & macaque\\_MQ439       & macaque \\\\\n",
       "\t Oligo      &  4470 & 10384 & 43.046995 & macaque\\_MQ439       & macaque \\\\\n",
       "\t OPC        &   415 & 10384 &  3.996533 & macaque\\_MQ439       & macaque \\\\\n",
       "\\end{tabular}\n"
      ],
      "text/markdown": [
       "\n",
       "A tibble: 55 × 6\n",
       "\n",
       "| Subgroup &lt;chr&gt; | part_num &lt;dbl&gt; | all &lt;dbl&gt; | ratio &lt;dbl&gt; | donor &lt;chr&gt; | species &lt;chr&gt; |\n",
       "|---|---|---|---|---|---|\n",
       "| Astrocytes |   892 |  2411 | 36.997097 | marmoset_MT23R-001  | marmoset |\n",
       "| Endotheial |    87 |  2411 |  3.608461 | marmoset_MT23R-001  | marmoset |\n",
       "| Microglia  |    94 |  2411 |  3.898797 | marmoset_MT23R-001  | marmoset |\n",
       "| Oligo      |  1268 |  2411 | 52.592285 | marmoset_MT23R-001  | marmoset |\n",
       "| OPC        |    70 |  2411 |  2.903360 | marmoset_MT23R-001  | marmoset |\n",
       "| Astrocytes |  2258 |  4649 | 48.569585 | marmoset_MT30-008   | marmoset |\n",
       "| Endotheial |   104 |  4649 |  2.237040 | marmoset_MT30-008   | marmoset |\n",
       "| Microglia  |   234 |  4649 |  5.033341 | marmoset_MT30-008   | marmoset |\n",
       "| Oligo      |  1925 |  4649 | 41.406754 | marmoset_MT30-008   | marmoset |\n",
       "| OPC        |   128 |  4649 |  2.753280 | marmoset_MT30-008   | marmoset |\n",
       "| Astrocytes |  2030 |  4073 | 49.840412 | marmoset_MT29-043   | marmoset |\n",
       "| Endotheial |    86 |  4073 |  2.111466 | marmoset_MT29-043   | marmoset |\n",
       "| Microglia  |   329 |  4073 |  8.077584 | marmoset_MT29-043   | marmoset |\n",
       "| Oligo      |  1528 |  4073 | 37.515345 | marmoset_MT29-043   | marmoset |\n",
       "| OPC        |   100 |  4073 |  2.455193 | marmoset_MT29-043   | marmoset |\n",
       "| Astrocytes |   427 |  1461 | 29.226557 | marmoset_MT29-051   | marmoset |\n",
       "| Endotheial |    16 |  1461 |  1.095140 | marmoset_MT29-051   | marmoset |\n",
       "| Microglia  |    58 |  1461 |  3.969884 | marmoset_MT29-051   | marmoset |\n",
       "| Oligo      |   943 |  1461 | 64.544832 | marmoset_MT29-051   | marmoset |\n",
       "| OPC        |    17 |  1461 |  1.163587 | marmoset_MT29-051   | marmoset |\n",
       "| Astrocytes |  1485 |  8316 | 17.857143 | mouse_MS-cla-001    | mouse    |\n",
       "| Endotheial |  2515 |  8316 | 30.242905 | mouse_MS-cla-001    | mouse    |\n",
       "| Microglia  |   807 |  8316 |  9.704185 | mouse_MS-cla-001    | mouse    |\n",
       "| Oligo      |  2888 |  8316 | 34.728235 | mouse_MS-cla-001    | mouse    |\n",
       "| OPC        |   621 |  8316 |  7.467532 | mouse_MS-cla-001    | mouse    |\n",
       "| Astrocytes |  2269 | 13602 | 16.681370 | mouse_MS060-cla001  | mouse    |\n",
       "| Endotheial |  4190 | 13602 | 30.804293 | mouse_MS060-cla001  | mouse    |\n",
       "| Microglia  |   905 | 13602 |  6.653433 | mouse_MS060-cla001  | mouse    |\n",
       "| Oligo      |  5583 | 13602 | 41.045434 | mouse_MS060-cla001  | mouse    |\n",
       "| OPC        |   655 | 13602 |  4.815468 | mouse_MS060-cla001  | mouse    |\n",
       "| Astrocytes |  2292 | 13490 | 16.990363 | mouse_MS060-cla 001 | mouse    |\n",
       "| Endotheial |  3680 | 13490 | 27.279466 | mouse_MS060-cla 001 | mouse    |\n",
       "| Microglia  |  1177 | 13490 |  8.724981 | mouse_MS060-cla 001 | mouse    |\n",
       "| Oligo      |  5368 | 13490 | 39.792439 | mouse_MS060-cla 001 | mouse    |\n",
       "| OPC        |   973 | 13490 |  7.212750 | mouse_MS060-cla 001 | mouse    |\n",
       "| Astrocytes |  3673 | 14515 | 25.304857 | macaque_MQ286       | macaque  |\n",
       "| Endotheial |   249 | 14515 |  1.715467 | macaque_MQ286       | macaque  |\n",
       "| Microglia  |   865 | 14515 |  5.959352 | macaque_MQ286       | macaque  |\n",
       "| Oligo      |  8232 | 14515 | 56.713744 | macaque_MQ286       | macaque  |\n",
       "| OPC        |  1496 | 14515 | 10.306579 | macaque_MQ286       | macaque  |\n",
       "| Astrocytes |  6318 | 22229 | 28.422331 | macaque_MQ279       | macaque  |\n",
       "| Endotheial |   296 | 22229 |  1.331594 | macaque_MQ279       | macaque  |\n",
       "| Microglia  |  1761 | 22229 |  7.922084 | macaque_MQ279       | macaque  |\n",
       "| Oligo      | 10881 | 22229 | 48.949570 | macaque_MQ279       | macaque  |\n",
       "| OPC        |  2973 | 22229 | 13.374421 | macaque_MQ279       | macaque  |\n",
       "| Astrocytes |  8806 | 24323 | 36.204416 | macaque_MQ277       | macaque  |\n",
       "| Endotheial |   696 | 24323 |  2.861489 | macaque_MQ277       | macaque  |\n",
       "| Microglia  |   838 | 24323 |  3.445299 | macaque_MQ277       | macaque  |\n",
       "| Oligo      | 12667 | 24323 | 52.078280 | macaque_MQ277       | macaque  |\n",
       "| OPC        |  1316 | 24323 |  5.410517 | macaque_MQ277       | macaque  |\n",
       "| Astrocytes |  4973 | 10384 | 47.890986 | macaque_MQ439       | macaque  |\n",
       "| Endotheial |   155 | 10384 |  1.492681 | macaque_MQ439       | macaque  |\n",
       "| Microglia  |   371 | 10384 |  3.572804 | macaque_MQ439       | macaque  |\n",
       "| Oligo      |  4470 | 10384 | 43.046995 | macaque_MQ439       | macaque  |\n",
       "| OPC        |   415 | 10384 |  3.996533 | macaque_MQ439       | macaque  |\n",
       "\n"
      ],
      "text/plain": [
       "   Subgroup   part_num all   ratio     donor               species \n",
       "1  Astrocytes   892     2411 36.997097 marmoset_MT23R-001  marmoset\n",
       "2  Endotheial    87     2411  3.608461 marmoset_MT23R-001  marmoset\n",
       "3  Microglia     94     2411  3.898797 marmoset_MT23R-001  marmoset\n",
       "4  Oligo       1268     2411 52.592285 marmoset_MT23R-001  marmoset\n",
       "5  OPC           70     2411  2.903360 marmoset_MT23R-001  marmoset\n",
       "6  Astrocytes  2258     4649 48.569585 marmoset_MT30-008   marmoset\n",
       "7  Endotheial   104     4649  2.237040 marmoset_MT30-008   marmoset\n",
       "8  Microglia    234     4649  5.033341 marmoset_MT30-008   marmoset\n",
       "9  Oligo       1925     4649 41.406754 marmoset_MT30-008   marmoset\n",
       "10 OPC          128     4649  2.753280 marmoset_MT30-008   marmoset\n",
       "11 Astrocytes  2030     4073 49.840412 marmoset_MT29-043   marmoset\n",
       "12 Endotheial    86     4073  2.111466 marmoset_MT29-043   marmoset\n",
       "13 Microglia    329     4073  8.077584 marmoset_MT29-043   marmoset\n",
       "14 Oligo       1528     4073 37.515345 marmoset_MT29-043   marmoset\n",
       "15 OPC          100     4073  2.455193 marmoset_MT29-043   marmoset\n",
       "16 Astrocytes   427     1461 29.226557 marmoset_MT29-051   marmoset\n",
       "17 Endotheial    16     1461  1.095140 marmoset_MT29-051   marmoset\n",
       "18 Microglia     58     1461  3.969884 marmoset_MT29-051   marmoset\n",
       "19 Oligo        943     1461 64.544832 marmoset_MT29-051   marmoset\n",
       "20 OPC           17     1461  1.163587 marmoset_MT29-051   marmoset\n",
       "21 Astrocytes  1485     8316 17.857143 mouse_MS-cla-001    mouse   \n",
       "22 Endotheial  2515     8316 30.242905 mouse_MS-cla-001    mouse   \n",
       "23 Microglia    807     8316  9.704185 mouse_MS-cla-001    mouse   \n",
       "24 Oligo       2888     8316 34.728235 mouse_MS-cla-001    mouse   \n",
       "25 OPC          621     8316  7.467532 mouse_MS-cla-001    mouse   \n",
       "26 Astrocytes  2269    13602 16.681370 mouse_MS060-cla001  mouse   \n",
       "27 Endotheial  4190    13602 30.804293 mouse_MS060-cla001  mouse   \n",
       "28 Microglia    905    13602  6.653433 mouse_MS060-cla001  mouse   \n",
       "29 Oligo       5583    13602 41.045434 mouse_MS060-cla001  mouse   \n",
       "30 OPC          655    13602  4.815468 mouse_MS060-cla001  mouse   \n",
       "31 Astrocytes  2292    13490 16.990363 mouse_MS060-cla 001 mouse   \n",
       "32 Endotheial  3680    13490 27.279466 mouse_MS060-cla 001 mouse   \n",
       "33 Microglia   1177    13490  8.724981 mouse_MS060-cla 001 mouse   \n",
       "34 Oligo       5368    13490 39.792439 mouse_MS060-cla 001 mouse   \n",
       "35 OPC          973    13490  7.212750 mouse_MS060-cla 001 mouse   \n",
       "36 Astrocytes  3673    14515 25.304857 macaque_MQ286       macaque \n",
       "37 Endotheial   249    14515  1.715467 macaque_MQ286       macaque \n",
       "38 Microglia    865    14515  5.959352 macaque_MQ286       macaque \n",
       "39 Oligo       8232    14515 56.713744 macaque_MQ286       macaque \n",
       "40 OPC         1496    14515 10.306579 macaque_MQ286       macaque \n",
       "41 Astrocytes  6318    22229 28.422331 macaque_MQ279       macaque \n",
       "42 Endotheial   296    22229  1.331594 macaque_MQ279       macaque \n",
       "43 Microglia   1761    22229  7.922084 macaque_MQ279       macaque \n",
       "44 Oligo      10881    22229 48.949570 macaque_MQ279       macaque \n",
       "45 OPC         2973    22229 13.374421 macaque_MQ279       macaque \n",
       "46 Astrocytes  8806    24323 36.204416 macaque_MQ277       macaque \n",
       "47 Endotheial   696    24323  2.861489 macaque_MQ277       macaque \n",
       "48 Microglia    838    24323  3.445299 macaque_MQ277       macaque \n",
       "49 Oligo      12667    24323 52.078280 macaque_MQ277       macaque \n",
       "50 OPC         1316    24323  5.410517 macaque_MQ277       macaque \n",
       "51 Astrocytes  4973    10384 47.890986 macaque_MQ439       macaque \n",
       "52 Endotheial   155    10384  1.492681 macaque_MQ439       macaque \n",
       "53 Microglia    371    10384  3.572804 macaque_MQ439       macaque \n",
       "54 Oligo       4470    10384 43.046995 macaque_MQ439       macaque \n",
       "55 OPC          415    10384  3.996533 macaque_MQ439       macaque "
      ]
     },
     "metadata": {},
     "output_type": "display_data"
    }
   ],
   "source": [
    "meta_mouse$num=1\n",
    "mouse_sum=meta_mouse %>% group_by(Subgroup) %>% summarise(part_num=sum(num))\n",
    "mouse_sum$all=sum(mouse_sum$part_num)\n",
    "mouse_sum$ratio=mouse_sum$part_num/mouse_sum$all*100\n",
    "\n",
    "mouse_sum_all=data.frame()\n",
    "for(i in unique(mouse_meta$sample)){\n",
    "    meta_mouse_sub=meta_mouse[meta_mouse$sample %in% i,]\n",
    "    meta_mouse_sub$num=1\n",
    "    mouse_sum=meta_mouse_sub %>% group_by(Subgroup) %>% summarise(part_num=sum(num))\n",
    "    mouse_sum$all=sum(mouse_sum$part_num)\n",
    "    mouse_sum$ratio=mouse_sum$part_num/mouse_sum$all*100\n",
    "    mouse_sum$donor=paste0('mouse_',i)\n",
    "    mouse_sum_all=rbind(mouse_sum_all,mouse_sum)\n",
    "}\n",
    "\n",
    "\n",
    "macaque_sum_all=data.frame()\n",
    "for(i in unique(macaque_meta$sample)){\n",
    "    meta_macaque_sub=meta_macaque[meta_macaque$sample %in% i,]\n",
    "    meta_macaque_sub$num=1\n",
    "    macaque_sum=meta_macaque_sub %>% group_by(Subgroup) %>% summarise(part_num=sum(num))\n",
    "    macaque_sum$all=sum(macaque_sum$part_num)\n",
    "    macaque_sum$ratio=macaque_sum$part_num/macaque_sum$all*100\n",
    "    macaque_sum$donor=paste0('macaque_',i)\n",
    "    macaque_sum_all=rbind(macaque_sum_all,macaque_sum)\n",
    "}\n",
    "\n",
    "marmoset_sum_all=data.frame()\n",
    "for(i in unique(marmoset_meta$sample)){\n",
    "    meta_marmoset_sub=meta_marmoset[meta_marmoset$sample %in% i,]\n",
    "    meta_marmoset_sub$num=1\n",
    "    marmoset_sum=meta_marmoset_sub %>% group_by(Subgroup) %>% summarise(part_num=sum(num))\n",
    "    marmoset_sum$all=sum(marmoset_sum$part_num)\n",
    "    marmoset_sum$ratio=marmoset_sum$part_num/marmoset_sum$all*100\n",
    "    marmoset_sum$donor=paste0('marmoset_',i)\n",
    "    marmoset_sum_all=rbind(marmoset_sum_all,marmoset_sum)\n",
    "}\n",
    "\n",
    "marmoset_sum_all$species='marmoset'\n",
    "mouse_sum_all$species='mouse'\n",
    "macaque_sum_all$species='macaque'\n",
    "sum_all=rbind(marmoset_sum_all,mouse_sum_all,macaque_sum_all)\n",
    "sum_all"
   ]
  },
  {
   "cell_type": "code",
   "execution_count": 28,
   "id": "47bc0d49",
   "metadata": {},
   "outputs": [
    {
     "name": "stderr",
     "output_type": "stream",
     "text": [
      "Scale for 'fill' is already present. Adding another scale for 'fill', which\n",
      "will replace the existing scale.\n",
      "\n"
     ]
    },
    {
     "data": {
      "image/png": "[encoded data removed]",
      "text/plain": [
       "plot without title"
      ]
     },
     "metadata": {
      "image/png": {
       "height": 300,
       "width": 600
      }
     },
     "output_type": "display_data"
    },
    {
     "data": {
      "image/png": "[encoded data removed]",
      "text/plain": [
       "plot without title"
      ]
     },
     "metadata": {
      "image/png": {
       "height": 300,
       "width": 600
      }
     },
     "output_type": "display_data"
    }
   ],
   "source": [
    "options(repr.plot.width=10, repr.plot.height=5)\n",
    "\n",
    "\n",
    "test=ggbarplot(sum_all, x = \"Subgroup\", y = \"ratio\", \n",
    "          add = c(\"mean_sd\"),\n",
    "          color = \"species\",fill = \"species\", palette = \"npg\",\n",
    "position = position_dodge(0.8))+  scale_fill_prism(palette = \"candy_bright\")#使用ggprism包修改颜色\n",
    "test\n",
    "\n",
    "stat.test <- sum_all %>% group_by(Subgroup) %>%\n",
    "  t_test(ratio ~ species) %>%\n",
    "  #adjust_pvalue()%>% \n",
    "  add_significance(\"p.adj\")\n",
    "stat.test <- stat.test %>% \n",
    "  add_xy_position(x='Subgroup',dodge = 1)\n",
    "  #add_y_position()\n",
    "gp4=test + stat_pvalue_manual(\n",
    "  stat.test,  label = \"p.adj.signif\", tip.length = 0\n",
    "  ) +\n",
    "  scale_y_continuous(expand = expansion(mult = c(0, .5)))\n",
    "\n",
    "\n",
    "gp4"
   ]
  },
  {
   "cell_type": "code",
   "execution_count": 29,
   "id": "db51d9cc",
   "metadata": {},
   "outputs": [],
   "source": [
    "typeeee='NON'\n",
    "write.csv(sum_all,paste0('/home/liuyx/liuyuxuan/spa_seurat/cla/fig_1206/species_compare_df/',typeeee,'_summary.csv'))\n"
   ]
  },
  {
   "cell_type": "code",
   "execution_count": 60,
   "id": "43410978",
   "metadata": {},
   "outputs": [
    {
     "data": {
      "text/html": [
       "<strong>png:</strong> 2"
      ],
      "text/latex": [
       "\\textbf{png:} 2"
      ],
      "text/markdown": [
       "**png:** 2"
      ],
      "text/plain": [
       "png \n",
       "  2 "
      ]
     },
     "metadata": {},
     "output_type": "display_data"
    },
    {
     "data": {
      "text/html": [
       "<strong>png:</strong> 2"
      ],
      "text/latex": [
       "\\textbf{png:} 2"
      ],
      "text/markdown": [
       "**png:** 2"
      ],
      "text/plain": [
       "png \n",
       "  2 "
      ]
     },
     "metadata": {},
     "output_type": "display_data"
    },
    {
     "data": {
      "text/html": [
       "<strong>png:</strong> 2"
      ],
      "text/latex": [
       "\\textbf{png:} 2"
      ],
      "text/markdown": [
       "**png:** 2"
      ],
      "text/plain": [
       "png \n",
       "  2 "
      ]
     },
     "metadata": {},
     "output_type": "display_data"
    },
    {
     "data": {
      "text/html": [
       "<strong>png:</strong> 2"
      ],
      "text/latex": [
       "\\textbf{png:} 2"
      ],
      "text/markdown": [
       "**png:** 2"
      ],
      "text/plain": [
       "png \n",
       "  2 "
      ]
     },
     "metadata": {},
     "output_type": "display_data"
    }
   ],
   "source": [
    "pdf(\"/home/liuyx/liuyuxuan/spa_seurat/cla/fig_1206/fig6_renew_240118/bili_all.pdf\", width=6, height=5)\n",
    "gp1\n",
    "dev.off()\n",
    "\n",
    "pdf(\"/home/liuyx/liuyuxuan/spa_seurat/cla/fig_1206/fig6_renew_240118/bili_ex.pdf\", width=6, height=5)\n",
    "gp2\n",
    "dev.off()\n",
    "\n",
    "pdf(\"/home/liuyx/liuyuxuan/spa_seurat/cla/fig_1206/fig6_renew_240118/bili_in.pdf\", width=12, height=5)\n",
    "gp3\n",
    "dev.off()\n",
    "\n",
    "pdf(\"/home/liuyx/liuyuxuan/spa_seurat/cla/fig_1206/fig6_renew_240118/bili_non.pdf\", width=10, height=5)\n",
    "gp4\n",
    "dev.off()\n"
   ]
  },
  {
   "cell_type": "code",
   "execution_count": null,
   "id": "8df26296",
   "metadata": {},
   "outputs": [],
   "source": []
  },
  {
   "cell_type": "code",
   "execution_count": null,
   "id": "b85c181f",
   "metadata": {},
   "outputs": [],
   "source": []
  },
  {
   "cell_type": "code",
   "execution_count": null,
   "id": "6233e5db",
   "metadata": {},
   "outputs": [],
   "source": []
  },
  {
   "cell_type": "code",
   "execution_count": null,
   "id": "685efa50",
   "metadata": {},
   "outputs": [],
   "source": []
  },
  {
   "cell_type": "code",
   "execution_count": null,
   "id": "cc0d85b8",
   "metadata": {},
   "outputs": [],
   "source": []
  }
 ],
 "metadata": {
  "kernelspec": {
   "display_name": "R",
   "language": "R",
   "name": "ir"
  },
  "language_info": {
   "codemirror_mode": "r",
   "file_extension": ".r",
   "mimetype": "text/x-r-source",
   "name": "R",
   "pygments_lexer": "r",
   "version": "4.1.3"
  }
 },
 "nbformat": 4,
 "nbformat_minor": 5
}
