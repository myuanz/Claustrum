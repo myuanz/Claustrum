{
 "cells": [
  {
   "cell_type": "code",
   "execution_count": 1,
   "id": "fd0ab226",
   "metadata": {},
   "outputs": [],
   "source": [
    "import scanpy as sc\n",
    "import numpy as np\n",
    "import pandas as pd\n",
    "import anndata as ad\n",
    "from scipy import sparse\n",
    "import numpy as np\n",
    "import os\n",
    "\n",
    "\n",
    "path = os.listdir('/home/liuyx/liuyuxuan/spa_seurat/cla/macaca/renew_spatial_data_240129_macaque/cell_bin_boundary_277_sct_h5ad/')\n",
    "\n",
    "\n",
    "for i in path:\n",
    "    spa_data='/home/liuyx/liuyuxuan/spa_seurat/cla/macaca/renew_spatial_data_240129_macaque/cell_bin_boundary_277_sct_h5ad/'+ i\n",
    "    test292=sc.read(spa_data)\n",
    "    new_adata = ad.AnnData(test292.raw.X, obs=test292.obs, var=test292.var, dtype='float32')\n",
    "    out_data='/home/liuyx/liuyuxuan/spa_seurat/cla/macaca/renew_spatial_data_240129_macaque/cell_bin_boundary_277_sct_h5ad_change_float/'+ i\n",
    "    new_adata.write(out_data)\n",
    "\n",
    "\n"
   ]
  },
  {
   "cell_type": "code",
   "execution_count": null,
   "id": "4fb33338",
   "metadata": {},
   "outputs": [],
   "source": [
    "\n",
    "path = os.listdir('/home/liuyx/liuyuxuan/spa_seurat/cla/macaca/renew_spatial_data_240129_macaque/cell_bin_boundary_179_sct_h5ad/')\n",
    "\n",
    "\n",
    "for i in path:\n",
    "    spa_data='/home/liuyx/liuyuxuan/spa_seurat/cla/macaca/renew_spatial_data_240129_macaque/cell_bin_boundary_179_sct_h5ad/'+ i\n",
    "    test292=sc.read(spa_data)\n",
    "    new_adata = ad.AnnData(test292.raw.X, obs=test292.obs, var=test292.var, dtype='float32')\n",
    "    out_data='/home/liuyx/liuyuxuan/spa_seurat/cla/macaca/renew_spatial_data_240129_macaque/cell_bin_boundary_179_sct_h5ad_change_float/'+ i\n",
    "    new_adata.write(out_data)\n",
    "\n",
    "\n"
   ]
  },
  {
   "cell_type": "code",
   "execution_count": null,
   "id": "7d3bcd55",
   "metadata": {},
   "outputs": [],
   "source": []
  }
 ],
 "metadata": {
  "kernelspec": {
   "display_name": "GraphST2",
   "language": "python",
   "name": "graphst2"
  },
  "language_info": {
   "codemirror_mode": {
    "name": "ipython",
    "version": 3
   },
   "file_extension": ".py",
   "mimetype": "text/x-python",
   "name": "python",
   "nbconvert_exporter": "python",
   "pygments_lexer": "ipython3",
   "version": "3.8.18"
  }
 },
 "nbformat": 4,
 "nbformat_minor": 5
}
