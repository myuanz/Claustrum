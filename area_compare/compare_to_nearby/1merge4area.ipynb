{
 "cells": [
  {
   "cell_type": "code",
   "execution_count": 1,
   "id": "58f17924",
   "metadata": {},
   "outputs": [],
   "source": [
    "suppressMessages(library(tidyverse))\n",
    "suppressMessages(library(parallel))\n",
    "suppressMessages(library(Seurat))\n",
    "suppressMessages(library(patchwork))\n",
    "suppressMessages(library(Matrix))\n",
    "suppressMessages(library(viridis))\n",
    "suppressMessages(library(cowplot))\n",
    "suppressMessages(library(ggsci))\n",
    "suppressMessages(library(pheatmap))\n",
    "suppressMessages(library(RColorBrewer))\n",
    "suppressMessages(library(reshape2))\n",
    "suppressMessages(library(LSD))\n",
    "suppressMessages(library(readxl))\n",
    "suppressMessages(library(ggrepel))\n",
    "suppressMessages(library(harmony))\n",
    "suppressMessages(library(scrattch.hicat))\n",
    "options(future.globals.maxSize= 891289600 * 1600000)\n",
    "\n",
    "readdir='/home/liuyx/liuyuxuan/spa_seurat/cla/speciesCompare/3area_compare_1225/3area_data/'\n",
    "#http://localhost:1818/notebooks/spa_seurat/cla/speciesCompare/3area_compare_1225/Putamen数据预处理.ipynb\n",
    "puta=readRDS(paste0(readdir,'puta_cluster.rds'))\n",
    "amy=readRDS('/home/liuyx/liuyuxuan/spa_seurat/cla/speciesCompare/1019_Putamen_Amygdala_analysis/batch_normalize_renew_240115/dif_res_anno/final_anno/30cl_240122_Cluster_Supercluster_res09.rds')\n",
    "insu = readRDS('/home/liuyx/liuyuxuan/spa_seurat/cla/speciesCompare/Insular_renew_1016/batch_normalize_renew_240115/dif_res_anno/final_anno/46cl_240122_Cluster_Supercluster_res11.rds')\n",
    "cla=readRDS('/home/liuyx/liuyuxuan/spa_seurat/cla/macaca/sn_0821_renew_batch3_all/batch_normalize_renew_0105/dif_res_anno1/final_anno/48cl_240118_merge_oligo_Cluster_Supercluster_res12.rds')\n",
    "\n"
   ]
  },
  {
   "cell_type": "code",
   "execution_count": 4,
   "id": "f5cdfb9c",
   "metadata": {
    "scrolled": true
   },
   "outputs": [
    {
     "data": {
      "text/plain": [
       "An object of class Seurat \n",
       "43267 features across 14400 samples within 2 assays \n",
       "Active assay: SCT (21304 features, 21304 variable features)\n",
       " 1 other assay present: RNA\n",
       " 3 dimensional reductions calculated: pca, umap, harmony"
      ]
     },
     "metadata": {},
     "output_type": "display_data"
    },
    {
     "data": {
      "text/plain": [
       "An object of class Seurat \n",
       "17915 features across 12556 samples within 2 assays \n",
       "Active assay: RNA (15915 features, 0 variable features)\n",
       " 1 other assay present: integrated\n",
       " 2 dimensional reductions calculated: pca, umap"
      ]
     },
     "metadata": {},
     "output_type": "display_data"
    },
    {
     "data": {
      "text/plain": [
       "An object of class Seurat \n",
       "45543 features across 13800 samples within 2 assays \n",
       "Active assay: SCT (22313 features, 22313 variable features)\n",
       " 1 other assay present: RNA\n",
       " 3 dimensional reductions calculated: pca, umap, harmony"
      ]
     },
     "metadata": {},
     "output_type": "display_data"
    },
    {
     "data": {
      "text/plain": [
       "An object of class Seurat \n",
       "45012 features across 11939 samples within 2 assays \n",
       "Active assay: SCT (21721 features, 21721 variable features)\n",
       " 1 other assay present: RNA\n",
       " 3 dimensional reductions calculated: pca, umap, harmony"
      ]
     },
     "metadata": {},
     "output_type": "display_data"
    },
    {
     "data": {
      "text/plain": [
       "\n",
       "     Clastrum_Astrocytes_0      Clastrum_Astrocytes_1 \n",
       "                       300                        300 \n",
       "     Clastrum_Endotheial_0        Clastrum_GABA_CHC_9 \n",
       "                       300                        300 \n",
       "      Clastrum_GABA_DRD2_0       Clastrum_GABA_DRD2_1 \n",
       "                       300                        300 \n",
       "      Clastrum_GABA_DRD2_2      Clastrum_GABA_LAMP5_4 \n",
       "                       300                        300 \n",
       "Clastrum_GABA_LAMP5_LHX6_0      Clastrum_GABA_PVALB_1 \n",
       "                       300                        300 \n",
       "    Clastrum_GABA_PVALB_12     Clastrum_GABA_PVALB_14 \n",
       "                       300                        300 \n",
       "     Clastrum_GABA_PVALB_2      Clastrum_GABA_PVALB_8 \n",
       "                       300                        300 \n",
       "     Clastrum_GABA_RELN_10      Clastrum_GABA_RELN_13 \n",
       "                       300                        300 \n",
       "      Clastrum_GABA_SST_15        Clastrum_GABA_SST_5 \n",
       "                       300                        300 \n",
       "       Clastrum_GABA_SST_7       Clastrum_GABA_VIP_11 \n",
       "                       300                        300 \n",
       "       Clastrum_GABA_VIP_3        Clastrum_GABA_VIP_6 \n",
       "                       300                        300 \n",
       "    Clastrum_GLUT_GNB4-_10     Clastrum_GLUT_GNB4-_14 \n",
       "                       300                        300 \n",
       "    Clastrum_GLUT_GNB4-_17     Clastrum_GLUT_GNB4-_18 \n",
       "                       300                        300 \n",
       "    Clastrum_GLUT_GNB4-_20     Clastrum_GLUT_GNB4-_23 \n",
       "                       300                        300 \n",
       "     Clastrum_GLUT_GNB4-_6      Clastrum_GLUT_GNB4-_9 \n",
       "                       300                        300 \n",
       "     Clastrum_GLUT_GNB4+_0      Clastrum_GLUT_GNB4+_1 \n",
       "                       300                        300 \n",
       "    Clastrum_GLUT_GNB4+_11     Clastrum_GLUT_GNB4+_13 \n",
       "                       300                        300 \n",
       "    Clastrum_GLUT_GNB4+_16      Clastrum_GLUT_GNB4+_2 \n",
       "                       300                        300 \n",
       "     Clastrum_GLUT_GNB4+_3      Clastrum_GLUT_GNB4+_4 \n",
       "                       300                        300 \n",
       "     Clastrum_GLUT_GNB4+_5      Clastrum_GLUT_GNB4+_7 \n",
       "                       300                        300 \n",
       "     Clastrum_GLUT_GNB4+_8      Clastrum_GLUT_VENO_12 \n",
       "                       300                        300 \n",
       "     Clastrum_GLUT_VENO_15      Clastrum_GLUT_VENO_21 \n",
       "                       300                        300 \n",
       "      Clastrum_Microglia_0           Clastrum_Oligo_0 \n",
       "                       300                        300 \n",
       "            Clastrum_OPC_0             Clastrum_OPC_1 \n",
       "                       300                        300 "
      ]
     },
     "metadata": {},
     "output_type": "display_data"
    },
    {
     "data": {
      "text/plain": [
       "\n",
       "           Putamen_AST           Putamen_ENDO      Putamen_GABA_CHAT \n",
       "                  2887                    230                    171 \n",
       "     Putamen_GABA_DRD1      Putamen_GABA_DRD2     Putamen_GABA_LAMP5 \n",
       "                  3000                   3000                    354 \n",
       "    Putamen_GABA_PVALB Putamen_GABA_PVALB-KIT       Putamen_GABA_SST \n",
       "                  1151                    635                    272 \n",
       "      Putamen_GABA_VIP           Putamen_GLUT            Putamen_MIC \n",
       "                    81                      9                     24 \n",
       "          Putamen_OLIG            Putamen_OPC \n",
       "                   504                    238 "
      ]
     },
     "metadata": {},
     "output_type": "display_data"
    },
    {
     "data": {
      "text/plain": [
       "\n",
       "       Insular_Astrocytes_0        Insular_Astrocytes_1 \n",
       "                        300                         300 \n",
       "       Insular_Astrocytes_2         Insular_GABA_CHC_19 \n",
       "                        300                         300 \n",
       "       Insular_GABA_LAMP5_6  Insular_GABA_LAMP5_LHX6_10 \n",
       "                        300                         300 \n",
       "       Insular_GABA_PVALB_1       Insular_GABA_PVALB_12 \n",
       "                        300                         300 \n",
       "      Insular_GABA_PVALB_17        Insular_GABA_PVALB_3 \n",
       "                        300                         300 \n",
       "       Insular_GABA_PVALB_7        Insular_GABA_RELN_14 \n",
       "                        300                         300 \n",
       "       Insular_GABA_RELN_15        Insular_GABA_RELN_18 \n",
       "                        300                         300 \n",
       "         Insular_GABA_SST_0         Insular_GABA_SST_16 \n",
       "                        300                         300 \n",
       "         Insular_GABA_SST_4          Insular_GABA_SST_5 \n",
       "                        300                         300 \n",
       "         Insular_GABA_SST_9         Insular_GABA_VIP_11 \n",
       "                        300                         300 \n",
       "         Insular_GABA_VIP_2          Insular_GABA_VIP_8 \n",
       "                        300                         300 \n",
       "     Insular_GLUT_L2/3 IT_0     Insular_GLUT_L2/3 IT_10 \n",
       "                        300                         300 \n",
       "    Insular_GLUT_L2/3 IT_14      Insular_GLUT_L2/3 IT_3 \n",
       "                        300                         300 \n",
       "     Insular_GLUT_L2/3 IT_4      Insular_GLUT_L2/3 IT_6 \n",
       "                        300                         300 \n",
       "      Insular_GLUT_L4 IT_13       Insular_GLUT_L4 IT_15 \n",
       "                        300                         300 \n",
       "      Insular_GLUT_L4 IT_16        Insular_GLUT_L4 IT_8 \n",
       "                        300                         300 \n",
       "       Insular_GLUT_L4 IT_9       Insular_GLUT_L5 ET_17 \n",
       "                        300                         300 \n",
       "       Insular_GLUT_L5 IT_1 Insular_GLUT_L5/6 IT Car3_7 \n",
       "                        300                         300 \n",
       "    Insular_GLUT_L5/6 NP_18        Insular_GLUT_L6 CT_5 \n",
       "                        300                         300 \n",
       "      Insular_GLUT_L6 IT_12        Insular_GLUT_L6 IT_2 \n",
       "                        300                         300 \n",
       "        Insular_GLUT_L6b_11         Insular_Microglia_0 \n",
       "                        300                         300 \n",
       "            Insular_Oligo_0             Insular_Oligo_1 \n",
       "                        300                         300 \n",
       "              Insular_OPC_0               Insular_OPC_1 \n",
       "                        300                         300 "
      ]
     },
     "metadata": {},
     "output_type": "display_data"
    },
    {
     "data": {
      "text/plain": [
       "\n",
       "      Amygdala_Astrocytes_0       Amygdala_Astrocytes_1 \n",
       "                        400                         400 \n",
       "      Amygdala_GABA_LAMP5_1       Amygdala_GABA_LAMP5_3 \n",
       "                        400                         400 \n",
       "      Amygdala_GABA_LAMP5_8       Amygdala_GABA_LAMP5_9 \n",
       "                        400                         400 \n",
       "Amygdala_GABA_LAMP5_LHX6_10      Amygdala_GABA_PVALB_11 \n",
       "                        400                         339 \n",
       "      Amygdala_GABA_PVALB_4        Amygdala_GABA_RELN_5 \n",
       "                        400                         400 \n",
       "        Amygdala_GABA_SST_2         Amygdala_GABA_VIP_0 \n",
       "                        400                         400 \n",
       "        Amygdala_GABA_VIP_7             Amygdala_GLUT_0 \n",
       "                        400                         400 \n",
       "            Amygdala_GLUT_1            Amygdala_GLUT_10 \n",
       "                        400                         400 \n",
       "           Amygdala_GLUT_11            Amygdala_GLUT_12 \n",
       "                        400                         400 \n",
       "           Amygdala_GLUT_13             Amygdala_GLUT_2 \n",
       "                        400                         400 \n",
       "            Amygdala_GLUT_3             Amygdala_GLUT_4 \n",
       "                        400                         400 \n",
       "            Amygdala_GLUT_5             Amygdala_GLUT_6 \n",
       "                        400                         400 \n",
       "            Amygdala_GLUT_7             Amygdala_GLUT_9 \n",
       "                        400                         400 \n",
       "       Amygdala_Microglia_0            Amygdala_Oligo_0 \n",
       "                        400                         400 \n",
       "           Amygdala_Oligo_1              Amygdala_OPC_0 \n",
       "                        400                         400 "
      ]
     },
     "metadata": {},
     "output_type": "display_data"
    }
   ],
   "source": [
    "\n",
    "Idents(cla)='Cluster'\n",
    "cla1=subset(cla,downsample=300)\n",
    "Idents(puta)='Cluster'\n",
    "puta1=subset(puta,downsample=3000)\n",
    "Idents(insu)='Cluster'\n",
    "insu1=subset(insu,downsample=300)\n",
    "Idents(amy)='Cluster'\n",
    "amy1=subset(amy,downsample=400)\n",
    "\n",
    "cla1\n",
    "puta1\n",
    "insu1\n",
    "amy1\n",
    "cla1@meta.data$merge_anno=paste0('Clastrum_',cla1@meta.data$Cluster)\n",
    "puta1@meta.data$merge_anno=paste0('Putamen_',puta1@meta.data$Cluster)\n",
    "insu1@meta.data$merge_anno=paste0('Insular_',insu1@meta.data$Cluster)\n",
    "amy1@meta.data$merge_anno=paste0('Amygdala_',amy1@meta.data$Cluster)\n",
    "\n",
    "table(cla1@meta.data$merge_anno)\n",
    "table(puta1@meta.data$merge_anno)\n",
    "table(insu1$merge_anno)\n",
    "table(amy1$merge_anno)\n"
   ]
  },
  {
   "cell_type": "code",
   "execution_count": 5,
   "id": "8fbd8d99",
   "metadata": {},
   "outputs": [
    {
     "name": "stderr",
     "output_type": "stream",
     "text": [
      "Calculating cell attributes from input UMI matrix: log_umi\n",
      "\n",
      "Variance stabilizing transformation of count matrix of size 18741 by 14400\n",
      "\n",
      "Model formula is y ~ log_umi\n",
      "\n",
      "Get Negative Binomial regression parameters per gene\n",
      "\n",
      "Using 2000 genes, 14400 cells\n",
      "\n"
     ]
    },
    {
     "name": "stdout",
     "output_type": "stream",
     "text": [
      "  |======================================================================| 100%\n"
     ]
    },
    {
     "name": "stderr",
     "output_type": "stream",
     "text": [
      "Found 91 outliers - those will be ignored in fitting/regularization step\n",
      "\n",
      "\n",
      "Second step: Get residuals using fitted parameters for 18741 genes\n",
      "\n"
     ]
    },
    {
     "name": "stdout",
     "output_type": "stream",
     "text": [
      "  |======================================================================| 100%\n"
     ]
    },
    {
     "name": "stderr",
     "output_type": "stream",
     "text": [
      "Computing corrected count matrix for 18741 genes\n",
      "\n"
     ]
    },
    {
     "name": "stdout",
     "output_type": "stream",
     "text": [
      "  |======================================================================| 100%\n"
     ]
    },
    {
     "name": "stderr",
     "output_type": "stream",
     "text": [
      "Calculating gene attributes\n",
      "\n",
      "Wall clock passed: Time difference of 2.734453 mins\n",
      "\n",
      "Determine variable features\n",
      "\n",
      "Place corrected count matrix in counts slot\n",
      "\n",
      "Centering data matrix\n",
      "\n",
      "Set default assay to SCT\n",
      "\n",
      "Computing nearest neighbor graph\n",
      "\n",
      "Computing SNN\n",
      "\n",
      "Warning message:\n",
      "“The default method for RunUMAP has changed from calling Python UMAP via reticulate to the R-native UWOT using the cosine metric\n",
      "To use Python UMAP via reticulate, set umap.method to 'umap-learn' and metric to 'correlation'\n",
      "This message will be shown once per session”\n",
      "14:21:04 UMAP embedding parameters a = 0.9922 b = 1.112\n",
      "\n",
      "14:21:04 Read 14400 rows and found 30 numeric columns\n",
      "\n",
      "14:21:04 Using Annoy for neighbor search, n_neighbors = 30\n",
      "\n",
      "14:21:04 Building Annoy index with metric = cosine, n_trees = 50\n",
      "\n",
      "0%   10   20   30   40   50   60   70   80   90   100%\n",
      "\n",
      "[----|----|----|----|----|----|----|----|----|----|\n",
      "\n",
      "*\n",
      "*\n",
      "*\n",
      "*\n",
      "*\n",
      "*\n",
      "*\n",
      "*\n",
      "*\n",
      "*\n",
      "*\n",
      "*\n",
      "*\n",
      "*\n",
      "*\n",
      "*\n",
      "*\n",
      "*\n",
      "*\n",
      "*\n",
      "*\n",
      "*\n",
      "*\n",
      "*\n",
      "*\n",
      "*\n",
      "*\n",
      "*\n",
      "*\n",
      "*\n",
      "*\n",
      "*\n",
      "*\n",
      "*\n",
      "*\n",
      "*\n",
      "*\n",
      "*\n",
      "*\n",
      "*\n",
      "*\n",
      "*\n",
      "*\n",
      "*\n",
      "*\n",
      "*\n",
      "*\n",
      "*\n",
      "*\n",
      "*\n",
      "|\n",
      "\n",
      "14:21:06 Writing NN index file to temp file /tmp/Rtmp8r0sTL/file25ab914fd836b\n",
      "\n",
      "14:21:06 Searching Annoy index using 1 thread, search_k = 3000\n",
      "\n",
      "14:21:09 Annoy recall = 100%\n",
      "\n",
      "14:21:12 Commencing smooth kNN distance calibration using 1 thread\n",
      " with target n_neighbors = 30\n",
      "\n",
      "14:21:16 Initializing from normalized Laplacian + noise (using irlba)\n",
      "\n",
      "14:21:18 Commencing optimization for 200 epochs, with 609734 positive edges\n",
      "\n",
      "14:21:36 Optimization finished\n",
      "\n",
      "Calculating cell attributes from input UMI matrix: log_umi\n",
      "\n",
      "Variance stabilizing transformation of count matrix of size 14592 by 12556\n",
      "\n",
      "Model formula is y ~ log_umi\n",
      "\n",
      "Get Negative Binomial regression parameters per gene\n",
      "\n",
      "Using 2000 genes, 12556 cells\n",
      "\n"
     ]
    },
    {
     "name": "stdout",
     "output_type": "stream",
     "text": [
      "  |======================================================================| 100%\n"
     ]
    },
    {
     "name": "stderr",
     "output_type": "stream",
     "text": [
      "Found 89 outliers - those will be ignored in fitting/regularization step\n",
      "\n",
      "\n",
      "Second step: Get residuals using fitted parameters for 14592 genes\n",
      "\n"
     ]
    },
    {
     "name": "stdout",
     "output_type": "stream",
     "text": [
      "  |======================================================================| 100%\n"
     ]
    },
    {
     "name": "stderr",
     "output_type": "stream",
     "text": [
      "Computing corrected count matrix for 14592 genes\n",
      "\n"
     ]
    },
    {
     "name": "stdout",
     "output_type": "stream",
     "text": [
      "  |======================================================================| 100%\n"
     ]
    },
    {
     "name": "stderr",
     "output_type": "stream",
     "text": [
      "Calculating gene attributes\n",
      "\n",
      "Wall clock passed: Time difference of 2.054735 mins\n",
      "\n",
      "Determine variable features\n",
      "\n",
      "Place corrected count matrix in counts slot\n",
      "\n",
      "Centering data matrix\n",
      "\n",
      "Set default assay to SCT\n",
      "\n",
      "Computing nearest neighbor graph\n",
      "\n",
      "Computing SNN\n",
      "\n",
      "14:24:28 UMAP embedding parameters a = 0.9922 b = 1.112\n",
      "\n",
      "14:24:28 Read 12556 rows and found 30 numeric columns\n",
      "\n",
      "14:24:28 Using Annoy for neighbor search, n_neighbors = 30\n",
      "\n",
      "14:24:28 Building Annoy index with metric = cosine, n_trees = 50\n",
      "\n",
      "0%   10   20   30   40   50   60   70   80   90   100%\n",
      "\n",
      "[----|----|----|----|----|----|----|----|----|----|\n",
      "\n",
      "*\n",
      "*\n",
      "*\n",
      "*\n",
      "*\n",
      "*\n",
      "*\n",
      "*\n",
      "*\n",
      "*\n",
      "*\n",
      "*\n",
      "*\n",
      "*\n",
      "*\n",
      "*\n",
      "*\n",
      "*\n",
      "*\n",
      "*\n",
      "*\n",
      "*\n",
      "*\n",
      "*\n",
      "*\n",
      "*\n",
      "*\n",
      "*\n",
      "*\n",
      "*\n",
      "*\n",
      "*\n",
      "*\n",
      "*\n",
      "*\n",
      "*\n",
      "*\n",
      "*\n",
      "*\n",
      "*\n",
      "*\n",
      "*\n",
      "*\n",
      "*\n",
      "*\n",
      "*\n",
      "*\n",
      "*\n",
      "*\n",
      "*\n",
      "|\n",
      "\n",
      "14:24:30 Writing NN index file to temp file /tmp/Rtmp8r0sTL/file25ab9646ffae1\n",
      "\n",
      "14:24:30 Searching Annoy index using 1 thread, search_k = 3000\n",
      "\n",
      "14:24:33 Annoy recall = 100%\n",
      "\n",
      "14:24:35 Commencing smooth kNN distance calibration using 1 thread\n",
      " with target n_neighbors = 30\n",
      "\n",
      "14:24:39 Initializing from normalized Laplacian + noise (using irlba)\n",
      "\n",
      "14:24:40 Commencing optimization for 200 epochs, with 567004 positive edges\n",
      "\n",
      "14:24:57 Optimization finished\n",
      "\n",
      "Calculating cell attributes from input UMI matrix: log_umi\n",
      "\n",
      "Variance stabilizing transformation of count matrix of size 20156 by 13800\n",
      "\n",
      "Model formula is y ~ log_umi\n",
      "\n",
      "Get Negative Binomial regression parameters per gene\n",
      "\n",
      "Using 2000 genes, 13800 cells\n",
      "\n"
     ]
    },
    {
     "name": "stdout",
     "output_type": "stream",
     "text": [
      "  |======================================================================| 100%\n"
     ]
    },
    {
     "name": "stderr",
     "output_type": "stream",
     "text": [
      "Found 116 outliers - those will be ignored in fitting/regularization step\n",
      "\n",
      "\n",
      "Second step: Get residuals using fitted parameters for 20156 genes\n",
      "\n"
     ]
    },
    {
     "name": "stdout",
     "output_type": "stream",
     "text": [
      "  |======================================================================| 100%\n"
     ]
    },
    {
     "name": "stderr",
     "output_type": "stream",
     "text": [
      "Computing corrected count matrix for 20156 genes\n",
      "\n"
     ]
    },
    {
     "name": "stdout",
     "output_type": "stream",
     "text": [
      "  |======================================================================| 100%\n"
     ]
    },
    {
     "name": "stderr",
     "output_type": "stream",
     "text": [
      "Calculating gene attributes\n",
      "\n",
      "Wall clock passed: Time difference of 2.824472 mins\n",
      "\n",
      "Determine variable features\n",
      "\n",
      "Place corrected count matrix in counts slot\n",
      "\n",
      "Centering data matrix\n",
      "\n",
      "Set default assay to SCT\n",
      "\n",
      "Computing nearest neighbor graph\n",
      "\n",
      "Computing SNN\n",
      "\n",
      "14:28:46 UMAP embedding parameters a = 0.9922 b = 1.112\n",
      "\n",
      "14:28:46 Read 13800 rows and found 30 numeric columns\n",
      "\n",
      "14:28:46 Using Annoy for neighbor search, n_neighbors = 30\n",
      "\n",
      "14:28:46 Building Annoy index with metric = cosine, n_trees = 50\n",
      "\n",
      "0%   10   20   30   40   50   60   70   80   90   100%\n",
      "\n",
      "[----|----|----|----|----|----|----|----|----|----|\n",
      "\n",
      "*\n",
      "*\n",
      "*\n",
      "*\n",
      "*\n",
      "*\n",
      "*\n",
      "*\n",
      "*\n",
      "*\n",
      "*\n",
      "*\n",
      "*\n",
      "*\n",
      "*\n",
      "*\n",
      "*\n",
      "*\n",
      "*\n",
      "*\n",
      "*\n",
      "*\n",
      "*\n",
      "*\n",
      "*\n",
      "*\n",
      "*\n",
      "*\n",
      "*\n",
      "*\n",
      "*\n",
      "*\n",
      "*\n",
      "*\n",
      "*\n",
      "*\n",
      "*\n",
      "*\n",
      "*\n",
      "*\n",
      "*\n",
      "*\n",
      "*\n",
      "*\n",
      "*\n",
      "*\n",
      "*\n",
      "*\n",
      "*\n",
      "*\n",
      "|\n",
      "\n",
      "14:28:47 Writing NN index file to temp file /tmp/Rtmp8r0sTL/file25ab96578a4c2\n",
      "\n",
      "14:28:47 Searching Annoy index using 1 thread, search_k = 3000\n",
      "\n",
      "14:28:50 Annoy recall = 100%\n",
      "\n",
      "14:28:53 Commencing smooth kNN distance calibration using 1 thread\n",
      " with target n_neighbors = 30\n",
      "\n",
      "14:28:58 Initializing from normalized Laplacian + noise (using irlba)\n",
      "\n",
      "14:28:59 Commencing optimization for 200 epochs, with 576698 positive edges\n",
      "\n",
      "14:29:17 Optimization finished\n",
      "\n",
      "Calculating cell attributes from input UMI matrix: log_umi\n",
      "\n",
      "Variance stabilizing transformation of count matrix of size 18961 by 11939\n",
      "\n",
      "Model formula is y ~ log_umi\n",
      "\n",
      "Get Negative Binomial regression parameters per gene\n",
      "\n",
      "Using 2000 genes, 11939 cells\n",
      "\n"
     ]
    },
    {
     "name": "stdout",
     "output_type": "stream",
     "text": [
      "  |======================================================================| 100%\n"
     ]
    },
    {
     "name": "stderr",
     "output_type": "stream",
     "text": [
      "Found 91 outliers - those will be ignored in fitting/regularization step\n",
      "\n",
      "\n",
      "Second step: Get residuals using fitted parameters for 18961 genes\n",
      "\n"
     ]
    },
    {
     "name": "stdout",
     "output_type": "stream",
     "text": [
      "  |======================================================================| 100%\n"
     ]
    },
    {
     "name": "stderr",
     "output_type": "stream",
     "text": [
      "Computing corrected count matrix for 18961 genes\n",
      "\n"
     ]
    },
    {
     "name": "stdout",
     "output_type": "stream",
     "text": [
      "  |======================================================================| 100%\n"
     ]
    },
    {
     "name": "stderr",
     "output_type": "stream",
     "text": [
      "Calculating gene attributes\n",
      "\n",
      "Wall clock passed: Time difference of 2.438632 mins\n",
      "\n",
      "Determine variable features\n",
      "\n",
      "Place corrected count matrix in counts slot\n",
      "\n",
      "Centering data matrix\n",
      "\n",
      "Set default assay to SCT\n",
      "\n",
      "Computing nearest neighbor graph\n",
      "\n",
      "Computing SNN\n",
      "\n",
      "14:32:34 UMAP embedding parameters a = 0.9922 b = 1.112\n",
      "\n",
      "14:32:34 Read 11939 rows and found 30 numeric columns\n",
      "\n",
      "14:32:34 Using Annoy for neighbor search, n_neighbors = 30\n",
      "\n",
      "14:32:34 Building Annoy index with metric = cosine, n_trees = 50\n",
      "\n",
      "0%   10   20   30   40   50   60   70   80   90   100%\n",
      "\n",
      "[----|----|----|----|----|----|----|----|----|----|\n",
      "\n",
      "*\n",
      "*\n",
      "*\n",
      "*\n",
      "*\n",
      "*\n",
      "*\n",
      "*\n",
      "*\n",
      "*\n",
      "*\n",
      "*\n",
      "*\n",
      "*\n",
      "*\n",
      "*\n",
      "*\n",
      "*\n",
      "*\n",
      "*\n",
      "*\n",
      "*\n",
      "*\n",
      "*\n",
      "*\n",
      "*\n",
      "*\n",
      "*\n",
      "*\n",
      "*\n",
      "*\n",
      "*\n",
      "*\n",
      "*\n",
      "*\n",
      "*\n",
      "*\n",
      "*\n",
      "*\n",
      "*\n",
      "*\n",
      "*\n",
      "*\n",
      "*\n",
      "*\n",
      "*\n",
      "*\n",
      "*\n",
      "*\n",
      "*\n",
      "|\n",
      "\n",
      "14:32:35 Writing NN index file to temp file /tmp/Rtmp8r0sTL/file25ab929065fbc\n",
      "\n",
      "14:32:35 Searching Annoy index using 1 thread, search_k = 3000\n",
      "\n",
      "14:32:38 Annoy recall = 100%\n",
      "\n",
      "14:32:41 Commencing smooth kNN distance calibration using 1 thread\n",
      " with target n_neighbors = 30\n",
      "\n",
      "14:32:45 Initializing from normalized Laplacian + noise (using irlba)\n",
      "\n",
      "14:32:45 Commencing optimization for 200 epochs, with 509272 positive edges\n",
      "\n",
      "14:33:01 Optimization finished\n",
      "\n"
     ]
    }
   ],
   "source": [
    "\n",
    "combineSeuratList = list(\n",
    "    Clastrum=cla1,\n",
    "    Putamen=puta1,\n",
    "    Insular=insu1,\n",
    "    Amygdala=amy1\n",
    ")\n",
    "combineSeuratList = lapply(combineSeuratList, function(seurat) {\n",
    "    seurat = SCTransform(\n",
    "        seurat, assay=\"RNA\",\n",
    "        ncells=ncol(seurat[[\"RNA\"]]), \n",
    "        variable.features.n=3000,\n",
    "        return.only.var.genes = F,\n",
    "        method = \"glmGamPoi\"\n",
    "    ) %>%\n",
    "        RunPCA(verbose = FALSE) %>%\n",
    "        FindNeighbors(dims = 1:30) %>%\n",
    "        FindClusters(verbose = FALSE) %>%\n",
    "        RunUMAP(dims = 1:30)\n",
    "    return(seurat)\n",
    "})\n",
    "\n",
    "outdir='/home/liuyx/liuyuxuan/spa_seurat/cla/speciesCompare/3area_compare_240123/compare_to_nearby/data'\n",
    "\n",
    "saveRDS(combineSeuratList, paste0(outdir, \"/4area_compare_seurat_ALL_down300_List.rds\"))\n",
    "\n",
    "\n"
   ]
  },
  {
   "cell_type": "code",
   "execution_count": 6,
   "id": "d6426e99",
   "metadata": {},
   "outputs": [
    {
     "name": "stderr",
     "output_type": "stream",
     "text": [
      "Warning message in asMethod(object):\n",
      "“sparse->dense coercion: allocating vector of size 1.4 GiB”\n",
      "Warning message in asMethod(object):\n",
      "“sparse->dense coercion: allocating vector of size 1.7 GiB”\n",
      "Warning message in asMethod(object):\n",
      "“sparse->dense coercion: allocating vector of size 1.4 GiB”\n",
      "Warning message in asMethod(object):\n",
      "“sparse->dense coercion: allocating vector of size 1.3 GiB”\n"
     ]
    }
   ],
   "source": [
    "\n",
    "# Try find markers by hicat\n",
    "combineSeuratList$Insular$clusterNameMod = combineSeuratList$Insular$merge_anno\n",
    "combineSeuratList$Putamen$clusterNameMod = combineSeuratList$Putamen$merge_anno\n",
    "combineSeuratList$Amygdala$clusterNameMod = combineSeuratList$Amygdala$merge_anno\n",
    "combineSeuratList$Clastrum$clusterNameMod = combineSeuratList$Clastrum$merge_anno\n",
    "\n",
    "combineSeuratList$Insular$clusterNameMod = gsub(\"(-| |/)\", \"_\", combineSeuratList$Insular$clusterNameMod)\n",
    "combineSeuratList$Putamen$clusterNameMod = gsub(\"(-| |/)\", \"_\", combineSeuratList$Putamen$clusterNameMod)\n",
    "combineSeuratList$Amygdala$clusterNameMod = gsub(\"(-| |/)\", \"_\", combineSeuratList$Amygdala$clusterNameMod)\n",
    "combineSeuratList$Clastrum$clusterNameMod = gsub(\"(-| |/)\", \"_\", combineSeuratList$Clastrum$clusterNameMod)\n",
    "\n",
    "combineSeuratList$Insular$clusterNameMod_rn = gsub(\"_\", \"\", combineSeuratList$Insular$clusterNameMod)\n",
    "combineSeuratList$Putamen$clusterNameMod_rn = gsub(\"_\", \"\", combineSeuratList$Putamen$clusterNameMod)\n",
    "combineSeuratList$Amygdala$clusterNameMod_rn = gsub(\"_\", \"\", combineSeuratList$Amygdala$clusterNameMod)\n",
    "combineSeuratList$Clastrum$clusterNameMod_rn = gsub(\"_\", \"\", combineSeuratList$Clastrum$clusterNameMod)\n",
    "combineSeuratList$Clastrum$clusterNameMod_rn = gsub(\"\\\\+\", \"888\", combineSeuratList$Clastrum$clusterNameMod_rn)\n",
    "\n",
    "\n",
    "\n",
    "#InsularVarGene = select_markers(combineSeuratList$Insular@assays$SCT@counts, combineSeuratList$Insular$clusterNameMod_rn, n.markers = 100)\n",
    "#InsularHicatMarker = InsularVarGene$markers\n",
    "PutamenVarGene = select_markers(combineSeuratList$Putamen@assays$SCT@counts, combineSeuratList$Putamen$clusterNameMod_rn, n.markers = 100)\n",
    "PutamenHicatMarker = PutamenVarGene$markers\n",
    "AmygdalaVarGene =select_markers(combineSeuratList$Amygdala@assays$SCT@counts, combineSeuratList$Amygdala$clusterNameMod_rn, n.markers = 100)\n",
    "AmygdalaHicatMarker = AmygdalaVarGene$markers\n",
    "#InsularVarGene = select_markers(combineSeuratList$Insular@assays$SCT@counts, combineSeuratList$Insular$clusterNameMod_rn, n.markers = 100)\n",
    "#InsularHicatMarker = InsularVarGene$markers\n",
    "#@ClastrumVarGene =select_markers(combineSeuratList$Clastrum@assays$SCT@counts, combineSeuratList$Clastrum$clusterNameMod_rn, n.markers = 100)\n",
    "#ClastrumHicatMarker = ClastrumVarGene$markers\n",
    "\n",
    "insu1=combineSeuratList$Insular\n",
    "Idents(insu1)='clusterNameMod_rn'\n",
    "sub_insu=subset(insu1,downsample=200)\n",
    "InsularVarGene = select_markers(sub_insu@assays$SCT@counts, sub_insu$clusterNameMod_rn, n.markers = 100)\n",
    "InsularHicatMarker = InsularVarGene$markers\n",
    "\n",
    "\n",
    "\n",
    "cla1=combineSeuratList$Clastrum\n",
    "Idents(cla1)='clusterNameMod_rn'\n",
    "sub_cla=subset(cla1,downsample=200)\n",
    "ClastrumVarGene = select_markers(sub_cla@assays$SCT@counts, sub_cla$clusterNameMod_rn, n.markers = 100)\n",
    "ClastrumHicatMarker = ClastrumVarGene$markers\n"
   ]
  },
  {
   "cell_type": "code",
   "execution_count": null,
   "id": "881df173",
   "metadata": {
    "scrolled": true
   },
   "outputs": [
    {
     "data": {
      "text/html": [
       "2251"
      ],
      "text/latex": [
       "2251"
      ],
      "text/markdown": [
       "2251"
      ],
      "text/plain": [
       "[1] 2251"
      ]
     },
     "metadata": {},
     "output_type": "display_data"
    },
    {
     "data": {
      "text/html": [
       "2251"
      ],
      "text/latex": [
       "2251"
      ],
      "text/markdown": [
       "2251"
      ],
      "text/plain": [
       "[1] 2251"
      ]
     },
     "metadata": {},
     "output_type": "display_data"
    },
    {
     "data": {
      "text/html": [
       "2000"
      ],
      "text/latex": [
       "2000"
      ],
      "text/markdown": [
       "2000"
      ],
      "text/plain": [
       "[1] 2000"
      ]
     },
     "metadata": {},
     "output_type": "display_data"
    },
    {
     "data": {
      "text/html": [
       "1981"
      ],
      "text/latex": [
       "1981"
      ],
      "text/markdown": [
       "1981"
      ],
      "text/plain": [
       "[1] 1981"
      ]
     },
     "metadata": {},
     "output_type": "display_data"
    },
    {
     "data": {
      "text/html": [
       "1981"
      ],
      "text/latex": [
       "1981"
      ],
      "text/markdown": [
       "1981"
      ],
      "text/plain": [
       "[1] 1981"
      ]
     },
     "metadata": {},
     "output_type": "display_data"
    },
    {
     "name": "stderr",
     "output_type": "stream",
     "text": [
      "Finding all pairwise anchors\n",
      "\n",
      "Running CCA\n",
      "\n",
      "Merging objects\n",
      "\n",
      "Finding neighborhoods\n",
      "\n",
      "Finding anchors\n",
      "\n",
      "\tFound 15560 anchors\n",
      "\n",
      "Filtering anchors\n",
      "\n",
      "\tRetained 7365 anchors\n",
      "\n",
      "Running CCA\n",
      "\n",
      "Merging objects\n",
      "\n",
      "Finding neighborhoods\n",
      "\n",
      "Finding anchors\n",
      "\n",
      "\tFound 18575 anchors\n",
      "\n",
      "Filtering anchors\n",
      "\n",
      "\tRetained 14678 anchors\n",
      "\n",
      "Running CCA\n",
      "\n",
      "Merging objects\n",
      "\n",
      "Finding neighborhoods\n",
      "\n",
      "Finding anchors\n",
      "\n",
      "\tFound 16727 anchors\n",
      "\n",
      "Filtering anchors\n",
      "\n",
      "\tRetained 7385 anchors\n",
      "\n",
      "Running CCA\n",
      "\n",
      "Merging objects\n",
      "\n",
      "Finding neighborhoods\n",
      "\n",
      "Finding anchors\n",
      "\n",
      "\tFound 17921 anchors\n",
      "\n",
      "Filtering anchors\n",
      "\n",
      "\tRetained 12346 anchors\n",
      "\n",
      "Running CCA\n",
      "\n",
      "Merging objects\n",
      "\n",
      "Finding neighborhoods\n",
      "\n",
      "Finding anchors\n",
      "\n",
      "\tFound 16176 anchors\n",
      "\n",
      "Filtering anchors\n",
      "\n",
      "\tRetained 7410 anchors\n",
      "\n",
      "Running CCA\n",
      "\n",
      "Merging objects\n",
      "\n",
      "Finding neighborhoods\n",
      "\n",
      "Finding anchors\n",
      "\n",
      "\tFound 17782 anchors\n",
      "\n",
      "Filtering anchors\n",
      "\n"
     ]
    }
   ],
   "source": [
    "\n",
    "hicatMarker = Reduce(union, list(InsularHicatMarker, PutamenHicatMarker,\n",
    "AmygdalaHicatMarker,ClastrumHicatMarker))\n",
    "length(hicatMarker)\n",
    "hicatMarker = hicatMarker[which(hicatMarker %in% rownames(combineSeuratList$Insular@assays$SCT@counts))]\n",
    "length(hicatMarker)\n",
    "hicatMarker = hicatMarker[which(hicatMarker %in% rownames(combineSeuratList$Putamen@assays$SCT@counts))]\n",
    "length(hicatMarker)\n",
    "hicatMarker = hicatMarker[which(hicatMarker %in% rownames(combineSeuratList$Amygdala@assays$SCT@counts))]\n",
    "length(hicatMarker)\n",
    "hicatMarker = hicatMarker[which(hicatMarker %in% rownames(combineSeuratList$Clastrum@assays$SCT@counts))]\n",
    "length(hicatMarker)\n",
    "\n",
    "\n",
    "combineSeuratListPrep = PrepSCTIntegration(object.list = combineSeuratList, anchor.features = hicatMarker)\n",
    "integrateAnchors = FindIntegrationAnchors(\n",
    "    object.list = combineSeuratListPrep, normalization.method = \"SCT\",\n",
    "    anchor.features = hicatMarker\n",
    ")\n",
    "integrateSeurat = IntegrateData(anchorset = integrateAnchors, normalization.method = \"SCT\")\n",
    "DefaultAssay(integrateSeurat)\n",
    "integrateSeurat = RunPCA(integrateSeurat, features = hicatMarker, npcs = 100, verbose = FALSE)\n",
    "options(repr.plot.width=7, repr.plot.height=4)\n",
    "ElbowPlot(integrateSeurat, ndims = 100)\n",
    "# integrateSeurat = FindNeighbors(integrateSeurat, reduction = \"pca\", dims = 1:100, nn.eps = 0)\n",
    "# integrateSeurat = FindClusters(integrateSeurat, resolution = 6, n.start = 100)\n",
    "# integrateSeurat = RunTSNE(integrateSeurat, dims = 1:100)\n",
    "# integrateSeurat = RunUMAP(integrateSeurat, dims = 1:100)\n",
    "\n",
    "integrateSeurat = FindNeighbors(integrateSeurat, reduction = \"pca\", dims = 1:100) %>%\n",
    "    FindClusters(resolution = 3, n.start = 10, algorithm=1) %>%\n",
    "    RunTSNE(dims = 1:100) %>%\n",
    "    RunUMAP(dims = 1:100)\n",
    "\n",
    "\n",
    "\n",
    "\n",
    "#saveRDS(integrateSeurat, paste0(outdir, \"/4area_compare_seurat_ALL_down200.rds\"))\n",
    "\n",
    "\n",
    "\n",
    "\n",
    "\n",
    "integrateSeurat@meta.data[grep('Insular',(integrateSeurat@meta.data$merge_anno)),]$group='Insular'\n",
    "integrateSeurat@meta.data[grep('Clastrum',(integrateSeurat@meta.data$merge_anno)),]$group='Claustrum'\n",
    "integrateSeurat@meta.data[grep('Amygdala',(integrateSeurat@meta.data$merge_anno)),]$group='Amygdala'\n",
    "integrateSeurat@meta.data[grep('Putamen',(integrateSeurat@meta.data$merge_anno)),]$group='Putamen'\n",
    "\n",
    "table(integrateSeurat$group)\n",
    "\n",
    "sub1=subset(integrateSeurat, group %in% c(\"Claustrum\",\"Putamen\"))\n",
    "sub2=subset(integrateSeurat, group %in% c(\"Claustrum\",\"Insular\"))\n",
    "sub3=subset(integrateSeurat, group %in% c(\"Claustrum\",\"Amygdala\"))\n",
    "\n",
    "cols=c(brewer.pal(4,\"Set1\"))\n",
    "names(cols)=unique(integrateSeurat$group)\n",
    "\n",
    "options(repr.plot.width=15, repr.plot.height=15)\n",
    "plot_grid(\n",
    "    DimPlot(sub1, reduction=\"umap\", group.by=\"group\", label=T,raster=FALSE,cols=cols)+coord_fixed()+ggtitle(\"Putamen&Claustrum\"),\n",
    "    DimPlot(sub2, reduction=\"umap\", group.by=\"group\", label=T,raster=FALSE,cols=cols)+coord_fixed()+ggtitle(\"Insular&Claustrum\"),\n",
    "    DimPlot(sub3, reduction=\"umap\", group.by=\"group\", label=T,raster=FALSE,cols=cols)+coord_fixed()+ggtitle(\"Amygdala&Claustrum\"),\n",
    "    DimPlot(integrateSeurat, reduction=\"umap\", group.by=\"group\",raster=FALSE,cols=cols)+coord_fixed()+ggtitle(\"ALL\"),\n",
    "    nrow=2\n",
    ")   \n",
    "\n",
    "saveRDS(integrateSeurat, paste0(outdir, \"/4area_compare_seurat_ALL_down300.rds\"))\n",
    "\n"
   ]
  },
  {
   "cell_type": "code",
   "execution_count": 8,
   "id": "aacd5dd1",
   "metadata": {},
   "outputs": [
    {
     "data": {
      "text/html": [
       "'/home/liuyx/liuyuxuan/spa_seurat/cla/speciesCompare/3area_compare_240123/compare_to_nearby/data'"
      ],
      "text/latex": [
       "'/home/liuyx/liuyuxuan/spa\\_seurat/cla/speciesCompare/3area\\_compare\\_240123/compare\\_to\\_nearby/data'"
      ],
      "text/markdown": [
       "'/home/liuyx/liuyuxuan/spa_seurat/cla/speciesCompare/3area_compare_240123/compare_to_nearby/data'"
      ],
      "text/plain": [
       "[1] \"/home/liuyx/liuyuxuan/spa_seurat/cla/speciesCompare/3area_compare_240123/compare_to_nearby/data\""
      ]
     },
     "metadata": {},
     "output_type": "display_data"
    }
   ],
   "source": [
    "outdir"
   ]
  },
  {
   "cell_type": "code",
   "execution_count": null,
   "id": "ff836fd3",
   "metadata": {},
   "outputs": [],
   "source": [
    "#!/bin/bash\n",
    "#SBATCH -e /home/liuyx/liuyuxuan/spa_seurat/cla/speciesCompare/3area_compare_240123/compare_to_nearby/err\n",
    "#SBATCH -o /home/liuyx/liuyuxuan/spa_seurat/cla/speciesCompare/3area_compare_240123/compare_to_nearby/out\n",
    "#SBATCH -J merge4area_ALL\n",
    "#SBATCH -p pro\n",
    "#SBATCH -n 1\n",
    "#SBATCH --mem 700000\n",
    "Rscript /home/liuyx/liuyuxuan/spa_seurat/cla/speciesCompare/3area_compare_240123/compare_to_nearby/merge4area_ALL.R\n",
    "\n",
    "\n",
    "\n"
   ]
  }
 ],
 "metadata": {
  "kernelspec": {
   "display_name": "R",
   "language": "R",
   "name": "ir"
  },
  "language_info": {
   "codemirror_mode": "r",
   "file_extension": ".r",
   "mimetype": "text/x-r-source",
   "name": "R",
   "pygments_lexer": "r",
   "version": "4.1.3"
  }
 },
 "nbformat": 4,
 "nbformat_minor": 5
}
