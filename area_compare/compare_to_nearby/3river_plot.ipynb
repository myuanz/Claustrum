{
 "cells": [
  {
   "cell_type": "code",
   "execution_count": 6,
   "id": "5e866f56",
   "metadata": {},
   "outputs": [],
   "source": [
    "# The script is used to integrate data between monkey cortex and mouse cortex data\n",
    "suppressMessages(library(tidyverse))\n",
    "suppressMessages(library(parallel))\n",
    "suppressMessages(library(Seurat))\n",
    "suppressMessages(library(SeuratData))\n",
    "suppressMessages(library(patchwork))\n",
    "suppressMessages(library(Matrix))\n",
    "suppressMessages(library(viridis))\n",
    "suppressMessages(library(cowplot))\n",
    "suppressMessages(library(ggsci))\n",
    "#suppressMessages(library(pheatmap))\n",
    "suppressMessages(library(RColorBrewer))\n",
    "suppressMessages(library(reshape2))\n",
    "#suppressMessages(library(LSD))\n",
    "suppressMessages(library(readxl))\n",
    "suppressMessages(library(ggrepel))\n",
    "#suppressMessages(library(harmony))\n",
    "#suppressMessages(library(scrattch.hicat))\n",
    "# suppressMessages(library(clusterProfiler))\n",
    "# suppressMessages(library(GO.db))\n",
    "# suppressMessages(library(biomaRt))\n",
    "# suppressMessages(library(GSA))\n",
    "#suppressMessages(library(eulerr))\n",
    "#suppressMessages(library(enrichplot))\n",
    "#suppressMessages(library(clusterProfiler))\n",
    "#suppressMessages(library(org.Hs.eg.db))\n",
    "#suppressMessages(library(scales))\n",
    "#library(class)\n"
   ]
  },
  {
   "cell_type": "code",
   "execution_count": 7,
   "id": "919029c9",
   "metadata": {},
   "outputs": [],
   "source": [
    "outdir='/home/liuyx/liuyuxuan/spa_seurat/cla/speciesCompare/3area_compare_240123/compare_to_nearby/data'\n",
    "integrateSeurat=readRDS(paste0(outdir, \"/4area_compare_seurat_ALL_down300.rds\"))\n",
    "\n",
    "\n"
   ]
  },
  {
   "cell_type": "code",
   "execution_count": 8,
   "id": "80132e86",
   "metadata": {},
   "outputs": [
    {
     "name": "stderr",
     "output_type": "stream",
     "text": [
      "Warning message:\n",
      "“Removing 12556 cells missing data for vars requested”\n"
     ]
    }
   ],
   "source": [
    "integrateSeurat=subset(integrateSeurat,maxPredClass=='Excit_Neuron')\n"
   ]
  },
  {
   "cell_type": "code",
   "execution_count": 10,
   "id": "7cd7f65a",
   "metadata": {},
   "outputs": [
    {
     "name": "stderr",
     "output_type": "stream",
     "text": [
      "Linking to GEOS 3.12.1, GDAL 3.8.4, PROJ 9.3.1; sf_use_s2() is TRUE\n",
      "\n"
     ]
    }
   ],
   "source": [
    "#画每个细胞距离\n",
    "#计算每个人类细胞与最近的十个mouse/macaque细胞的平均距离\n",
    "library(RANN)\n",
    "library(sf)"
   ]
  },
  {
   "cell_type": "code",
   "execution_count": 11,
   "id": "3af12a3d",
   "metadata": {},
   "outputs": [
    {
     "data": {
      "text/plain": [
       "\n",
       " Amygdala Claustrum   Insular \n",
       "     5200      6600      5700 "
      ]
     },
     "metadata": {},
     "output_type": "display_data"
    }
   ],
   "source": [
    "\n",
    "integrateSeurat@meta.data[grep('Insular',(integrateSeurat@meta.data$merge_anno)),]$group='Insular'\n",
    "integrateSeurat@meta.data[grep('Clastrum',(integrateSeurat@meta.data$merge_anno)),]$group='Claustrum'\n",
    "integrateSeurat@meta.data[grep('Amygdala',(integrateSeurat@meta.data$merge_anno)),]$group='Amygdala'\n",
    "#integrateSeurat@meta.data[grep('Putamen',(integrateSeurat@meta.data$merge_anno)),]$group='Putamen'\n",
    "\n",
    "table(integrateSeurat$group)\n"
   ]
  },
  {
   "cell_type": "code",
   "execution_count": 12,
   "id": "82d373fe",
   "metadata": {},
   "outputs": [],
   "source": [
    "cla=subset(integrateSeurat,group=='Claustrum')\n",
    "df_cla=cla@reductions$umap@cell.embeddings\n",
    "df_cla=data.frame(df_cla)\n",
    "\n",
    "pbmc=subset(integrateSeurat,group=='Insular')\n",
    "df_insu=pbmc@reductions$umap@cell.embeddings\n",
    "df_insu=data.frame(df_insu)\n",
    "\n",
    "d=nn2(data=df_insu,query = df_cla,k=10)\n",
    "df_raw=d$nn.idx\n",
    "df=df_raw"
   ]
  },
  {
   "cell_type": "code",
   "execution_count": 13,
   "id": "b0a3761a",
   "metadata": {},
   "outputs": [
    {
     "data": {
      "text/html": [
       "<table class=\"dataframe\">\n",
       "<caption>A data.frame: 6 × 2</caption>\n",
       "<thead>\n",
       "\t<tr><th></th><th scope=col>X.GLUT_L2.3.IT.</th><th scope=col>X.10.</th></tr>\n",
       "\t<tr><th></th><th scope=col>&lt;chr&gt;</th><th scope=col>&lt;chr&gt;</th></tr>\n",
       "</thead>\n",
       "<tbody>\n",
       "\t<tr><th scope=row>1</th><td>GLUT_L2/3 IT     </td><td>10</td></tr>\n",
       "\t<tr><th scope=row>2</th><td>GLUT_L6b         </td><td>10</td></tr>\n",
       "\t<tr><th scope=row>3</th><td>GLUT_L6 IT       </td><td>10</td></tr>\n",
       "\t<tr><th scope=row>4</th><td>GLUT_L5/6 IT Car3</td><td>9 </td></tr>\n",
       "\t<tr><th scope=row>5</th><td>GLUT_L5/6 IT Car3</td><td>9 </td></tr>\n",
       "\t<tr><th scope=row>6</th><td>GLUT_L5 IT       </td><td>7 </td></tr>\n",
       "</tbody>\n",
       "</table>\n"
      ],
      "text/latex": [
       "A data.frame: 6 × 2\n",
       "\\begin{tabular}{r|ll}\n",
       "  & X.GLUT\\_L2.3.IT. & X.10.\\\\\n",
       "  & <chr> & <chr>\\\\\n",
       "\\hline\n",
       "\t1 & GLUT\\_L2/3 IT      & 10\\\\\n",
       "\t2 & GLUT\\_L6b          & 10\\\\\n",
       "\t3 & GLUT\\_L6 IT        & 10\\\\\n",
       "\t4 & GLUT\\_L5/6 IT Car3 & 9 \\\\\n",
       "\t5 & GLUT\\_L5/6 IT Car3 & 9 \\\\\n",
       "\t6 & GLUT\\_L5 IT        & 7 \\\\\n",
       "\\end{tabular}\n"
      ],
      "text/markdown": [
       "\n",
       "A data.frame: 6 × 2\n",
       "\n",
       "| <!--/--> | X.GLUT_L2.3.IT. &lt;chr&gt; | X.10. &lt;chr&gt; |\n",
       "|---|---|---|\n",
       "| 1 | GLUT_L2/3 IT      | 10 |\n",
       "| 2 | GLUT_L6b          | 10 |\n",
       "| 3 | GLUT_L6 IT        | 10 |\n",
       "| 4 | GLUT_L5/6 IT Car3 | 9  |\n",
       "| 5 | GLUT_L5/6 IT Car3 | 9  |\n",
       "| 6 | GLUT_L5 IT        | 7  |\n",
       "\n"
      ],
      "text/plain": [
       "  X.GLUT_L2.3.IT.   X.10.\n",
       "1 GLUT_L2/3 IT      10   \n",
       "2 GLUT_L6b          10   \n",
       "3 GLUT_L6 IT        10   \n",
       "4 GLUT_L5/6 IT Car3 9    \n",
       "5 GLUT_L5/6 IT Car3 9    \n",
       "6 GLUT_L5 IT        7    "
      ]
     },
     "metadata": {},
     "output_type": "display_data"
    }
   ],
   "source": [
    "df_sum=data.frame()\n",
    "for(i in c(1:nrow(df_raw))){\n",
    "    vec=pbmc@meta.data$SuperCluster[df_raw[i,]]\n",
    "    element_counts <- table(vec)  \n",
    "    most_common_element <- names(element_counts)[which.max(element_counts)]  \n",
    "    num=as.numeric(element_counts[most_common_element])\n",
    "    df_sum=rbind(df_sum,c(most_common_element[1],num[1]))\n",
    "    }\n",
    "head(df_sum)\n"
   ]
  },
  {
   "cell_type": "code",
   "execution_count": 14,
   "id": "18e05fca",
   "metadata": {},
   "outputs": [],
   "source": [
    "\n",
    "rownames(df_sum)=colnames(cla)\n",
    "df_sum$SuperCluster=cla$SuperCluster\n",
    "colnames(df_sum)=c('Insular_anno','num','SuperCluster')\n",
    "#过滤！！！\n",
    "#df_sum=df_sum[df_sum$num>5,]\n",
    "df_sum_re=df_sum[,c('Insular_anno','SuperCluster')]\n"
   ]
  },
  {
   "cell_type": "code",
   "execution_count": 15,
   "id": "a351cbfa",
   "metadata": {},
   "outputs": [],
   "source": [
    "df_sum_re_sum=df_sum_re[!duplicated(df_sum_re),]\n",
    "df_sum_re_sum$Freq=0\n",
    "for(i in c(1:nrow(df_sum_re_sum))){\n",
    "    df_sum_re_sum[i,]$Freq=nrow(df_sum_re[df_sum_re$Insular_anno==df_sum_re_sum[i,]$Insular_anno &\n",
    "                                          df_sum_re$SuperCluster==df_sum_re_sum[i,]$SuperCluster ,])\n",
    "}\n",
    "\n",
    "df_sum_re_sum$subject=c(1:nrow(df_sum_re_sum))\n",
    "\n",
    "df_sum_re_sum1 <- transform(df_sum_re_sum,\n",
    "                          Insular_anno = factor(Insular_anno),\n",
    "                          SuperCluster = factor(SuperCluster))\n",
    "\n",
    "df_sum_re_sum1_re=df_sum_re_sum1[,c('Insular_anno','Freq','subject')]\n",
    "colnames(df_sum_re_sum1_re)=c('compare_anno','Freq','subject')\n",
    "df_sum_re_sum1_re$anno='Insular'\n",
    "df_sum_re_sum1_re1=df_sum_re_sum1[,c('SuperCluster','Freq','subject')]\n",
    "colnames(df_sum_re_sum1_re1)=c('compare_anno','Freq','subject')\n",
    "df_sum_re_sum1_re1$anno='Clastrum'\n",
    "df_sum_re_sum1_re_all=rbind(df_sum_re_sum1_re,df_sum_re_sum1_re1)\n"
   ]
  },
  {
   "cell_type": "code",
   "execution_count": 16,
   "id": "2a06443c",
   "metadata": {
    "scrolled": true
   },
   "outputs": [
    {
     "data": {
      "text/html": [
       "<table class=\"dataframe\">\n",
       "<caption>A data.frame: 24 × 4</caption>\n",
       "<thead>\n",
       "\t<tr><th></th><th scope=col>compare_anno</th><th scope=col>Freq</th><th scope=col>subject</th><th scope=col>anno</th></tr>\n",
       "\t<tr><th></th><th scope=col>&lt;fct&gt;</th><th scope=col>&lt;dbl&gt;</th><th scope=col>&lt;int&gt;</th><th scope=col>&lt;chr&gt;</th></tr>\n",
       "</thead>\n",
       "<tbody>\n",
       "\t<tr><th scope=row>6103-1_CELL1310_N2</th><td>GLUT_GNB4-</td><td> 406</td><td> 1</td><td>Clastrum</td></tr>\n",
       "\t<tr><th scope=row>6103-1_CELL1474_N2</th><td>GLUT_VENO </td><td> 541</td><td> 2</td><td>Clastrum</td></tr>\n",
       "\t<tr><th scope=row>6103-1_CELL62_N2</th><td>GLUT_GNB4-</td><td>1063</td><td> 3</td><td>Clastrum</td></tr>\n",
       "\t<tr><th scope=row>6103-1_CELL2140_N1</th><td>GLUT_GNB4+</td><td>3140</td><td> 4</td><td>Clastrum</td></tr>\n",
       "\t<tr><th scope=row>6103-1_CELL2495_N1</th><td>GLUT_GNB4-</td><td>  84</td><td> 5</td><td>Clastrum</td></tr>\n",
       "\t<tr><th scope=row>6103-1_CELL27_N3</th><td>GLUT_GNB4+</td><td> 103</td><td> 6</td><td>Clastrum</td></tr>\n",
       "\t<tr><th scope=row>6103-1_CELL1689_N1</th><td>GLUT_GNB4-</td><td> 157</td><td> 7</td><td>Clastrum</td></tr>\n",
       "\t<tr><th scope=row>6103-1_CELL2703_N1</th><td>GLUT_GNB4-</td><td> 546</td><td> 8</td><td>Clastrum</td></tr>\n",
       "\t<tr><th scope=row>6103-1_CELL2679_N1</th><td>GLUT_GNB4-</td><td> 116</td><td> 9</td><td>Clastrum</td></tr>\n",
       "\t<tr><th scope=row>6103-1_CELL14_N4</th><td>GLUT_VENO </td><td> 307</td><td>10</td><td>Clastrum</td></tr>\n",
       "\t<tr><th scope=row>6712-2_CELL4773_N1</th><td>GLUT_GNB4+</td><td>   1</td><td>11</td><td>Clastrum</td></tr>\n",
       "\t<tr><th scope=row>7220-1_CELL2475_N1</th><td>GLUT_VENO </td><td>  34</td><td>12</td><td>Clastrum</td></tr>\n",
       "\t<tr><th scope=row>7220-1_CELL303_N2</th><td>GLUT_GNB4+</td><td>  33</td><td>13</td><td>Clastrum</td></tr>\n",
       "\t<tr><th scope=row>7221-1_CELL1815_N1</th><td>GLUT_VENO </td><td>   6</td><td>14</td><td>Clastrum</td></tr>\n",
       "\t<tr><th scope=row>7221-1_CELL143_N2</th><td>GLUT_GNB4+</td><td>  15</td><td>15</td><td>Clastrum</td></tr>\n",
       "\t<tr><th scope=row>7221-2_CELL841_N2</th><td>GLUT_GNB4-</td><td>  20</td><td>16</td><td>Clastrum</td></tr>\n",
       "\t<tr><th scope=row>7248-2_CELL1507_N1</th><td>GLUT_VENO </td><td>   1</td><td>17</td><td>Clastrum</td></tr>\n",
       "\t<tr><th scope=row>7248-2_CELL2654_N1</th><td>GLUT_VENO </td><td>   5</td><td>18</td><td>Clastrum</td></tr>\n",
       "\t<tr><th scope=row>3065-2_CELL4699_N1</th><td>GLUT_VENO </td><td>   4</td><td>19</td><td>Clastrum</td></tr>\n",
       "\t<tr><th scope=row>3066-1_CELL1766_N1</th><td>GLUT_GNB4+</td><td>   7</td><td>20</td><td>Clastrum</td></tr>\n",
       "\t<tr><th scope=row>3068-5_CELL3264_N1</th><td>GLUT_GNB4-</td><td>   6</td><td>21</td><td>Clastrum</td></tr>\n",
       "\t<tr><th scope=row>3069-4_CELL2580_N1</th><td>GLUT_VENO </td><td>   2</td><td>22</td><td>Clastrum</td></tr>\n",
       "\t<tr><th scope=row>4144-13_CELL3017_N1</th><td>GLUT_GNB4-</td><td>   2</td><td>23</td><td>Clastrum</td></tr>\n",
       "\t<tr><th scope=row>4144-20_CELL85_N2</th><td>GLUT_GNB4+</td><td>   1</td><td>24</td><td>Clastrum</td></tr>\n",
       "</tbody>\n",
       "</table>\n"
      ],
      "text/latex": [
       "A data.frame: 24 × 4\n",
       "\\begin{tabular}{r|llll}\n",
       "  & compare\\_anno & Freq & subject & anno\\\\\n",
       "  & <fct> & <dbl> & <int> & <chr>\\\\\n",
       "\\hline\n",
       "\t6103-1\\_CELL1310\\_N2 & GLUT\\_GNB4- &  406 &  1 & Clastrum\\\\\n",
       "\t6103-1\\_CELL1474\\_N2 & GLUT\\_VENO  &  541 &  2 & Clastrum\\\\\n",
       "\t6103-1\\_CELL62\\_N2 & GLUT\\_GNB4- & 1063 &  3 & Clastrum\\\\\n",
       "\t6103-1\\_CELL2140\\_N1 & GLUT\\_GNB4+ & 3140 &  4 & Clastrum\\\\\n",
       "\t6103-1\\_CELL2495\\_N1 & GLUT\\_GNB4- &   84 &  5 & Clastrum\\\\\n",
       "\t6103-1\\_CELL27\\_N3 & GLUT\\_GNB4+ &  103 &  6 & Clastrum\\\\\n",
       "\t6103-1\\_CELL1689\\_N1 & GLUT\\_GNB4- &  157 &  7 & Clastrum\\\\\n",
       "\t6103-1\\_CELL2703\\_N1 & GLUT\\_GNB4- &  546 &  8 & Clastrum\\\\\n",
       "\t6103-1\\_CELL2679\\_N1 & GLUT\\_GNB4- &  116 &  9 & Clastrum\\\\\n",
       "\t6103-1\\_CELL14\\_N4 & GLUT\\_VENO  &  307 & 10 & Clastrum\\\\\n",
       "\t6712-2\\_CELL4773\\_N1 & GLUT\\_GNB4+ &    1 & 11 & Clastrum\\\\\n",
       "\t7220-1\\_CELL2475\\_N1 & GLUT\\_VENO  &   34 & 12 & Clastrum\\\\\n",
       "\t7220-1\\_CELL303\\_N2 & GLUT\\_GNB4+ &   33 & 13 & Clastrum\\\\\n",
       "\t7221-1\\_CELL1815\\_N1 & GLUT\\_VENO  &    6 & 14 & Clastrum\\\\\n",
       "\t7221-1\\_CELL143\\_N2 & GLUT\\_GNB4+ &   15 & 15 & Clastrum\\\\\n",
       "\t7221-2\\_CELL841\\_N2 & GLUT\\_GNB4- &   20 & 16 & Clastrum\\\\\n",
       "\t7248-2\\_CELL1507\\_N1 & GLUT\\_VENO  &    1 & 17 & Clastrum\\\\\n",
       "\t7248-2\\_CELL2654\\_N1 & GLUT\\_VENO  &    5 & 18 & Clastrum\\\\\n",
       "\t3065-2\\_CELL4699\\_N1 & GLUT\\_VENO  &    4 & 19 & Clastrum\\\\\n",
       "\t3066-1\\_CELL1766\\_N1 & GLUT\\_GNB4+ &    7 & 20 & Clastrum\\\\\n",
       "\t3068-5\\_CELL3264\\_N1 & GLUT\\_GNB4- &    6 & 21 & Clastrum\\\\\n",
       "\t3069-4\\_CELL2580\\_N1 & GLUT\\_VENO  &    2 & 22 & Clastrum\\\\\n",
       "\t4144-13\\_CELL3017\\_N1 & GLUT\\_GNB4- &    2 & 23 & Clastrum\\\\\n",
       "\t4144-20\\_CELL85\\_N2 & GLUT\\_GNB4+ &    1 & 24 & Clastrum\\\\\n",
       "\\end{tabular}\n"
      ],
      "text/markdown": [
       "\n",
       "A data.frame: 24 × 4\n",
       "\n",
       "| <!--/--> | compare_anno &lt;fct&gt; | Freq &lt;dbl&gt; | subject &lt;int&gt; | anno &lt;chr&gt; |\n",
       "|---|---|---|---|---|\n",
       "| 6103-1_CELL1310_N2 | GLUT_GNB4- |  406 |  1 | Clastrum |\n",
       "| 6103-1_CELL1474_N2 | GLUT_VENO  |  541 |  2 | Clastrum |\n",
       "| 6103-1_CELL62_N2 | GLUT_GNB4- | 1063 |  3 | Clastrum |\n",
       "| 6103-1_CELL2140_N1 | GLUT_GNB4+ | 3140 |  4 | Clastrum |\n",
       "| 6103-1_CELL2495_N1 | GLUT_GNB4- |   84 |  5 | Clastrum |\n",
       "| 6103-1_CELL27_N3 | GLUT_GNB4+ |  103 |  6 | Clastrum |\n",
       "| 6103-1_CELL1689_N1 | GLUT_GNB4- |  157 |  7 | Clastrum |\n",
       "| 6103-1_CELL2703_N1 | GLUT_GNB4- |  546 |  8 | Clastrum |\n",
       "| 6103-1_CELL2679_N1 | GLUT_GNB4- |  116 |  9 | Clastrum |\n",
       "| 6103-1_CELL14_N4 | GLUT_VENO  |  307 | 10 | Clastrum |\n",
       "| 6712-2_CELL4773_N1 | GLUT_GNB4+ |    1 | 11 | Clastrum |\n",
       "| 7220-1_CELL2475_N1 | GLUT_VENO  |   34 | 12 | Clastrum |\n",
       "| 7220-1_CELL303_N2 | GLUT_GNB4+ |   33 | 13 | Clastrum |\n",
       "| 7221-1_CELL1815_N1 | GLUT_VENO  |    6 | 14 | Clastrum |\n",
       "| 7221-1_CELL143_N2 | GLUT_GNB4+ |   15 | 15 | Clastrum |\n",
       "| 7221-2_CELL841_N2 | GLUT_GNB4- |   20 | 16 | Clastrum |\n",
       "| 7248-2_CELL1507_N1 | GLUT_VENO  |    1 | 17 | Clastrum |\n",
       "| 7248-2_CELL2654_N1 | GLUT_VENO  |    5 | 18 | Clastrum |\n",
       "| 3065-2_CELL4699_N1 | GLUT_VENO  |    4 | 19 | Clastrum |\n",
       "| 3066-1_CELL1766_N1 | GLUT_GNB4+ |    7 | 20 | Clastrum |\n",
       "| 3068-5_CELL3264_N1 | GLUT_GNB4- |    6 | 21 | Clastrum |\n",
       "| 3069-4_CELL2580_N1 | GLUT_VENO  |    2 | 22 | Clastrum |\n",
       "| 4144-13_CELL3017_N1 | GLUT_GNB4- |    2 | 23 | Clastrum |\n",
       "| 4144-20_CELL85_N2 | GLUT_GNB4+ |    1 | 24 | Clastrum |\n",
       "\n"
      ],
      "text/plain": [
       "                    compare_anno Freq subject anno    \n",
       "6103-1_CELL1310_N2  GLUT_GNB4-    406  1      Clastrum\n",
       "6103-1_CELL1474_N2  GLUT_VENO     541  2      Clastrum\n",
       "6103-1_CELL62_N2    GLUT_GNB4-   1063  3      Clastrum\n",
       "6103-1_CELL2140_N1  GLUT_GNB4+   3140  4      Clastrum\n",
       "6103-1_CELL2495_N1  GLUT_GNB4-     84  5      Clastrum\n",
       "6103-1_CELL27_N3    GLUT_GNB4+    103  6      Clastrum\n",
       "6103-1_CELL1689_N1  GLUT_GNB4-    157  7      Clastrum\n",
       "6103-1_CELL2703_N1  GLUT_GNB4-    546  8      Clastrum\n",
       "6103-1_CELL2679_N1  GLUT_GNB4-    116  9      Clastrum\n",
       "6103-1_CELL14_N4    GLUT_VENO     307 10      Clastrum\n",
       "6712-2_CELL4773_N1  GLUT_GNB4+      1 11      Clastrum\n",
       "7220-1_CELL2475_N1  GLUT_VENO      34 12      Clastrum\n",
       "7220-1_CELL303_N2   GLUT_GNB4+     33 13      Clastrum\n",
       "7221-1_CELL1815_N1  GLUT_VENO       6 14      Clastrum\n",
       "7221-1_CELL143_N2   GLUT_GNB4+     15 15      Clastrum\n",
       "7221-2_CELL841_N2   GLUT_GNB4-     20 16      Clastrum\n",
       "7248-2_CELL1507_N1  GLUT_VENO       1 17      Clastrum\n",
       "7248-2_CELL2654_N1  GLUT_VENO       5 18      Clastrum\n",
       "3065-2_CELL4699_N1  GLUT_VENO       4 19      Clastrum\n",
       "3066-1_CELL1766_N1  GLUT_GNB4+      7 20      Clastrum\n",
       "3068-5_CELL3264_N1  GLUT_GNB4-      6 21      Clastrum\n",
       "3069-4_CELL2580_N1  GLUT_VENO       2 22      Clastrum\n",
       "4144-13_CELL3017_N1 GLUT_GNB4-      2 23      Clastrum\n",
       "4144-20_CELL85_N2   GLUT_GNB4+      1 24      Clastrum"
      ]
     },
     "metadata": {},
     "output_type": "display_data"
    }
   ],
   "source": [
    "df_sum_re_sum1_re1"
   ]
  },
  {
   "cell_type": "code",
   "execution_count": 17,
   "id": "e38be5bf",
   "metadata": {
    "scrolled": true
   },
   "outputs": [
    {
     "data": {
      "text/html": [
       "<table class=\"dataframe\">\n",
       "<caption>A data.frame: 24 × 4</caption>\n",
       "<thead>\n",
       "\t<tr><th></th><th scope=col>compare_anno</th><th scope=col>Freq</th><th scope=col>subject</th><th scope=col>anno</th></tr>\n",
       "\t<tr><th></th><th scope=col>&lt;fct&gt;</th><th scope=col>&lt;dbl&gt;</th><th scope=col>&lt;int&gt;</th><th scope=col>&lt;chr&gt;</th></tr>\n",
       "</thead>\n",
       "<tbody>\n",
       "\t<tr><th scope=row>6103-1_CELL1310_N2</th><td>GLUT_L2/3 IT     </td><td> 406</td><td> 1</td><td>Insular</td></tr>\n",
       "\t<tr><th scope=row>6103-1_CELL1474_N2</th><td>GLUT_L6b         </td><td> 541</td><td> 2</td><td>Insular</td></tr>\n",
       "\t<tr><th scope=row>6103-1_CELL62_N2</th><td>GLUT_L6 IT       </td><td>1063</td><td> 3</td><td>Insular</td></tr>\n",
       "\t<tr><th scope=row>6103-1_CELL2140_N1</th><td>GLUT_L5/6 IT Car3</td><td>3140</td><td> 4</td><td>Insular</td></tr>\n",
       "\t<tr><th scope=row>6103-1_CELL2495_N1</th><td>GLUT_L5 IT       </td><td>  84</td><td> 5</td><td>Insular</td></tr>\n",
       "\t<tr><th scope=row>6103-1_CELL27_N3</th><td>GLUT_L2/3 IT     </td><td> 103</td><td> 6</td><td>Insular</td></tr>\n",
       "\t<tr><th scope=row>6103-1_CELL1689_N1</th><td>GLUT_L5/6 NP     </td><td> 157</td><td> 7</td><td>Insular</td></tr>\n",
       "\t<tr><th scope=row>6103-1_CELL2703_N1</th><td>GLUT_L4 IT       </td><td> 546</td><td> 8</td><td>Insular</td></tr>\n",
       "\t<tr><th scope=row>6103-1_CELL2679_N1</th><td>GLUT_L5 ET       </td><td> 116</td><td> 9</td><td>Insular</td></tr>\n",
       "\t<tr><th scope=row>6103-1_CELL14_N4</th><td>GLUT_L6 CT       </td><td> 307</td><td>10</td><td>Insular</td></tr>\n",
       "\t<tr><th scope=row>6712-2_CELL4773_N1</th><td>GLUT_L5 ET       </td><td>   1</td><td>11</td><td>Insular</td></tr>\n",
       "\t<tr><th scope=row>7220-1_CELL2475_N1</th><td>GLUT_L2/3 IT     </td><td>  34</td><td>12</td><td>Insular</td></tr>\n",
       "\t<tr><th scope=row>7220-1_CELL303_N2</th><td>GLUT_L5/6 NP     </td><td>  33</td><td>13</td><td>Insular</td></tr>\n",
       "\t<tr><th scope=row>7221-1_CELL1815_N1</th><td>GLUT_L4 IT       </td><td>   6</td><td>14</td><td>Insular</td></tr>\n",
       "\t<tr><th scope=row>7221-1_CELL143_N2</th><td>GLUT_L4 IT       </td><td>  15</td><td>15</td><td>Insular</td></tr>\n",
       "\t<tr><th scope=row>7221-2_CELL841_N2</th><td>GLUT_L5/6 IT Car3</td><td>  20</td><td>16</td><td>Insular</td></tr>\n",
       "\t<tr><th scope=row>7248-2_CELL1507_N1</th><td>GLUT_L5/6 IT Car3</td><td>   1</td><td>17</td><td>Insular</td></tr>\n",
       "\t<tr><th scope=row>7248-2_CELL2654_N1</th><td>GLUT_L5/6 NP     </td><td>   5</td><td>18</td><td>Insular</td></tr>\n",
       "\t<tr><th scope=row>3065-2_CELL4699_N1</th><td>GLUT_L6 IT       </td><td>   4</td><td>19</td><td>Insular</td></tr>\n",
       "\t<tr><th scope=row>3066-1_CELL1766_N1</th><td>GLUT_L6 IT       </td><td>   7</td><td>20</td><td>Insular</td></tr>\n",
       "\t<tr><th scope=row>3068-5_CELL3264_N1</th><td>GLUT_L6b         </td><td>   6</td><td>21</td><td>Insular</td></tr>\n",
       "\t<tr><th scope=row>3069-4_CELL2580_N1</th><td>GLUT_L5 ET       </td><td>   2</td><td>22</td><td>Insular</td></tr>\n",
       "\t<tr><th scope=row>4144-13_CELL3017_N1</th><td>GLUT_L6 CT       </td><td>   2</td><td>23</td><td>Insular</td></tr>\n",
       "\t<tr><th scope=row>4144-20_CELL85_N2</th><td>GLUT_L6b         </td><td>   1</td><td>24</td><td>Insular</td></tr>\n",
       "</tbody>\n",
       "</table>\n"
      ],
      "text/latex": [
       "A data.frame: 24 × 4\n",
       "\\begin{tabular}{r|llll}\n",
       "  & compare\\_anno & Freq & subject & anno\\\\\n",
       "  & <fct> & <dbl> & <int> & <chr>\\\\\n",
       "\\hline\n",
       "\t6103-1\\_CELL1310\\_N2 & GLUT\\_L2/3 IT      &  406 &  1 & Insular\\\\\n",
       "\t6103-1\\_CELL1474\\_N2 & GLUT\\_L6b          &  541 &  2 & Insular\\\\\n",
       "\t6103-1\\_CELL62\\_N2 & GLUT\\_L6 IT        & 1063 &  3 & Insular\\\\\n",
       "\t6103-1\\_CELL2140\\_N1 & GLUT\\_L5/6 IT Car3 & 3140 &  4 & Insular\\\\\n",
       "\t6103-1\\_CELL2495\\_N1 & GLUT\\_L5 IT        &   84 &  5 & Insular\\\\\n",
       "\t6103-1\\_CELL27\\_N3 & GLUT\\_L2/3 IT      &  103 &  6 & Insular\\\\\n",
       "\t6103-1\\_CELL1689\\_N1 & GLUT\\_L5/6 NP      &  157 &  7 & Insular\\\\\n",
       "\t6103-1\\_CELL2703\\_N1 & GLUT\\_L4 IT        &  546 &  8 & Insular\\\\\n",
       "\t6103-1\\_CELL2679\\_N1 & GLUT\\_L5 ET        &  116 &  9 & Insular\\\\\n",
       "\t6103-1\\_CELL14\\_N4 & GLUT\\_L6 CT        &  307 & 10 & Insular\\\\\n",
       "\t6712-2\\_CELL4773\\_N1 & GLUT\\_L5 ET        &    1 & 11 & Insular\\\\\n",
       "\t7220-1\\_CELL2475\\_N1 & GLUT\\_L2/3 IT      &   34 & 12 & Insular\\\\\n",
       "\t7220-1\\_CELL303\\_N2 & GLUT\\_L5/6 NP      &   33 & 13 & Insular\\\\\n",
       "\t7221-1\\_CELL1815\\_N1 & GLUT\\_L4 IT        &    6 & 14 & Insular\\\\\n",
       "\t7221-1\\_CELL143\\_N2 & GLUT\\_L4 IT        &   15 & 15 & Insular\\\\\n",
       "\t7221-2\\_CELL841\\_N2 & GLUT\\_L5/6 IT Car3 &   20 & 16 & Insular\\\\\n",
       "\t7248-2\\_CELL1507\\_N1 & GLUT\\_L5/6 IT Car3 &    1 & 17 & Insular\\\\\n",
       "\t7248-2\\_CELL2654\\_N1 & GLUT\\_L5/6 NP      &    5 & 18 & Insular\\\\\n",
       "\t3065-2\\_CELL4699\\_N1 & GLUT\\_L6 IT        &    4 & 19 & Insular\\\\\n",
       "\t3066-1\\_CELL1766\\_N1 & GLUT\\_L6 IT        &    7 & 20 & Insular\\\\\n",
       "\t3068-5\\_CELL3264\\_N1 & GLUT\\_L6b          &    6 & 21 & Insular\\\\\n",
       "\t3069-4\\_CELL2580\\_N1 & GLUT\\_L5 ET        &    2 & 22 & Insular\\\\\n",
       "\t4144-13\\_CELL3017\\_N1 & GLUT\\_L6 CT        &    2 & 23 & Insular\\\\\n",
       "\t4144-20\\_CELL85\\_N2 & GLUT\\_L6b          &    1 & 24 & Insular\\\\\n",
       "\\end{tabular}\n"
      ],
      "text/markdown": [
       "\n",
       "A data.frame: 24 × 4\n",
       "\n",
       "| <!--/--> | compare_anno &lt;fct&gt; | Freq &lt;dbl&gt; | subject &lt;int&gt; | anno &lt;chr&gt; |\n",
       "|---|---|---|---|---|\n",
       "| 6103-1_CELL1310_N2 | GLUT_L2/3 IT      |  406 |  1 | Insular |\n",
       "| 6103-1_CELL1474_N2 | GLUT_L6b          |  541 |  2 | Insular |\n",
       "| 6103-1_CELL62_N2 | GLUT_L6 IT        | 1063 |  3 | Insular |\n",
       "| 6103-1_CELL2140_N1 | GLUT_L5/6 IT Car3 | 3140 |  4 | Insular |\n",
       "| 6103-1_CELL2495_N1 | GLUT_L5 IT        |   84 |  5 | Insular |\n",
       "| 6103-1_CELL27_N3 | GLUT_L2/3 IT      |  103 |  6 | Insular |\n",
       "| 6103-1_CELL1689_N1 | GLUT_L5/6 NP      |  157 |  7 | Insular |\n",
       "| 6103-1_CELL2703_N1 | GLUT_L4 IT        |  546 |  8 | Insular |\n",
       "| 6103-1_CELL2679_N1 | GLUT_L5 ET        |  116 |  9 | Insular |\n",
       "| 6103-1_CELL14_N4 | GLUT_L6 CT        |  307 | 10 | Insular |\n",
       "| 6712-2_CELL4773_N1 | GLUT_L5 ET        |    1 | 11 | Insular |\n",
       "| 7220-1_CELL2475_N1 | GLUT_L2/3 IT      |   34 | 12 | Insular |\n",
       "| 7220-1_CELL303_N2 | GLUT_L5/6 NP      |   33 | 13 | Insular |\n",
       "| 7221-1_CELL1815_N1 | GLUT_L4 IT        |    6 | 14 | Insular |\n",
       "| 7221-1_CELL143_N2 | GLUT_L4 IT        |   15 | 15 | Insular |\n",
       "| 7221-2_CELL841_N2 | GLUT_L5/6 IT Car3 |   20 | 16 | Insular |\n",
       "| 7248-2_CELL1507_N1 | GLUT_L5/6 IT Car3 |    1 | 17 | Insular |\n",
       "| 7248-2_CELL2654_N1 | GLUT_L5/6 NP      |    5 | 18 | Insular |\n",
       "| 3065-2_CELL4699_N1 | GLUT_L6 IT        |    4 | 19 | Insular |\n",
       "| 3066-1_CELL1766_N1 | GLUT_L6 IT        |    7 | 20 | Insular |\n",
       "| 3068-5_CELL3264_N1 | GLUT_L6b          |    6 | 21 | Insular |\n",
       "| 3069-4_CELL2580_N1 | GLUT_L5 ET        |    2 | 22 | Insular |\n",
       "| 4144-13_CELL3017_N1 | GLUT_L6 CT        |    2 | 23 | Insular |\n",
       "| 4144-20_CELL85_N2 | GLUT_L6b          |    1 | 24 | Insular |\n",
       "\n"
      ],
      "text/plain": [
       "                    compare_anno      Freq subject anno   \n",
       "6103-1_CELL1310_N2  GLUT_L2/3 IT       406  1      Insular\n",
       "6103-1_CELL1474_N2  GLUT_L6b           541  2      Insular\n",
       "6103-1_CELL62_N2    GLUT_L6 IT        1063  3      Insular\n",
       "6103-1_CELL2140_N1  GLUT_L5/6 IT Car3 3140  4      Insular\n",
       "6103-1_CELL2495_N1  GLUT_L5 IT          84  5      Insular\n",
       "6103-1_CELL27_N3    GLUT_L2/3 IT       103  6      Insular\n",
       "6103-1_CELL1689_N1  GLUT_L5/6 NP       157  7      Insular\n",
       "6103-1_CELL2703_N1  GLUT_L4 IT         546  8      Insular\n",
       "6103-1_CELL2679_N1  GLUT_L5 ET         116  9      Insular\n",
       "6103-1_CELL14_N4    GLUT_L6 CT         307 10      Insular\n",
       "6712-2_CELL4773_N1  GLUT_L5 ET           1 11      Insular\n",
       "7220-1_CELL2475_N1  GLUT_L2/3 IT        34 12      Insular\n",
       "7220-1_CELL303_N2   GLUT_L5/6 NP        33 13      Insular\n",
       "7221-1_CELL1815_N1  GLUT_L4 IT           6 14      Insular\n",
       "7221-1_CELL143_N2   GLUT_L4 IT          15 15      Insular\n",
       "7221-2_CELL841_N2   GLUT_L5/6 IT Car3   20 16      Insular\n",
       "7248-2_CELL1507_N1  GLUT_L5/6 IT Car3    1 17      Insular\n",
       "7248-2_CELL2654_N1  GLUT_L5/6 NP         5 18      Insular\n",
       "3065-2_CELL4699_N1  GLUT_L6 IT           4 19      Insular\n",
       "3066-1_CELL1766_N1  GLUT_L6 IT           7 20      Insular\n",
       "3068-5_CELL3264_N1  GLUT_L6b             6 21      Insular\n",
       "3069-4_CELL2580_N1  GLUT_L5 ET           2 22      Insular\n",
       "4144-13_CELL3017_N1 GLUT_L6 CT           2 23      Insular\n",
       "4144-20_CELL85_N2   GLUT_L6b             1 24      Insular"
      ]
     },
     "metadata": {},
     "output_type": "display_data"
    }
   ],
   "source": [
    "df_sum_re_sum1_re"
   ]
  },
  {
   "cell_type": "code",
   "execution_count": null,
   "id": "23e8ec3f",
   "metadata": {},
   "outputs": [],
   "source": []
  },
  {
   "cell_type": "code",
   "execution_count": null,
   "id": "b32fcbc2",
   "metadata": {},
   "outputs": [],
   "source": []
  },
  {
   "cell_type": "code",
   "execution_count": 19,
   "id": "567726bb",
   "metadata": {},
   "outputs": [],
   "source": [
    "library(ggalluvial)\n",
    "library(ggplot2)"
   ]
  },
  {
   "cell_type": "code",
   "execution_count": 20,
   "id": "c0d4eea5",
   "metadata": {},
   "outputs": [
    {
     "data": {
      "text/html": [
       "<table class=\"dataframe\">\n",
       "<caption>A tibble: 9 × 2</caption>\n",
       "<thead>\n",
       "\t<tr><th scope=col>compare_anno</th><th scope=col>all</th></tr>\n",
       "\t<tr><th scope=col>&lt;fct&gt;</th><th scope=col>&lt;dbl&gt;</th></tr>\n",
       "</thead>\n",
       "<tbody>\n",
       "\t<tr><td>GLUT_L2/3 IT     </td><td> 8.227273</td></tr>\n",
       "\t<tr><td>GLUT_L4 IT       </td><td> 8.590909</td></tr>\n",
       "\t<tr><td>GLUT_L5 ET       </td><td> 1.803030</td></tr>\n",
       "\t<tr><td>GLUT_L5 IT       </td><td> 1.272727</td></tr>\n",
       "\t<tr><td>GLUT_L5/6 IT Car3</td><td>47.893939</td></tr>\n",
       "\t<tr><td>GLUT_L5/6 NP     </td><td> 2.954545</td></tr>\n",
       "\t<tr><td>GLUT_L6 CT       </td><td> 4.681818</td></tr>\n",
       "\t<tr><td>GLUT_L6 IT       </td><td>16.272727</td></tr>\n",
       "\t<tr><td>GLUT_L6b         </td><td> 8.303030</td></tr>\n",
       "</tbody>\n",
       "</table>\n"
      ],
      "text/latex": [
       "A tibble: 9 × 2\n",
       "\\begin{tabular}{ll}\n",
       " compare\\_anno & all\\\\\n",
       " <fct> & <dbl>\\\\\n",
       "\\hline\n",
       "\t GLUT\\_L2/3 IT      &  8.227273\\\\\n",
       "\t GLUT\\_L4 IT        &  8.590909\\\\\n",
       "\t GLUT\\_L5 ET        &  1.803030\\\\\n",
       "\t GLUT\\_L5 IT        &  1.272727\\\\\n",
       "\t GLUT\\_L5/6 IT Car3 & 47.893939\\\\\n",
       "\t GLUT\\_L5/6 NP      &  2.954545\\\\\n",
       "\t GLUT\\_L6 CT        &  4.681818\\\\\n",
       "\t GLUT\\_L6 IT        & 16.272727\\\\\n",
       "\t GLUT\\_L6b          &  8.303030\\\\\n",
       "\\end{tabular}\n"
      ],
      "text/markdown": [
       "\n",
       "A tibble: 9 × 2\n",
       "\n",
       "| compare_anno &lt;fct&gt; | all &lt;dbl&gt; |\n",
       "|---|---|\n",
       "| GLUT_L2/3 IT      |  8.227273 |\n",
       "| GLUT_L4 IT        |  8.590909 |\n",
       "| GLUT_L5 ET        |  1.803030 |\n",
       "| GLUT_L5 IT        |  1.272727 |\n",
       "| GLUT_L5/6 IT Car3 | 47.893939 |\n",
       "| GLUT_L5/6 NP      |  2.954545 |\n",
       "| GLUT_L6 CT        |  4.681818 |\n",
       "| GLUT_L6 IT        | 16.272727 |\n",
       "| GLUT_L6b          |  8.303030 |\n",
       "\n"
      ],
      "text/plain": [
       "  compare_anno      all      \n",
       "1 GLUT_L2/3 IT       8.227273\n",
       "2 GLUT_L4 IT         8.590909\n",
       "3 GLUT_L5 ET         1.803030\n",
       "4 GLUT_L5 IT         1.272727\n",
       "5 GLUT_L5/6 IT Car3 47.893939\n",
       "6 GLUT_L5/6 NP       2.954545\n",
       "7 GLUT_L6 CT         4.681818\n",
       "8 GLUT_L6 IT        16.272727\n",
       "9 GLUT_L6b           8.303030"
      ]
     },
     "metadata": {},
     "output_type": "display_data"
    }
   ],
   "source": [
    "df=df_sum_re_sum1_re_all[df_sum_re_sum1_re_all$anno=='Insular',]\n",
    "df$ratio=df$Freq/sum(df$Freq)\n",
    "df1=df[order(df$compare_anno),]\n",
    "df1 %>% group_by(compare_anno) %>% summarise(all=sum(ratio)*100)"
   ]
  },
  {
   "cell_type": "code",
   "execution_count": 21,
   "id": "f59829b0",
   "metadata": {},
   "outputs": [
    {
     "data": {
      "text/html": [
       "<style>\n",
       ".dl-inline {width: auto; margin:0; padding: 0}\n",
       ".dl-inline>dt, .dl-inline>dd {float: none; width: auto; display: inline-block}\n",
       ".dl-inline>dt::after {content: \":\\0020\"; padding-right: .5ex}\n",
       ".dl-inline>dt:not(:first-of-type) {padding-left: .5ex}\n",
       "</style><dl class=dl-inline><dt>GLUT_GNB4-</dt><dd>'#E41A1C'</dd><dt>GLUT_GNB4+</dt><dd>'#377EB8'</dd><dt>GLUT_VENO</dt><dd>'#4DAF4A'</dd><dt>GABA_PVALB</dt><dd>'#984EA3'</dd><dt>GABA_SST</dt><dd>'#FF7F00'</dd><dt>GABA_LAMP5</dt><dd>'#FFFF33'</dd><dt>GABA_LAMP5_LHX6</dt><dd>'#A65628'</dd><dt>GABA_VIP</dt><dd>'#F781BF'</dd><dt>GABA_RELN</dt><dd>'#999999'</dd><dt>GABA_CHC</dt><dd>'#66C2A5'</dd><dt>Oligo</dt><dd>'#FC8D62'</dd><dt>Astrocytes</dt><dd>'#8DA0CB'</dd><dt>GABA_DRD2</dt><dd>'#E78AC3'</dd><dt>Microglia</dt><dd>'#A6D854'</dd><dt>OPC</dt><dd>'#FFD92F'</dd><dt>Endotheial</dt><dd>'#E5C494'</dd><dt>GLUT_L5 ET</dt><dd>'#8DD3C7'</dd><dt>GLUT_L2/3 IT</dt><dd>'#FFFFB3'</dd><dt>GLUT_L5/6 IT Car3</dt><dd>'#BEBADA'</dd><dt>GLUT_L5 IT</dt><dd>'#FB8072'</dd><dt>GLUT_L6 IT</dt><dd>'#80B1D3'</dd><dt>GLUT_L6 CT</dt><dd>'#FDB462'</dd><dt>GLUT_L4 IT</dt><dd>'#B3DE69'</dd><dt>GLUT_L6b</dt><dd>'#FCCDE5'</dd><dt>GLUT_L5/6 NP</dt><dd>'#D9D9D9'</dd></dl>\n"
      ],
      "text/latex": [
       "\\begin{description*}\n",
       "\\item[GLUT\\textbackslash{}\\_GNB4-] '\\#E41A1C'\n",
       "\\item[GLUT\\textbackslash{}\\_GNB4+] '\\#377EB8'\n",
       "\\item[GLUT\\textbackslash{}\\_VENO] '\\#4DAF4A'\n",
       "\\item[GABA\\textbackslash{}\\_PVALB] '\\#984EA3'\n",
       "\\item[GABA\\textbackslash{}\\_SST] '\\#FF7F00'\n",
       "\\item[GABA\\textbackslash{}\\_LAMP5] '\\#FFFF33'\n",
       "\\item[GABA\\textbackslash{}\\_LAMP5\\textbackslash{}\\_LHX6] '\\#A65628'\n",
       "\\item[GABA\\textbackslash{}\\_VIP] '\\#F781BF'\n",
       "\\item[GABA\\textbackslash{}\\_RELN] '\\#999999'\n",
       "\\item[GABA\\textbackslash{}\\_CHC] '\\#66C2A5'\n",
       "\\item[Oligo] '\\#FC8D62'\n",
       "\\item[Astrocytes] '\\#8DA0CB'\n",
       "\\item[GABA\\textbackslash{}\\_DRD2] '\\#E78AC3'\n",
       "\\item[Microglia] '\\#A6D854'\n",
       "\\item[OPC] '\\#FFD92F'\n",
       "\\item[Endotheial] '\\#E5C494'\n",
       "\\item[GLUT\\textbackslash{}\\_L5 ET] '\\#8DD3C7'\n",
       "\\item[GLUT\\textbackslash{}\\_L2/3 IT] '\\#FFFFB3'\n",
       "\\item[GLUT\\textbackslash{}\\_L5/6 IT Car3] '\\#BEBADA'\n",
       "\\item[GLUT\\textbackslash{}\\_L5 IT] '\\#FB8072'\n",
       "\\item[GLUT\\textbackslash{}\\_L6 IT] '\\#80B1D3'\n",
       "\\item[GLUT\\textbackslash{}\\_L6 CT] '\\#FDB462'\n",
       "\\item[GLUT\\textbackslash{}\\_L4 IT] '\\#B3DE69'\n",
       "\\item[GLUT\\textbackslash{}\\_L6b] '\\#FCCDE5'\n",
       "\\item[GLUT\\textbackslash{}\\_L5/6 NP] '\\#D9D9D9'\n",
       "\\end{description*}\n"
      ],
      "text/markdown": [
       "GLUT_GNB4-\n",
       ":   '#E41A1C'GLUT_GNB4+\n",
       ":   '#377EB8'GLUT_VENO\n",
       ":   '#4DAF4A'GABA_PVALB\n",
       ":   '#984EA3'GABA_SST\n",
       ":   '#FF7F00'GABA_LAMP5\n",
       ":   '#FFFF33'GABA_LAMP5_LHX6\n",
       ":   '#A65628'GABA_VIP\n",
       ":   '#F781BF'GABA_RELN\n",
       ":   '#999999'GABA_CHC\n",
       ":   '#66C2A5'Oligo\n",
       ":   '#FC8D62'Astrocytes\n",
       ":   '#8DA0CB'GABA_DRD2\n",
       ":   '#E78AC3'Microglia\n",
       ":   '#A6D854'OPC\n",
       ":   '#FFD92F'Endotheial\n",
       ":   '#E5C494'GLUT_L5 ET\n",
       ":   '#8DD3C7'GLUT_L2/3 IT\n",
       ":   '#FFFFB3'GLUT_L5/6 IT Car3\n",
       ":   '#BEBADA'GLUT_L5 IT\n",
       ":   '#FB8072'GLUT_L6 IT\n",
       ":   '#80B1D3'GLUT_L6 CT\n",
       ":   '#FDB462'GLUT_L4 IT\n",
       ":   '#B3DE69'GLUT_L6b\n",
       ":   '#FCCDE5'GLUT_L5/6 NP\n",
       ":   '#D9D9D9'\n",
       "\n"
      ],
      "text/plain": [
       "       GLUT_GNB4-        GLUT_GNB4+         GLUT_VENO        GABA_PVALB \n",
       "        \"#E41A1C\"         \"#377EB8\"         \"#4DAF4A\"         \"#984EA3\" \n",
       "         GABA_SST        GABA_LAMP5   GABA_LAMP5_LHX6          GABA_VIP \n",
       "        \"#FF7F00\"         \"#FFFF33\"         \"#A65628\"         \"#F781BF\" \n",
       "        GABA_RELN          GABA_CHC             Oligo        Astrocytes \n",
       "        \"#999999\"         \"#66C2A5\"         \"#FC8D62\"         \"#8DA0CB\" \n",
       "        GABA_DRD2         Microglia               OPC        Endotheial \n",
       "        \"#E78AC3\"         \"#A6D854\"         \"#FFD92F\"         \"#E5C494\" \n",
       "       GLUT_L5 ET      GLUT_L2/3 IT GLUT_L5/6 IT Car3        GLUT_L5 IT \n",
       "        \"#8DD3C7\"         \"#FFFFB3\"         \"#BEBADA\"         \"#FB8072\" \n",
       "       GLUT_L6 IT        GLUT_L6 CT        GLUT_L4 IT          GLUT_L6b \n",
       "        \"#80B1D3\"         \"#FDB462\"         \"#B3DE69\"         \"#FCCDE5\" \n",
       "     GLUT_L5/6 NP \n",
       "        \"#D9D9D9\" "
      ]
     },
     "metadata": {},
     "output_type": "display_data"
    }
   ],
   "source": [
    "df_col=read.csv('/home/liuyx/liuyuxuan/spa_seurat/cla/macaca/sn_0821_renew_batch3_all/batch_normalize_renew_0105/post_analysis/data/color_supercluster_all_insu.csv')\n",
    "\n",
    "col=df_col$col\n",
    "names(col)=df_col$X\n",
    "col"
   ]
  },
  {
   "cell_type": "code",
   "execution_count": 22,
   "id": "a3936b1d",
   "metadata": {
    "scrolled": true
   },
   "outputs": [
    {
     "data": {
      "text/html": [
       "1"
      ],
      "text/latex": [
       "1"
      ],
      "text/markdown": [
       "1"
      ],
      "text/plain": [
       "[1] 1"
      ]
     },
     "metadata": {},
     "output_type": "display_data"
    },
    {
     "data": {
      "text/html": [
       "<table class=\"dataframe\">\n",
       "<caption>A tibble: 9 × 2</caption>\n",
       "<thead>\n",
       "\t<tr><th scope=col>compare_anno</th><th scope=col>sum</th></tr>\n",
       "\t<tr><th scope=col>&lt;fct&gt;</th><th scope=col>&lt;dbl&gt;</th></tr>\n",
       "</thead>\n",
       "<tbody>\n",
       "\t<tr><td>GLUT_L2/3 IT     </td><td>0.08227273</td></tr>\n",
       "\t<tr><td>GLUT_L4 IT       </td><td>0.08590909</td></tr>\n",
       "\t<tr><td>GLUT_L5 ET       </td><td>0.01803030</td></tr>\n",
       "\t<tr><td>GLUT_L5 IT       </td><td>0.01272727</td></tr>\n",
       "\t<tr><td>GLUT_L5/6 IT Car3</td><td>0.47893939</td></tr>\n",
       "\t<tr><td>GLUT_L5/6 NP     </td><td>0.02954545</td></tr>\n",
       "\t<tr><td>GLUT_L6 CT       </td><td>0.04681818</td></tr>\n",
       "\t<tr><td>GLUT_L6 IT       </td><td>0.16272727</td></tr>\n",
       "\t<tr><td>GLUT_L6b         </td><td>0.08303030</td></tr>\n",
       "</tbody>\n",
       "</table>\n"
      ],
      "text/latex": [
       "A tibble: 9 × 2\n",
       "\\begin{tabular}{ll}\n",
       " compare\\_anno & sum\\\\\n",
       " <fct> & <dbl>\\\\\n",
       "\\hline\n",
       "\t GLUT\\_L2/3 IT      & 0.08227273\\\\\n",
       "\t GLUT\\_L4 IT        & 0.08590909\\\\\n",
       "\t GLUT\\_L5 ET        & 0.01803030\\\\\n",
       "\t GLUT\\_L5 IT        & 0.01272727\\\\\n",
       "\t GLUT\\_L5/6 IT Car3 & 0.47893939\\\\\n",
       "\t GLUT\\_L5/6 NP      & 0.02954545\\\\\n",
       "\t GLUT\\_L6 CT        & 0.04681818\\\\\n",
       "\t GLUT\\_L6 IT        & 0.16272727\\\\\n",
       "\t GLUT\\_L6b          & 0.08303030\\\\\n",
       "\\end{tabular}\n"
      ],
      "text/markdown": [
       "\n",
       "A tibble: 9 × 2\n",
       "\n",
       "| compare_anno &lt;fct&gt; | sum &lt;dbl&gt; |\n",
       "|---|---|\n",
       "| GLUT_L2/3 IT      | 0.08227273 |\n",
       "| GLUT_L4 IT        | 0.08590909 |\n",
       "| GLUT_L5 ET        | 0.01803030 |\n",
       "| GLUT_L5 IT        | 0.01272727 |\n",
       "| GLUT_L5/6 IT Car3 | 0.47893939 |\n",
       "| GLUT_L5/6 NP      | 0.02954545 |\n",
       "| GLUT_L6 CT        | 0.04681818 |\n",
       "| GLUT_L6 IT        | 0.16272727 |\n",
       "| GLUT_L6b          | 0.08303030 |\n",
       "\n"
      ],
      "text/plain": [
       "  compare_anno      sum       \n",
       "1 GLUT_L2/3 IT      0.08227273\n",
       "2 GLUT_L4 IT        0.08590909\n",
       "3 GLUT_L5 ET        0.01803030\n",
       "4 GLUT_L5 IT        0.01272727\n",
       "5 GLUT_L5/6 IT Car3 0.47893939\n",
       "6 GLUT_L5/6 NP      0.02954545\n",
       "7 GLUT_L6 CT        0.04681818\n",
       "8 GLUT_L6 IT        0.16272727\n",
       "9 GLUT_L6b          0.08303030"
      ]
     },
     "metadata": {},
     "output_type": "display_data"
    }
   ],
   "source": [
    "sub=df_sum_re_sum1_re_all[df_sum_re_sum1_re_all$anno=='Insular',]\n",
    "sub$ratio=sub$Freq/sum(sub$Freq)\n",
    "sub=sub %>% group_by(compare_anno) %>% summarise(sum=sum(ratio))\n",
    "sum(sub$sum)\n",
    "sub"
   ]
  },
  {
   "cell_type": "code",
   "execution_count": 23,
   "id": "5136baed",
   "metadata": {
    "scrolled": true
   },
   "outputs": [
    {
     "data": {
      "text/html": [
       "<table class=\"dataframe\">\n",
       "<caption>A data.frame: 48 × 4</caption>\n",
       "<thead>\n",
       "\t<tr><th></th><th scope=col>compare_anno</th><th scope=col>Freq</th><th scope=col>subject</th><th scope=col>anno</th></tr>\n",
       "\t<tr><th></th><th scope=col>&lt;fct&gt;</th><th scope=col>&lt;dbl&gt;</th><th scope=col>&lt;int&gt;</th><th scope=col>&lt;chr&gt;</th></tr>\n",
       "</thead>\n",
       "<tbody>\n",
       "\t<tr><th scope=row>6103-1_CELL1310_N2</th><td>GLUT_L2/3 IT     </td><td> 406</td><td> 1</td><td>Insular </td></tr>\n",
       "\t<tr><th scope=row>6103-1_CELL1474_N2</th><td>GLUT_L6b         </td><td> 541</td><td> 2</td><td>Insular </td></tr>\n",
       "\t<tr><th scope=row>6103-1_CELL62_N2</th><td>GLUT_L6 IT       </td><td>1063</td><td> 3</td><td>Insular </td></tr>\n",
       "\t<tr><th scope=row>6103-1_CELL2140_N1</th><td>GLUT_L5/6 IT Car3</td><td>3140</td><td> 4</td><td>Insular </td></tr>\n",
       "\t<tr><th scope=row>6103-1_CELL2495_N1</th><td>GLUT_L5 IT       </td><td>  84</td><td> 5</td><td>Insular </td></tr>\n",
       "\t<tr><th scope=row>6103-1_CELL27_N3</th><td>GLUT_L2/3 IT     </td><td> 103</td><td> 6</td><td>Insular </td></tr>\n",
       "\t<tr><th scope=row>6103-1_CELL1689_N1</th><td>GLUT_L5/6 NP     </td><td> 157</td><td> 7</td><td>Insular </td></tr>\n",
       "\t<tr><th scope=row>6103-1_CELL2703_N1</th><td>GLUT_L4 IT       </td><td> 546</td><td> 8</td><td>Insular </td></tr>\n",
       "\t<tr><th scope=row>6103-1_CELL2679_N1</th><td>GLUT_L5 ET       </td><td> 116</td><td> 9</td><td>Insular </td></tr>\n",
       "\t<tr><th scope=row>6103-1_CELL14_N4</th><td>GLUT_L6 CT       </td><td> 307</td><td>10</td><td>Insular </td></tr>\n",
       "\t<tr><th scope=row>6712-2_CELL4773_N1</th><td>GLUT_L5 ET       </td><td>   1</td><td>11</td><td>Insular </td></tr>\n",
       "\t<tr><th scope=row>7220-1_CELL2475_N1</th><td>GLUT_L2/3 IT     </td><td>  34</td><td>12</td><td>Insular </td></tr>\n",
       "\t<tr><th scope=row>7220-1_CELL303_N2</th><td>GLUT_L5/6 NP     </td><td>  33</td><td>13</td><td>Insular </td></tr>\n",
       "\t<tr><th scope=row>7221-1_CELL1815_N1</th><td>GLUT_L4 IT       </td><td>   6</td><td>14</td><td>Insular </td></tr>\n",
       "\t<tr><th scope=row>7221-1_CELL143_N2</th><td>GLUT_L4 IT       </td><td>  15</td><td>15</td><td>Insular </td></tr>\n",
       "\t<tr><th scope=row>7221-2_CELL841_N2</th><td>GLUT_L5/6 IT Car3</td><td>  20</td><td>16</td><td>Insular </td></tr>\n",
       "\t<tr><th scope=row>7248-2_CELL1507_N1</th><td>GLUT_L5/6 IT Car3</td><td>   1</td><td>17</td><td>Insular </td></tr>\n",
       "\t<tr><th scope=row>7248-2_CELL2654_N1</th><td>GLUT_L5/6 NP     </td><td>   5</td><td>18</td><td>Insular </td></tr>\n",
       "\t<tr><th scope=row>3065-2_CELL4699_N1</th><td>GLUT_L6 IT       </td><td>   4</td><td>19</td><td>Insular </td></tr>\n",
       "\t<tr><th scope=row>3066-1_CELL1766_N1</th><td>GLUT_L6 IT       </td><td>   7</td><td>20</td><td>Insular </td></tr>\n",
       "\t<tr><th scope=row>3068-5_CELL3264_N1</th><td>GLUT_L6b         </td><td>   6</td><td>21</td><td>Insular </td></tr>\n",
       "\t<tr><th scope=row>3069-4_CELL2580_N1</th><td>GLUT_L5 ET       </td><td>   2</td><td>22</td><td>Insular </td></tr>\n",
       "\t<tr><th scope=row>4144-13_CELL3017_N1</th><td>GLUT_L6 CT       </td><td>   2</td><td>23</td><td>Insular </td></tr>\n",
       "\t<tr><th scope=row>4144-20_CELL85_N2</th><td>GLUT_L6b         </td><td>   1</td><td>24</td><td>Insular </td></tr>\n",
       "\t<tr><th scope=row>6103-1_CELL1310_N21</th><td>GLUT_GNB4-       </td><td> 406</td><td> 1</td><td>Clastrum</td></tr>\n",
       "\t<tr><th scope=row>6103-1_CELL1474_N21</th><td>GLUT_VENO        </td><td> 541</td><td> 2</td><td>Clastrum</td></tr>\n",
       "\t<tr><th scope=row>6103-1_CELL62_N21</th><td>GLUT_GNB4-       </td><td>1063</td><td> 3</td><td>Clastrum</td></tr>\n",
       "\t<tr><th scope=row>6103-1_CELL2140_N11</th><td>GLUT_GNB4+       </td><td>3140</td><td> 4</td><td>Clastrum</td></tr>\n",
       "\t<tr><th scope=row>6103-1_CELL2495_N11</th><td>GLUT_GNB4-       </td><td>  84</td><td> 5</td><td>Clastrum</td></tr>\n",
       "\t<tr><th scope=row>6103-1_CELL27_N31</th><td>GLUT_GNB4+       </td><td> 103</td><td> 6</td><td>Clastrum</td></tr>\n",
       "\t<tr><th scope=row>6103-1_CELL1689_N11</th><td>GLUT_GNB4-       </td><td> 157</td><td> 7</td><td>Clastrum</td></tr>\n",
       "\t<tr><th scope=row>6103-1_CELL2703_N11</th><td>GLUT_GNB4-       </td><td> 546</td><td> 8</td><td>Clastrum</td></tr>\n",
       "\t<tr><th scope=row>6103-1_CELL2679_N11</th><td>GLUT_GNB4-       </td><td> 116</td><td> 9</td><td>Clastrum</td></tr>\n",
       "\t<tr><th scope=row>6103-1_CELL14_N41</th><td>GLUT_VENO        </td><td> 307</td><td>10</td><td>Clastrum</td></tr>\n",
       "\t<tr><th scope=row>6712-2_CELL4773_N11</th><td>GLUT_GNB4+       </td><td>   1</td><td>11</td><td>Clastrum</td></tr>\n",
       "\t<tr><th scope=row>7220-1_CELL2475_N11</th><td>GLUT_VENO        </td><td>  34</td><td>12</td><td>Clastrum</td></tr>\n",
       "\t<tr><th scope=row>7220-1_CELL303_N21</th><td>GLUT_GNB4+       </td><td>  33</td><td>13</td><td>Clastrum</td></tr>\n",
       "\t<tr><th scope=row>7221-1_CELL1815_N11</th><td>GLUT_VENO        </td><td>   6</td><td>14</td><td>Clastrum</td></tr>\n",
       "\t<tr><th scope=row>7221-1_CELL143_N21</th><td>GLUT_GNB4+       </td><td>  15</td><td>15</td><td>Clastrum</td></tr>\n",
       "\t<tr><th scope=row>7221-2_CELL841_N21</th><td>GLUT_GNB4-       </td><td>  20</td><td>16</td><td>Clastrum</td></tr>\n",
       "\t<tr><th scope=row>7248-2_CELL1507_N11</th><td>GLUT_VENO        </td><td>   1</td><td>17</td><td>Clastrum</td></tr>\n",
       "\t<tr><th scope=row>7248-2_CELL2654_N11</th><td>GLUT_VENO        </td><td>   5</td><td>18</td><td>Clastrum</td></tr>\n",
       "\t<tr><th scope=row>3065-2_CELL4699_N11</th><td>GLUT_VENO        </td><td>   4</td><td>19</td><td>Clastrum</td></tr>\n",
       "\t<tr><th scope=row>3066-1_CELL1766_N11</th><td>GLUT_GNB4+       </td><td>   7</td><td>20</td><td>Clastrum</td></tr>\n",
       "\t<tr><th scope=row>3068-5_CELL3264_N11</th><td>GLUT_GNB4-       </td><td>   6</td><td>21</td><td>Clastrum</td></tr>\n",
       "\t<tr><th scope=row>3069-4_CELL2580_N11</th><td>GLUT_VENO        </td><td>   2</td><td>22</td><td>Clastrum</td></tr>\n",
       "\t<tr><th scope=row>4144-13_CELL3017_N11</th><td>GLUT_GNB4-       </td><td>   2</td><td>23</td><td>Clastrum</td></tr>\n",
       "\t<tr><th scope=row>4144-20_CELL85_N21</th><td>GLUT_GNB4+       </td><td>   1</td><td>24</td><td>Clastrum</td></tr>\n",
       "</tbody>\n",
       "</table>\n"
      ],
      "text/latex": [
       "A data.frame: 48 × 4\n",
       "\\begin{tabular}{r|llll}\n",
       "  & compare\\_anno & Freq & subject & anno\\\\\n",
       "  & <fct> & <dbl> & <int> & <chr>\\\\\n",
       "\\hline\n",
       "\t6103-1\\_CELL1310\\_N2 & GLUT\\_L2/3 IT      &  406 &  1 & Insular \\\\\n",
       "\t6103-1\\_CELL1474\\_N2 & GLUT\\_L6b          &  541 &  2 & Insular \\\\\n",
       "\t6103-1\\_CELL62\\_N2 & GLUT\\_L6 IT        & 1063 &  3 & Insular \\\\\n",
       "\t6103-1\\_CELL2140\\_N1 & GLUT\\_L5/6 IT Car3 & 3140 &  4 & Insular \\\\\n",
       "\t6103-1\\_CELL2495\\_N1 & GLUT\\_L5 IT        &   84 &  5 & Insular \\\\\n",
       "\t6103-1\\_CELL27\\_N3 & GLUT\\_L2/3 IT      &  103 &  6 & Insular \\\\\n",
       "\t6103-1\\_CELL1689\\_N1 & GLUT\\_L5/6 NP      &  157 &  7 & Insular \\\\\n",
       "\t6103-1\\_CELL2703\\_N1 & GLUT\\_L4 IT        &  546 &  8 & Insular \\\\\n",
       "\t6103-1\\_CELL2679\\_N1 & GLUT\\_L5 ET        &  116 &  9 & Insular \\\\\n",
       "\t6103-1\\_CELL14\\_N4 & GLUT\\_L6 CT        &  307 & 10 & Insular \\\\\n",
       "\t6712-2\\_CELL4773\\_N1 & GLUT\\_L5 ET        &    1 & 11 & Insular \\\\\n",
       "\t7220-1\\_CELL2475\\_N1 & GLUT\\_L2/3 IT      &   34 & 12 & Insular \\\\\n",
       "\t7220-1\\_CELL303\\_N2 & GLUT\\_L5/6 NP      &   33 & 13 & Insular \\\\\n",
       "\t7221-1\\_CELL1815\\_N1 & GLUT\\_L4 IT        &    6 & 14 & Insular \\\\\n",
       "\t7221-1\\_CELL143\\_N2 & GLUT\\_L4 IT        &   15 & 15 & Insular \\\\\n",
       "\t7221-2\\_CELL841\\_N2 & GLUT\\_L5/6 IT Car3 &   20 & 16 & Insular \\\\\n",
       "\t7248-2\\_CELL1507\\_N1 & GLUT\\_L5/6 IT Car3 &    1 & 17 & Insular \\\\\n",
       "\t7248-2\\_CELL2654\\_N1 & GLUT\\_L5/6 NP      &    5 & 18 & Insular \\\\\n",
       "\t3065-2\\_CELL4699\\_N1 & GLUT\\_L6 IT        &    4 & 19 & Insular \\\\\n",
       "\t3066-1\\_CELL1766\\_N1 & GLUT\\_L6 IT        &    7 & 20 & Insular \\\\\n",
       "\t3068-5\\_CELL3264\\_N1 & GLUT\\_L6b          &    6 & 21 & Insular \\\\\n",
       "\t3069-4\\_CELL2580\\_N1 & GLUT\\_L5 ET        &    2 & 22 & Insular \\\\\n",
       "\t4144-13\\_CELL3017\\_N1 & GLUT\\_L6 CT        &    2 & 23 & Insular \\\\\n",
       "\t4144-20\\_CELL85\\_N2 & GLUT\\_L6b          &    1 & 24 & Insular \\\\\n",
       "\t6103-1\\_CELL1310\\_N21 & GLUT\\_GNB4-        &  406 &  1 & Clastrum\\\\\n",
       "\t6103-1\\_CELL1474\\_N21 & GLUT\\_VENO         &  541 &  2 & Clastrum\\\\\n",
       "\t6103-1\\_CELL62\\_N21 & GLUT\\_GNB4-        & 1063 &  3 & Clastrum\\\\\n",
       "\t6103-1\\_CELL2140\\_N11 & GLUT\\_GNB4+        & 3140 &  4 & Clastrum\\\\\n",
       "\t6103-1\\_CELL2495\\_N11 & GLUT\\_GNB4-        &   84 &  5 & Clastrum\\\\\n",
       "\t6103-1\\_CELL27\\_N31 & GLUT\\_GNB4+        &  103 &  6 & Clastrum\\\\\n",
       "\t6103-1\\_CELL1689\\_N11 & GLUT\\_GNB4-        &  157 &  7 & Clastrum\\\\\n",
       "\t6103-1\\_CELL2703\\_N11 & GLUT\\_GNB4-        &  546 &  8 & Clastrum\\\\\n",
       "\t6103-1\\_CELL2679\\_N11 & GLUT\\_GNB4-        &  116 &  9 & Clastrum\\\\\n",
       "\t6103-1\\_CELL14\\_N41 & GLUT\\_VENO         &  307 & 10 & Clastrum\\\\\n",
       "\t6712-2\\_CELL4773\\_N11 & GLUT\\_GNB4+        &    1 & 11 & Clastrum\\\\\n",
       "\t7220-1\\_CELL2475\\_N11 & GLUT\\_VENO         &   34 & 12 & Clastrum\\\\\n",
       "\t7220-1\\_CELL303\\_N21 & GLUT\\_GNB4+        &   33 & 13 & Clastrum\\\\\n",
       "\t7221-1\\_CELL1815\\_N11 & GLUT\\_VENO         &    6 & 14 & Clastrum\\\\\n",
       "\t7221-1\\_CELL143\\_N21 & GLUT\\_GNB4+        &   15 & 15 & Clastrum\\\\\n",
       "\t7221-2\\_CELL841\\_N21 & GLUT\\_GNB4-        &   20 & 16 & Clastrum\\\\\n",
       "\t7248-2\\_CELL1507\\_N11 & GLUT\\_VENO         &    1 & 17 & Clastrum\\\\\n",
       "\t7248-2\\_CELL2654\\_N11 & GLUT\\_VENO         &    5 & 18 & Clastrum\\\\\n",
       "\t3065-2\\_CELL4699\\_N11 & GLUT\\_VENO         &    4 & 19 & Clastrum\\\\\n",
       "\t3066-1\\_CELL1766\\_N11 & GLUT\\_GNB4+        &    7 & 20 & Clastrum\\\\\n",
       "\t3068-5\\_CELL3264\\_N11 & GLUT\\_GNB4-        &    6 & 21 & Clastrum\\\\\n",
       "\t3069-4\\_CELL2580\\_N11 & GLUT\\_VENO         &    2 & 22 & Clastrum\\\\\n",
       "\t4144-13\\_CELL3017\\_N11 & GLUT\\_GNB4-        &    2 & 23 & Clastrum\\\\\n",
       "\t4144-20\\_CELL85\\_N21 & GLUT\\_GNB4+        &    1 & 24 & Clastrum\\\\\n",
       "\\end{tabular}\n"
      ],
      "text/markdown": [
       "\n",
       "A data.frame: 48 × 4\n",
       "\n",
       "| <!--/--> | compare_anno &lt;fct&gt; | Freq &lt;dbl&gt; | subject &lt;int&gt; | anno &lt;chr&gt; |\n",
       "|---|---|---|---|---|\n",
       "| 6103-1_CELL1310_N2 | GLUT_L2/3 IT      |  406 |  1 | Insular  |\n",
       "| 6103-1_CELL1474_N2 | GLUT_L6b          |  541 |  2 | Insular  |\n",
       "| 6103-1_CELL62_N2 | GLUT_L6 IT        | 1063 |  3 | Insular  |\n",
       "| 6103-1_CELL2140_N1 | GLUT_L5/6 IT Car3 | 3140 |  4 | Insular  |\n",
       "| 6103-1_CELL2495_N1 | GLUT_L5 IT        |   84 |  5 | Insular  |\n",
       "| 6103-1_CELL27_N3 | GLUT_L2/3 IT      |  103 |  6 | Insular  |\n",
       "| 6103-1_CELL1689_N1 | GLUT_L5/6 NP      |  157 |  7 | Insular  |\n",
       "| 6103-1_CELL2703_N1 | GLUT_L4 IT        |  546 |  8 | Insular  |\n",
       "| 6103-1_CELL2679_N1 | GLUT_L5 ET        |  116 |  9 | Insular  |\n",
       "| 6103-1_CELL14_N4 | GLUT_L6 CT        |  307 | 10 | Insular  |\n",
       "| 6712-2_CELL4773_N1 | GLUT_L5 ET        |    1 | 11 | Insular  |\n",
       "| 7220-1_CELL2475_N1 | GLUT_L2/3 IT      |   34 | 12 | Insular  |\n",
       "| 7220-1_CELL303_N2 | GLUT_L5/6 NP      |   33 | 13 | Insular  |\n",
       "| 7221-1_CELL1815_N1 | GLUT_L4 IT        |    6 | 14 | Insular  |\n",
       "| 7221-1_CELL143_N2 | GLUT_L4 IT        |   15 | 15 | Insular  |\n",
       "| 7221-2_CELL841_N2 | GLUT_L5/6 IT Car3 |   20 | 16 | Insular  |\n",
       "| 7248-2_CELL1507_N1 | GLUT_L5/6 IT Car3 |    1 | 17 | Insular  |\n",
       "| 7248-2_CELL2654_N1 | GLUT_L5/6 NP      |    5 | 18 | Insular  |\n",
       "| 3065-2_CELL4699_N1 | GLUT_L6 IT        |    4 | 19 | Insular  |\n",
       "| 3066-1_CELL1766_N1 | GLUT_L6 IT        |    7 | 20 | Insular  |\n",
       "| 3068-5_CELL3264_N1 | GLUT_L6b          |    6 | 21 | Insular  |\n",
       "| 3069-4_CELL2580_N1 | GLUT_L5 ET        |    2 | 22 | Insular  |\n",
       "| 4144-13_CELL3017_N1 | GLUT_L6 CT        |    2 | 23 | Insular  |\n",
       "| 4144-20_CELL85_N2 | GLUT_L6b          |    1 | 24 | Insular  |\n",
       "| 6103-1_CELL1310_N21 | GLUT_GNB4-        |  406 |  1 | Clastrum |\n",
       "| 6103-1_CELL1474_N21 | GLUT_VENO         |  541 |  2 | Clastrum |\n",
       "| 6103-1_CELL62_N21 | GLUT_GNB4-        | 1063 |  3 | Clastrum |\n",
       "| 6103-1_CELL2140_N11 | GLUT_GNB4+        | 3140 |  4 | Clastrum |\n",
       "| 6103-1_CELL2495_N11 | GLUT_GNB4-        |   84 |  5 | Clastrum |\n",
       "| 6103-1_CELL27_N31 | GLUT_GNB4+        |  103 |  6 | Clastrum |\n",
       "| 6103-1_CELL1689_N11 | GLUT_GNB4-        |  157 |  7 | Clastrum |\n",
       "| 6103-1_CELL2703_N11 | GLUT_GNB4-        |  546 |  8 | Clastrum |\n",
       "| 6103-1_CELL2679_N11 | GLUT_GNB4-        |  116 |  9 | Clastrum |\n",
       "| 6103-1_CELL14_N41 | GLUT_VENO         |  307 | 10 | Clastrum |\n",
       "| 6712-2_CELL4773_N11 | GLUT_GNB4+        |    1 | 11 | Clastrum |\n",
       "| 7220-1_CELL2475_N11 | GLUT_VENO         |   34 | 12 | Clastrum |\n",
       "| 7220-1_CELL303_N21 | GLUT_GNB4+        |   33 | 13 | Clastrum |\n",
       "| 7221-1_CELL1815_N11 | GLUT_VENO         |    6 | 14 | Clastrum |\n",
       "| 7221-1_CELL143_N21 | GLUT_GNB4+        |   15 | 15 | Clastrum |\n",
       "| 7221-2_CELL841_N21 | GLUT_GNB4-        |   20 | 16 | Clastrum |\n",
       "| 7248-2_CELL1507_N11 | GLUT_VENO         |    1 | 17 | Clastrum |\n",
       "| 7248-2_CELL2654_N11 | GLUT_VENO         |    5 | 18 | Clastrum |\n",
       "| 3065-2_CELL4699_N11 | GLUT_VENO         |    4 | 19 | Clastrum |\n",
       "| 3066-1_CELL1766_N11 | GLUT_GNB4+        |    7 | 20 | Clastrum |\n",
       "| 3068-5_CELL3264_N11 | GLUT_GNB4-        |    6 | 21 | Clastrum |\n",
       "| 3069-4_CELL2580_N11 | GLUT_VENO         |    2 | 22 | Clastrum |\n",
       "| 4144-13_CELL3017_N11 | GLUT_GNB4-        |    2 | 23 | Clastrum |\n",
       "| 4144-20_CELL85_N21 | GLUT_GNB4+        |    1 | 24 | Clastrum |\n",
       "\n"
      ],
      "text/plain": [
       "                     compare_anno      Freq subject anno    \n",
       "6103-1_CELL1310_N2   GLUT_L2/3 IT       406  1      Insular \n",
       "6103-1_CELL1474_N2   GLUT_L6b           541  2      Insular \n",
       "6103-1_CELL62_N2     GLUT_L6 IT        1063  3      Insular \n",
       "6103-1_CELL2140_N1   GLUT_L5/6 IT Car3 3140  4      Insular \n",
       "6103-1_CELL2495_N1   GLUT_L5 IT          84  5      Insular \n",
       "6103-1_CELL27_N3     GLUT_L2/3 IT       103  6      Insular \n",
       "6103-1_CELL1689_N1   GLUT_L5/6 NP       157  7      Insular \n",
       "6103-1_CELL2703_N1   GLUT_L4 IT         546  8      Insular \n",
       "6103-1_CELL2679_N1   GLUT_L5 ET         116  9      Insular \n",
       "6103-1_CELL14_N4     GLUT_L6 CT         307 10      Insular \n",
       "6712-2_CELL4773_N1   GLUT_L5 ET           1 11      Insular \n",
       "7220-1_CELL2475_N1   GLUT_L2/3 IT        34 12      Insular \n",
       "7220-1_CELL303_N2    GLUT_L5/6 NP        33 13      Insular \n",
       "7221-1_CELL1815_N1   GLUT_L4 IT           6 14      Insular \n",
       "7221-1_CELL143_N2    GLUT_L4 IT          15 15      Insular \n",
       "7221-2_CELL841_N2    GLUT_L5/6 IT Car3   20 16      Insular \n",
       "7248-2_CELL1507_N1   GLUT_L5/6 IT Car3    1 17      Insular \n",
       "7248-2_CELL2654_N1   GLUT_L5/6 NP         5 18      Insular \n",
       "3065-2_CELL4699_N1   GLUT_L6 IT           4 19      Insular \n",
       "3066-1_CELL1766_N1   GLUT_L6 IT           7 20      Insular \n",
       "3068-5_CELL3264_N1   GLUT_L6b             6 21      Insular \n",
       "3069-4_CELL2580_N1   GLUT_L5 ET           2 22      Insular \n",
       "4144-13_CELL3017_N1  GLUT_L6 CT           2 23      Insular \n",
       "4144-20_CELL85_N2    GLUT_L6b             1 24      Insular \n",
       "6103-1_CELL1310_N21  GLUT_GNB4-         406  1      Clastrum\n",
       "6103-1_CELL1474_N21  GLUT_VENO          541  2      Clastrum\n",
       "6103-1_CELL62_N21    GLUT_GNB4-        1063  3      Clastrum\n",
       "6103-1_CELL2140_N11  GLUT_GNB4+        3140  4      Clastrum\n",
       "6103-1_CELL2495_N11  GLUT_GNB4-          84  5      Clastrum\n",
       "6103-1_CELL27_N31    GLUT_GNB4+         103  6      Clastrum\n",
       "6103-1_CELL1689_N11  GLUT_GNB4-         157  7      Clastrum\n",
       "6103-1_CELL2703_N11  GLUT_GNB4-         546  8      Clastrum\n",
       "6103-1_CELL2679_N11  GLUT_GNB4-         116  9      Clastrum\n",
       "6103-1_CELL14_N41    GLUT_VENO          307 10      Clastrum\n",
       "6712-2_CELL4773_N11  GLUT_GNB4+           1 11      Clastrum\n",
       "7220-1_CELL2475_N11  GLUT_VENO           34 12      Clastrum\n",
       "7220-1_CELL303_N21   GLUT_GNB4+          33 13      Clastrum\n",
       "7221-1_CELL1815_N11  GLUT_VENO            6 14      Clastrum\n",
       "7221-1_CELL143_N21   GLUT_GNB4+          15 15      Clastrum\n",
       "7221-2_CELL841_N21   GLUT_GNB4-          20 16      Clastrum\n",
       "7248-2_CELL1507_N11  GLUT_VENO            1 17      Clastrum\n",
       "7248-2_CELL2654_N11  GLUT_VENO            5 18      Clastrum\n",
       "3065-2_CELL4699_N11  GLUT_VENO            4 19      Clastrum\n",
       "3066-1_CELL1766_N11  GLUT_GNB4+           7 20      Clastrum\n",
       "3068-5_CELL3264_N11  GLUT_GNB4-           6 21      Clastrum\n",
       "3069-4_CELL2580_N11  GLUT_VENO            2 22      Clastrum\n",
       "4144-13_CELL3017_N11 GLUT_GNB4-           2 23      Clastrum\n",
       "4144-20_CELL85_N21   GLUT_GNB4+           1 24      Clastrum"
      ]
     },
     "metadata": {},
     "output_type": "display_data"
    }
   ],
   "source": [
    "df_sum_re_sum1_re_all"
   ]
  },
  {
   "cell_type": "code",
   "execution_count": 24,
   "id": "2b373f85",
   "metadata": {
    "scrolled": true
   },
   "outputs": [
    {
     "data": {
      "image/png": "[encoded data removed]",
      "text/plain": [
       "plot without title"
      ]
     },
     "metadata": {
      "image/png": {
       "height": 900,
       "width": 600
      }
     },
     "output_type": "display_data"
    }
   ],
   "source": [
    "options(repr.plot.width=10, repr.plot.height=15)\n",
    "gp=ggplot(df_sum_re_sum1_re_all,\n",
    "       aes(x = anno, stratum = compare_anno, alluvium = subject,\n",
    "           y = Freq,\n",
    "           fill = compare_anno, label = compare_anno)) +\n",
    "  scale_x_discrete(expand = c(.1, .1)) +\n",
    "  geom_flow() +\n",
    "  geom_stratum(alpha = .5) +\n",
    "  geom_text(stat = \"stratum\", size = 3) +\n",
    "  theme(legend.position = \"none\") +\n",
    "  theme_void()+scale_fill_manual(values = col)\n",
    "gp"
   ]
  },
  {
   "cell_type": "code",
   "execution_count": 25,
   "id": "46f6479e",
   "metadata": {
    "scrolled": true
   },
   "outputs": [
    {
     "data": {
      "text/html": [
       "<strong>png:</strong> 2"
      ],
      "text/latex": [
       "\\textbf{png:} 2"
      ],
      "text/markdown": [
       "**png:** 2"
      ],
      "text/plain": [
       "png \n",
       "  2 "
      ]
     },
     "metadata": {},
     "output_type": "display_data"
    }
   ],
   "source": [
    "pdf(\"/home/liuyx/liuyuxuan/spa_seurat/cla/fig_1206/area_compare_240118/river_plot.pdf\", width=10, height=15)\n",
    "gp\n",
    "dev.off()\n",
    "\n"
   ]
  },
  {
   "cell_type": "code",
   "execution_count": 1,
   "id": "255f9ecd",
   "metadata": {},
   "outputs": [],
   "source": [
    "meta=read.csv('/home/liuyx/liuyuxuan/spa_seurat/cla/speciesCompare/Insular_renew_1016/batch_normalize_renew_240115/dif_res_anno/final_anno/46cl_240122_Cluster_Supercluster_res11_meta.csv')\n",
    "meta=subset(meta,maxPredClass=='Excit_Neuron')\n"
   ]
  },
  {
   "cell_type": "code",
   "execution_count": 4,
   "id": "7a000dc0",
   "metadata": {
    "scrolled": true
   },
   "outputs": [],
   "source": [
    "meta=meta[,c('SuperCluster','Cluster')]\n",
    "meta$num=1\n",
    "sum_df=meta %>% group_by(SuperCluster) %>% summarise(SuperCluster_num=sum(num))\n",
    "sum_df$all=sum(sum_df$SuperCluster_num)\n",
    "sum_df$ratio=sum_df$SuperCluster_num/sum_df$all\n",
    "sum_df$Cluster='1'\n"
   ]
  },
  {
   "cell_type": "code",
   "execution_count": 7,
   "id": "ebe494dc",
   "metadata": {},
   "outputs": [
    {
     "data": {
      "text/html": [
       "<table class=\"dataframe\">\n",
       "<caption>A tibble: 9 × 5</caption>\n",
       "<thead>\n",
       "\t<tr><th scope=col>SuperCluster</th><th scope=col>SuperCluster_num</th><th scope=col>all</th><th scope=col>ratio</th><th scope=col>Cluster</th></tr>\n",
       "\t<tr><th scope=col>&lt;chr&gt;</th><th scope=col>&lt;dbl&gt;</th><th scope=col>&lt;dbl&gt;</th><th scope=col>&lt;dbl&gt;</th><th scope=col>&lt;chr&gt;</th></tr>\n",
       "</thead>\n",
       "<tbody>\n",
       "\t<tr><td>GLUT_L2/3 IT     </td><td>15137</td><td>39798</td><td>0.38034575</td><td>1</td></tr>\n",
       "\t<tr><td>GLUT_L4 IT       </td><td> 8581</td><td>39798</td><td>0.21561385</td><td>1</td></tr>\n",
       "\t<tr><td>GLUT_L5 ET       </td><td>  701</td><td>39798</td><td>0.01761395</td><td>1</td></tr>\n",
       "\t<tr><td>GLUT_L5 IT       </td><td> 3250</td><td>39798</td><td>0.08166240</td><td>1</td></tr>\n",
       "\t<tr><td>GLUT_L5/6 IT Car3</td><td> 2171</td><td>39798</td><td>0.05455048</td><td>1</td></tr>\n",
       "\t<tr><td>GLUT_L5/6 NP     </td><td>  535</td><td>39798</td><td>0.01344289</td><td>1</td></tr>\n",
       "\t<tr><td>GLUT_L6 CT       </td><td> 2565</td><td>39798</td><td>0.06445047</td><td>1</td></tr>\n",
       "\t<tr><td>GLUT_L6 IT       </td><td> 4910</td><td>39798</td><td>0.12337303</td><td>1</td></tr>\n",
       "\t<tr><td>GLUT_L6b         </td><td> 1948</td><td>39798</td><td>0.04894718</td><td>1</td></tr>\n",
       "</tbody>\n",
       "</table>\n"
      ],
      "text/latex": [
       "A tibble: 9 × 5\n",
       "\\begin{tabular}{lllll}\n",
       " SuperCluster & SuperCluster\\_num & all & ratio & Cluster\\\\\n",
       " <chr> & <dbl> & <dbl> & <dbl> & <chr>\\\\\n",
       "\\hline\n",
       "\t GLUT\\_L2/3 IT      & 15137 & 39798 & 0.38034575 & 1\\\\\n",
       "\t GLUT\\_L4 IT        &  8581 & 39798 & 0.21561385 & 1\\\\\n",
       "\t GLUT\\_L5 ET        &   701 & 39798 & 0.01761395 & 1\\\\\n",
       "\t GLUT\\_L5 IT        &  3250 & 39798 & 0.08166240 & 1\\\\\n",
       "\t GLUT\\_L5/6 IT Car3 &  2171 & 39798 & 0.05455048 & 1\\\\\n",
       "\t GLUT\\_L5/6 NP      &   535 & 39798 & 0.01344289 & 1\\\\\n",
       "\t GLUT\\_L6 CT        &  2565 & 39798 & 0.06445047 & 1\\\\\n",
       "\t GLUT\\_L6 IT        &  4910 & 39798 & 0.12337303 & 1\\\\\n",
       "\t GLUT\\_L6b          &  1948 & 39798 & 0.04894718 & 1\\\\\n",
       "\\end{tabular}\n"
      ],
      "text/markdown": [
       "\n",
       "A tibble: 9 × 5\n",
       "\n",
       "| SuperCluster &lt;chr&gt; | SuperCluster_num &lt;dbl&gt; | all &lt;dbl&gt; | ratio &lt;dbl&gt; | Cluster &lt;chr&gt; |\n",
       "|---|---|---|---|---|\n",
       "| GLUT_L2/3 IT      | 15137 | 39798 | 0.38034575 | 1 |\n",
       "| GLUT_L4 IT        |  8581 | 39798 | 0.21561385 | 1 |\n",
       "| GLUT_L5 ET        |   701 | 39798 | 0.01761395 | 1 |\n",
       "| GLUT_L5 IT        |  3250 | 39798 | 0.08166240 | 1 |\n",
       "| GLUT_L5/6 IT Car3 |  2171 | 39798 | 0.05455048 | 1 |\n",
       "| GLUT_L5/6 NP      |   535 | 39798 | 0.01344289 | 1 |\n",
       "| GLUT_L6 CT        |  2565 | 39798 | 0.06445047 | 1 |\n",
       "| GLUT_L6 IT        |  4910 | 39798 | 0.12337303 | 1 |\n",
       "| GLUT_L6b          |  1948 | 39798 | 0.04894718 | 1 |\n",
       "\n"
      ],
      "text/plain": [
       "  SuperCluster      SuperCluster_num all   ratio      Cluster\n",
       "1 GLUT_L2/3 IT      15137            39798 0.38034575 1      \n",
       "2 GLUT_L4 IT         8581            39798 0.21561385 1      \n",
       "3 GLUT_L5 ET          701            39798 0.01761395 1      \n",
       "4 GLUT_L5 IT         3250            39798 0.08166240 1      \n",
       "5 GLUT_L5/6 IT Car3  2171            39798 0.05455048 1      \n",
       "6 GLUT_L5/6 NP        535            39798 0.01344289 1      \n",
       "7 GLUT_L6 CT         2565            39798 0.06445047 1      \n",
       "8 GLUT_L6 IT         4910            39798 0.12337303 1      \n",
       "9 GLUT_L6b           1948            39798 0.04894718 1      "
      ]
     },
     "metadata": {},
     "output_type": "display_data"
    }
   ],
   "source": [
    "sum_df"
   ]
  },
  {
   "cell_type": "code",
   "execution_count": 9,
   "id": "be587636",
   "metadata": {},
   "outputs": [
    {
     "data": {
      "image/png": "[encoded data removed]",
      "text/plain": [
       "plot without title"
      ]
     },
     "metadata": {
      "image/png": {
       "height": 420,
       "width": 420
      }
     },
     "output_type": "display_data"
    }
   ],
   "source": [
    "gp=ggplot(data = sum_df, aes(x = Cluster, y = ratio, fill = SuperCluster)) +\n",
    " geom_bar(stat = \"identity\", position = \"stack\")+theme_classic()+\n",
    "scale_fill_manual(values = col)+ theme(axis.text.x = element_text(angle = 90, vjust = 1, hjust=1))\n",
    "gp"
   ]
  },
  {
   "cell_type": "code",
   "execution_count": 10,
   "id": "b8b2b1b2",
   "metadata": {},
   "outputs": [
    {
     "data": {
      "text/html": [
       "<strong>png:</strong> 2"
      ],
      "text/latex": [
       "\\textbf{png:} 2"
      ],
      "text/markdown": [
       "**png:** 2"
      ],
      "text/plain": [
       "png \n",
       "  2 "
      ]
     },
     "metadata": {},
     "output_type": "display_data"
    }
   ],
   "source": [
    "pdf(\"/home/liuyx/liuyuxuan/spa_seurat/cla/fig_1206/area_compare_240118/river_plot1.pdf\", width=7, height=15)\n",
    "gp\n",
    "dev.off()\n"
   ]
  },
  {
   "cell_type": "code",
   "execution_count": null,
   "id": "215c9346",
   "metadata": {},
   "outputs": [],
   "source": []
  }
 ],
 "metadata": {
  "kernelspec": {
   "display_name": "arrow111",
   "language": "R",
   "name": "arrow111"
  },
  "language_info": {
   "codemirror_mode": "r",
   "file_extension": ".r",
   "mimetype": "text/x-r-source",
   "name": "R",
   "pygments_lexer": "r",
   "version": "4.3.3"
  }
 },
 "nbformat": 4,
 "nbformat_minor": 5
}
