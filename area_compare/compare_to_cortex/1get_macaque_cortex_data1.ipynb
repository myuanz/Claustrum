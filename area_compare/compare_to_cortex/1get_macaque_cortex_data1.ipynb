{
 "cells": [
  {
   "cell_type": "code",
   "execution_count": 1,
   "id": "25ce3fdf",
   "metadata": {},
   "outputs": [
    {
     "name": "stderr",
     "output_type": "stream",
     "text": [
      "\n",
      "Attaching package: ‘hdf5r’\n",
      "\n",
      "\n",
      "The following object is masked from ‘package:purrr’:\n",
      "\n",
      "    flatten_df\n",
      "\n",
      "\n"
     ]
    }
   ],
   "source": [
    "# The script is used to integrate data between human PFC and macaque PFC data\n",
    "suppressMessages(library(tidyverse))\n",
    "suppressMessages(library(parallel))\n",
    "suppressMessages(library(Seurat))\n",
    "suppressMessages(library(SeuratData))\n",
    "suppressMessages(library(patchwork))\n",
    "suppressMessages(library(Matrix))\n",
    "suppressMessages(library(viridis))\n",
    "suppressMessages(library(cowplot))\n",
    "suppressMessages(library(ggsci))\n",
    "suppressMessages(library(pheatmap))\n",
    "suppressMessages(library(RColorBrewer))\n",
    "suppressMessages(library(reshape2))\n",
    "suppressMessages(library(LSD))\n",
    "suppressMessages(library(readxl))\n",
    "suppressMessages(library(ggrepel))\n",
    "suppressMessages(library(SeuratDisk))\n",
    "suppressMessages(library(harmony))\n",
    "library(hdf5r)\n",
    "options(future.globals.maxSize=100*1024^3) # 100G memory\n",
    "\n"
   ]
  },
  {
   "cell_type": "code",
   "execution_count": 2,
   "id": "8f621605",
   "metadata": {},
   "outputs": [
    {
     "name": "stderr",
     "output_type": "stream",
     "text": [
      "\u001b[1mRows: \u001b[22m\u001b[34m1335648\u001b[39m \u001b[1mColumns: \u001b[22m\u001b[34m7\u001b[39m\n",
      "\u001b[36m──\u001b[39m \u001b[1mColumn specification\u001b[22m \u001b[36m────────────────────────────────────────────────────────\u001b[39m\n",
      "\u001b[1mDelimiter:\u001b[22m \",\"\n",
      "\u001b[31mchr\u001b[39m (7): CellID, library, brain_area, source, Class, SubClass, Cluster\n",
      "\n",
      "\u001b[36mℹ\u001b[39m Use `spec()` to retrieve the full column specification for this data.\n",
      "\u001b[36mℹ\u001b[39m Specify the column types or set `show_col_types = FALSE` to quiet this message.\n"
     ]
    }
   ],
   "source": [
    "metaTb = read_csv(\"/home/liuzhen/project/monkeyBrain/data/snRNAseq/snRNA.266clusters.metainfo.csv\")\n",
    "\n"
   ]
  },
  {
   "cell_type": "code",
   "execution_count": 7,
   "id": "a6883eac",
   "metadata": {},
   "outputs": [],
   "source": [
    "library(readxl)"
   ]
  },
  {
   "cell_type": "code",
   "execution_count": 3,
   "id": "6b6d164d",
   "metadata": {},
   "outputs": [
    {
     "data": {
      "text/html": [
       "<style>\n",
       ".list-inline {list-style: none; margin:0; padding: 0}\n",
       ".list-inline>li {display: inline-block}\n",
       ".list-inline>li:not(:last-child)::after {content: \"\\00b7\"; padding: 0 .5ex}\n",
       "</style>\n",
       "<ol class=list-inline><li>'Macaca_V1'</li><li>'Macaca_V2'</li></ol>\n"
      ],
      "text/latex": [
       "\\begin{enumerate*}\n",
       "\\item 'Macaca\\_V1'\n",
       "\\item 'Macaca\\_V2'\n",
       "\\end{enumerate*}\n"
      ],
      "text/markdown": [
       "1. 'Macaca_V1'\n",
       "2. 'Macaca_V2'\n",
       "\n",
       "\n"
      ],
      "text/plain": [
       "[1] \"Macaca_V1\" \"Macaca_V2\""
      ]
     },
     "metadata": {},
     "output_type": "display_data"
    }
   ],
   "source": [
    "unique(metaTb$source)"
   ]
  },
  {
   "cell_type": "code",
   "execution_count": 4,
   "id": "b66fdfe8",
   "metadata": {},
   "outputs": [],
   "source": [
    "metaTb_maca2=metaTb[metaTb$source=='Macaca_V2',]"
   ]
  },
  {
   "cell_type": "code",
   "execution_count": 63,
   "id": "d22ab618",
   "metadata": {},
   "outputs": [
    {
     "name": "stderr",
     "output_type": "stream",
     "text": [
      "\u001b[1m\u001b[22mNew names:\n",
      "\u001b[36m•\u001b[39m `` -> `...5`\n",
      "\u001b[36m•\u001b[39m `` -> `...6`\n"
     ]
    },
    {
     "data": {
      "text/html": [
       "<style>\n",
       ".list-inline {list-style: none; margin:0; padding: 0}\n",
       ".list-inline>li {display: inline-block}\n",
       ".list-inline>li:not(:last-child)::after {content: \"\\00b7\"; padding: 0 .5ex}\n",
       "</style>\n",
       "<ol class=list-inline><li>'occipital'</li><li>'Ocx'</li><li>'visual area 1 (primary visual cortex)'</li><li>'V1'</li><li>'...5'</li><li>'...6'</li></ol>\n"
      ],
      "text/latex": [
       "\\begin{enumerate*}\n",
       "\\item 'occipital'\n",
       "\\item 'Ocx'\n",
       "\\item 'visual area 1 (primary visual cortex)'\n",
       "\\item 'V1'\n",
       "\\item '...5'\n",
       "\\item '...6'\n",
       "\\end{enumerate*}\n"
      ],
      "text/markdown": [
       "1. 'occipital'\n",
       "2. 'Ocx'\n",
       "3. 'visual area 1 (primary visual cortex)'\n",
       "4. 'V1'\n",
       "5. '...5'\n",
       "6. '...6'\n",
       "\n",
       "\n"
      ],
      "text/plain": [
       "[1] \"occipital\"                            \n",
       "[2] \"Ocx\"                                  \n",
       "[3] \"visual area 1 (primary visual cortex)\"\n",
       "[4] \"V1\"                                   \n",
       "[5] \"...5\"                                 \n",
       "[6] \"...6\"                                 "
      ]
     },
     "metadata": {},
     "output_type": "display_data"
    },
    {
     "name": "stderr",
     "output_type": "stream",
     "text": [
      "\u001b[1m\u001b[22mJoining, by = \"area\"\n"
     ]
    }
   ],
   "source": [
    "ref1=read_xlsx('/home/liuyx/liuyuxuan/spa_seurat/cla/speciesCompare/1012_compare_to_cortex/LYX_Cortex_libid.xlsx')\n",
    "colnames(ref1)=c('macaque','macaque_id','macaque_id_area','libID','brain','area')\n",
    "\n",
    "ref2=read_xlsx('/home/liuyx/liuyuxuan/spa_seurat/cla/speciesCompare/1012_compare_to_cortex/LYX_Cortex_libid.xlsx',sheet = 'Sheet2')\n",
    "colnames(ref2)\n",
    "ref2=rbind(ref2,colnames(ref2))\n",
    "colnames(ref2)=c('area1','area2','area3','area4','area5','area')\n",
    "\n",
    "ref2[ref2$area4=='V1',]$area='V1'\n",
    "ref2[ref2$area4=='F1',]$area='F1'\n",
    "\n",
    "ref1=left_join(ref1,ref2)\n",
    "ref1_sort=ref1[,c('macaque_id','libID','area4')]\n"
   ]
  },
  {
   "cell_type": "code",
   "execution_count": 72,
   "id": "448abccd",
   "metadata": {},
   "outputs": [
    {
     "name": "stderr",
     "output_type": "stream",
     "text": [
      "\u001b[1m\u001b[22mNew names:\n",
      "\u001b[36m•\u001b[39m `` -> `...7`\n",
      "\u001b[1m\u001b[22mJoining, by = \"libID\"\n"
     ]
    },
    {
     "data": {
      "text/html": [
       "<table class=\"dataframe\">\n",
       "<caption>A tibble: 6 × 4</caption>\n",
       "<thead>\n",
       "\t<tr><th scope=col>macaque_id</th><th scope=col>libID</th><th scope=col>area4</th><th scope=col>lib_num</th></tr>\n",
       "\t<tr><th scope=col>&lt;chr&gt;</th><th scope=col>&lt;chr&gt;</th><th scope=col>&lt;chr&gt;</th><th scope=col>&lt;dbl&gt;</th></tr>\n",
       "</thead>\n",
       "<tbody>\n",
       "\t<tr><td>MQC286</td><td>6451-1-220822</td><td>7A</td><td>3287</td></tr>\n",
       "\t<tr><td>MQC286</td><td>6451-2-220822</td><td>7A</td><td>2982</td></tr>\n",
       "\t<tr><td>MQC286</td><td>6457-1-220822</td><td>7A</td><td>4415</td></tr>\n",
       "\t<tr><td>MQC286</td><td>6457-2-220822</td><td>7A</td><td>4721</td></tr>\n",
       "\t<tr><td>MQC286</td><td>6456-1-220822</td><td>7B</td><td>3806</td></tr>\n",
       "\t<tr><td>MQC286</td><td>6456-2-220822</td><td>7B</td><td>3264</td></tr>\n",
       "</tbody>\n",
       "</table>\n"
      ],
      "text/latex": [
       "A tibble: 6 × 4\n",
       "\\begin{tabular}{llll}\n",
       " macaque\\_id & libID & area4 & lib\\_num\\\\\n",
       " <chr> & <chr> & <chr> & <dbl>\\\\\n",
       "\\hline\n",
       "\t MQC286 & 6451-1-220822 & 7A & 3287\\\\\n",
       "\t MQC286 & 6451-2-220822 & 7A & 2982\\\\\n",
       "\t MQC286 & 6457-1-220822 & 7A & 4415\\\\\n",
       "\t MQC286 & 6457-2-220822 & 7A & 4721\\\\\n",
       "\t MQC286 & 6456-1-220822 & 7B & 3806\\\\\n",
       "\t MQC286 & 6456-2-220822 & 7B & 3264\\\\\n",
       "\\end{tabular}\n"
      ],
      "text/markdown": [
       "\n",
       "A tibble: 6 × 4\n",
       "\n",
       "| macaque_id &lt;chr&gt; | libID &lt;chr&gt; | area4 &lt;chr&gt; | lib_num &lt;dbl&gt; |\n",
       "|---|---|---|---|\n",
       "| MQC286 | 6451-1-220822 | 7A | 3287 |\n",
       "| MQC286 | 6451-2-220822 | 7A | 2982 |\n",
       "| MQC286 | 6457-1-220822 | 7A | 4415 |\n",
       "| MQC286 | 6457-2-220822 | 7A | 4721 |\n",
       "| MQC286 | 6456-1-220822 | 7B | 3806 |\n",
       "| MQC286 | 6456-2-220822 | 7B | 3264 |\n",
       "\n"
      ],
      "text/plain": [
       "  macaque_id libID         area4 lib_num\n",
       "1 MQC286     6451-1-220822 7A    3287   \n",
       "2 MQC286     6451-2-220822 7A    2982   \n",
       "3 MQC286     6457-1-220822 7A    4415   \n",
       "4 MQC286     6457-2-220822 7A    4721   \n",
       "5 MQC286     6456-1-220822 7B    3806   \n",
       "6 MQC286     6456-2-220822 7B    3264   "
      ]
     },
     "metadata": {},
     "output_type": "display_data"
    },
    {
     "data": {
      "text/html": [
       "<table class=\"dataframe\">\n",
       "<caption>A tibble: 2 × 2</caption>\n",
       "<thead>\n",
       "\t<tr><th scope=col>area4</th><th scope=col>area_sum</th></tr>\n",
       "\t<tr><th scope=col>&lt;chr&gt;</th><th scope=col>&lt;dbl&gt;</th></tr>\n",
       "</thead>\n",
       "<tbody>\n",
       "\t<tr><td>7A</td><td>15405</td></tr>\n",
       "\t<tr><td>7B</td><td> 7070</td></tr>\n",
       "</tbody>\n",
       "</table>\n"
      ],
      "text/latex": [
       "A tibble: 2 × 2\n",
       "\\begin{tabular}{ll}\n",
       " area4 & area\\_sum\\\\\n",
       " <chr> & <dbl>\\\\\n",
       "\\hline\n",
       "\t 7A & 15405\\\\\n",
       "\t 7B &  7070\\\\\n",
       "\\end{tabular}\n"
      ],
      "text/markdown": [
       "\n",
       "A tibble: 2 × 2\n",
       "\n",
       "| area4 &lt;chr&gt; | area_sum &lt;dbl&gt; |\n",
       "|---|---|\n",
       "| 7A | 15405 |\n",
       "| 7B |  7070 |\n",
       "\n"
      ],
      "text/plain": [
       "  area4 area_sum\n",
       "1 7A    15405   \n",
       "2 7B     7070   "
      ]
     },
     "metadata": {},
     "output_type": "display_data"
    }
   ],
   "source": [
    "ref3=read_xlsx('/home/liuyx/liuyuxuan/spa_seurat/cla/speciesCompare/1012_compare_to_cortex/LYX_Cortex_libid_renew.xlsx')\n",
    "colnames(ref3)=c('macaque','macaque_id','a','libID','brain','area1','area4')\n",
    "\n",
    "ref3=ref3[c(54:59),]\n",
    "ref3_sort=ref3[,c('macaque_id','libID','area4')]\n",
    "\n",
    "ref3_sort=left_join(ref3_sort,metaTb_libsum)\n",
    "#ref3_sort=ref3_sort[!is.na(ref3_sort$lib_num),]\n",
    "\n",
    "ref3_sort\n",
    "ref3_sort %>% group_by(area4) %>% summarise(area_sum=sum(lib_num))\n",
    "\n",
    "\n"
   ]
  },
  {
   "cell_type": "code",
   "execution_count": 55,
   "id": "d71b0238",
   "metadata": {},
   "outputs": [],
   "source": [
    "metaTb$num=1\n",
    "metaTb_libsum=metaTb %>% group_by(library) %>% summarise(lib_num=sum(num))\n",
    "colnames(metaTb_libsum)=c('libID','lib_num')\n"
   ]
  },
  {
   "cell_type": "code",
   "execution_count": 56,
   "id": "f4d83b52",
   "metadata": {
    "scrolled": true
   },
   "outputs": [
    {
     "name": "stderr",
     "output_type": "stream",
     "text": [
      "\u001b[1m\u001b[22mJoining, by = \"libID\"\n"
     ]
    },
    {
     "data": {
      "text/html": [
       "<table class=\"dataframe\">\n",
       "<caption>A tibble: 49 × 4</caption>\n",
       "<thead>\n",
       "\t<tr><th scope=col>macaque_id</th><th scope=col>libID</th><th scope=col>area4</th><th scope=col>lib_num</th></tr>\n",
       "\t<tr><th scope=col>&lt;chr&gt;</th><th scope=col>&lt;chr&gt;</th><th scope=col>&lt;chr&gt;</th><th scope=col>&lt;dbl&gt;</th></tr>\n",
       "</thead>\n",
       "<tbody>\n",
       "\t<tr><td>MQC286</td><td>6087-2-220804   </td><td>10</td><td>1913</td></tr>\n",
       "\t<tr><td>Mq179 </td><td>116T143-1-210422</td><td>10</td><td>3398</td></tr>\n",
       "\t<tr><td>MQC286</td><td>6088-1-220804   </td><td>10</td><td>5172</td></tr>\n",
       "\t<tr><td>MQC286</td><td>6088-2-220804   </td><td>10</td><td>4570</td></tr>\n",
       "\t<tr><td>Mq179 </td><td>117T143-2-210422</td><td>10</td><td>3577</td></tr>\n",
       "\t<tr><td>MQC286</td><td>6089-1-220804   </td><td>10</td><td>4904</td></tr>\n",
       "\t<tr><td>MQC286</td><td>6089-2-220804   </td><td>10</td><td>4784</td></tr>\n",
       "\t<tr><td>MQC286</td><td>6118-1-220808   </td><td>24</td><td> 568</td></tr>\n",
       "\t<tr><td>MQC286</td><td>6118-2-220808   </td><td>24</td><td> 854</td></tr>\n",
       "\t<tr><td>MQC286</td><td>6139-1-220808   </td><td>24</td><td>3982</td></tr>\n",
       "\t<tr><td>MQC286</td><td>6139-2-220808   </td><td>24</td><td>4698</td></tr>\n",
       "\t<tr><td>MQC286</td><td>6130-1-220808   </td><td>24</td><td>4886</td></tr>\n",
       "\t<tr><td>MQC286</td><td>6130-2-220808   </td><td>24</td><td>4205</td></tr>\n",
       "\t<tr><td>MQC286</td><td>6134-1-220808   </td><td>24</td><td>3079</td></tr>\n",
       "\t<tr><td>MQC286</td><td>6134-2-220808   </td><td>24</td><td>3568</td></tr>\n",
       "\t<tr><td>MQC286</td><td>6151-1-220808   </td><td>24</td><td>3420</td></tr>\n",
       "\t<tr><td>MQC286</td><td>6151-2-220808   </td><td>24</td><td>3595</td></tr>\n",
       "\t<tr><td>MQC286</td><td>6127-1-220808   </td><td>24</td><td>1709</td></tr>\n",
       "\t<tr><td>MQC286</td><td>6127-2-220808   </td><td>24</td><td>1944</td></tr>\n",
       "\t<tr><td>Mq179 </td><td>1T35-1-210425   </td><td>F1</td><td>4998</td></tr>\n",
       "\t<tr><td>Mq179 </td><td>1T35-2-210425   </td><td>F1</td><td>2394</td></tr>\n",
       "\t<tr><td>Mq179 </td><td>46T37-1-210415  </td><td>F1</td><td>1927</td></tr>\n",
       "\t<tr><td>Mq179 </td><td>46T37-2-210415  </td><td>F1</td><td>1465</td></tr>\n",
       "\t<tr><td>MQC286</td><td>6131-1-220810   </td><td>F1</td><td>2451</td></tr>\n",
       "\t<tr><td>MQC286</td><td>6131-2-220810   </td><td>F1</td><td>2159</td></tr>\n",
       "\t<tr><td>MQC286</td><td>6116-1-220815   </td><td>TE</td><td>2520</td></tr>\n",
       "\t<tr><td>MQC286</td><td>6116-2-220815   </td><td>TE</td><td>2356</td></tr>\n",
       "\t<tr><td>MQC286</td><td>6116-3-220815   </td><td>TE</td><td>4548</td></tr>\n",
       "\t<tr><td>MQC286</td><td>6159-1-220815   </td><td>TE</td><td>2011</td></tr>\n",
       "\t<tr><td>MQC286</td><td>6159-2-220815   </td><td>TE</td><td>4011</td></tr>\n",
       "\t<tr><td>MQC286</td><td>6159-3-220815   </td><td>TE</td><td>5400</td></tr>\n",
       "\t<tr><td>MQC286</td><td>6129-1-220816   </td><td>TE</td><td>2907</td></tr>\n",
       "\t<tr><td>MQC286</td><td>6129-2-220816   </td><td>TE</td><td>4308</td></tr>\n",
       "\t<tr><td>MQC286</td><td>6145-1-220816   </td><td>TE</td><td>3942</td></tr>\n",
       "\t<tr><td>MQC286</td><td>6145-2-220816   </td><td>TE</td><td>3840</td></tr>\n",
       "\t<tr><td>Mq179 </td><td>38T74-1-210419  </td><td>V1</td><td>5292</td></tr>\n",
       "\t<tr><td>Mq179 </td><td>38T74-2-210419  </td><td>V1</td><td>5069</td></tr>\n",
       "\t<tr><td>Mq179 </td><td>42T92-1-210419  </td><td>V1</td><td>4147</td></tr>\n",
       "\t<tr><td>Mq179 </td><td>42T92-2-210419  </td><td>V1</td><td>4957</td></tr>\n",
       "\t<tr><td>Mq179 </td><td>43T92-1-210419  </td><td>V1</td><td>3466</td></tr>\n",
       "\t<tr><td>Mq179 </td><td>43T92-2-210419  </td><td>V1</td><td>3519</td></tr>\n",
       "\t<tr><td>Mq179 </td><td>V1T58-1-210414  </td><td>V1</td><td>2623</td></tr>\n",
       "\t<tr><td>Mq179 </td><td>V1T58-2-210414  </td><td>V1</td><td>2913</td></tr>\n",
       "\t<tr><td>MQC286</td><td>6466-1-220823   </td><td>V1</td><td>3894</td></tr>\n",
       "\t<tr><td>MQC286</td><td>6466-2-220823   </td><td>V1</td><td>3494</td></tr>\n",
       "\t<tr><td>MQC286</td><td>6478-1-220830   </td><td>V1</td><td>7018</td></tr>\n",
       "\t<tr><td>MQC286</td><td>6478-2-220830   </td><td>V1</td><td>2506</td></tr>\n",
       "\t<tr><td>MQC286</td><td>6480-1-220830   </td><td>V1</td><td>3236</td></tr>\n",
       "\t<tr><td>MQC286</td><td>6480-2-220830   </td><td>V1</td><td>6371</td></tr>\n",
       "</tbody>\n",
       "</table>\n"
      ],
      "text/latex": [
       "A tibble: 49 × 4\n",
       "\\begin{tabular}{llll}\n",
       " macaque\\_id & libID & area4 & lib\\_num\\\\\n",
       " <chr> & <chr> & <chr> & <dbl>\\\\\n",
       "\\hline\n",
       "\t MQC286 & 6087-2-220804    & 10 & 1913\\\\\n",
       "\t Mq179  & 116T143-1-210422 & 10 & 3398\\\\\n",
       "\t MQC286 & 6088-1-220804    & 10 & 5172\\\\\n",
       "\t MQC286 & 6088-2-220804    & 10 & 4570\\\\\n",
       "\t Mq179  & 117T143-2-210422 & 10 & 3577\\\\\n",
       "\t MQC286 & 6089-1-220804    & 10 & 4904\\\\\n",
       "\t MQC286 & 6089-2-220804    & 10 & 4784\\\\\n",
       "\t MQC286 & 6118-1-220808    & 24 &  568\\\\\n",
       "\t MQC286 & 6118-2-220808    & 24 &  854\\\\\n",
       "\t MQC286 & 6139-1-220808    & 24 & 3982\\\\\n",
       "\t MQC286 & 6139-2-220808    & 24 & 4698\\\\\n",
       "\t MQC286 & 6130-1-220808    & 24 & 4886\\\\\n",
       "\t MQC286 & 6130-2-220808    & 24 & 4205\\\\\n",
       "\t MQC286 & 6134-1-220808    & 24 & 3079\\\\\n",
       "\t MQC286 & 6134-2-220808    & 24 & 3568\\\\\n",
       "\t MQC286 & 6151-1-220808    & 24 & 3420\\\\\n",
       "\t MQC286 & 6151-2-220808    & 24 & 3595\\\\\n",
       "\t MQC286 & 6127-1-220808    & 24 & 1709\\\\\n",
       "\t MQC286 & 6127-2-220808    & 24 & 1944\\\\\n",
       "\t Mq179  & 1T35-1-210425    & F1 & 4998\\\\\n",
       "\t Mq179  & 1T35-2-210425    & F1 & 2394\\\\\n",
       "\t Mq179  & 46T37-1-210415   & F1 & 1927\\\\\n",
       "\t Mq179  & 46T37-2-210415   & F1 & 1465\\\\\n",
       "\t MQC286 & 6131-1-220810    & F1 & 2451\\\\\n",
       "\t MQC286 & 6131-2-220810    & F1 & 2159\\\\\n",
       "\t MQC286 & 6116-1-220815    & TE & 2520\\\\\n",
       "\t MQC286 & 6116-2-220815    & TE & 2356\\\\\n",
       "\t MQC286 & 6116-3-220815    & TE & 4548\\\\\n",
       "\t MQC286 & 6159-1-220815    & TE & 2011\\\\\n",
       "\t MQC286 & 6159-2-220815    & TE & 4011\\\\\n",
       "\t MQC286 & 6159-3-220815    & TE & 5400\\\\\n",
       "\t MQC286 & 6129-1-220816    & TE & 2907\\\\\n",
       "\t MQC286 & 6129-2-220816    & TE & 4308\\\\\n",
       "\t MQC286 & 6145-1-220816    & TE & 3942\\\\\n",
       "\t MQC286 & 6145-2-220816    & TE & 3840\\\\\n",
       "\t Mq179  & 38T74-1-210419   & V1 & 5292\\\\\n",
       "\t Mq179  & 38T74-2-210419   & V1 & 5069\\\\\n",
       "\t Mq179  & 42T92-1-210419   & V1 & 4147\\\\\n",
       "\t Mq179  & 42T92-2-210419   & V1 & 4957\\\\\n",
       "\t Mq179  & 43T92-1-210419   & V1 & 3466\\\\\n",
       "\t Mq179  & 43T92-2-210419   & V1 & 3519\\\\\n",
       "\t Mq179  & V1T58-1-210414   & V1 & 2623\\\\\n",
       "\t Mq179  & V1T58-2-210414   & V1 & 2913\\\\\n",
       "\t MQC286 & 6466-1-220823    & V1 & 3894\\\\\n",
       "\t MQC286 & 6466-2-220823    & V1 & 3494\\\\\n",
       "\t MQC286 & 6478-1-220830    & V1 & 7018\\\\\n",
       "\t MQC286 & 6478-2-220830    & V1 & 2506\\\\\n",
       "\t MQC286 & 6480-1-220830    & V1 & 3236\\\\\n",
       "\t MQC286 & 6480-2-220830    & V1 & 6371\\\\\n",
       "\\end{tabular}\n"
      ],
      "text/markdown": [
       "\n",
       "A tibble: 49 × 4\n",
       "\n",
       "| macaque_id &lt;chr&gt; | libID &lt;chr&gt; | area4 &lt;chr&gt; | lib_num &lt;dbl&gt; |\n",
       "|---|---|---|---|\n",
       "| MQC286 | 6087-2-220804    | 10 | 1913 |\n",
       "| Mq179  | 116T143-1-210422 | 10 | 3398 |\n",
       "| MQC286 | 6088-1-220804    | 10 | 5172 |\n",
       "| MQC286 | 6088-2-220804    | 10 | 4570 |\n",
       "| Mq179  | 117T143-2-210422 | 10 | 3577 |\n",
       "| MQC286 | 6089-1-220804    | 10 | 4904 |\n",
       "| MQC286 | 6089-2-220804    | 10 | 4784 |\n",
       "| MQC286 | 6118-1-220808    | 24 |  568 |\n",
       "| MQC286 | 6118-2-220808    | 24 |  854 |\n",
       "| MQC286 | 6139-1-220808    | 24 | 3982 |\n",
       "| MQC286 | 6139-2-220808    | 24 | 4698 |\n",
       "| MQC286 | 6130-1-220808    | 24 | 4886 |\n",
       "| MQC286 | 6130-2-220808    | 24 | 4205 |\n",
       "| MQC286 | 6134-1-220808    | 24 | 3079 |\n",
       "| MQC286 | 6134-2-220808    | 24 | 3568 |\n",
       "| MQC286 | 6151-1-220808    | 24 | 3420 |\n",
       "| MQC286 | 6151-2-220808    | 24 | 3595 |\n",
       "| MQC286 | 6127-1-220808    | 24 | 1709 |\n",
       "| MQC286 | 6127-2-220808    | 24 | 1944 |\n",
       "| Mq179  | 1T35-1-210425    | F1 | 4998 |\n",
       "| Mq179  | 1T35-2-210425    | F1 | 2394 |\n",
       "| Mq179  | 46T37-1-210415   | F1 | 1927 |\n",
       "| Mq179  | 46T37-2-210415   | F1 | 1465 |\n",
       "| MQC286 | 6131-1-220810    | F1 | 2451 |\n",
       "| MQC286 | 6131-2-220810    | F1 | 2159 |\n",
       "| MQC286 | 6116-1-220815    | TE | 2520 |\n",
       "| MQC286 | 6116-2-220815    | TE | 2356 |\n",
       "| MQC286 | 6116-3-220815    | TE | 4548 |\n",
       "| MQC286 | 6159-1-220815    | TE | 2011 |\n",
       "| MQC286 | 6159-2-220815    | TE | 4011 |\n",
       "| MQC286 | 6159-3-220815    | TE | 5400 |\n",
       "| MQC286 | 6129-1-220816    | TE | 2907 |\n",
       "| MQC286 | 6129-2-220816    | TE | 4308 |\n",
       "| MQC286 | 6145-1-220816    | TE | 3942 |\n",
       "| MQC286 | 6145-2-220816    | TE | 3840 |\n",
       "| Mq179  | 38T74-1-210419   | V1 | 5292 |\n",
       "| Mq179  | 38T74-2-210419   | V1 | 5069 |\n",
       "| Mq179  | 42T92-1-210419   | V1 | 4147 |\n",
       "| Mq179  | 42T92-2-210419   | V1 | 4957 |\n",
       "| Mq179  | 43T92-1-210419   | V1 | 3466 |\n",
       "| Mq179  | 43T92-2-210419   | V1 | 3519 |\n",
       "| Mq179  | V1T58-1-210414   | V1 | 2623 |\n",
       "| Mq179  | V1T58-2-210414   | V1 | 2913 |\n",
       "| MQC286 | 6466-1-220823    | V1 | 3894 |\n",
       "| MQC286 | 6466-2-220823    | V1 | 3494 |\n",
       "| MQC286 | 6478-1-220830    | V1 | 7018 |\n",
       "| MQC286 | 6478-2-220830    | V1 | 2506 |\n",
       "| MQC286 | 6480-1-220830    | V1 | 3236 |\n",
       "| MQC286 | 6480-2-220830    | V1 | 6371 |\n",
       "\n"
      ],
      "text/plain": [
       "   macaque_id libID            area4 lib_num\n",
       "1  MQC286     6087-2-220804    10    1913   \n",
       "2  Mq179      116T143-1-210422 10    3398   \n",
       "3  MQC286     6088-1-220804    10    5172   \n",
       "4  MQC286     6088-2-220804    10    4570   \n",
       "5  Mq179      117T143-2-210422 10    3577   \n",
       "6  MQC286     6089-1-220804    10    4904   \n",
       "7  MQC286     6089-2-220804    10    4784   \n",
       "8  MQC286     6118-1-220808    24     568   \n",
       "9  MQC286     6118-2-220808    24     854   \n",
       "10 MQC286     6139-1-220808    24    3982   \n",
       "11 MQC286     6139-2-220808    24    4698   \n",
       "12 MQC286     6130-1-220808    24    4886   \n",
       "13 MQC286     6130-2-220808    24    4205   \n",
       "14 MQC286     6134-1-220808    24    3079   \n",
       "15 MQC286     6134-2-220808    24    3568   \n",
       "16 MQC286     6151-1-220808    24    3420   \n",
       "17 MQC286     6151-2-220808    24    3595   \n",
       "18 MQC286     6127-1-220808    24    1709   \n",
       "19 MQC286     6127-2-220808    24    1944   \n",
       "20 Mq179      1T35-1-210425    F1    4998   \n",
       "21 Mq179      1T35-2-210425    F1    2394   \n",
       "22 Mq179      46T37-1-210415   F1    1927   \n",
       "23 Mq179      46T37-2-210415   F1    1465   \n",
       "24 MQC286     6131-1-220810    F1    2451   \n",
       "25 MQC286     6131-2-220810    F1    2159   \n",
       "26 MQC286     6116-1-220815    TE    2520   \n",
       "27 MQC286     6116-2-220815    TE    2356   \n",
       "28 MQC286     6116-3-220815    TE    4548   \n",
       "29 MQC286     6159-1-220815    TE    2011   \n",
       "30 MQC286     6159-2-220815    TE    4011   \n",
       "31 MQC286     6159-3-220815    TE    5400   \n",
       "32 MQC286     6129-1-220816    TE    2907   \n",
       "33 MQC286     6129-2-220816    TE    4308   \n",
       "34 MQC286     6145-1-220816    TE    3942   \n",
       "35 MQC286     6145-2-220816    TE    3840   \n",
       "36 Mq179      38T74-1-210419   V1    5292   \n",
       "37 Mq179      38T74-2-210419   V1    5069   \n",
       "38 Mq179      42T92-1-210419   V1    4147   \n",
       "39 Mq179      42T92-2-210419   V1    4957   \n",
       "40 Mq179      43T92-1-210419   V1    3466   \n",
       "41 Mq179      43T92-2-210419   V1    3519   \n",
       "42 Mq179      V1T58-1-210414   V1    2623   \n",
       "43 Mq179      V1T58-2-210414   V1    2913   \n",
       "44 MQC286     6466-1-220823    V1    3894   \n",
       "45 MQC286     6466-2-220823    V1    3494   \n",
       "46 MQC286     6478-1-220830    V1    7018   \n",
       "47 MQC286     6478-2-220830    V1    2506   \n",
       "48 MQC286     6480-1-220830    V1    3236   \n",
       "49 MQC286     6480-2-220830    V1    6371   "
      ]
     },
     "metadata": {},
     "output_type": "display_data"
    }
   ],
   "source": [
    "ref1_sort=left_join(ref1_sort,metaTb_libsum)\n",
    "ref1_sort=ref1_sort[!is.na(ref1_sort$lib_num),]\n",
    "\n",
    "ref1_sort"
   ]
  },
  {
   "cell_type": "code",
   "execution_count": 57,
   "id": "30ca9d17",
   "metadata": {},
   "outputs": [],
   "source": [
    "ref1_sort_286=ref1_sort[ref1_sort$macaque_id=='MQC286',]\n",
    "ref1_sort_179=ref1_sort[ref1_sort$macaque_id=='Mq179',]\n",
    "ref1_sort_all=ref1_sort\n"
   ]
  },
  {
   "cell_type": "code",
   "execution_count": 58,
   "id": "f8356c35",
   "metadata": {
    "scrolled": true
   },
   "outputs": [
    {
     "data": {
      "text/html": [
       "<table class=\"dataframe\">\n",
       "<caption>A tibble: 5 × 2</caption>\n",
       "<thead>\n",
       "\t<tr><th scope=col>area4</th><th scope=col>area_sum</th></tr>\n",
       "\t<tr><th scope=col>&lt;chr&gt;</th><th scope=col>&lt;dbl&gt;</th></tr>\n",
       "</thead>\n",
       "<tbody>\n",
       "\t<tr><td>10</td><td>21343</td></tr>\n",
       "\t<tr><td>24</td><td>36508</td></tr>\n",
       "\t<tr><td>F1</td><td> 4610</td></tr>\n",
       "\t<tr><td>TE</td><td>35843</td></tr>\n",
       "\t<tr><td>V1</td><td>26519</td></tr>\n",
       "</tbody>\n",
       "</table>\n"
      ],
      "text/latex": [
       "A tibble: 5 × 2\n",
       "\\begin{tabular}{ll}\n",
       " area4 & area\\_sum\\\\\n",
       " <chr> & <dbl>\\\\\n",
       "\\hline\n",
       "\t 10 & 21343\\\\\n",
       "\t 24 & 36508\\\\\n",
       "\t F1 &  4610\\\\\n",
       "\t TE & 35843\\\\\n",
       "\t V1 & 26519\\\\\n",
       "\\end{tabular}\n"
      ],
      "text/markdown": [
       "\n",
       "A tibble: 5 × 2\n",
       "\n",
       "| area4 &lt;chr&gt; | area_sum &lt;dbl&gt; |\n",
       "|---|---|\n",
       "| 10 | 21343 |\n",
       "| 24 | 36508 |\n",
       "| F1 |  4610 |\n",
       "| TE | 35843 |\n",
       "| V1 | 26519 |\n",
       "\n"
      ],
      "text/plain": [
       "  area4 area_sum\n",
       "1 10    21343   \n",
       "2 24    36508   \n",
       "3 F1     4610   \n",
       "4 TE    35843   \n",
       "5 V1    26519   "
      ]
     },
     "metadata": {},
     "output_type": "display_data"
    },
    {
     "data": {
      "text/html": [
       "<table class=\"dataframe\">\n",
       "<caption>A tibble: 3 × 2</caption>\n",
       "<thead>\n",
       "\t<tr><th scope=col>area4</th><th scope=col>area_sum</th></tr>\n",
       "\t<tr><th scope=col>&lt;chr&gt;</th><th scope=col>&lt;dbl&gt;</th></tr>\n",
       "</thead>\n",
       "<tbody>\n",
       "\t<tr><td>10</td><td> 6975</td></tr>\n",
       "\t<tr><td>F1</td><td>10784</td></tr>\n",
       "\t<tr><td>V1</td><td>31986</td></tr>\n",
       "</tbody>\n",
       "</table>\n"
      ],
      "text/latex": [
       "A tibble: 3 × 2\n",
       "\\begin{tabular}{ll}\n",
       " area4 & area\\_sum\\\\\n",
       " <chr> & <dbl>\\\\\n",
       "\\hline\n",
       "\t 10 &  6975\\\\\n",
       "\t F1 & 10784\\\\\n",
       "\t V1 & 31986\\\\\n",
       "\\end{tabular}\n"
      ],
      "text/markdown": [
       "\n",
       "A tibble: 3 × 2\n",
       "\n",
       "| area4 &lt;chr&gt; | area_sum &lt;dbl&gt; |\n",
       "|---|---|\n",
       "| 10 |  6975 |\n",
       "| F1 | 10784 |\n",
       "| V1 | 31986 |\n",
       "\n"
      ],
      "text/plain": [
       "  area4 area_sum\n",
       "1 10     6975   \n",
       "2 F1    10784   \n",
       "3 V1    31986   "
      ]
     },
     "metadata": {},
     "output_type": "display_data"
    },
    {
     "data": {
      "text/html": [
       "<table class=\"dataframe\">\n",
       "<caption>A tibble: 5 × 2</caption>\n",
       "<thead>\n",
       "\t<tr><th scope=col>area4</th><th scope=col>area_sum</th></tr>\n",
       "\t<tr><th scope=col>&lt;chr&gt;</th><th scope=col>&lt;dbl&gt;</th></tr>\n",
       "</thead>\n",
       "<tbody>\n",
       "\t<tr><td>10</td><td>28318</td></tr>\n",
       "\t<tr><td>24</td><td>36508</td></tr>\n",
       "\t<tr><td>F1</td><td>15394</td></tr>\n",
       "\t<tr><td>TE</td><td>35843</td></tr>\n",
       "\t<tr><td>V1</td><td>58505</td></tr>\n",
       "</tbody>\n",
       "</table>\n"
      ],
      "text/latex": [
       "A tibble: 5 × 2\n",
       "\\begin{tabular}{ll}\n",
       " area4 & area\\_sum\\\\\n",
       " <chr> & <dbl>\\\\\n",
       "\\hline\n",
       "\t 10 & 28318\\\\\n",
       "\t 24 & 36508\\\\\n",
       "\t F1 & 15394\\\\\n",
       "\t TE & 35843\\\\\n",
       "\t V1 & 58505\\\\\n",
       "\\end{tabular}\n"
      ],
      "text/markdown": [
       "\n",
       "A tibble: 5 × 2\n",
       "\n",
       "| area4 &lt;chr&gt; | area_sum &lt;dbl&gt; |\n",
       "|---|---|\n",
       "| 10 | 28318 |\n",
       "| 24 | 36508 |\n",
       "| F1 | 15394 |\n",
       "| TE | 35843 |\n",
       "| V1 | 58505 |\n",
       "\n"
      ],
      "text/plain": [
       "  area4 area_sum\n",
       "1 10    28318   \n",
       "2 24    36508   \n",
       "3 F1    15394   \n",
       "4 TE    35843   \n",
       "5 V1    58505   "
      ]
     },
     "metadata": {},
     "output_type": "display_data"
    }
   ],
   "source": [
    "ref1_sort_286 %>% group_by(area4) %>% summarise(area_sum=sum(lib_num))\n",
    "ref1_sort_179 %>% group_by(area4) %>% summarise(area_sum=sum(lib_num))\n",
    "ref1_sort_all %>% group_by(area4) %>% summarise(area_sum=sum(lib_num))\n",
    "\n"
   ]
  },
  {
   "cell_type": "code",
   "execution_count": 77,
   "id": "ac5e0c72",
   "metadata": {
    "scrolled": true
   },
   "outputs": [
    {
     "data": {
      "text/html": [
       "<table class=\"dataframe\">\n",
       "<caption>A tibble: 6 × 4</caption>\n",
       "<thead>\n",
       "\t<tr><th scope=col>macaque_id</th><th scope=col>libID</th><th scope=col>area4</th><th scope=col>lib_num</th></tr>\n",
       "\t<tr><th scope=col>&lt;chr&gt;</th><th scope=col>&lt;chr&gt;</th><th scope=col>&lt;chr&gt;</th><th scope=col>&lt;dbl&gt;</th></tr>\n",
       "</thead>\n",
       "<tbody>\n",
       "\t<tr><td>MQC286</td><td>6451-1-220822</td><td>7A</td><td>3287</td></tr>\n",
       "\t<tr><td>MQC286</td><td>6451-2-220822</td><td>7A</td><td>2982</td></tr>\n",
       "\t<tr><td>MQC286</td><td>6457-1-220822</td><td>7A</td><td>4415</td></tr>\n",
       "\t<tr><td>MQC286</td><td>6457-2-220822</td><td>7A</td><td>4721</td></tr>\n",
       "\t<tr><td>MQC286</td><td>6456-1-220822</td><td>7B</td><td>3806</td></tr>\n",
       "\t<tr><td>MQC286</td><td>6456-2-220822</td><td>7B</td><td>3264</td></tr>\n",
       "</tbody>\n",
       "</table>\n"
      ],
      "text/latex": [
       "A tibble: 6 × 4\n",
       "\\begin{tabular}{llll}\n",
       " macaque\\_id & libID & area4 & lib\\_num\\\\\n",
       " <chr> & <chr> & <chr> & <dbl>\\\\\n",
       "\\hline\n",
       "\t MQC286 & 6451-1-220822 & 7A & 3287\\\\\n",
       "\t MQC286 & 6451-2-220822 & 7A & 2982\\\\\n",
       "\t MQC286 & 6457-1-220822 & 7A & 4415\\\\\n",
       "\t MQC286 & 6457-2-220822 & 7A & 4721\\\\\n",
       "\t MQC286 & 6456-1-220822 & 7B & 3806\\\\\n",
       "\t MQC286 & 6456-2-220822 & 7B & 3264\\\\\n",
       "\\end{tabular}\n"
      ],
      "text/markdown": [
       "\n",
       "A tibble: 6 × 4\n",
       "\n",
       "| macaque_id &lt;chr&gt; | libID &lt;chr&gt; | area4 &lt;chr&gt; | lib_num &lt;dbl&gt; |\n",
       "|---|---|---|---|\n",
       "| MQC286 | 6451-1-220822 | 7A | 3287 |\n",
       "| MQC286 | 6451-2-220822 | 7A | 2982 |\n",
       "| MQC286 | 6457-1-220822 | 7A | 4415 |\n",
       "| MQC286 | 6457-2-220822 | 7A | 4721 |\n",
       "| MQC286 | 6456-1-220822 | 7B | 3806 |\n",
       "| MQC286 | 6456-2-220822 | 7B | 3264 |\n",
       "\n"
      ],
      "text/plain": [
       "  macaque_id libID         area4 lib_num\n",
       "1 MQC286     6451-1-220822 7A    3287   \n",
       "2 MQC286     6451-2-220822 7A    2982   \n",
       "3 MQC286     6457-1-220822 7A    4415   \n",
       "4 MQC286     6457-2-220822 7A    4721   \n",
       "5 MQC286     6456-1-220822 7B    3806   \n",
       "6 MQC286     6456-2-220822 7B    3264   "
      ]
     },
     "metadata": {},
     "output_type": "display_data"
    }
   ],
   "source": [
    "ref3_sort"
   ]
  },
  {
   "cell_type": "code",
   "execution_count": 80,
   "id": "d51aebaa",
   "metadata": {},
   "outputs": [],
   "source": [
    "group_id_10=ref1_sort_all[ref1_sort_all$area4=='10' &\n",
    "                          ref1_sort_all$macaque_id=='MQC286',]$libID\n",
    "group_id_24=ref1_sort_all[ref1_sort_all$area4=='24' &\n",
    "                          ref1_sort_all$macaque_id=='MQC286',]$libID\n",
    "group_id_F1=ref1_sort_all[ref1_sort_all$area4=='F1' ,]$libID\n",
    "group_id_V1=ref1_sort_all[ref1_sort_all$area4=='V1' &\n",
    "                          ref1_sort_all$macaque_id=='MQC286',]$libID\n",
    "group_id_TE=ref1_sort_all[ref1_sort_all$area4=='TE' &\n",
    "                          ref1_sort_all$macaque_id=='MQC286',]$libID\n",
    "group_id_7A=ref3_sort[ref3_sort$area4=='7A' &\n",
    "                          ref3_sort$macaque_id=='MQC286',]$libID\n",
    "\n",
    "\n",
    "\n"
   ]
  },
  {
   "cell_type": "code",
   "execution_count": 81,
   "id": "6da11cf8",
   "metadata": {},
   "outputs": [],
   "source": [
    "group_id_10_meta=metaTb[metaTb$library %in% group_id_10,]\n",
    "group_id_24_meta=metaTb[metaTb$library %in% group_id_24,]\n",
    "group_id_F1_meta=metaTb[metaTb$library %in% group_id_F1,]\n",
    "group_id_V1_meta=metaTb[metaTb$library %in% group_id_V1,]\n",
    "group_id_TE_meta=metaTb[metaTb$library %in% group_id_TE,]\n",
    "group_id_7A_meta=metaTb[metaTb$library %in% group_id_7A,]\n"
   ]
  },
  {
   "cell_type": "code",
   "execution_count": 83,
   "id": "e380ef2d",
   "metadata": {},
   "outputs": [
    {
     "data": {
      "text/html": [
       "21343"
      ],
      "text/latex": [
       "21343"
      ],
      "text/markdown": [
       "21343"
      ],
      "text/plain": [
       "[1] 21343"
      ]
     },
     "metadata": {},
     "output_type": "display_data"
    },
    {
     "data": {
      "text/html": [
       "36508"
      ],
      "text/latex": [
       "36508"
      ],
      "text/markdown": [
       "36508"
      ],
      "text/plain": [
       "[1] 36508"
      ]
     },
     "metadata": {},
     "output_type": "display_data"
    },
    {
     "data": {
      "text/html": [
       "15394"
      ],
      "text/latex": [
       "15394"
      ],
      "text/markdown": [
       "15394"
      ],
      "text/plain": [
       "[1] 15394"
      ]
     },
     "metadata": {},
     "output_type": "display_data"
    },
    {
     "data": {
      "text/html": [
       "26519"
      ],
      "text/latex": [
       "26519"
      ],
      "text/markdown": [
       "26519"
      ],
      "text/plain": [
       "[1] 26519"
      ]
     },
     "metadata": {},
     "output_type": "display_data"
    },
    {
     "data": {
      "text/html": [
       "35843"
      ],
      "text/latex": [
       "35843"
      ],
      "text/markdown": [
       "35843"
      ],
      "text/plain": [
       "[1] 35843"
      ]
     },
     "metadata": {},
     "output_type": "display_data"
    },
    {
     "data": {
      "text/html": [
       "15405"
      ],
      "text/latex": [
       "15405"
      ],
      "text/markdown": [
       "15405"
      ],
      "text/plain": [
       "[1] 15405"
      ]
     },
     "metadata": {},
     "output_type": "display_data"
    }
   ],
   "source": [
    "\n",
    "nrow(group_id_10_meta)\n",
    "nrow(group_id_24_meta)\n",
    "nrow(group_id_F1_meta)\n",
    "nrow(group_id_V1_meta)\n",
    "nrow(group_id_TE_meta)\n",
    "nrow(group_id_7A_meta)\n"
   ]
  },
  {
   "cell_type": "code",
   "execution_count": 89,
   "id": "b0e2b32d",
   "metadata": {},
   "outputs": [
    {
     "data": {
      "text/html": [
       "<table class=\"dataframe\">\n",
       "<caption>A tibble: 6 × 8</caption>\n",
       "<thead>\n",
       "\t<tr><th scope=col>CellID</th><th scope=col>library</th><th scope=col>brain_area</th><th scope=col>source</th><th scope=col>Class</th><th scope=col>SubClass</th><th scope=col>Cluster</th><th scope=col>num</th></tr>\n",
       "\t<tr><th scope=col>&lt;chr&gt;</th><th scope=col>&lt;chr&gt;</th><th scope=col>&lt;chr&gt;</th><th scope=col>&lt;chr&gt;</th><th scope=col>&lt;chr&gt;</th><th scope=col>&lt;chr&gt;</th><th scope=col>&lt;chr&gt;</th><th scope=col>&lt;dbl&gt;</th></tr>\n",
       "</thead>\n",
       "<tbody>\n",
       "\t<tr><td>CELL279_N3_6087-2-220804 </td><td>6087-2-220804</td><td>10mc</td><td>Macaca_V2</td><td>ASC</td><td>ASC</td><td>ASC-16</td><td>1</td></tr>\n",
       "\t<tr><td>CELL1714_N1_6087-2-220804</td><td>6087-2-220804</td><td>10mc</td><td>Macaca_V2</td><td>ASC</td><td>ASC</td><td>ASC-16</td><td>1</td></tr>\n",
       "\t<tr><td>CELL5217_N1_6088-1-220804</td><td>6088-1-220804</td><td>10mr</td><td>Macaca_V2</td><td>ASC</td><td>ASC</td><td>ASC-16</td><td>1</td></tr>\n",
       "\t<tr><td>CELL3105_N1_6088-1-220804</td><td>6088-1-220804</td><td>10mr</td><td>Macaca_V2</td><td>ASC</td><td>ASC</td><td>ASC-16</td><td>1</td></tr>\n",
       "\t<tr><td>CELL4601_N1_6088-1-220804</td><td>6088-1-220804</td><td>10mr</td><td>Macaca_V2</td><td>ASC</td><td>ASC</td><td>ASC-16</td><td>1</td></tr>\n",
       "\t<tr><td>CELL2261_N1_6088-1-220804</td><td>6088-1-220804</td><td>10mr</td><td>Macaca_V2</td><td>ASC</td><td>ASC</td><td>ASC-16</td><td>1</td></tr>\n",
       "</tbody>\n",
       "</table>\n"
      ],
      "text/latex": [
       "A tibble: 6 × 8\n",
       "\\begin{tabular}{llllllll}\n",
       " CellID & library & brain\\_area & source & Class & SubClass & Cluster & num\\\\\n",
       " <chr> & <chr> & <chr> & <chr> & <chr> & <chr> & <chr> & <dbl>\\\\\n",
       "\\hline\n",
       "\t CELL279\\_N3\\_6087-2-220804  & 6087-2-220804 & 10mc & Macaca\\_V2 & ASC & ASC & ASC-16 & 1\\\\\n",
       "\t CELL1714\\_N1\\_6087-2-220804 & 6087-2-220804 & 10mc & Macaca\\_V2 & ASC & ASC & ASC-16 & 1\\\\\n",
       "\t CELL5217\\_N1\\_6088-1-220804 & 6088-1-220804 & 10mr & Macaca\\_V2 & ASC & ASC & ASC-16 & 1\\\\\n",
       "\t CELL3105\\_N1\\_6088-1-220804 & 6088-1-220804 & 10mr & Macaca\\_V2 & ASC & ASC & ASC-16 & 1\\\\\n",
       "\t CELL4601\\_N1\\_6088-1-220804 & 6088-1-220804 & 10mr & Macaca\\_V2 & ASC & ASC & ASC-16 & 1\\\\\n",
       "\t CELL2261\\_N1\\_6088-1-220804 & 6088-1-220804 & 10mr & Macaca\\_V2 & ASC & ASC & ASC-16 & 1\\\\\n",
       "\\end{tabular}\n"
      ],
      "text/markdown": [
       "\n",
       "A tibble: 6 × 8\n",
       "\n",
       "| CellID &lt;chr&gt; | library &lt;chr&gt; | brain_area &lt;chr&gt; | source &lt;chr&gt; | Class &lt;chr&gt; | SubClass &lt;chr&gt; | Cluster &lt;chr&gt; | num &lt;dbl&gt; |\n",
       "|---|---|---|---|---|---|---|---|\n",
       "| CELL279_N3_6087-2-220804  | 6087-2-220804 | 10mc | Macaca_V2 | ASC | ASC | ASC-16 | 1 |\n",
       "| CELL1714_N1_6087-2-220804 | 6087-2-220804 | 10mc | Macaca_V2 | ASC | ASC | ASC-16 | 1 |\n",
       "| CELL5217_N1_6088-1-220804 | 6088-1-220804 | 10mr | Macaca_V2 | ASC | ASC | ASC-16 | 1 |\n",
       "| CELL3105_N1_6088-1-220804 | 6088-1-220804 | 10mr | Macaca_V2 | ASC | ASC | ASC-16 | 1 |\n",
       "| CELL4601_N1_6088-1-220804 | 6088-1-220804 | 10mr | Macaca_V2 | ASC | ASC | ASC-16 | 1 |\n",
       "| CELL2261_N1_6088-1-220804 | 6088-1-220804 | 10mr | Macaca_V2 | ASC | ASC | ASC-16 | 1 |\n",
       "\n"
      ],
      "text/plain": [
       "  CellID                    library       brain_area source    Class SubClass\n",
       "1 CELL279_N3_6087-2-220804  6087-2-220804 10mc       Macaca_V2 ASC   ASC     \n",
       "2 CELL1714_N1_6087-2-220804 6087-2-220804 10mc       Macaca_V2 ASC   ASC     \n",
       "3 CELL5217_N1_6088-1-220804 6088-1-220804 10mr       Macaca_V2 ASC   ASC     \n",
       "4 CELL3105_N1_6088-1-220804 6088-1-220804 10mr       Macaca_V2 ASC   ASC     \n",
       "5 CELL4601_N1_6088-1-220804 6088-1-220804 10mr       Macaca_V2 ASC   ASC     \n",
       "6 CELL2261_N1_6088-1-220804 6088-1-220804 10mr       Macaca_V2 ASC   ASC     \n",
       "  Cluster num\n",
       "1 ASC-16  1  \n",
       "2 ASC-16  1  \n",
       "3 ASC-16  1  \n",
       "4 ASC-16  1  \n",
       "5 ASC-16  1  \n",
       "6 ASC-16  1  "
      ]
     },
     "metadata": {},
     "output_type": "display_data"
    }
   ],
   "source": [
    "head(group_id_10_meta)"
   ]
  },
  {
   "cell_type": "code",
   "execution_count": 95,
   "id": "44472d34",
   "metadata": {},
   "outputs": [
    {
     "data": {
      "text/html": [
       "104"
      ],
      "text/latex": [
       "104"
      ],
      "text/markdown": [
       "104"
      ],
      "text/plain": [
       "[1] 104"
      ]
     },
     "metadata": {},
     "output_type": "display_data"
    },
    {
     "data": {
      "text/html": [
       "18889"
      ],
      "text/latex": [
       "18889"
      ],
      "text/markdown": [
       "18889"
      ],
      "text/plain": [
       "[1] 18889"
      ]
     },
     "metadata": {},
     "output_type": "display_data"
    },
    {
     "data": {
      "text/html": [
       "<style>\n",
       ".list-inline {list-style: none; margin:0; padding: 0}\n",
       ".list-inline>li {display: inline-block}\n",
       ".list-inline>li:not(:last-child)::after {content: \"\\00b7\"; padding: 0 .5ex}\n",
       "</style>\n",
       "<ol class=list-inline><li>'ASC-4'</li><li>'ASC-11'</li><li>'OPC-0'</li></ol>\n"
      ],
      "text/latex": [
       "\\begin{enumerate*}\n",
       "\\item 'ASC-4'\n",
       "\\item 'ASC-11'\n",
       "\\item 'OPC-0'\n",
       "\\end{enumerate*}\n"
      ],
      "text/markdown": [
       "1. 'ASC-4'\n",
       "2. 'ASC-11'\n",
       "3. 'OPC-0'\n",
       "\n",
       "\n"
      ],
      "text/plain": [
       "[1] \"ASC-4\"  \"ASC-11\" \"OPC-0\" "
      ]
     },
     "metadata": {},
     "output_type": "display_data"
    },
    {
     "data": {
      "text/html": [
       "142"
      ],
      "text/latex": [
       "142"
      ],
      "text/markdown": [
       "142"
      ],
      "text/plain": [
       "[1] 142"
      ]
     },
     "metadata": {},
     "output_type": "display_data"
    },
    {
     "data": {
      "text/html": [
       "34310"
      ],
      "text/latex": [
       "34310"
      ],
      "text/markdown": [
       "34310"
      ],
      "text/plain": [
       "[1] 34310"
      ]
     },
     "metadata": {},
     "output_type": "display_data"
    },
    {
     "data": {
      "text/html": [
       "<style>\n",
       ".list-inline {list-style: none; margin:0; padding: 0}\n",
       ".list-inline>li {display: inline-block}\n",
       ".list-inline>li:not(:last-child)::after {content: \"\\00b7\"; padding: 0 .5ex}\n",
       "</style>\n",
       "<ol class=list-inline><li>'ASC-4'</li><li>'ASC-5'</li><li>'ASC-11'</li><li>'ASC-23'</li><li>'OLG-10'</li><li>'OLG-13'</li><li>'OPC-0'</li></ol>\n"
      ],
      "text/latex": [
       "\\begin{enumerate*}\n",
       "\\item 'ASC-4'\n",
       "\\item 'ASC-5'\n",
       "\\item 'ASC-11'\n",
       "\\item 'ASC-23'\n",
       "\\item 'OLG-10'\n",
       "\\item 'OLG-13'\n",
       "\\item 'OPC-0'\n",
       "\\end{enumerate*}\n"
      ],
      "text/markdown": [
       "1. 'ASC-4'\n",
       "2. 'ASC-5'\n",
       "3. 'ASC-11'\n",
       "4. 'ASC-23'\n",
       "5. 'OLG-10'\n",
       "6. 'OLG-13'\n",
       "7. 'OPC-0'\n",
       "\n",
       "\n"
      ],
      "text/plain": [
       "[1] \"ASC-4\"  \"ASC-5\"  \"ASC-11\" \"ASC-23\" \"OLG-10\" \"OLG-13\" \"OPC-0\" "
      ]
     },
     "metadata": {},
     "output_type": "display_data"
    },
    {
     "data": {
      "text/html": [
       "75"
      ],
      "text/latex": [
       "75"
      ],
      "text/markdown": [
       "75"
      ],
      "text/plain": [
       "[1] 75"
      ]
     },
     "metadata": {},
     "output_type": "display_data"
    },
    {
     "data": {
      "text/html": [
       "12060"
      ],
      "text/latex": [
       "12060"
      ],
      "text/markdown": [
       "12060"
      ],
      "text/plain": [
       "[1] 12060"
      ]
     },
     "metadata": {},
     "output_type": "display_data"
    },
    {
     "data": {
      "text/html": [
       "<style>\n",
       ".list-inline {list-style: none; margin:0; padding: 0}\n",
       ".list-inline>li {display: inline-block}\n",
       ".list-inline>li:not(:last-child)::after {content: \"\\00b7\"; padding: 0 .5ex}\n",
       "</style>\n",
       "<ol class=list-inline><li>'ASC-20'</li><li>'ASC-2'</li><li>'ASC-3'</li><li>'ASC-5'</li><li>'ASC-7'</li><li>'ASC-26'</li><li>'EC-22'</li><li>'MG-15'</li><li>'OLG-6'</li><li>'OLG-10'</li><li>'OLG-13'</li><li>'OLG-19'</li><li>'OLG-25'</li><li>'OLG-29'</li><li>'OLG-30'</li><li>'OPC-0'</li></ol>\n"
      ],
      "text/latex": [
       "\\begin{enumerate*}\n",
       "\\item 'ASC-20'\n",
       "\\item 'ASC-2'\n",
       "\\item 'ASC-3'\n",
       "\\item 'ASC-5'\n",
       "\\item 'ASC-7'\n",
       "\\item 'ASC-26'\n",
       "\\item 'EC-22'\n",
       "\\item 'MG-15'\n",
       "\\item 'OLG-6'\n",
       "\\item 'OLG-10'\n",
       "\\item 'OLG-13'\n",
       "\\item 'OLG-19'\n",
       "\\item 'OLG-25'\n",
       "\\item 'OLG-29'\n",
       "\\item 'OLG-30'\n",
       "\\item 'OPC-0'\n",
       "\\end{enumerate*}\n"
      ],
      "text/markdown": [
       "1. 'ASC-20'\n",
       "2. 'ASC-2'\n",
       "3. 'ASC-3'\n",
       "4. 'ASC-5'\n",
       "5. 'ASC-7'\n",
       "6. 'ASC-26'\n",
       "7. 'EC-22'\n",
       "8. 'MG-15'\n",
       "9. 'OLG-6'\n",
       "10. 'OLG-10'\n",
       "11. 'OLG-13'\n",
       "12. 'OLG-19'\n",
       "13. 'OLG-25'\n",
       "14. 'OLG-29'\n",
       "15. 'OLG-30'\n",
       "16. 'OPC-0'\n",
       "\n",
       "\n"
      ],
      "text/plain": [
       " [1] \"ASC-20\" \"ASC-2\"  \"ASC-3\"  \"ASC-5\"  \"ASC-7\"  \"ASC-26\" \"EC-22\"  \"MG-15\" \n",
       " [9] \"OLG-6\"  \"OLG-10\" \"OLG-13\" \"OLG-19\" \"OLG-25\" \"OLG-29\" \"OLG-30\" \"OPC-0\" "
      ]
     },
     "metadata": {},
     "output_type": "display_data"
    },
    {
     "data": {
      "text/html": [
       "67"
      ],
      "text/latex": [
       "67"
      ],
      "text/markdown": [
       "67"
      ],
      "text/plain": [
       "[1] 67"
      ]
     },
     "metadata": {},
     "output_type": "display_data"
    },
    {
     "data": {
      "text/html": [
       "24395"
      ],
      "text/latex": [
       "24395"
      ],
      "text/markdown": [
       "24395"
      ],
      "text/plain": [
       "[1] 24395"
      ]
     },
     "metadata": {},
     "output_type": "display_data"
    },
    {
     "data": {
      "text/html": [
       "<style>\n",
       ".list-inline {list-style: none; margin:0; padding: 0}\n",
       ".list-inline>li {display: inline-block}\n",
       ".list-inline>li:not(:last-child)::after {content: \"\\00b7\"; padding: 0 .5ex}\n",
       "</style>\n",
       "<ol class=list-inline><li>'ASC-16'</li><li>'ASC-34'</li><li>'ASC-2'</li><li>'ASC-7'</li><li>'ASC-26'</li><li>'ASC-11'</li><li>'ASC-32'</li><li>'OLG-6'</li><li>'OLG-10'</li><li>'OLG-13'</li><li>'OLG-25'</li><li>'OPC-0'</li></ol>\n"
      ],
      "text/latex": [
       "\\begin{enumerate*}\n",
       "\\item 'ASC-16'\n",
       "\\item 'ASC-34'\n",
       "\\item 'ASC-2'\n",
       "\\item 'ASC-7'\n",
       "\\item 'ASC-26'\n",
       "\\item 'ASC-11'\n",
       "\\item 'ASC-32'\n",
       "\\item 'OLG-6'\n",
       "\\item 'OLG-10'\n",
       "\\item 'OLG-13'\n",
       "\\item 'OLG-25'\n",
       "\\item 'OPC-0'\n",
       "\\end{enumerate*}\n"
      ],
      "text/markdown": [
       "1. 'ASC-16'\n",
       "2. 'ASC-34'\n",
       "3. 'ASC-2'\n",
       "4. 'ASC-7'\n",
       "5. 'ASC-26'\n",
       "6. 'ASC-11'\n",
       "7. 'ASC-32'\n",
       "8. 'OLG-6'\n",
       "9. 'OLG-10'\n",
       "10. 'OLG-13'\n",
       "11. 'OLG-25'\n",
       "12. 'OPC-0'\n",
       "\n",
       "\n"
      ],
      "text/plain": [
       " [1] \"ASC-16\" \"ASC-34\" \"ASC-2\"  \"ASC-7\"  \"ASC-26\" \"ASC-11\" \"ASC-32\" \"OLG-6\" \n",
       " [9] \"OLG-10\" \"OLG-13\" \"OLG-25\" \"OPC-0\" "
      ]
     },
     "metadata": {},
     "output_type": "display_data"
    },
    {
     "data": {
      "text/html": [
       "145"
      ],
      "text/latex": [
       "145"
      ],
      "text/markdown": [
       "145"
      ],
      "text/plain": [
       "[1] 145"
      ]
     },
     "metadata": {},
     "output_type": "display_data"
    },
    {
     "data": {
      "text/html": [
       "33547"
      ],
      "text/latex": [
       "33547"
      ],
      "text/markdown": [
       "33547"
      ],
      "text/plain": [
       "[1] 33547"
      ]
     },
     "metadata": {},
     "output_type": "display_data"
    },
    {
     "data": {
      "text/html": [
       "<style>\n",
       ".list-inline {list-style: none; margin:0; padding: 0}\n",
       ".list-inline>li {display: inline-block}\n",
       ".list-inline>li:not(:last-child)::after {content: \"\\00b7\"; padding: 0 .5ex}\n",
       "</style>\n",
       "<ol class=list-inline><li>'ASC-5'</li><li>'ASC-7'</li><li>'ASC-11'</li><li>'OPC-0'</li></ol>\n"
      ],
      "text/latex": [
       "\\begin{enumerate*}\n",
       "\\item 'ASC-5'\n",
       "\\item 'ASC-7'\n",
       "\\item 'ASC-11'\n",
       "\\item 'OPC-0'\n",
       "\\end{enumerate*}\n"
      ],
      "text/markdown": [
       "1. 'ASC-5'\n",
       "2. 'ASC-7'\n",
       "3. 'ASC-11'\n",
       "4. 'OPC-0'\n",
       "\n",
       "\n"
      ],
      "text/plain": [
       "[1] \"ASC-5\"  \"ASC-7\"  \"ASC-11\" \"OPC-0\" "
      ]
     },
     "metadata": {},
     "output_type": "display_data"
    },
    {
     "data": {
      "text/html": [
       "73"
      ],
      "text/latex": [
       "73"
      ],
      "text/markdown": [
       "73"
      ],
      "text/plain": [
       "[1] 73"
      ]
     },
     "metadata": {},
     "output_type": "display_data"
    },
    {
     "data": {
      "text/html": [
       "12257"
      ],
      "text/latex": [
       "12257"
      ],
      "text/markdown": [
       "12257"
      ],
      "text/plain": [
       "[1] 12257"
      ]
     },
     "metadata": {},
     "output_type": "display_data"
    },
    {
     "data": {
      "text/html": [],
      "text/latex": [],
      "text/markdown": [],
      "text/plain": [
       "character(0)"
      ]
     },
     "metadata": {},
     "output_type": "display_data"
    }
   ],
   "source": [
    "df=as.data.frame(table(group_id_10_meta$Cluster))\n",
    "sel_n=df[df$Freq>50,]$Var1\n",
    "group_id_10_meta=group_id_10_meta[group_id_10_meta$Cluster %in% sel_n,]\n",
    "length(unique(group_id_10_meta$Cluster))\n",
    "nrow(group_id_10_meta)\n",
    "\n",
    "all_n=unique(group_id_10_meta$Cluster)\n",
    "setdiff(all_n,c(all_n[grep('EX',all_n)],all_n[grep('IN',all_n)]))\n",
    "\n",
    "df=as.data.frame(table(group_id_24_meta$Cluster))\n",
    "sel_n=df[df$Freq>50,]$Var1\n",
    "group_id_24_meta=group_id_24_meta[group_id_24_meta$Cluster %in% sel_n,]\n",
    "length(unique(group_id_24_meta$Cluster))\n",
    "nrow(group_id_24_meta)\n",
    "all_n=unique(group_id_24_meta$Cluster)\n",
    "setdiff(all_n,c(all_n[grep('EX',all_n)],all_n[grep('IN',all_n)]))\n",
    "\n",
    "df=as.data.frame(table(group_id_F1_meta$Cluster))\n",
    "sel_n=df[df$Freq>50,]$Var1\n",
    "group_id_F1_meta=group_id_F1_meta[group_id_F1_meta$Cluster %in% sel_n,]\n",
    "length(unique(group_id_F1_meta$Cluster))\n",
    "nrow(group_id_F1_meta)\n",
    "all_n=unique(group_id_F1_meta$Cluster)\n",
    "setdiff(all_n,c(all_n[grep('EX',all_n)],all_n[grep('IN',all_n)]))\n",
    "\n",
    "df=as.data.frame(table(group_id_V1_meta$Cluster))\n",
    "sel_n=df[df$Freq>50,]$Var1\n",
    "group_id_V1_meta=group_id_V1_meta[group_id_V1_meta$Cluster %in% sel_n,]\n",
    "length(unique(group_id_V1_meta$Cluster))\n",
    "nrow(group_id_V1_meta)\n",
    "all_n=unique(group_id_V1_meta$Cluster)\n",
    "setdiff(all_n,c(all_n[grep('EX',all_n)],all_n[grep('IN',all_n)]))\n",
    "\n",
    "\n",
    "\n",
    "df=as.data.frame(table(group_id_TE_meta$Cluster))\n",
    "sel_n=df[df$Freq>50,]$Var1\n",
    "group_id_TE_meta=group_id_TE_meta[group_id_TE_meta$Cluster %in% sel_n,]\n",
    "length(unique(group_id_TE_meta$Cluster))\n",
    "nrow(group_id_TE_meta)\n",
    "all_n=unique(group_id_TE_meta$Cluster)\n",
    "setdiff(all_n,c(all_n[grep('EX',all_n)],all_n[grep('IN',all_n)]))\n",
    "\n",
    "\n",
    "\n",
    "df=as.data.frame(table(group_id_7A_meta$Cluster))\n",
    "sel_n=df[df$Freq>50,]$Var1\n",
    "group_id_7A_meta=group_id_7A_meta[group_id_7A_meta$Cluster %in% sel_n,]\n",
    "length(unique(group_id_7A_meta$Cluster))\n",
    "nrow(group_id_7A_meta)\n",
    "all_n=unique(group_id_7A_meta$Cluster)\n",
    "setdiff(all_n,c(all_n[grep('EX',all_n)],all_n[grep('IN',all_n)]))\n",
    "\n",
    "\n",
    "\n",
    "\n",
    "\n"
   ]
  },
  {
   "cell_type": "code",
   "execution_count": null,
   "id": "e2c77d3f",
   "metadata": {},
   "outputs": [],
   "source": []
  },
  {
   "cell_type": "code",
   "execution_count": 97,
   "id": "093ef7a5",
   "metadata": {},
   "outputs": [
    {
     "data": {
      "text/html": [
       "18709"
      ],
      "text/latex": [
       "18709"
      ],
      "text/markdown": [
       "18709"
      ],
      "text/plain": [
       "[1] 18709"
      ]
     },
     "metadata": {},
     "output_type": "display_data"
    },
    {
     "data": {
      "text/html": [
       "33406"
      ],
      "text/latex": [
       "33406"
      ],
      "text/markdown": [
       "33406"
      ],
      "text/plain": [
       "[1] 33406"
      ]
     },
     "metadata": {},
     "output_type": "display_data"
    },
    {
     "data": {
      "text/html": [
       "9112"
      ],
      "text/latex": [
       "9112"
      ],
      "text/markdown": [
       "9112"
      ],
      "text/plain": [
       "[1] 9112"
      ]
     },
     "metadata": {},
     "output_type": "display_data"
    },
    {
     "data": {
      "text/html": [
       "23009"
      ],
      "text/latex": [
       "23009"
      ],
      "text/markdown": [
       "23009"
      ],
      "text/plain": [
       "[1] 23009"
      ]
     },
     "metadata": {},
     "output_type": "display_data"
    },
    {
     "data": {
      "text/html": [
       "33136"
      ],
      "text/latex": [
       "33136"
      ],
      "text/markdown": [
       "33136"
      ],
      "text/plain": [
       "[1] 33136"
      ]
     },
     "metadata": {},
     "output_type": "display_data"
    },
    {
     "data": {
      "text/html": [
       "12257"
      ],
      "text/latex": [
       "12257"
      ],
      "text/markdown": [
       "12257"
      ],
      "text/plain": [
       "[1] 12257"
      ]
     },
     "metadata": {},
     "output_type": "display_data"
    }
   ],
   "source": [
    "df=as.data.frame(table(group_id_10_meta$Cluster))\n",
    "all_n=unique(group_id_10_meta$Cluster)\n",
    "sel=c(all_n[grep('EX',all_n)],all_n[grep('IN',all_n)])\n",
    "group_id_10_meta=group_id_10_meta[group_id_10_meta$Cluster %in% sel,]\n",
    "nrow(group_id_10_meta)\n",
    "\n",
    "df=as.data.frame(table(group_id_24_meta$Cluster))\n",
    "all_n=unique(group_id_24_meta$Cluster)\n",
    "sel=c(all_n[grep('EX',all_n)],all_n[grep('IN',all_n)])\n",
    "group_id_24_meta=group_id_24_meta[group_id_24_meta$Cluster %in% sel,]\n",
    "nrow(group_id_24_meta)\n",
    "\n",
    "df=as.data.frame(table(group_id_F1_meta$Cluster))\n",
    "all_n=unique(group_id_F1_meta$Cluster)\n",
    "sel=c(all_n[grep('EX',all_n)],all_n[grep('IN',all_n)])\n",
    "group_id_F1_meta=group_id_F1_meta[group_id_F1_meta$Cluster %in% sel,]\n",
    "nrow(group_id_F1_meta)\n",
    "\n",
    "df=as.data.frame(table(group_id_V1_meta$Cluster))\n",
    "all_n=unique(group_id_V1_meta$Cluster)\n",
    "sel=c(all_n[grep('EX',all_n)],all_n[grep('IN',all_n)])\n",
    "group_id_V1_meta=group_id_V1_meta[group_id_V1_meta$Cluster %in% sel,]\n",
    "nrow(group_id_V1_meta)\n",
    "\n",
    "df=as.data.frame(table(group_id_TE_meta$Cluster))\n",
    "all_n=unique(group_id_TE_meta$Cluster)\n",
    "sel=c(all_n[grep('EX',all_n)],all_n[grep('IN',all_n)])\n",
    "group_id_TE_meta=group_id_TE_meta[group_id_TE_meta$Cluster %in% sel,]\n",
    "nrow(group_id_TE_meta)\n",
    "\n",
    "df=as.data.frame(table(group_id_7A_meta$Cluster))\n",
    "all_n=unique(group_id_7A_meta$Cluster)\n",
    "sel=c(all_n[grep('EX',all_n)],all_n[grep('IN',all_n)])\n",
    "group_id_7A_meta=group_id_7A_meta[group_id_7A_meta$Cluster %in% sel,]\n",
    "nrow(group_id_7A_meta)"
   ]
  },
  {
   "cell_type": "code",
   "execution_count": null,
   "id": "de3bca94",
   "metadata": {},
   "outputs": [],
   "source": []
  },
  {
   "cell_type": "code",
   "execution_count": 98,
   "id": "7a9cf5ad",
   "metadata": {},
   "outputs": [],
   "source": [
    "outdir='/home/liuyx/liuyuxuan/spa_seurat/cla/speciesCompare/1012_compare_to_cortex/data/'\n",
    "write.csv(group_id_10_meta,paste0(outdir,'cortex_10.csv'))\n",
    "write.csv(group_id_24_meta,paste0(outdir,'cortex_24.csv'))\n",
    "write.csv(group_id_F1_meta,paste0(outdir,'cortex_F1.csv'))\n",
    "write.csv(group_id_V1_meta,paste0(outdir,'cortex_V1.csv'))\n",
    "write.csv(group_id_TE_meta,paste0(outdir,'cortex_TE.csv'))\n",
    "write.csv(group_id_7A_meta,paste0(outdir,'cortex_7A.csv'))\n",
    "\n"
   ]
  },
  {
   "cell_type": "code",
   "execution_count": 100,
   "id": "6bca195a",
   "metadata": {
    "scrolled": true
   },
   "outputs": [
    {
     "data": {
      "text/plain": [
       "Class: H5D\n",
       "Dataset: /matrix\n",
       "Filename: /home/liuyx/liuyuxuan/spa_seurat/cla/speciesCompare/1012_compare_to_cortex/data/macaque_cortex_F1.loom\n",
       "Access type: H5F_ACC_RDONLY\n",
       "Datatype: H5T_IEEE_F32LE\n",
       "Space: Type=Simple     Dims=9112 x 21970     Maxdims=Inf x 21970\n",
       "Chunk: 64 x 64"
      ]
     },
     "metadata": {},
     "output_type": "display_data"
    },
    {
     "name": "stderr",
     "output_type": "stream",
     "text": [
      "Reading in /matrix\n",
      "\n",
      "Storing /matrix as counts\n",
      "\n",
      "Saving /matrix to assay 'RNA'\n",
      "\n"
     ]
    },
    {
     "data": {
      "text/plain": [
       "An object of class Seurat \n",
       "21970 features across 9112 samples within 1 assay \n",
       "Active assay: RNA (21970 features, 0 variable features)"
      ]
     },
     "metadata": {},
     "output_type": "display_data"
    }
   ],
   "source": [
    "loom.file = Connect(filename = paste0(\"/home/liuyx/liuyuxuan/spa_seurat/cla/speciesCompare/1012_compare_to_cortex/data/macaque_cortex_F1.loom\"), mode=\"r\")\n",
    "loom.file[[\"matrix\"]]\n",
    "macaqueSeurat = as.Seurat(loom.file)\n",
    "loom.file$close_all()\n",
    "macaqueSeurat\n",
    "#saveRDS(macaqueSeurat,'/home/liuyx/liuyuxuan/spa_seurat/cla/speciesCompare/1012_compare_to_cortex/data/cortex_F1.rds')\n",
    "\n"
   ]
  },
  {
   "cell_type": "code",
   "execution_count": 102,
   "id": "656deb16",
   "metadata": {
    "scrolled": true
   },
   "outputs": [
    {
     "name": "stderr",
     "output_type": "stream",
     "text": [
      "Calculating cell attributes from input UMI matrix: log_umi\n",
      "\n",
      "Variance stabilizing transformation of count matrix of size 18463 by 9112\n",
      "\n",
      "Model formula is y ~ log_umi\n",
      "\n",
      "Get Negative Binomial regression parameters per gene\n",
      "\n",
      "Using 2000 genes, 9112 cells\n",
      "\n"
     ]
    },
    {
     "name": "stdout",
     "output_type": "stream",
     "text": [
      "  |======================================================================| 100%\n"
     ]
    },
    {
     "name": "stderr",
     "output_type": "stream",
     "text": [
      "Second step: Get residuals using fitted parameters for 18463 genes\n",
      "\n"
     ]
    },
    {
     "name": "stdout",
     "output_type": "stream",
     "text": [
      "  |======================================================================| 100%\n"
     ]
    },
    {
     "name": "stderr",
     "output_type": "stream",
     "text": [
      "Computing corrected count matrix for 18463 genes\n",
      "\n"
     ]
    },
    {
     "name": "stdout",
     "output_type": "stream",
     "text": [
      "  |======================================================================| 100%\n"
     ]
    },
    {
     "name": "stderr",
     "output_type": "stream",
     "text": [
      "Calculating gene attributes\n",
      "\n",
      "Wall clock passed: Time difference of 1.500502 mins\n",
      "\n",
      "Determine variable features\n",
      "\n",
      "Place corrected count matrix in counts slot\n",
      "\n",
      "Centering data matrix\n",
      "\n",
      "Set default assay to SCT\n",
      "\n",
      "Computing nearest neighbor graph\n",
      "\n",
      "Computing SNN\n",
      "\n",
      "Warning message:\n",
      "“The default method for RunUMAP has changed from calling Python UMAP via reticulate to the R-native UWOT using the cosine metric\n",
      "To use Python UMAP via reticulate, set umap.method to 'umap-learn' and metric to 'correlation'\n",
      "This message will be shown once per session”\n",
      "15:49:04 UMAP embedding parameters a = 0.9922 b = 1.112\n",
      "\n",
      "15:49:04 Read 9112 rows and found 30 numeric columns\n",
      "\n",
      "15:49:04 Using Annoy for neighbor search, n_neighbors = 30\n",
      "\n",
      "15:49:04 Building Annoy index with metric = cosine, n_trees = 50\n",
      "\n",
      "0%   10   20   30   40   50   60   70   80   90   100%\n",
      "\n",
      "[----|----|----|----|----|----|----|----|----|----|\n",
      "\n",
      "*\n",
      "*\n",
      "*\n",
      "*\n",
      "*\n",
      "*\n",
      "*\n",
      "*\n",
      "*\n",
      "*\n",
      "*\n",
      "*\n",
      "*\n",
      "*\n",
      "*\n",
      "*\n",
      "*\n",
      "*\n",
      "*\n",
      "*\n",
      "*\n",
      "*\n",
      "*\n",
      "*\n",
      "*\n",
      "*\n",
      "*\n",
      "*\n",
      "*\n",
      "*\n",
      "*\n",
      "*\n",
      "*\n",
      "*\n",
      "*\n",
      "*\n",
      "*\n",
      "*\n",
      "*\n",
      "*\n",
      "*\n",
      "*\n",
      "*\n",
      "*\n",
      "*\n",
      "*\n",
      "*\n",
      "*\n",
      "*\n",
      "*\n",
      "|\n",
      "\n",
      "15:49:05 Writing NN index file to temp file /tmp/RtmpxxIWX9/file9b624f1a5b95\n",
      "\n",
      "15:49:05 Searching Annoy index using 1 thread, search_k = 3000\n",
      "\n",
      "15:49:07 Annoy recall = 100%\n",
      "\n",
      "15:49:08 Commencing smooth kNN distance calibration using 1 thread\n",
      " with target n_neighbors = 30\n",
      "\n",
      "15:49:10 Initializing from normalized Laplacian + noise (using irlba)\n",
      "\n",
      "15:49:11 Commencing optimization for 500 epochs, with 391918 positive edges\n",
      "\n",
      "15:49:38 Optimization finished\n",
      "\n"
     ]
    },
    {
     "data": {
      "text/plain": [
       "An object of class Seurat \n",
       "40433 features across 9112 samples within 2 assays \n",
       "Active assay: SCT (18463 features, 3000 variable features)\n",
       " 1 other assay present: RNA\n",
       " 2 dimensional reductions calculated: pca, umap"
      ]
     },
     "metadata": {},
     "output_type": "display_data"
    }
   ],
   "source": [
    "seurat=macaqueSeurat\n",
    "\n",
    "seurat = SCTransform(\n",
    "    seurat, assay=\"RNA\",\n",
    "    ncells=ncol(seurat[[\"RNA\"]]), \n",
    "    variable.features.n=3000,\n",
    "    return.only.var.genes = F,\n",
    "    method = \"glmGamPoi\"\n",
    ") %>%\n",
    "    RunPCA(verbose = FALSE) %>%\n",
    "    FindNeighbors(dims = 1:30) %>%\n",
    "    FindClusters(verbose = FALSE) %>%\n",
    "    RunUMAP(dims = 1:30)\n",
    "return(seurat)"
   ]
  },
  {
   "cell_type": "code",
   "execution_count": 110,
   "id": "209b7b42",
   "metadata": {
    "scrolled": true
   },
   "outputs": [
    {
     "name": "stderr",
     "output_type": "stream",
     "text": [
      "Harmony 1/10\n",
      "\n",
      "Harmony 2/10\n",
      "\n",
      "Harmony 3/10\n",
      "\n",
      "Harmony 4/10\n",
      "\n",
      "Harmony 5/10\n",
      "\n",
      "Harmony 6/10\n",
      "\n",
      "Harmony converged after 6 iterations\n",
      "\n",
      "Warning message:\n",
      "“Invalid name supplied, making object name syntactically valid. New object name is Seurat..ProjectDim.SCT.harmony; see ?make.names for more details on syntax validity”\n",
      "Computing nearest neighbor graph\n",
      "\n",
      "Computing SNN\n",
      "\n",
      "15:57:20 UMAP embedding parameters a = 0.9922 b = 1.112\n",
      "\n",
      "15:57:20 Read 9112 rows and found 50 numeric columns\n",
      "\n",
      "15:57:20 Using Annoy for neighbor search, n_neighbors = 30\n",
      "\n",
      "15:57:20 Building Annoy index with metric = cosine, n_trees = 50\n",
      "\n",
      "0%   10   20   30   40   50   60   70   80   90   100%\n",
      "\n",
      "[----|----|----|----|----|----|----|----|----|----|\n",
      "\n",
      "*\n",
      "*\n",
      "*\n",
      "*\n",
      "*\n",
      "*\n",
      "*\n",
      "*\n",
      "*\n",
      "*\n",
      "*\n",
      "*\n",
      "*\n",
      "*\n",
      "*\n",
      "*\n",
      "*\n",
      "*\n",
      "*\n",
      "*\n",
      "*\n",
      "*\n",
      "*\n",
      "*\n",
      "*\n",
      "*\n",
      "*\n",
      "*\n",
      "*\n",
      "*\n",
      "*\n",
      "*\n",
      "*\n",
      "*\n",
      "*\n",
      "*\n",
      "*\n",
      "*\n",
      "*\n",
      "*\n",
      "*\n",
      "*\n",
      "*\n",
      "*\n",
      "*\n",
      "*\n",
      "*\n",
      "*\n",
      "*\n",
      "*\n",
      "|\n",
      "\n",
      "15:57:21 Writing NN index file to temp file /tmp/RtmpxxIWX9/file9b6229aabd97\n",
      "\n",
      "15:57:21 Searching Annoy index using 1 thread, search_k = 3000\n",
      "\n",
      "15:57:23 Annoy recall = 100%\n",
      "\n",
      "15:57:24 Commencing smooth kNN distance calibration using 1 thread\n",
      " with target n_neighbors = 30\n",
      "\n",
      "15:57:26 Initializing from normalized Laplacian + noise (using irlba)\n",
      "\n",
      "15:57:27 Commencing optimization for 500 epochs, with 409494 positive edges\n",
      "\n",
      "15:57:54 Optimization finished\n",
      "\n"
     ]
    },
    {
     "data": {
      "text/plain": [
       "An object of class Seurat \n",
       "40433 features across 9112 samples within 2 assays \n",
       "Active assay: SCT (18463 features, 3000 variable features)\n",
       " 1 other assay present: RNA\n",
       " 3 dimensional reductions calculated: pca, umap, harmony"
      ]
     },
     "metadata": {},
     "output_type": "display_data"
    },
    {
     "data": {
      "image/png": "[encoded data removed]",
      "text/plain": [
       "plot without title"
      ]
     },
     "metadata": {
      "image/png": {
       "height": 150,
       "width": 360
      }
     },
     "output_type": "display_data"
    }
   ],
   "source": [
    "# Run harmony\n",
    "DefaultAssay(seurat) = \"SCT\"\n",
    "options(repr.plot.width=6, repr.plot.height=2.5)\n",
    "seurat = RunHarmony(\n",
    "seurat, group.by.vars=\"source\", plot_convergence=T,\n",
    "assay.use=\"SCT\", reduction = \"pca\", dims.use=1:50\n",
    ")\n",
    "seurat = seurat %>%\n",
    "FindNeighbors(reduction=\"harmony\", dims = 1:50) %>%\n",
    "FindClusters(verbose = FALSE) %>%\n",
    "RunUMAP(reduction=\"harmony\", dims = 1:50)\n",
    "return(seurat)\n"
   ]
  },
  {
   "cell_type": "code",
   "execution_count": 112,
   "id": "6d56bb2c",
   "metadata": {},
   "outputs": [
    {
     "data": {
      "image/png": "[encoded data removed]",
      "text/plain": [
       "plot without title"
      ]
     },
     "metadata": {
      "image/png": {
       "height": 300,
       "width": 300
      }
     },
     "output_type": "display_data"
    }
   ],
   "source": [
    "options(repr.plot.width=5, repr.plot.height=5)\n",
    "\n",
    "DimPlot(seurat, reduction=\"umap\", group.by=\"source\",label=T)+coord_fixed()+NoLegend()+ggtitle(\"Insular\")\n",
    "\n",
    "        \n"
   ]
  },
  {
   "cell_type": "code",
   "execution_count": 108,
   "id": "34b924c3",
   "metadata": {},
   "outputs": [
    {
     "data": {
      "text/html": [
       "<style>\n",
       ".list-inline {list-style: none; margin:0; padding: 0}\n",
       ".list-inline>li {display: inline-block}\n",
       ".list-inline>li:not(:last-child)::after {content: \"\\00b7\"; padding: 0 .5ex}\n",
       "</style>\n",
       "<ol class=list-inline><li>'Macaca_V1'</li><li>'Macaca_V2'</li></ol>\n"
      ],
      "text/latex": [
       "\\begin{enumerate*}\n",
       "\\item 'Macaca\\_V1'\n",
       "\\item 'Macaca\\_V2'\n",
       "\\end{enumerate*}\n"
      ],
      "text/markdown": [
       "1. 'Macaca_V1'\n",
       "2. 'Macaca_V2'\n",
       "\n",
       "\n"
      ],
      "text/plain": [
       "[1] \"Macaca_V1\" \"Macaca_V2\""
      ]
     },
     "metadata": {},
     "output_type": "display_data"
    }
   ],
   "source": [
    "unique(seurat@meta.data$source)"
   ]
  },
  {
   "cell_type": "code",
   "execution_count": 109,
   "id": "d0156519",
   "metadata": {},
   "outputs": [
    {
     "data": {
      "image/png": "[encoded data removed]",
      "text/plain": [
       "plot without title"
      ]
     },
     "metadata": {
      "image/png": {
       "height": 420,
       "width": 420
      }
     },
     "output_type": "display_data"
    }
   ],
   "source": [
    "DimPlot(seurat, reduction=\"umap\", group.by=\"source\",label=T)+coord_fixed()+NoLegend()+ggtitle(\"Insular\")\n",
    "\n",
    "        \n"
   ]
  },
  {
   "cell_type": "code",
   "execution_count": 113,
   "id": "796073a0",
   "metadata": {},
   "outputs": [],
   "source": [
    "saveRDS(macaqueSeurat,'/home/liuyx/liuyuxuan/spa_seurat/cla/speciesCompare/1012_compare_to_cortex/data/cortex_F1.rds')\n"
   ]
  },
  {
   "cell_type": "code",
   "execution_count": null,
   "id": "c2cb3828",
   "metadata": {},
   "outputs": [],
   "source": []
  },
  {
   "cell_type": "code",
   "execution_count": 115,
   "id": "d7c0ee04",
   "metadata": {},
   "outputs": [
    {
     "data": {
      "text/plain": [
       "Class: H5D\n",
       "Dataset: /matrix\n",
       "Filename: /home/liuyx/liuyuxuan/spa_seurat/cla/speciesCompare/1012_compare_to_cortex/data/macaque_cortex_V1.loom\n",
       "Access type: H5F_ACC_RDONLY\n",
       "Datatype: H5T_IEEE_F32LE\n",
       "Space: Type=Simple     Dims=23009 x 21970     Maxdims=Inf x 21970\n",
       "Chunk: 64 x 64"
      ]
     },
     "metadata": {},
     "output_type": "display_data"
    },
    {
     "name": "stderr",
     "output_type": "stream",
     "text": [
      "Reading in /matrix\n",
      "\n",
      "Storing /matrix as counts\n",
      "\n",
      "Saving /matrix to assay 'RNA'\n",
      "\n"
     ]
    },
    {
     "data": {
      "text/plain": [
       "An object of class Seurat \n",
       "21970 features across 23009 samples within 1 assay \n",
       "Active assay: RNA (21970 features, 0 variable features)"
      ]
     },
     "metadata": {},
     "output_type": "display_data"
    }
   ],
   "source": [
    "loom.file = Connect(filename = paste0(\"/home/liuyx/liuyuxuan/spa_seurat/cla/speciesCompare/1012_compare_to_cortex/data/macaque_cortex_V1.loom\"), mode=\"r\")\n",
    "loom.file[[\"matrix\"]]\n",
    "macaqueSeurat = as.Seurat(loom.file)\n",
    "loom.file$close_all()\n",
    "macaqueSeurat\n",
    "saveRDS(macaqueSeurat,'/home/liuyx/liuyuxuan/spa_seurat/cla/speciesCompare/1012_compare_to_cortex/data/cortex_V1.rds')\n"
   ]
  },
  {
   "cell_type": "code",
   "execution_count": 118,
   "id": "3dad0b5d",
   "metadata": {},
   "outputs": [
    {
     "name": "stderr",
     "output_type": "stream",
     "text": [
      "Reading in /matrix\n",
      "\n",
      "Storing /matrix as counts\n",
      "\n",
      "Saving /matrix to assay 'RNA'\n",
      "\n",
      "Reading in /matrix\n",
      "\n",
      "Storing /matrix as counts\n",
      "\n",
      "Saving /matrix to assay 'RNA'\n",
      "\n",
      "Reading in /matrix\n",
      "\n",
      "Storing /matrix as counts\n",
      "\n",
      "Saving /matrix to assay 'RNA'\n",
      "\n",
      "Reading in /matrix\n",
      "\n",
      "Storing /matrix as counts\n",
      "\n",
      "Saving /matrix to assay 'RNA'\n",
      "\n"
     ]
    }
   ],
   "source": [
    "for(i in c('10','24','7A','TE')){\n",
    "    loom.file = Connect(filename = paste0(\"/home/liuyx/liuyuxuan/spa_seurat/cla/speciesCompare/1012_compare_to_cortex/data/macaque_cortex_\",i,\".loom\"), mode=\"r\")\n",
    "    loom.file[[\"matrix\"]]\n",
    "    macaqueSeurat = as.Seurat(loom.file)\n",
    "    loom.file$close_all()\n",
    "    macaqueSeurat\n",
    "    saveRDS(macaqueSeurat,paste0('/home/liuyx/liuyuxuan/spa_seurat/cla/speciesCompare/1012_compare_to_cortex/data/cortex_',i,'.rds'))\n",
    "\n",
    "}"
   ]
  },
  {
   "cell_type": "code",
   "execution_count": null,
   "id": "2c013558",
   "metadata": {},
   "outputs": [],
   "source": []
  },
  {
   "cell_type": "code",
   "execution_count": null,
   "id": "72782162",
   "metadata": {},
   "outputs": [],
   "source": []
  }
 ],
 "metadata": {
  "kernelspec": {
   "display_name": "R",
   "language": "R",
   "name": "ir"
  },
  "language_info": {
   "codemirror_mode": "r",
   "file_extension": ".r",
   "mimetype": "text/x-r-source",
   "name": "R",
   "pygments_lexer": "r",
   "version": "4.1.3"
  }
 },
 "nbformat": 4,
 "nbformat_minor": 5
}
