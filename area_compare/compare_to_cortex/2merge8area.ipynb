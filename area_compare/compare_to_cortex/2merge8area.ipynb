{
 "cells": [
  {
   "cell_type": "code",
   "execution_count": 1,
   "id": "517ac37d",
   "metadata": {},
   "outputs": [],
   "source": [
    "suppressMessages(library(tidyverse))\n",
    "suppressMessages(library(parallel))\n",
    "suppressMessages(library(Seurat))\n",
    "suppressMessages(library(patchwork))\n",
    "suppressMessages(library(Matrix))\n",
    "suppressMessages(library(viridis))\n",
    "suppressMessages(library(cowplot))\n",
    "suppressMessages(library(ggsci))\n",
    "suppressMessages(library(pheatmap))\n",
    "suppressMessages(library(RColorBrewer))\n",
    "suppressMessages(library(reshape2))\n",
    "suppressMessages(library(LSD))\n",
    "suppressMessages(library(readxl))\n",
    "suppressMessages(library(ggrepel))\n",
    "suppressMessages(library(harmony))\n",
    "suppressMessages(library(scrattch.hicat))\n",
    "options(future.globals.maxSize= 891289600 * 16)\n"
   ]
  },
  {
   "cell_type": "code",
   "execution_count": 2,
   "id": "795dd76d",
   "metadata": {},
   "outputs": [],
   "source": [
    "cotex_dir='/home/liuyx/liuyuxuan/spa_seurat/cla/speciesCompare/1012_compare_to_cortex/data/'\n",
    "cotex_10=readRDS(paste0(cotex_dir,'cortex_10.rds'))\n",
    "cotex_24=readRDS(paste0(cotex_dir,'cortex_24.rds'))\n",
    "cotex_7A=readRDS(paste0(cotex_dir,'cortex_7A.rds'))\n",
    "cotex_F1=readRDS(paste0(cotex_dir,'cortex_F1.rds'))\n",
    "cotex_TE=readRDS(paste0(cotex_dir,'cortex_TE.rds'))\n",
    "cotex_V1=readRDS(paste0(cotex_dir,'cortex_V1.rds'))\n",
    "\n"
   ]
  },
  {
   "cell_type": "code",
   "execution_count": 3,
   "id": "9fd71779",
   "metadata": {},
   "outputs": [],
   "source": [
    "\n",
    "cla=readRDS('/home/liuyx/liuyuxuan/spa_seurat/cla/macaca/sn_0821_renew_batch3_all/batch_normalize_renew_1031/dif_res_anno1/final_anno/1.1_res0.9_res0.15_finalanno.rds')\n",
    "datadir1='/home/liuyx/liuyuxuan/spa_seurat/cla/speciesCompare/Insular_renew_1016/dif_res_anno/'\n",
    "insu = readRDS(paste0(datadir1,'Insular_final_anno_res11.rds'))\n"
   ]
  },
  {
   "cell_type": "code",
   "execution_count": 36,
   "id": "9475bd76",
   "metadata": {},
   "outputs": [],
   "source": [
    "Idents(cotex_10)='Cluster'\n",
    "cotex_10=subset(cotex_10,downsample=170)\n",
    "Idents(cotex_24)='Cluster'\n",
    "cotex_24=subset(cotex_24,downsample=100)\n",
    "Idents(cotex_TE)='Cluster'\n",
    "cotex_TE=subset(cotex_TE,downsample=100)\n",
    "Idents(cotex_V1)='Cluster'\n",
    "cotex_V1=subset(cotex_V1,downsample=600)\n",
    "cotex_7A=cotex_7A\n",
    "cotex_F1=cotex_F1\n"
   ]
  },
  {
   "cell_type": "code",
   "execution_count": 37,
   "id": "d2de4cfb",
   "metadata": {},
   "outputs": [],
   "source": [
    "Idents(cla)='Subclass'\n",
    "cla=subset(cla,downsample=200)\n",
    "Idents(insu)='Subclass'\n",
    "insu=subset(insu,downsample=200)\n",
    "\n"
   ]
  },
  {
   "cell_type": "code",
   "execution_count": 38,
   "id": "e8e1be3f",
   "metadata": {},
   "outputs": [
    {
     "data": {
      "text/plain": [
       "An object of class Seurat \n",
       "21970 features across 12603 samples within 1 assay \n",
       "Active assay: RNA (21970 features, 0 variable features)"
      ]
     },
     "metadata": {},
     "output_type": "display_data"
    },
    {
     "data": {
      "text/plain": [
       "An object of class Seurat \n",
       "21970 features across 12434 samples within 1 assay \n",
       "Active assay: RNA (21970 features, 0 variable features)"
      ]
     },
     "metadata": {},
     "output_type": "display_data"
    },
    {
     "data": {
      "text/plain": [
       "An object of class Seurat \n",
       "21970 features across 12834 samples within 1 assay \n",
       "Active assay: RNA (21970 features, 0 variable features)"
      ]
     },
     "metadata": {},
     "output_type": "display_data"
    },
    {
     "data": {
      "text/plain": [
       "An object of class Seurat \n",
       "21970 features across 12217 samples within 1 assay \n",
       "Active assay: RNA (21970 features, 0 variable features)"
      ]
     },
     "metadata": {},
     "output_type": "display_data"
    },
    {
     "data": {
      "text/plain": [
       "An object of class Seurat \n",
       "21970 features across 12257 samples within 1 assay \n",
       "Active assay: RNA (21970 features, 0 variable features)"
      ]
     },
     "metadata": {},
     "output_type": "display_data"
    },
    {
     "data": {
      "text/plain": [
       "An object of class Seurat \n",
       "21970 features across 9112 samples within 1 assay \n",
       "Active assay: RNA (21970 features, 0 variable features)"
      ]
     },
     "metadata": {},
     "output_type": "display_data"
    },
    {
     "data": {
      "text/plain": [
       "An object of class Seurat \n",
       "43122 features across 12200 samples within 2 assays \n",
       "Active assay: SCT (21159 features, 5000 variable features)\n",
       " 1 other assay present: RNA\n",
       " 2 dimensional reductions calculated: pca, umap"
      ]
     },
     "metadata": {},
     "output_type": "display_data"
    },
    {
     "data": {
      "text/plain": [
       "An object of class Seurat \n",
       "45146 features across 12000 samples within 2 assays \n",
       "Active assay: SCT (21916 features, 3000 variable features)\n",
       " 1 other assay present: RNA\n",
       " 3 dimensional reductions calculated: pca, umap, harmony"
      ]
     },
     "metadata": {},
     "output_type": "display_data"
    }
   ],
   "source": [
    "cotex_10\n",
    "cotex_24\n",
    "cotex_TE\n",
    "cotex_V1\n",
    "cotex_7A\n",
    "cotex_F1\n",
    "cla\n",
    "insu"
   ]
  },
  {
   "cell_type": "code",
   "execution_count": 42,
   "id": "f10bb816",
   "metadata": {},
   "outputs": [
    {
     "data": {
      "text/plain": [
       "\n",
       "     Clastrum_Astrocytes_0      Clastrum_Astrocytes_1 \n",
       "                       200                        200 \n",
       "     Clastrum_Astrocytes_2      Clastrum_Astrocytes_3 \n",
       "                       200                        200 \n",
       "     Clastrum_Astrocytes_4      Clastrum_Endotheial_0 \n",
       "                       200                        200 \n",
       "   Clastrum_Excit_Neuron_0    Clastrum_Excit_Neuron_1 \n",
       "                       200                        200 \n",
       "  Clastrum_Excit_Neuron_10   Clastrum_Excit_Neuron_11 \n",
       "                       200                        200 \n",
       "  Clastrum_Excit_Neuron_12   Clastrum_Excit_Neuron_13 \n",
       "                       200                        200 \n",
       "  Clastrum_Excit_Neuron_14   Clastrum_Excit_Neuron_15 \n",
       "                       200                        200 \n",
       "  Clastrum_Excit_Neuron_16   Clastrum_Excit_Neuron_17 \n",
       "                       200                        200 \n",
       "  Clastrum_Excit_Neuron_18   Clastrum_Excit_Neuron_19 \n",
       "                       200                        200 \n",
       "   Clastrum_Excit_Neuron_2   Clastrum_Excit_Neuron_20 \n",
       "                       200                        200 \n",
       "  Clastrum_Excit_Neuron_21   Clastrum_Excit_Neuron_22 \n",
       "                       200                        200 \n",
       "  Clastrum_Excit_Neuron_23   Clastrum_Excit_Neuron_24 \n",
       "                       200                        200 \n",
       "  Clastrum_Excit_Neuron_25    Clastrum_Excit_Neuron_3 \n",
       "                       200                        200 \n",
       "   Clastrum_Excit_Neuron_4    Clastrum_Excit_Neuron_5 \n",
       "                       200                        200 \n",
       "   Clastrum_Excit_Neuron_6    Clastrum_Excit_Neuron_7 \n",
       "                       200                        200 \n",
       "   Clastrum_Excit_Neuron_8    Clastrum_Excit_Neuron_9 \n",
       "                       200                        200 \n",
       " Clastrum_Inhibit_Neuron_0  Clastrum_Inhibit_Neuron_1 \n",
       "                       200                        200 \n",
       "Clastrum_Inhibit_Neuron_10 Clastrum_Inhibit_Neuron_11 \n",
       "                       200                        200 \n",
       "Clastrum_Inhibit_Neuron_12 Clastrum_Inhibit_Neuron_13 \n",
       "                       200                        200 \n",
       "Clastrum_Inhibit_Neuron_14 Clastrum_Inhibit_Neuron_15 \n",
       "                       200                        200 \n",
       " Clastrum_Inhibit_Neuron_2  Clastrum_Inhibit_Neuron_3 \n",
       "                       200                        200 \n",
       " Clastrum_Inhibit_Neuron_4  Clastrum_Inhibit_Neuron_5 \n",
       "                       200                        200 \n",
       " Clastrum_Inhibit_Neuron_6  Clastrum_Inhibit_Neuron_7 \n",
       "                       200                        200 \n",
       " Clastrum_Inhibit_Neuron_8  Clastrum_Inhibit_Neuron_9 \n",
       "                       200                        200 \n",
       "      Clastrum_Microglia_0       Clastrum_Microglia_1 \n",
       "                       200                        200 \n",
       "            Clastrum_MSN_0             Clastrum_MSN_1 \n",
       "                       200                        200 \n",
       "            Clastrum_MSN_2           Clastrum_Oligo_0 \n",
       "                       200                        200 \n",
       "          Clastrum_Oligo_1           Clastrum_Oligo_2 \n",
       "                       200                        200 \n",
       "          Clastrum_Oligo_3           Clastrum_Oligo_4 \n",
       "                       200                        200 \n",
       "            Clastrum_OPC_0             Clastrum_OPC_1 \n",
       "                       200                        200 \n",
       "            Clastrum_OPC_2 \n",
       "                       200 "
      ]
     },
     "metadata": {},
     "output_type": "display_data"
    },
    {
     "data": {
      "text/plain": [
       "\n",
       "    Cortex_10_EX-L2-51  Cortex_10_EX-L2-L3-19  Cortex_10_EX-L2-L3-39 \n",
       "                   170                    106                    170 \n",
       " Cortex_10_EX-L2-L3-43  Cortex_10_EX-L2-L3-85  Cortex_10_EX-L2-L3-98 \n",
       "                   170                    170                    131 \n",
       " Cortex_10_EX-L2-L3-99 Cortex_10_EX-L2-L4-105  Cortex_10_EX-L2-L4-81 \n",
       "                   112                    170                    170 \n",
       " Cortex_10_EX-L2-L4-82     Cortex_10_EX-L3-21     Cortex_10_EX-L3-23 \n",
       "                    80                    170                    139 \n",
       "    Cortex_10_EX-L3-25     Cortex_10_EX-L3-26     Cortex_10_EX-L3-31 \n",
       "                   170                     65                    154 \n",
       "    Cortex_10_EX-L3-33     Cortex_10_EX-L3-34     Cortex_10_EX-L3-38 \n",
       "                   136                    170                    170 \n",
       "    Cortex_10_EX-L3-44      Cortex_10_EX-L3-5     Cortex_10_EX-L3-54 \n",
       "                   111                    170                    170 \n",
       "    Cortex_10_EX-L3-60      Cortex_10_EX-L3-7     Cortex_10_EX-L3-84 \n",
       "                    86                    170                    170 \n",
       "    Cortex_10_EX-L3-89     Cortex_10_EX-L3-94  Cortex_10_EX-L3-L4-12 \n",
       "                   143                     67                    170 \n",
       " Cortex_10_EX-L3-L4-13  Cortex_10_EX-L3-L4-16  Cortex_10_EX-L3-L4-37 \n",
       "                   170                    129                    170 \n",
       " Cortex_10_EX-L3-L4-42  Cortex_10_EX-L3-L4-86  Cortex_10_EX-L3-L4-96 \n",
       "                   170                    120                     62 \n",
       "     Cortex_10_EX-L4-0    Cortex_10_EX-L4-102     Cortex_10_EX-L4-11 \n",
       "                   170                     63                    170 \n",
       "    Cortex_10_EX-L4-14     Cortex_10_EX-L4-17      Cortex_10_EX-L4-2 \n",
       "                   170                    170                    170 \n",
       "    Cortex_10_EX-L4-22     Cortex_10_EX-L4-27     Cortex_10_EX-L4-53 \n",
       "                   170                     67                    152 \n",
       "    Cortex_10_EX-L4-55     Cortex_10_EX-L4-59     Cortex_10_EX-L4-83 \n",
       "                   170                    110                    145 \n",
       "    Cortex_10_EX-L4-90  Cortex_10_EX-L4-L5-24   Cortex_10_EX-L4-L5-4 \n",
       "                    54                    139                    170 \n",
       " Cortex_10_EX-L4-L5-47  Cortex_10_EX-L4-L5-67  Cortex_10_EX-L4-L5-80 \n",
       "                   170                    123                     83 \n",
       "  Cortex_10_EX-L4-L5-9  Cortex_10_EX-L4-L6-18  Cortex_10_EX-L4-L6-48 \n",
       "                   169                    170                    109 \n",
       " Cortex_10_EX-L4-L6-70     Cortex_10_EX-L5-10     Cortex_10_EX-L5-32 \n",
       "                   137                    170                    170 \n",
       "    Cortex_10_EX-L5-49  Cortex_10_EX-L5-L6-28  Cortex_10_EX-L5-L6-45 \n",
       "                   170                    166                    170 \n",
       " Cortex_10_EX-L5-L6-62  Cortex_10_EX-L5-L6-68  Cortex_10_EX-L5-L6-73 \n",
       "                   117                    170                    170 \n",
       "     Cortex_10_EX-L6-1     Cortex_10_EX-L6-15     Cortex_10_EX-L6-30 \n",
       "                   170                    151                    121 \n",
       "    Cortex_10_EX-L6-57      Cortex_10_EX-L6-6     Cortex_10_EX-L6-65 \n",
       "                   170                    121                    145 \n",
       "     Cortex_10_EX-L6-8   Cortex_10_IN-LAMP5-1   Cortex_10_IN-LAMP5-4 \n",
       "                   123                    107                    170 \n",
       "Cortex_10_IN-PV_CHC-10 Cortex_10_IN-PV_CHC-11 Cortex_10_IN-PV_CHC-38 \n",
       "                    62                     57                     71 \n",
       " Cortex_10_IN-PVALB-13  Cortex_10_IN-PVALB-26  Cortex_10_IN-PVALB-28 \n",
       "                    70                     51                    152 \n",
       " Cortex_10_IN-PVALB-34  Cortex_10_IN-PVALB-50  Cortex_10_IN-PVALB-53 \n",
       "                    71                     55                    107 \n",
       " Cortex_10_IN-PVALB-69   Cortex_10_IN-PVALB-7  Cortex_10_IN-PVALB-73 \n",
       "                    72                    130                     74 \n",
       "  Cortex_10_IN-RELN-15   Cortex_10_IN-RELN-27   Cortex_10_IN-RELN-36 \n",
       "                    87                     63                     65 \n",
       "   Cortex_10_IN-RELN-5   Cortex_10_IN-RELN-55   Cortex_10_IN-RELN-57 \n",
       "                   128                     59                     53 \n",
       "  Cortex_10_IN-RELN-67    Cortex_10_IN-SST-17    Cortex_10_IN-SST-23 \n",
       "                    56                     65                     64 \n",
       "    Cortex_10_IN-SST-3    Cortex_10_IN-SST-32    Cortex_10_IN-SST-43 \n",
       "                   121                     95                     98 \n",
       "   Cortex_10_IN-SST-74     Cortex_10_IN-SST-8    Cortex_10_IN-VIP-12 \n",
       "                    62                     71                     92 \n",
       "   Cortex_10_IN-VIP-20     Cortex_10_IN-VIP-9 \n",
       "                    61                     58 "
      ]
     },
     "metadata": {},
     "output_type": "display_data"
    },
    {
     "data": {
      "text/plain": [
       "\n",
       "     Insular_Astrocytes_0      Insular_Astrocytes_1      Insular_Astrocytes_2 \n",
       "                      200                       200                       200 \n",
       "   Insular_Excit_Neuron_0    Insular_Excit_Neuron_1   Insular_Excit_Neuron_10 \n",
       "                      200                       200                       200 \n",
       "  Insular_Excit_Neuron_11   Insular_Excit_Neuron_12   Insular_Excit_Neuron_13 \n",
       "                      200                       200                       200 \n",
       "  Insular_Excit_Neuron_14   Insular_Excit_Neuron_15   Insular_Excit_Neuron_16 \n",
       "                      200                       200                       200 \n",
       "  Insular_Excit_Neuron_17   Insular_Excit_Neuron_18   Insular_Excit_Neuron_19 \n",
       "                      200                       200                       200 \n",
       "   Insular_Excit_Neuron_2   Insular_Excit_Neuron_20   Insular_Excit_Neuron_21 \n",
       "                      200                       200                       200 \n",
       "  Insular_Excit_Neuron_22   Insular_Excit_Neuron_23   Insular_Excit_Neuron_24 \n",
       "                      200                       200                       200 \n",
       "  Insular_Excit_Neuron_25   Insular_Excit_Neuron_26   Insular_Excit_Neuron_27 \n",
       "                      200                       200                       200 \n",
       "  Insular_Excit_Neuron_28   Insular_Excit_Neuron_29    Insular_Excit_Neuron_3 \n",
       "                      200                       200                       200 \n",
       "  Insular_Excit_Neuron_30   Insular_Excit_Neuron_31    Insular_Excit_Neuron_4 \n",
       "                      200                       200                       200 \n",
       "   Insular_Excit_Neuron_5    Insular_Excit_Neuron_6    Insular_Excit_Neuron_7 \n",
       "                      200                       200                       200 \n",
       "   Insular_Excit_Neuron_8    Insular_Excit_Neuron_9  Insular_Inhibit_Neuron_0 \n",
       "                      200                       200                       200 \n",
       " Insular_Inhibit_Neuron_1 Insular_Inhibit_Neuron_10 Insular_Inhibit_Neuron_11 \n",
       "                      200                       200                       200 \n",
       "Insular_Inhibit_Neuron_12 Insular_Inhibit_Neuron_13 Insular_Inhibit_Neuron_14 \n",
       "                      200                       200                       200 \n",
       "Insular_Inhibit_Neuron_15 Insular_Inhibit_Neuron_16 Insular_Inhibit_Neuron_17 \n",
       "                      200                       200                       200 \n",
       "Insular_Inhibit_Neuron_18  Insular_Inhibit_Neuron_2  Insular_Inhibit_Neuron_3 \n",
       "                      200                       200                       200 \n",
       " Insular_Inhibit_Neuron_4  Insular_Inhibit_Neuron_5  Insular_Inhibit_Neuron_6 \n",
       "                      200                       200                       200 \n",
       " Insular_Inhibit_Neuron_7  Insular_Inhibit_Neuron_8  Insular_Inhibit_Neuron_9 \n",
       "                      200                       200                       200 \n",
       "      Insular_Microglia_0       Insular_Microglia_1           Insular_Oligo_0 \n",
       "                      200                       200                       200 \n",
       "          Insular_Oligo_1             Insular_OPC_0             Insular_OPC_1 \n",
       "                      200                       200                       200 "
      ]
     },
     "metadata": {},
     "output_type": "display_data"
    }
   ],
   "source": [
    "cotex_10@meta.data$merge_anno=paste0('Cortex_10_',cotex_10@meta.data$Cluster)\n",
    "cotex_24@meta.data$merge_anno=paste0('Cortex_24_',cotex_24@meta.data$Cluster)\n",
    "cotex_7A@meta.data$merge_anno=paste0('Cortex_7A_',cotex_7A@meta.data$Cluster)\n",
    "cotex_F1@meta.data$merge_anno=paste0('Cortex_F1_',cotex_F1@meta.data$Cluster)\n",
    "cotex_V1@meta.data$merge_anno=paste0('Cortex_V1_',cotex_V1@meta.data$Cluster)\n",
    "cotex_TE@meta.data$merge_anno=paste0('Cortex_TE_',cotex_TE@meta.data$Cluster)\n",
    "cla@meta.data$merge_anno=paste0('Clastrum_',cla@meta.data$Subclass)\n",
    "insu@meta.data$merge_anno=paste0('Insular_',insu@meta.data$Subclass)\n",
    "\n",
    "\n",
    "table(cla@meta.data$merge_anno)\n",
    "table(cotex_10@meta.data$merge_anno)\n",
    "table(insu$merge_anno)"
   ]
  },
  {
   "cell_type": "code",
   "execution_count": 43,
   "id": "ed3ec9fa",
   "metadata": {},
   "outputs": [
    {
     "name": "stderr",
     "output_type": "stream",
     "text": [
      "Calculating cell attributes from input UMI matrix: log_umi\n",
      "\n",
      "Variance stabilizing transformation of count matrix of size 20013 by 12000\n",
      "\n",
      "Model formula is y ~ log_umi\n",
      "\n",
      "Get Negative Binomial regression parameters per gene\n",
      "\n",
      "Using 2000 genes, 12000 cells\n",
      "\n"
     ]
    },
    {
     "name": "stdout",
     "output_type": "stream",
     "text": [
      "  |======================================================================| 100%\n"
     ]
    },
    {
     "name": "stderr",
     "output_type": "stream",
     "text": [
      "Found 70 outliers - those will be ignored in fitting/regularization step\n",
      "\n",
      "\n",
      "Second step: Get residuals using fitted parameters for 20013 genes\n",
      "\n"
     ]
    },
    {
     "name": "stdout",
     "output_type": "stream",
     "text": [
      "  |======================================================================| 100%\n"
     ]
    },
    {
     "name": "stderr",
     "output_type": "stream",
     "text": [
      "Computing corrected count matrix for 20013 genes\n",
      "\n"
     ]
    },
    {
     "name": "stdout",
     "output_type": "stream",
     "text": [
      "  |======================================================================| 100%\n"
     ]
    },
    {
     "name": "stderr",
     "output_type": "stream",
     "text": [
      "Calculating gene attributes\n",
      "\n",
      "Wall clock passed: Time difference of 1.781017 mins\n",
      "\n",
      "Determine variable features\n",
      "\n",
      "Place corrected count matrix in counts slot\n",
      "\n",
      "Centering data matrix\n",
      "\n",
      "Set default assay to SCT\n",
      "\n",
      "Computing nearest neighbor graph\n",
      "\n",
      "Computing SNN\n",
      "\n",
      "Warning message:\n",
      "“The default method for RunUMAP has changed from calling Python UMAP via reticulate to the R-native UWOT using the cosine metric\n",
      "To use Python UMAP via reticulate, set umap.method to 'umap-learn' and metric to 'correlation'\n",
      "This message will be shown once per session”\n",
      "17:27:36 UMAP embedding parameters a = 0.9922 b = 1.112\n",
      "\n",
      "17:27:36 Read 12000 rows and found 30 numeric columns\n",
      "\n",
      "17:27:36 Using Annoy for neighbor search, n_neighbors = 30\n",
      "\n",
      "17:27:36 Building Annoy index with metric = cosine, n_trees = 50\n",
      "\n",
      "0%   10   20   30   40   50   60   70   80   90   100%\n",
      "\n",
      "[----|----|----|----|----|----|----|----|----|----|\n",
      "\n",
      "*\n",
      "*\n",
      "*\n",
      "*\n",
      "*\n",
      "*\n",
      "*\n",
      "*\n",
      "*\n",
      "*\n",
      "*\n",
      "*\n",
      "*\n",
      "*\n",
      "*\n",
      "*\n",
      "*\n",
      "*\n",
      "*\n",
      "*\n",
      "*\n",
      "*\n",
      "*\n",
      "*\n",
      "*\n",
      "*\n",
      "*\n",
      "*\n",
      "*\n",
      "*\n",
      "*\n",
      "*\n",
      "*\n",
      "*\n",
      "*\n",
      "*\n",
      "*\n",
      "*\n",
      "*\n",
      "*\n",
      "*\n",
      "*\n",
      "*\n",
      "*\n",
      "*\n",
      "*\n",
      "*\n",
      "*\n",
      "*\n",
      "*\n",
      "|\n",
      "\n",
      "17:27:37 Writing NN index file to temp file /tmp/RtmpK3XeIZ/fileb26d60290104\n",
      "\n",
      "17:27:37 Searching Annoy index using 1 thread, search_k = 3000\n",
      "\n",
      "17:27:40 Annoy recall = 100%\n",
      "\n",
      "17:27:41 Commencing smooth kNN distance calibration using 1 thread\n",
      " with target n_neighbors = 30\n",
      "\n",
      "17:27:43 Initializing from normalized Laplacian + noise (using irlba)\n",
      "\n",
      "17:27:43 Commencing optimization for 200 epochs, with 501806 positive edges\n",
      "\n",
      "17:27:58 Optimization finished\n",
      "\n",
      "Calculating cell attributes from input UMI matrix: log_umi\n",
      "\n",
      "Variance stabilizing transformation of count matrix of size 17637 by 12603\n",
      "\n",
      "Model formula is y ~ log_umi\n",
      "\n",
      "Get Negative Binomial regression parameters per gene\n",
      "\n",
      "Using 2000 genes, 12603 cells\n",
      "\n"
     ]
    },
    {
     "name": "stdout",
     "output_type": "stream",
     "text": [
      "  |======================================================================| 100%\n"
     ]
    },
    {
     "name": "stderr",
     "output_type": "stream",
     "text": [
      "Second step: Get residuals using fitted parameters for 17637 genes\n",
      "\n"
     ]
    },
    {
     "name": "stdout",
     "output_type": "stream",
     "text": [
      "  |======================================================================| 100%\n"
     ]
    },
    {
     "name": "stderr",
     "output_type": "stream",
     "text": [
      "Computing corrected count matrix for 17637 genes\n",
      "\n"
     ]
    },
    {
     "name": "stdout",
     "output_type": "stream",
     "text": [
      "  |======================================================================| 100%\n"
     ]
    },
    {
     "name": "stderr",
     "output_type": "stream",
     "text": [
      "Calculating gene attributes\n",
      "\n",
      "Wall clock passed: Time difference of 1.710599 mins\n",
      "\n",
      "Determine variable features\n",
      "\n",
      "Place corrected count matrix in counts slot\n",
      "\n",
      "Centering data matrix\n",
      "\n",
      "Set default assay to SCT\n",
      "\n",
      "Computing nearest neighbor graph\n",
      "\n",
      "Computing SNN\n",
      "\n",
      "17:30:09 UMAP embedding parameters a = 0.9922 b = 1.112\n",
      "\n",
      "17:30:09 Read 12603 rows and found 30 numeric columns\n",
      "\n",
      "17:30:09 Using Annoy for neighbor search, n_neighbors = 30\n",
      "\n",
      "17:30:09 Building Annoy index with metric = cosine, n_trees = 50\n",
      "\n",
      "0%   10   20   30   40   50   60   70   80   90   100%\n",
      "\n",
      "[----|----|----|----|----|----|----|----|----|----|\n",
      "\n",
      "*\n",
      "*\n",
      "*\n",
      "*\n",
      "*\n",
      "*\n",
      "*\n",
      "*\n",
      "*\n",
      "*\n",
      "*\n",
      "*\n",
      "*\n",
      "*\n",
      "*\n",
      "*\n",
      "*\n",
      "*\n",
      "*\n",
      "*\n",
      "*\n",
      "*\n",
      "*\n",
      "*\n",
      "*\n",
      "*\n",
      "*\n",
      "*\n",
      "*\n",
      "*\n",
      "*\n",
      "*\n",
      "*\n",
      "*\n",
      "*\n",
      "*\n",
      "*\n",
      "*\n",
      "*\n",
      "*\n",
      "*\n",
      "*\n",
      "*\n",
      "*\n",
      "*\n",
      "*\n",
      "*\n",
      "*\n",
      "*\n",
      "*\n",
      "|\n",
      "\n",
      "17:30:10 Writing NN index file to temp file /tmp/RtmpK3XeIZ/fileb26d36161a15\n",
      "\n",
      "17:30:10 Searching Annoy index using 1 thread, search_k = 3000\n",
      "\n",
      "17:30:13 Annoy recall = 100%\n",
      "\n",
      "17:30:14 Commencing smooth kNN distance calibration using 1 thread\n",
      " with target n_neighbors = 30\n",
      "\n",
      "17:30:16 Initializing from normalized Laplacian + noise (using irlba)\n",
      "\n",
      "17:30:17 Commencing optimization for 200 epochs, with 573754 positive edges\n",
      "\n",
      "17:30:33 Optimization finished\n",
      "\n",
      "Calculating cell attributes from input UMI matrix: log_umi\n",
      "\n",
      "Variance stabilizing transformation of count matrix of size 17998 by 12434\n",
      "\n",
      "Model formula is y ~ log_umi\n",
      "\n",
      "Get Negative Binomial regression parameters per gene\n",
      "\n",
      "Using 2000 genes, 12434 cells\n",
      "\n"
     ]
    },
    {
     "name": "stdout",
     "output_type": "stream",
     "text": [
      "  |======================================================================| 100%\n"
     ]
    },
    {
     "name": "stderr",
     "output_type": "stream",
     "text": [
      "Found 49 outliers - those will be ignored in fitting/regularization step\n",
      "\n",
      "\n",
      "Second step: Get residuals using fitted parameters for 17998 genes\n",
      "\n"
     ]
    },
    {
     "name": "stdout",
     "output_type": "stream",
     "text": [
      "  |======================================================================| 100%\n"
     ]
    },
    {
     "name": "stderr",
     "output_type": "stream",
     "text": [
      "Computing corrected count matrix for 17998 genes\n",
      "\n"
     ]
    },
    {
     "name": "stdout",
     "output_type": "stream",
     "text": [
      "  |======================================================================| 100%\n"
     ]
    },
    {
     "name": "stderr",
     "output_type": "stream",
     "text": [
      "Calculating gene attributes\n",
      "\n",
      "Wall clock passed: Time difference of 1.738678 mins\n",
      "\n",
      "Determine variable features\n",
      "\n",
      "Place corrected count matrix in counts slot\n",
      "\n",
      "Centering data matrix\n",
      "\n",
      "Set default assay to SCT\n",
      "\n",
      "Computing nearest neighbor graph\n",
      "\n",
      "Computing SNN\n",
      "\n",
      "17:32:43 UMAP embedding parameters a = 0.9922 b = 1.112\n",
      "\n",
      "17:32:43 Read 12434 rows and found 30 numeric columns\n",
      "\n",
      "17:32:43 Using Annoy for neighbor search, n_neighbors = 30\n",
      "\n",
      "17:32:43 Building Annoy index with metric = cosine, n_trees = 50\n",
      "\n",
      "0%   10   20   30   40   50   60   70   80   90   100%\n",
      "\n",
      "[----|----|----|----|----|----|----|----|----|----|\n",
      "\n",
      "*\n",
      "*\n",
      "*\n",
      "*\n",
      "*\n",
      "*\n",
      "*\n",
      "*\n",
      "*\n",
      "*\n",
      "*\n",
      "*\n",
      "*\n",
      "*\n",
      "*\n",
      "*\n",
      "*\n",
      "*\n",
      "*\n",
      "*\n",
      "*\n",
      "*\n",
      "*\n",
      "*\n",
      "*\n",
      "*\n",
      "*\n",
      "*\n",
      "*\n",
      "*\n",
      "*\n",
      "*\n",
      "*\n",
      "*\n",
      "*\n",
      "*\n",
      "*\n",
      "*\n",
      "*\n",
      "*\n",
      "*\n",
      "*\n",
      "*\n",
      "*\n",
      "*\n",
      "*\n",
      "*\n",
      "*\n",
      "*\n",
      "*\n",
      "|\n",
      "\n",
      "17:32:44 Writing NN index file to temp file /tmp/RtmpK3XeIZ/fileb26d200d2f2f\n",
      "\n",
      "17:32:44 Searching Annoy index using 1 thread, search_k = 3000\n",
      "\n",
      "17:32:47 Annoy recall = 100%\n",
      "\n",
      "17:32:48 Commencing smooth kNN distance calibration using 1 thread\n",
      " with target n_neighbors = 30\n",
      "\n",
      "17:32:50 Initializing from normalized Laplacian + noise (using irlba)\n",
      "\n",
      "17:32:51 Commencing optimization for 200 epochs, with 552220 positive edges\n",
      "\n",
      "17:33:06 Optimization finished\n",
      "\n",
      "Calculating cell attributes from input UMI matrix: log_umi\n",
      "\n",
      "Variance stabilizing transformation of count matrix of size 17585 by 12257\n",
      "\n",
      "Model formula is y ~ log_umi\n",
      "\n",
      "Get Negative Binomial regression parameters per gene\n",
      "\n",
      "Using 2000 genes, 12257 cells\n",
      "\n"
     ]
    },
    {
     "name": "stdout",
     "output_type": "stream",
     "text": [
      "  |======================================================================| 100%\n"
     ]
    },
    {
     "name": "stderr",
     "output_type": "stream",
     "text": [
      "Second step: Get residuals using fitted parameters for 17585 genes\n",
      "\n"
     ]
    },
    {
     "name": "stdout",
     "output_type": "stream",
     "text": [
      "  |======================================================================| 100%\n"
     ]
    },
    {
     "name": "stderr",
     "output_type": "stream",
     "text": [
      "Computing corrected count matrix for 17585 genes\n",
      "\n"
     ]
    },
    {
     "name": "stdout",
     "output_type": "stream",
     "text": [
      "  |======================================================================| 100%\n"
     ]
    },
    {
     "name": "stderr",
     "output_type": "stream",
     "text": [
      "Calculating gene attributes\n",
      "\n",
      "Wall clock passed: Time difference of 1.678146 mins\n",
      "\n",
      "Determine variable features\n",
      "\n",
      "Place corrected count matrix in counts slot\n",
      "\n",
      "Centering data matrix\n",
      "\n",
      "Set default assay to SCT\n",
      "\n",
      "Computing nearest neighbor graph\n",
      "\n",
      "Computing SNN\n",
      "\n",
      "17:35:16 UMAP embedding parameters a = 0.9922 b = 1.112\n",
      "\n",
      "17:35:16 Read 12257 rows and found 30 numeric columns\n",
      "\n",
      "17:35:16 Using Annoy for neighbor search, n_neighbors = 30\n",
      "\n",
      "17:35:16 Building Annoy index with metric = cosine, n_trees = 50\n",
      "\n",
      "0%   10   20   30   40   50   60   70   80   90   100%\n",
      "\n",
      "[----|----|----|----|----|----|----|----|----|----|\n",
      "\n",
      "*\n",
      "*\n",
      "*\n",
      "*\n",
      "*\n",
      "*\n",
      "*\n",
      "*\n",
      "*\n",
      "*\n",
      "*\n",
      "*\n",
      "*\n",
      "*\n",
      "*\n",
      "*\n",
      "*\n",
      "*\n",
      "*\n",
      "*\n",
      "*\n",
      "*\n",
      "*\n",
      "*\n",
      "*\n",
      "*\n",
      "*\n",
      "*\n",
      "*\n",
      "*\n",
      "*\n",
      "*\n",
      "*\n",
      "*\n",
      "*\n",
      "*\n",
      "*\n",
      "*\n",
      "*\n",
      "*\n",
      "*\n",
      "*\n",
      "*\n",
      "*\n",
      "*\n",
      "*\n",
      "*\n",
      "*\n",
      "*\n",
      "*\n",
      "|\n",
      "\n",
      "17:35:18 Writing NN index file to temp file /tmp/RtmpK3XeIZ/fileb26d79d38e0b\n",
      "\n",
      "17:35:18 Searching Annoy index using 1 thread, search_k = 3000\n",
      "\n",
      "17:35:20 Annoy recall = 100%\n",
      "\n",
      "17:35:22 Commencing smooth kNN distance calibration using 1 thread\n",
      " with target n_neighbors = 30\n",
      "\n",
      "17:35:23 Initializing from normalized Laplacian + noise (using irlba)\n",
      "\n",
      "17:35:25 Commencing optimization for 200 epochs, with 553004 positive edges\n",
      "\n",
      "17:35:39 Optimization finished\n",
      "\n",
      "Calculating cell attributes from input UMI matrix: log_umi\n",
      "\n",
      "Variance stabilizing transformation of count matrix of size 17751 by 12834\n",
      "\n",
      "Model formula is y ~ log_umi\n",
      "\n",
      "Get Negative Binomial regression parameters per gene\n",
      "\n",
      "Using 2000 genes, 12834 cells\n",
      "\n"
     ]
    },
    {
     "name": "stdout",
     "output_type": "stream",
     "text": [
      "  |======================================================================| 100%\n"
     ]
    },
    {
     "name": "stderr",
     "output_type": "stream",
     "text": [
      "Found 51 outliers - those will be ignored in fitting/regularization step\n",
      "\n",
      "\n",
      "Second step: Get residuals using fitted parameters for 17751 genes\n",
      "\n"
     ]
    },
    {
     "name": "stdout",
     "output_type": "stream",
     "text": [
      "  |======================================================================| 100%\n"
     ]
    },
    {
     "name": "stderr",
     "output_type": "stream",
     "text": [
      "Computing corrected count matrix for 17751 genes\n",
      "\n"
     ]
    },
    {
     "name": "stdout",
     "output_type": "stream",
     "text": [
      "  |======================================================================| 100%\n"
     ]
    },
    {
     "name": "stderr",
     "output_type": "stream",
     "text": [
      "Calculating gene attributes\n",
      "\n",
      "Wall clock passed: Time difference of 1.773701 mins\n",
      "\n",
      "Determine variable features\n",
      "\n",
      "Place corrected count matrix in counts slot\n",
      "\n",
      "Centering data matrix\n",
      "\n",
      "Set default assay to SCT\n",
      "\n",
      "Computing nearest neighbor graph\n",
      "\n",
      "Computing SNN\n",
      "\n",
      "17:37:53 UMAP embedding parameters a = 0.9922 b = 1.112\n",
      "\n",
      "17:37:53 Read 12834 rows and found 30 numeric columns\n",
      "\n",
      "17:37:53 Using Annoy for neighbor search, n_neighbors = 30\n",
      "\n",
      "17:37:53 Building Annoy index with metric = cosine, n_trees = 50\n",
      "\n",
      "0%   10   20   30   40   50   60   70   80   90   100%\n",
      "\n",
      "[----|----|----|----|----|----|----|----|----|----|\n",
      "\n",
      "*\n",
      "*\n",
      "*\n",
      "*\n",
      "*\n",
      "*\n",
      "*\n",
      "*\n",
      "*\n",
      "*\n",
      "*\n",
      "*\n",
      "*\n",
      "*\n",
      "*\n",
      "*\n",
      "*\n",
      "*\n",
      "*\n",
      "*\n",
      "*\n",
      "*\n",
      "*\n",
      "*\n",
      "*\n",
      "*\n",
      "*\n",
      "*\n",
      "*\n",
      "*\n",
      "*\n",
      "*\n",
      "*\n",
      "*\n",
      "*\n",
      "*\n",
      "*\n",
      "*\n",
      "*\n",
      "*\n",
      "*\n",
      "*\n",
      "*\n",
      "*\n",
      "*\n",
      "*\n",
      "*\n",
      "*\n",
      "*\n",
      "*\n",
      "|\n",
      "\n",
      "17:37:54 Writing NN index file to temp file /tmp/RtmpK3XeIZ/fileb26d3aeff90\n",
      "\n",
      "17:37:54 Searching Annoy index using 1 thread, search_k = 3000\n",
      "\n",
      "17:37:57 Annoy recall = 100%\n",
      "\n",
      "17:37:58 Commencing smooth kNN distance calibration using 1 thread\n",
      " with target n_neighbors = 30\n",
      "\n",
      "17:38:00 Initializing from normalized Laplacian + noise (using irlba)\n",
      "\n",
      "17:38:01 Commencing optimization for 200 epochs, with 564186 positive edges\n",
      "\n",
      "17:38:16 Optimization finished\n",
      "\n",
      "Calculating cell attributes from input UMI matrix: log_umi\n",
      "\n",
      "Variance stabilizing transformation of count matrix of size 18463 by 9112\n",
      "\n",
      "Model formula is y ~ log_umi\n",
      "\n",
      "Get Negative Binomial regression parameters per gene\n",
      "\n",
      "Using 2000 genes, 9112 cells\n",
      "\n"
     ]
    },
    {
     "name": "stdout",
     "output_type": "stream",
     "text": [
      "  |======================================================================| 100%\n"
     ]
    },
    {
     "name": "stderr",
     "output_type": "stream",
     "text": [
      "Second step: Get residuals using fitted parameters for 18463 genes\n",
      "\n"
     ]
    },
    {
     "name": "stdout",
     "output_type": "stream",
     "text": [
      "  |======================================================================| 100%\n"
     ]
    },
    {
     "name": "stderr",
     "output_type": "stream",
     "text": [
      "Computing corrected count matrix for 18463 genes\n",
      "\n"
     ]
    },
    {
     "name": "stdout",
     "output_type": "stream",
     "text": [
      "  |======================================================================| 100%\n"
     ]
    },
    {
     "name": "stderr",
     "output_type": "stream",
     "text": [
      "Calculating gene attributes\n",
      "\n",
      "Wall clock passed: Time difference of 1.359561 mins\n",
      "\n",
      "Determine variable features\n",
      "\n",
      "Place corrected count matrix in counts slot\n",
      "\n",
      "Centering data matrix\n",
      "\n",
      "Set default assay to SCT\n",
      "\n",
      "Computing nearest neighbor graph\n",
      "\n",
      "Computing SNN\n",
      "\n",
      "17:39:58 UMAP embedding parameters a = 0.9922 b = 1.112\n",
      "\n",
      "17:39:58 Read 9112 rows and found 30 numeric columns\n",
      "\n",
      "17:39:58 Using Annoy for neighbor search, n_neighbors = 30\n",
      "\n",
      "17:39:58 Building Annoy index with metric = cosine, n_trees = 50\n",
      "\n",
      "0%   10   20   30   40   50   60   70   80   90   100%\n",
      "\n",
      "[----|----|----|----|----|----|----|----|----|----|\n",
      "\n",
      "*\n",
      "*\n",
      "*\n",
      "*\n",
      "*\n",
      "*\n",
      "*\n",
      "*\n",
      "*\n",
      "*\n",
      "*\n",
      "*\n",
      "*\n",
      "*\n",
      "*\n",
      "*\n",
      "*\n",
      "*\n",
      "*\n",
      "*\n",
      "*\n",
      "*\n",
      "*\n",
      "*\n",
      "*\n",
      "*\n",
      "*\n",
      "*\n",
      "*\n",
      "*\n",
      "*\n",
      "*\n",
      "*\n",
      "*\n",
      "*\n",
      "*\n",
      "*\n",
      "*\n",
      "*\n",
      "*\n",
      "*\n",
      "*\n",
      "*\n",
      "*\n",
      "*\n",
      "*\n",
      "*\n",
      "*\n",
      "*\n",
      "*\n",
      "|\n",
      "\n",
      "17:39:59 Writing NN index file to temp file /tmp/RtmpK3XeIZ/fileb26d58175762\n",
      "\n",
      "17:39:59 Searching Annoy index using 1 thread, search_k = 3000\n",
      "\n",
      "17:40:01 Annoy recall = 100%\n",
      "\n",
      "17:40:02 Commencing smooth kNN distance calibration using 1 thread\n",
      " with target n_neighbors = 30\n",
      "\n",
      "17:40:04 Initializing from normalized Laplacian + noise (using irlba)\n",
      "\n",
      "17:40:04 Commencing optimization for 500 epochs, with 391918 positive edges\n",
      "\n",
      "17:40:31 Optimization finished\n",
      "\n",
      "Calculating cell attributes from input UMI matrix: log_umi\n",
      "\n",
      "Variance stabilizing transformation of count matrix of size 17658 by 12217\n",
      "\n",
      "Model formula is y ~ log_umi\n",
      "\n",
      "Get Negative Binomial regression parameters per gene\n",
      "\n",
      "Using 2000 genes, 12217 cells\n",
      "\n"
     ]
    },
    {
     "name": "stdout",
     "output_type": "stream",
     "text": [
      "  |======================================================================| 100%\n"
     ]
    },
    {
     "name": "stderr",
     "output_type": "stream",
     "text": [
      "Found 45 outliers - those will be ignored in fitting/regularization step\n",
      "\n",
      "\n",
      "Second step: Get residuals using fitted parameters for 17658 genes\n",
      "\n"
     ]
    },
    {
     "name": "stdout",
     "output_type": "stream",
     "text": [
      "  |======================================================================| 100%\n"
     ]
    },
    {
     "name": "stderr",
     "output_type": "stream",
     "text": [
      "Computing corrected count matrix for 17658 genes\n",
      "\n"
     ]
    },
    {
     "name": "stdout",
     "output_type": "stream",
     "text": [
      "  |======================================================================| 100%\n"
     ]
    },
    {
     "name": "stderr",
     "output_type": "stream",
     "text": [
      "Calculating gene attributes\n",
      "\n",
      "Wall clock passed: Time difference of 1.674475 mins\n",
      "\n",
      "Determine variable features\n",
      "\n",
      "Place corrected count matrix in counts slot\n",
      "\n",
      "Centering data matrix\n",
      "\n",
      "Set default assay to SCT\n",
      "\n",
      "Computing nearest neighbor graph\n",
      "\n",
      "Computing SNN\n",
      "\n",
      "17:42:39 UMAP embedding parameters a = 0.9922 b = 1.112\n",
      "\n",
      "17:42:40 Read 12217 rows and found 30 numeric columns\n",
      "\n",
      "17:42:40 Using Annoy for neighbor search, n_neighbors = 30\n",
      "\n",
      "17:42:40 Building Annoy index with metric = cosine, n_trees = 50\n",
      "\n",
      "0%   10   20   30   40   50   60   70   80   90   100%\n",
      "\n",
      "[----|----|----|----|----|----|----|----|----|----|\n",
      "\n",
      "*\n",
      "*\n",
      "*\n",
      "*\n",
      "*\n",
      "*\n",
      "*\n",
      "*\n",
      "*\n",
      "*\n",
      "*\n",
      "*\n",
      "*\n",
      "*\n",
      "*\n",
      "*\n",
      "*\n",
      "*\n",
      "*\n",
      "*\n",
      "*\n",
      "*\n",
      "*\n",
      "*\n",
      "*\n",
      "*\n",
      "*\n",
      "*\n",
      "*\n",
      "*\n",
      "*\n",
      "*\n",
      "*\n",
      "*\n",
      "*\n",
      "*\n",
      "*\n",
      "*\n",
      "*\n",
      "*\n",
      "*\n",
      "*\n",
      "*\n",
      "*\n",
      "*\n",
      "*\n",
      "*\n",
      "*\n",
      "*\n",
      "*\n",
      "|\n",
      "\n",
      "17:42:41 Writing NN index file to temp file /tmp/RtmpK3XeIZ/fileb26d6cbe619\n",
      "\n",
      "17:42:41 Searching Annoy index using 1 thread, search_k = 3000\n",
      "\n",
      "17:42:44 Annoy recall = 100%\n",
      "\n",
      "17:42:45 Commencing smooth kNN distance calibration using 1 thread\n",
      " with target n_neighbors = 30\n",
      "\n",
      "17:42:47 Initializing from normalized Laplacian + noise (using irlba)\n",
      "\n",
      "17:42:47 Commencing optimization for 200 epochs, with 535738 positive edges\n",
      "\n",
      "17:43:02 Optimization finished\n",
      "\n",
      "Calculating cell attributes from input UMI matrix: log_umi\n",
      "\n",
      "Variance stabilizing transformation of count matrix of size 18489 by 12200\n",
      "\n",
      "Model formula is y ~ log_umi\n",
      "\n",
      "Get Negative Binomial regression parameters per gene\n",
      "\n",
      "Using 2000 genes, 12200 cells\n",
      "\n"
     ]
    },
    {
     "name": "stdout",
     "output_type": "stream",
     "text": [
      "  |======================================================================| 100%\n"
     ]
    },
    {
     "name": "stderr",
     "output_type": "stream",
     "text": [
      "Found 28 outliers - those will be ignored in fitting/regularization step\n",
      "\n",
      "\n",
      "Second step: Get residuals using fitted parameters for 18489 genes\n",
      "\n"
     ]
    },
    {
     "name": "stdout",
     "output_type": "stream",
     "text": [
      "  |======================================================================| 100%\n"
     ]
    },
    {
     "name": "stderr",
     "output_type": "stream",
     "text": [
      "Computing corrected count matrix for 18489 genes\n",
      "\n"
     ]
    },
    {
     "name": "stdout",
     "output_type": "stream",
     "text": [
      "  |======================================================================| 100%\n"
     ]
    },
    {
     "name": "stderr",
     "output_type": "stream",
     "text": [
      "Calculating gene attributes\n",
      "\n",
      "Wall clock passed: Time difference of 1.754636 mins\n",
      "\n",
      "Determine variable features\n",
      "\n",
      "Place corrected count matrix in counts slot\n",
      "\n",
      "Centering data matrix\n",
      "\n",
      "Set default assay to SCT\n",
      "\n",
      "Computing nearest neighbor graph\n",
      "\n",
      "Computing SNN\n",
      "\n",
      "17:45:14 UMAP embedding parameters a = 0.9922 b = 1.112\n",
      "\n",
      "17:45:14 Read 12200 rows and found 30 numeric columns\n",
      "\n",
      "17:45:14 Using Annoy for neighbor search, n_neighbors = 30\n",
      "\n",
      "17:45:14 Building Annoy index with metric = cosine, n_trees = 50\n",
      "\n",
      "0%   10   20   30   40   50   60   70   80   90   100%\n",
      "\n",
      "[----|----|----|----|----|----|----|----|----|----|\n",
      "\n",
      "*\n",
      "*\n",
      "*\n",
      "*\n",
      "*\n",
      "*\n",
      "*\n",
      "*\n",
      "*\n",
      "*\n",
      "*\n",
      "*\n",
      "*\n",
      "*\n",
      "*\n",
      "*\n",
      "*\n",
      "*\n",
      "*\n",
      "*\n",
      "*\n",
      "*\n",
      "*\n",
      "*\n",
      "*\n",
      "*\n",
      "*\n",
      "*\n",
      "*\n",
      "*\n",
      "*\n",
      "*\n",
      "*\n",
      "*\n",
      "*\n",
      "*\n",
      "*\n",
      "*\n",
      "*\n",
      "*\n",
      "*\n",
      "*\n",
      "*\n",
      "*\n",
      "*\n",
      "*\n",
      "*\n",
      "*\n",
      "*\n",
      "*\n",
      "|\n",
      "\n",
      "17:45:15 Writing NN index file to temp file /tmp/RtmpK3XeIZ/fileb26d3d1776eb\n",
      "\n",
      "17:45:15 Searching Annoy index using 1 thread, search_k = 3000\n",
      "\n",
      "17:45:18 Annoy recall = 100%\n",
      "\n",
      "17:45:19 Commencing smooth kNN distance calibration using 1 thread\n",
      " with target n_neighbors = 30\n",
      "\n",
      "17:45:21 Initializing from normalized Laplacian + noise (using irlba)\n",
      "\n",
      "17:45:22 Commencing optimization for 200 epochs, with 505332 positive edges\n",
      "\n",
      "17:45:37 Optimization finished\n",
      "\n"
     ]
    }
   ],
   "source": [
    "\n",
    "combineSeuratList = list(\n",
    "    Insular=insu,\n",
    "    Cortex_10=cotex_10,\n",
    "    Cortex_24=cotex_24,\n",
    "    Cortex_7A=cotex_7A,\n",
    "    Cortex_TE=cotex_TE,\n",
    "    Cortex_F1=cotex_F1,\n",
    "    Cortex_V1=cotex_V1,\n",
    "    Clastrum=cla\n",
    ")\n",
    "combineSeuratList = lapply(combineSeuratList, function(seurat) {\n",
    "    seurat = SCTransform(\n",
    "        seurat, assay=\"RNA\",\n",
    "        ncells=ncol(seurat[[\"RNA\"]]), \n",
    "        variable.features.n=3000,\n",
    "        return.only.var.genes = F,\n",
    "        method = \"glmGamPoi\"\n",
    "    ) %>%\n",
    "        RunPCA(verbose = FALSE) %>%\n",
    "        FindNeighbors(dims = 1:30) %>%\n",
    "        FindClusters(verbose = FALSE) %>%\n",
    "        RunUMAP(dims = 1:30)\n",
    "    return(seurat)\n",
    "})"
   ]
  },
  {
   "cell_type": "code",
   "execution_count": 44,
   "id": "3e8e8d1d",
   "metadata": {},
   "outputs": [],
   "source": [
    "\n",
    "outdir='/home/liuyx/liuyuxuan/spa_seurat/cla/speciesCompare/1109_compare_to_8_cortex'\n",
    "saveRDS(combineSeuratList, paste0(outdir, \"/8area_compare_list.rds\"))\n"
   ]
  },
  {
   "cell_type": "code",
   "execution_count": 45,
   "id": "6454dccc",
   "metadata": {},
   "outputs": [
    {
     "name": "stderr",
     "output_type": "stream",
     "text": [
      "Warning message in asMethod(object):\n",
      "“sparse->dense coercion: allocating vector of size 1.8 GiB”\n",
      "Warning message in asMethod(object):\n",
      "“sparse->dense coercion: allocating vector of size 1.7 GiB”\n",
      "Warning message in asMethod(object):\n",
      "“sparse->dense coercion: allocating vector of size 1.7 GiB”\n",
      "Warning message in asMethod(object):\n",
      "“sparse->dense coercion: allocating vector of size 1.6 GiB”\n",
      "Warning message in asMethod(object):\n",
      "“sparse->dense coercion: allocating vector of size 1.7 GiB”\n",
      "Warning message in asMethod(object):\n",
      "“sparse->dense coercion: allocating vector of size 1.3 GiB”\n",
      "Warning message in asMethod(object):\n",
      "“sparse->dense coercion: allocating vector of size 1.6 GiB”\n",
      "Warning message in asMethod(object):\n",
      "“sparse->dense coercion: allocating vector of size 1.7 GiB”\n"
     ]
    }
   ],
   "source": [
    "\n",
    "\n",
    "\n",
    "# Try find markers by hicat\n",
    "combineSeuratList$Insular$clusterNameMod = combineSeuratList$Insular$merge_anno\n",
    "combineSeuratList$Cortex_10$clusterNameMod = combineSeuratList$Cortex_10$merge_anno\n",
    "combineSeuratList$Cortex_24$clusterNameMod = combineSeuratList$Cortex_24$merge_anno\n",
    "combineSeuratList$Cortex_7A$clusterNameMod = combineSeuratList$Cortex_7A$merge_anno\n",
    "combineSeuratList$Cortex_TE$clusterNameMod = combineSeuratList$Cortex_TE$merge_anno\n",
    "combineSeuratList$Cortex_F1$clusterNameMod = combineSeuratList$Cortex_F1$merge_anno\n",
    "combineSeuratList$Cortex_V1$clusterNameMod = combineSeuratList$Cortex_V1$merge_anno\n",
    "combineSeuratList$Clastrum$clusterNameMod = combineSeuratList$Clastrum$merge_anno\n",
    "\n",
    "combineSeuratList$Insular$clusterNameMod = gsub(\"(-| |/)\", \"_\", combineSeuratList$Insular$clusterNameMod)\n",
    "combineSeuratList$Cortex_10$clusterNameMod = gsub(\"(-| |/)\", \"_\", combineSeuratList$Cortex_10$clusterNameMod)\n",
    "combineSeuratList$Cortex_24$clusterNameMod = gsub(\"(-| |/)\", \"_\", combineSeuratList$Cortex_24$clusterNameMod)\n",
    "combineSeuratList$Cortex_7A$clusterNameMod = gsub(\"(-| |/)\", \"_\", combineSeuratList$Cortex_7A$clusterNameMod)\n",
    "combineSeuratList$Cortex_TE$clusterNameMod = gsub(\"(-| |/)\", \"_\", combineSeuratList$Cortex_TE$clusterNameMod)\n",
    "combineSeuratList$Cortex_F1$clusterNameMod = gsub(\"(-| |/)\", \"_\", combineSeuratList$Cortex_F1$clusterNameMod)\n",
    "combineSeuratList$Cortex_V1$clusterNameMod = gsub(\"(-| |/)\", \"_\", combineSeuratList$Cortex_V1$clusterNameMod)\n",
    "combineSeuratList$Clastrum$clusterNameMod = gsub(\"(-| |/)\", \"_\", combineSeuratList$Clastrum$clusterNameMod)\n",
    "\n",
    "combineSeuratList$Insular$clusterNameMod_rn = gsub(\"_\", \"\", combineSeuratList$Insular$clusterNameMod)\n",
    "combineSeuratList$Cortex_10$clusterNameMod_rn = gsub(\"_\", \"\", combineSeuratList$Cortex_10$clusterNameMod)\n",
    "combineSeuratList$Cortex_24$clusterNameMod_rn = gsub(\"_\", \"\", combineSeuratList$Cortex_24$clusterNameMod)\n",
    "combineSeuratList$Cortex_7A$clusterNameMod_rn = gsub(\"_\", \"\", combineSeuratList$Cortex_7A$clusterNameMod)\n",
    "combineSeuratList$Cortex_TE$clusterNameMod_rn = gsub(\"_\", \"\", combineSeuratList$Cortex_TE$clusterNameMod)\n",
    "combineSeuratList$Cortex_F1$clusterNameMod_rn = gsub(\"_\", \"\", combineSeuratList$Cortex_F1$clusterNameMod)\n",
    "combineSeuratList$Cortex_V1$clusterNameMod_rn = gsub(\"_\", \"\", combineSeuratList$Cortex_V1$clusterNameMod)\n",
    "combineSeuratList$Clastrum$clusterNameMod_rn = gsub(\"_\", \"\", combineSeuratList$Clastrum$clusterNameMod)\n",
    "\n",
    "\n",
    "\n",
    "InsularVarGene = select_markers(combineSeuratList$Insular@assays$SCT@counts, combineSeuratList$Insular$clusterNameMod_rn, n.markers = 100)\n",
    "InsularHicatMarker = InsularVarGene$markers\n",
    "Cortex_10VarGene = select_markers(combineSeuratList$Cortex_10@assays$SCT@counts, combineSeuratList$Cortex_10$clusterNameMod_rn, n.markers = 100)\n",
    "Cortex_10HicatMarker = Cortex_10VarGene$markers\n",
    "\n",
    "Cortex_24VarGene =select_markers(combineSeuratList$Cortex_24@assays$SCT@counts, combineSeuratList$Cortex_24$clusterNameMod_rn, n.markers = 100)\n",
    "Cortex_24HicatMarker = Cortex_24VarGene$markers\n",
    "\n",
    "Cortex_7AVarGene = select_markers(combineSeuratList$Cortex_7A@assays$SCT@counts, combineSeuratList$Cortex_7A$clusterNameMod_rn, n.markers = 100)\n",
    "Cortex_7AHicatMarker = Cortex_7AVarGene$markers\n",
    "\n",
    "Cortex_TEVarGene = select_markers(combineSeuratList$Cortex_TE@assays$SCT@counts, combineSeuratList$Cortex_TE$clusterNameMod_rn, n.markers = 100)\n",
    "Cortex_TEHicatMarker = Cortex_TEVarGene$markers\n",
    "\n",
    "Cortex_F1VarGene = select_markers(combineSeuratList$Cortex_F1@assays$SCT@counts, combineSeuratList$Cortex_F1$clusterNameMod_rn, n.markers = 100)\n",
    "Cortex_F1HicatMarker = Cortex_F1VarGene$markers\n",
    "\n",
    "Cortex_V1VarGene = select_markers(combineSeuratList$Cortex_V1@assays$SCT@counts, combineSeuratList$Cortex_V1$clusterNameMod_rn, n.markers = 100)\n",
    "Cortex_V1HicatMarker = Cortex_V1VarGene$markers\n",
    "\n",
    "ClastrumVarGene = select_markers(combineSeuratList$Clastrum@assays$SCT@counts, combineSeuratList$Clastrum$clusterNameMod_rn, n.markers = 100)\n",
    "ClastrumHicatMarker = ClastrumVarGene$markers\n"
   ]
  },
  {
   "cell_type": "code",
   "execution_count": 46,
   "id": "5c5b8488",
   "metadata": {},
   "outputs": [
    {
     "data": {
      "text/html": [
       "3278"
      ],
      "text/latex": [
       "3278"
      ],
      "text/markdown": [
       "3278"
      ],
      "text/plain": [
       "[1] 3278"
      ]
     },
     "metadata": {},
     "output_type": "display_data"
    },
    {
     "data": {
      "text/html": [
       "3278"
      ],
      "text/latex": [
       "3278"
      ],
      "text/markdown": [
       "3278"
      ],
      "text/plain": [
       "[1] 3278"
      ]
     },
     "metadata": {},
     "output_type": "display_data"
    },
    {
     "data": {
      "text/html": [
       "3084"
      ],
      "text/latex": [
       "3084"
      ],
      "text/markdown": [
       "3084"
      ],
      "text/plain": [
       "[1] 3084"
      ]
     },
     "metadata": {},
     "output_type": "display_data"
    },
    {
     "data": {
      "text/html": [
       "3084"
      ],
      "text/latex": [
       "3084"
      ],
      "text/markdown": [
       "3084"
      ],
      "text/plain": [
       "[1] 3084"
      ]
     },
     "metadata": {},
     "output_type": "display_data"
    },
    {
     "data": {
      "text/html": [
       "3084"
      ],
      "text/latex": [
       "3084"
      ],
      "text/markdown": [
       "3084"
      ],
      "text/plain": [
       "[1] 3084"
      ]
     },
     "metadata": {},
     "output_type": "display_data"
    },
    {
     "data": {
      "text/html": [
       "3084"
      ],
      "text/latex": [
       "3084"
      ],
      "text/markdown": [
       "3084"
      ],
      "text/plain": [
       "[1] 3084"
      ]
     },
     "metadata": {},
     "output_type": "display_data"
    },
    {
     "data": {
      "text/html": [
       "3084"
      ],
      "text/latex": [
       "3084"
      ],
      "text/markdown": [
       "3084"
      ],
      "text/plain": [
       "[1] 3084"
      ]
     },
     "metadata": {},
     "output_type": "display_data"
    },
    {
     "data": {
      "text/html": [
       "3084"
      ],
      "text/latex": [
       "3084"
      ],
      "text/markdown": [
       "3084"
      ],
      "text/plain": [
       "[1] 3084"
      ]
     },
     "metadata": {},
     "output_type": "display_data"
    },
    {
     "data": {
      "text/html": [
       "3084"
      ],
      "text/latex": [
       "3084"
      ],
      "text/markdown": [
       "3084"
      ],
      "text/plain": [
       "[1] 3084"
      ]
     },
     "metadata": {},
     "output_type": "display_data"
    }
   ],
   "source": [
    "\n",
    "hicatMarker = Reduce(union, list(InsularHicatMarker, Cortex_10HicatMarker,\n",
    "Cortex_24HicatMarker,\n",
    "Cortex_7AHicatMarker,\n",
    "Cortex_TEHicatMarker,\n",
    "Cortex_F1HicatMarker,\n",
    "Cortex_V1HicatMarker, ClastrumHicatMarker))\n",
    "length(hicatMarker)\n",
    "hicatMarker = hicatMarker[which(hicatMarker %in% rownames(combineSeuratList$Insular@assays$SCT@counts))]\n",
    "length(hicatMarker)\n",
    "hicatMarker = hicatMarker[which(hicatMarker %in% rownames(combineSeuratList$Cortex_10@assays$SCT@counts))]\n",
    "length(hicatMarker)\n",
    "hicatMarker = hicatMarker[which(hicatMarker %in% rownames(combineSeuratList$Cortex_24@assays$SCT@counts))]\n",
    "length(hicatMarker)\n",
    "hicatMarker = hicatMarker[which(hicatMarker %in% rownames(combineSeuratList$Cortex_7A@assays$SCT@counts))]\n",
    "length(hicatMarker)\n",
    "hicatMarker = hicatMarker[which(hicatMarker %in% rownames(combineSeuratList$Cortex_F1@assays$SCT@counts))]\n",
    "length(hicatMarker)\n",
    "hicatMarker = hicatMarker[which(hicatMarker %in% rownames(combineSeuratList$Cortex_V1@assays$SCT@counts))]\n",
    "length(hicatMarker)\n",
    "hicatMarker = hicatMarker[which(hicatMarker %in% rownames(combineSeuratList$Cortex_TE@assays$SCT@counts))]\n",
    "length(hicatMarker)\n",
    "hicatMarker = hicatMarker[which(hicatMarker %in% rownames(combineSeuratList$Clastrum@assays$SCT@counts))]\n",
    "length(hicatMarker)\n"
   ]
  },
  {
   "cell_type": "code",
   "execution_count": null,
   "id": "d98bd1d5",
   "metadata": {
    "scrolled": true
   },
   "outputs": [
    {
     "name": "stderr",
     "output_type": "stream",
     "text": [
      "Finding all pairwise anchors\n",
      "\n",
      "Running CCA\n",
      "\n",
      "Merging objects\n",
      "\n",
      "Finding neighborhoods\n",
      "\n",
      "Finding anchors\n",
      "\n",
      "\tFound 14604 anchors\n",
      "\n",
      "Filtering anchors\n",
      "\n",
      "\tRetained 9063 anchors\n",
      "\n",
      "Running CCA\n",
      "\n",
      "Merging objects\n",
      "\n",
      "Finding neighborhoods\n",
      "\n",
      "Finding anchors\n",
      "\n",
      "\tFound 16468 anchors\n",
      "\n",
      "Filtering anchors\n",
      "\n",
      "\tRetained 11413 anchors\n",
      "\n",
      "Running CCA\n",
      "\n",
      "Merging objects\n",
      "\n",
      "Finding neighborhoods\n",
      "\n",
      "Finding anchors\n",
      "\n",
      "\tFound 20997 anchors\n",
      "\n",
      "Filtering anchors\n",
      "\n",
      "\tRetained 13616 anchors\n",
      "\n",
      "Running CCA\n",
      "\n",
      "Merging objects\n",
      "\n",
      "Finding neighborhoods\n",
      "\n",
      "Finding anchors\n",
      "\n",
      "\tFound 13719 anchors\n",
      "\n",
      "Filtering anchors\n",
      "\n",
      "\tRetained 7714 anchors\n",
      "\n",
      "Running CCA\n",
      "\n",
      "Merging objects\n",
      "\n",
      "Finding neighborhoods\n",
      "\n",
      "Finding anchors\n",
      "\n",
      "\tFound 21476 anchors\n",
      "\n",
      "Filtering anchors\n",
      "\n",
      "\tRetained 12279 anchors\n",
      "\n",
      "Running CCA\n",
      "\n",
      "Merging objects\n",
      "\n",
      "Finding neighborhoods\n",
      "\n",
      "Finding anchors\n",
      "\n",
      "\tFound 18331 anchors\n",
      "\n",
      "Filtering anchors\n",
      "\n",
      "\tRetained 10997 anchors\n",
      "\n",
      "Running CCA\n",
      "\n",
      "Merging objects\n",
      "\n",
      "Finding neighborhoods\n",
      "\n",
      "Finding anchors\n",
      "\n",
      "\tFound 17025 anchors\n",
      "\n",
      "Filtering anchors\n",
      "\n",
      "\tRetained 11738 anchors\n",
      "\n",
      "Running CCA\n",
      "\n",
      "Merging objects\n",
      "\n",
      "Finding neighborhoods\n",
      "\n",
      "Finding anchors\n",
      "\n",
      "\tFound 21857 anchors\n",
      "\n",
      "Filtering anchors\n",
      "\n",
      "\tRetained 14432 anchors\n",
      "\n",
      "Running CCA\n",
      "\n",
      "Merging objects\n",
      "\n",
      "Finding neighborhoods\n",
      "\n",
      "Finding anchors\n",
      "\n",
      "\tFound 23327 anchors\n",
      "\n",
      "Filtering anchors\n",
      "\n",
      "\tRetained 16157 anchors\n",
      "\n",
      "Running CCA\n",
      "\n",
      "Merging objects\n",
      "\n",
      "Finding neighborhoods\n",
      "\n",
      "Finding anchors\n",
      "\n",
      "\tFound 19170 anchors\n",
      "\n",
      "Filtering anchors\n",
      "\n",
      "\tRetained 12272 anchors\n",
      "\n",
      "Running CCA\n",
      "\n",
      "Merging objects\n",
      "\n",
      "Finding neighborhoods\n",
      "\n",
      "Finding anchors\n",
      "\n",
      "\tFound 13715 anchors\n",
      "\n",
      "Filtering anchors\n",
      "\n",
      "\tRetained 9093 anchors\n",
      "\n",
      "Running CCA\n",
      "\n",
      "Merging objects\n",
      "\n",
      "Finding neighborhoods\n",
      "\n",
      "Finding anchors\n",
      "\n",
      "\tFound 17626 anchors\n",
      "\n",
      "Filtering anchors\n",
      "\n",
      "\tRetained 11261 anchors\n",
      "\n",
      "Running CCA\n",
      "\n",
      "Merging objects\n",
      "\n",
      "Finding neighborhoods\n",
      "\n",
      "Finding anchors\n",
      "\n",
      "\tFound 16139 anchors\n",
      "\n",
      "Filtering anchors\n",
      "\n",
      "\tRetained 11037 anchors\n",
      "\n",
      "Running CCA\n",
      "\n",
      "Merging objects\n",
      "\n",
      "Finding neighborhoods\n",
      "\n",
      "Finding anchors\n",
      "\n",
      "\tFound 18451 anchors\n",
      "\n",
      "Filtering anchors\n",
      "\n",
      "\tRetained 12406 anchors\n",
      "\n",
      "Running CCA\n",
      "\n",
      "Merging objects\n",
      "\n",
      "Finding neighborhoods\n",
      "\n",
      "Finding anchors\n",
      "\n",
      "\tFound 16770 anchors\n",
      "\n",
      "Filtering anchors\n",
      "\n",
      "\tRetained 11267 anchors\n",
      "\n",
      "Running CCA\n",
      "\n",
      "Merging objects\n",
      "\n",
      "Finding neighborhoods\n",
      "\n",
      "Finding anchors\n",
      "\n",
      "\tFound 15721 anchors\n",
      "\n",
      "Filtering anchors\n",
      "\n",
      "\tRetained 9083 anchors\n",
      "\n",
      "Running CCA\n",
      "\n",
      "Merging objects\n",
      "\n",
      "Finding neighborhoods\n",
      "\n",
      "Finding anchors\n",
      "\n",
      "\tFound 20450 anchors\n",
      "\n",
      "Filtering anchors\n",
      "\n",
      "\tRetained 10500 anchors\n",
      "\n",
      "Running CCA\n",
      "\n",
      "Merging objects\n",
      "\n",
      "Finding neighborhoods\n",
      "\n",
      "Finding anchors\n",
      "\n",
      "\tFound 19482 anchors\n",
      "\n",
      "Filtering anchors\n",
      "\n",
      "\tRetained 10629 anchors\n",
      "\n",
      "Running CCA\n",
      "\n",
      "Merging objects\n",
      "\n",
      "Finding neighborhoods\n",
      "\n",
      "Finding anchors\n",
      "\n",
      "\tFound 19671 anchors\n",
      "\n",
      "Filtering anchors\n",
      "\n",
      "\tRetained 10553 anchors\n",
      "\n",
      "Running CCA\n",
      "\n",
      "Merging objects\n",
      "\n",
      "Finding neighborhoods\n",
      "\n",
      "Finding anchors\n",
      "\n",
      "\tFound 20426 anchors\n",
      "\n",
      "Filtering anchors\n",
      "\n",
      "\tRetained 12147 anchors\n",
      "\n",
      "Running CCA\n",
      "\n",
      "Merging objects\n",
      "\n",
      "Finding neighborhoods\n",
      "\n",
      "Finding anchors\n",
      "\n",
      "\tFound 17228 anchors\n",
      "\n",
      "Filtering anchors\n",
      "\n"
     ]
    }
   ],
   "source": [
    "\n",
    "\n",
    "combineSeuratListPrep = PrepSCTIntegration(object.list = combineSeuratList, anchor.features = hicatMarker)\n",
    "integrateAnchors = FindIntegrationAnchors(\n",
    "    object.list = combineSeuratListPrep, normalization.method = \"SCT\",\n",
    "    anchor.features = hicatMarker\n",
    ")\n",
    "integrateSeurat = IntegrateData(anchorset = integrateAnchors, normalization.method = \"SCT\")\n",
    "DefaultAssay(integrateSeurat)\n",
    "integrateSeurat = RunPCA(integrateSeurat, features = hicatMarker, npcs = 100, verbose = FALSE)\n",
    "options(repr.plot.width=7, repr.plot.height=4)\n",
    "ElbowPlot(integrateSeurat, ndims = 100)\n",
    "# integrateSeurat = FindNeighbors(integrateSeurat, reduction = \"pca\", dims = 1:100, nn.eps = 0)\n",
    "# integrateSeurat = FindClusters(integrateSeurat, resolution = 6, n.start = 100)\n",
    "# integrateSeurat = RunTSNE(integrateSeurat, dims = 1:100)\n",
    "# integrateSeurat = RunUMAP(integrateSeurat, dims = 1:100)\n",
    "\n",
    "integrateSeurat = FindNeighbors(integrateSeurat, reduction = \"pca\", dims = 1:100) %>%\n",
    "    FindClusters(resolution = 3, n.start = 10, algorithm=1) %>%\n",
    "    RunTSNE(dims = 1:100) %>%\n",
    "    RunUMAP(dims = 1:100)\n",
    "\n",
    "\n",
    "\n",
    "\n",
    "saveRDS(integrateSeurat, paste0(outdir, \"/8area_compare_seurat.rds\"))\n",
    "\n"
   ]
  },
  {
   "cell_type": "code",
   "execution_count": null,
   "id": "83811ddb",
   "metadata": {},
   "outputs": [],
   "source": []
  },
  {
   "cell_type": "code",
   "execution_count": null,
   "id": "6f7c5254",
   "metadata": {},
   "outputs": [],
   "source": []
  },
  {
   "cell_type": "code",
   "execution_count": 32,
   "id": "9152d7be",
   "metadata": {},
   "outputs": [
    {
     "data": {
      "text/plain": [
       "An object of class Seurat \n",
       "21970 features across 12217 samples within 1 assay \n",
       "Active assay: RNA (21970 features, 0 variable features)"
      ]
     },
     "metadata": {},
     "output_type": "display_data"
    }
   ],
   "source": [
    "cotex_V1_1"
   ]
  },
  {
   "cell_type": "code",
   "execution_count": null,
   "id": "c8951bb5",
   "metadata": {},
   "outputs": [],
   "source": []
  },
  {
   "cell_type": "code",
   "execution_count": null,
   "id": "b46b7810",
   "metadata": {},
   "outputs": [],
   "source": []
  },
  {
   "cell_type": "code",
   "execution_count": 23,
   "id": "a8a0d14e",
   "metadata": {},
   "outputs": [
    {
     "data": {
      "text/plain": [
       "An object of class Seurat \n",
       "21970 features across 12834 samples within 1 assay \n",
       "Active assay: RNA (21970 features, 0 variable features)"
      ]
     },
     "metadata": {},
     "output_type": "display_data"
    }
   ],
   "source": [
    "cotex_TE_1"
   ]
  },
  {
   "cell_type": "code",
   "execution_count": 21,
   "id": "1f87f757",
   "metadata": {},
   "outputs": [
    {
     "data": {
      "text/plain": [
       "An object of class Seurat \n",
       "21970 features across 12434 samples within 1 assay \n",
       "Active assay: RNA (21970 features, 0 variable features)"
      ]
     },
     "metadata": {},
     "output_type": "display_data"
    }
   ],
   "source": [
    "cotex_24_1"
   ]
  },
  {
   "cell_type": "code",
   "execution_count": 15,
   "id": "4ef64b09",
   "metadata": {},
   "outputs": [
    {
     "data": {
      "text/plain": [
       "An object of class Seurat \n",
       "21970 features across 12603 samples within 1 assay \n",
       "Active assay: RNA (21970 features, 0 variable features)"
      ]
     },
     "metadata": {},
     "output_type": "display_data"
    }
   ],
   "source": [
    "cotex_10_1"
   ]
  },
  {
   "cell_type": "code",
   "execution_count": 5,
   "id": "366ceb8b",
   "metadata": {
    "scrolled": true
   },
   "outputs": [
    {
     "data": {
      "text/plain": [
       "\n",
       "    EX-L2-51  EX-L2-L3-19  EX-L2-L3-39  EX-L2-L3-43  EX-L2-L3-85  EX-L2-L3-98 \n",
       "         247          106          390          280          364          131 \n",
       " EX-L2-L3-99 EX-L2-L4-105  EX-L2-L4-81  EX-L2-L4-82     EX-L3-21     EX-L3-23 \n",
       "         112          231          200           80          277          139 \n",
       "    EX-L3-25     EX-L3-26     EX-L3-31     EX-L3-33     EX-L3-34     EX-L3-38 \n",
       "         403           65          154          136          276          329 \n",
       "    EX-L3-44      EX-L3-5     EX-L3-54     EX-L3-60      EX-L3-7     EX-L3-84 \n",
       "         111          445          182           86          573          219 \n",
       "    EX-L3-89     EX-L3-94  EX-L3-L4-12  EX-L3-L4-13  EX-L3-L4-16  EX-L3-L4-37 \n",
       "         143           67          485          893          129          606 \n",
       " EX-L3-L4-42  EX-L3-L4-86  EX-L3-L4-96      EX-L4-0    EX-L4-102     EX-L4-11 \n",
       "         258          120           62          817           63          289 \n",
       "    EX-L4-14     EX-L4-17      EX-L4-2     EX-L4-22     EX-L4-27     EX-L4-53 \n",
       "         344          305          211          258           67          152 \n",
       "    EX-L4-55     EX-L4-59     EX-L4-83     EX-L4-90  EX-L4-L5-24   EX-L4-L5-4 \n",
       "         204          110          145           54          139          553 \n",
       " EX-L4-L5-47  EX-L4-L5-67  EX-L4-L5-80   EX-L4-L5-9  EX-L4-L6-18  EX-L4-L6-48 \n",
       "         266          123           83          169          181          109 \n",
       " EX-L4-L6-70     EX-L5-10     EX-L5-32     EX-L5-49  EX-L5-L6-28  EX-L5-L6-45 \n",
       "         137          483          228          248          166          268 \n",
       " EX-L5-L6-62  EX-L5-L6-68  EX-L5-L6-73      EX-L6-1     EX-L6-15     EX-L6-30 \n",
       "         117          176          177          207          151          121 \n",
       "    EX-L6-57      EX-L6-6     EX-L6-65      EX-L6-8   IN-LAMP5-1   IN-LAMP5-4 \n",
       "         236          121          145          123          107          287 \n",
       "IN-PV_CHC-10 IN-PV_CHC-11 IN-PV_CHC-38  IN-PVALB-13  IN-PVALB-26  IN-PVALB-28 \n",
       "          62           57           71           70           51          152 \n",
       " IN-PVALB-34  IN-PVALB-50  IN-PVALB-53  IN-PVALB-69   IN-PVALB-7  IN-PVALB-73 \n",
       "          71           55          107           72          130           74 \n",
       "  IN-RELN-15   IN-RELN-27   IN-RELN-36    IN-RELN-5   IN-RELN-55   IN-RELN-57 \n",
       "          87           63           65          128           59           53 \n",
       "  IN-RELN-67    IN-SST-17    IN-SST-23     IN-SST-3    IN-SST-32    IN-SST-43 \n",
       "          56           65           64          121           95           98 \n",
       "   IN-SST-74     IN-SST-8    IN-VIP-12    IN-VIP-20     IN-VIP-9 \n",
       "          62           71           92           61           58 "
      ]
     },
     "metadata": {},
     "output_type": "display_data"
    }
   ],
   "source": [
    "table(cotex_10$Cluster)"
   ]
  },
  {
   "cell_type": "code",
   "execution_count": 4,
   "id": "5bb7daee",
   "metadata": {},
   "outputs": [
    {
     "data": {
      "text/plain": [
       "An object of class Seurat \n",
       "21970 features across 18709 samples within 1 assay \n",
       "Active assay: RNA (21970 features, 0 variable features)"
      ]
     },
     "metadata": {},
     "output_type": "display_data"
    },
    {
     "data": {
      "text/plain": [
       "An object of class Seurat \n",
       "21970 features across 33406 samples within 1 assay \n",
       "Active assay: RNA (21970 features, 0 variable features)"
      ]
     },
     "metadata": {},
     "output_type": "display_data"
    },
    {
     "data": {
      "text/plain": [
       "An object of class Seurat \n",
       "21970 features across 12257 samples within 1 assay \n",
       "Active assay: RNA (21970 features, 0 variable features)"
      ]
     },
     "metadata": {},
     "output_type": "display_data"
    },
    {
     "data": {
      "text/plain": [
       "An object of class Seurat \n",
       "21970 features across 9112 samples within 1 assay \n",
       "Active assay: RNA (21970 features, 0 variable features)"
      ]
     },
     "metadata": {},
     "output_type": "display_data"
    },
    {
     "data": {
      "text/plain": [
       "An object of class Seurat \n",
       "21970 features across 33136 samples within 1 assay \n",
       "Active assay: RNA (21970 features, 0 variable features)"
      ]
     },
     "metadata": {},
     "output_type": "display_data"
    },
    {
     "data": {
      "text/plain": [
       "An object of class Seurat \n",
       "21970 features across 23009 samples within 1 assay \n",
       "Active assay: RNA (21970 features, 0 variable features)"
      ]
     },
     "metadata": {},
     "output_type": "display_data"
    }
   ],
   "source": [
    "cotex_10\n",
    "cotex_24\n",
    "cotex_7A\n",
    "cotex_F1\n",
    "cotex_TE\n",
    "cotex_V1"
   ]
  },
  {
   "cell_type": "code",
   "execution_count": null,
   "id": "d0b0501a",
   "metadata": {},
   "outputs": [],
   "source": []
  }
 ],
 "metadata": {
  "kernelspec": {
   "display_name": "R",
   "language": "R",
   "name": "ir"
  },
  "language_info": {
   "codemirror_mode": "r",
   "file_extension": ".r",
   "mimetype": "text/x-r-source",
   "name": "R",
   "pygments_lexer": "r",
   "version": "4.1.3"
  }
 },
 "nbformat": 4,
 "nbformat_minor": 5
}
