{
 "cells": [
  {
   "cell_type": "code",
   "execution_count": 1,
   "id": "b6f71d30",
   "metadata": {},
   "outputs": [
    {
     "name": "stderr",
     "output_type": "stream",
     "text": [
      "/home/liuyx/yes/envs/GraphST2/lib/python3.8/site-packages/loompy/bus_file.py:68: NumbaDeprecationWarning: The 'nopython' keyword argument was not supplied to the 'numba.jit' decorator. The implicit default value for this argument is currently False, but it will be changed to True in Numba 0.59.0. See https://numba.readthedocs.io/en/stable/reference/deprecation.html#deprecation-of-object-mode-fall-back-behaviour-when-using-jit for details.\n",
      "  def twobit_to_dna(twobit: int, size: int) -> str:\n",
      "/home/liuyx/yes/envs/GraphST2/lib/python3.8/site-packages/loompy/bus_file.py:85: NumbaDeprecationWarning: The 'nopython' keyword argument was not supplied to the 'numba.jit' decorator. The implicit default value for this argument is currently False, but it will be changed to True in Numba 0.59.0. See https://numba.readthedocs.io/en/stable/reference/deprecation.html#deprecation-of-object-mode-fall-back-behaviour-when-using-jit for details.\n",
      "  def dna_to_twobit(dna: str) -> int:\n",
      "/home/liuyx/yes/envs/GraphST2/lib/python3.8/site-packages/loompy/bus_file.py:102: NumbaDeprecationWarning: The 'nopython' keyword argument was not supplied to the 'numba.jit' decorator. The implicit default value for this argument is currently False, but it will be changed to True in Numba 0.59.0. See https://numba.readthedocs.io/en/stable/reference/deprecation.html#deprecation-of-object-mode-fall-back-behaviour-when-using-jit for details.\n",
      "  def twobit_1hamming(twobit: int, size: int) -> List[int]:\n"
     ]
    }
   ],
   "source": [
    "# The script is used to subset PFC region cells\n",
    "\n",
    "import h5py\n",
    "import numpy as np\n",
    "import pandas as pd\n",
    "import scipy.io\n",
    "import scipy\n",
    "import csv\n",
    "import os\n",
    "import scanpy\n",
    "import re\n",
    "import loompy\n",
    "import scanpy\n",
    "import anndata as ad"
   ]
  },
  {
   "cell_type": "code",
   "execution_count": 2,
   "id": "4cd1b782",
   "metadata": {},
   "outputs": [
    {
     "name": "stderr",
     "output_type": "stream",
     "text": [
      "/tmp/ipykernel_185124/2901296041.py:20: ImplicitModificationWarning: Trying to modify attribute `.obs` of view, initializing view as actual.\n",
      "  select_adata.obs[\"library\"] = tmp[\"library\"].copy()\n"
     ]
    }
   ],
   "source": [
    "for i in ['_10']:\n",
    "    adata_count = scanpy.read_h5ad(\"/home/share/share_mengjuan/mengjuan/ma_fas_snRNA_seurat/merge2seurat.all.scanpy.counts.h5ad\")\n",
    "    metadata = pd.read_csv(\"/home/liuyx/liuyuxuan/spa_seurat/cla/speciesCompare/1012_compare_to_cortex/data/cortex\"+i+\".csv\")\n",
    "\n",
    "    adata_count.obs[\"CellID\"] = adata_count.obs.index\n",
    "    adata_count_cellid = set(adata_count.obs[\"CellID\"])\n",
    "    meta_cellid = set(metadata[\"CellID\"])\n",
    "    meta_cellid.issubset(adata_count_cellid)\n",
    "    brain_region = [x for x in metadata[\"brain_area\"].unique()]\n",
    "\n",
    "    select_region=brain_region\n",
    "    select_metadata = metadata.loc[metadata[\"brain_area\"].isin(select_region),:].copy()\n",
    "    select_adata = adata_count[adata_count.obs[\"CellID\"].isin(select_metadata[\"CellID\"]),:]\n",
    "    # merge metadata\n",
    "    tmp = select_adata.obs.loc[:,[\"CellID\", \"brain_area\"]].copy()\n",
    "    tmp = tmp.merge(select_metadata, how=\"left\", on=\"CellID\")\n",
    "    tmp.index = tmp[\"CellID\"]\n",
    "    all(tmp[\"brain_area_x\"] == tmp[\"brain_area_y\"])\n",
    "    all(tmp.index == select_adata.obs.index)\n",
    "    select_adata.obs[\"library\"] = tmp[\"library\"].copy()\n",
    "    select_adata.obs[\"source\"] = tmp[\"source\"].copy()\n",
    "    select_adata.obs[\"Class\"] = tmp[\"Class\"].copy()\n",
    "    select_adata.obs[\"SubClass\"] = tmp[\"SubClass\"].copy()\n",
    "    select_adata.obs[\"Cluster\"] = tmp[\"Cluster\"].copy()\n",
    "    #select_adata.write(data_dir+'/macaque_'+area+'_snRNA.266clusters.h5ad')\n",
    "\n",
    "    # save loom\n",
    "    matrix = select_adata.X.T\n",
    "    row_metadata = {\"Gene\":np.array(select_adata.var.index)}\n",
    "    col_metadata = {\n",
    "        \"CellID\":np.array(select_adata.obs.CellID), \n",
    "        \"brain_area\":np.array(select_adata.obs.brain_area), \n",
    "        \"library\":np.array(select_adata.obs.library), \n",
    "        \"source\":np.array(select_adata.obs.source), \n",
    "        \"Class\":np.array(select_adata.obs.Class), \n",
    "        \"SubClass\":np.array(select_adata.obs.SubClass), \n",
    "        \"Cluster\":np.array(select_adata.obs.Cluster)\n",
    "    }\n",
    "\n",
    "    loompy.create('/home/liuyx/liuyuxuan/spa_seurat/cla/speciesCompare/1012_compare_to_cortex/data/macaque_cortex'+i+'.loom', matrix, row_metadata, col_metadata)\n"
   ]
  },
  {
   "cell_type": "code",
   "execution_count": 3,
   "id": "54482354",
   "metadata": {},
   "outputs": [
    {
     "name": "stderr",
     "output_type": "stream",
     "text": [
      "/tmp/ipykernel_185124/3820270694.py:20: ImplicitModificationWarning: Trying to modify attribute `.obs` of view, initializing view as actual.\n",
      "  select_adata.obs[\"library\"] = tmp[\"library\"].copy()\n",
      "/tmp/ipykernel_185124/3820270694.py:20: ImplicitModificationWarning: Trying to modify attribute `.obs` of view, initializing view as actual.\n",
      "  select_adata.obs[\"library\"] = tmp[\"library\"].copy()\n",
      "/tmp/ipykernel_185124/3820270694.py:20: ImplicitModificationWarning: Trying to modify attribute `.obs` of view, initializing view as actual.\n",
      "  select_adata.obs[\"library\"] = tmp[\"library\"].copy()\n",
      "/tmp/ipykernel_185124/3820270694.py:20: ImplicitModificationWarning: Trying to modify attribute `.obs` of view, initializing view as actual.\n",
      "  select_adata.obs[\"library\"] = tmp[\"library\"].copy()\n",
      "/tmp/ipykernel_185124/3820270694.py:20: ImplicitModificationWarning: Trying to modify attribute `.obs` of view, initializing view as actual.\n",
      "  select_adata.obs[\"library\"] = tmp[\"library\"].copy()\n"
     ]
    }
   ],
   "source": [
    "for i in ['_24','_F1','_V1','_TE','_7A']:\n",
    "    adata_count = scanpy.read_h5ad(\"/home/share/share_mengjuan/mengjuan/ma_fas_snRNA_seurat/merge2seurat.all.scanpy.counts.h5ad\")\n",
    "    metadata = pd.read_csv(\"/home/liuyx/liuyuxuan/spa_seurat/cla/speciesCompare/1012_compare_to_cortex/data/cortex\"+i+\".csv\")\n",
    "\n",
    "    adata_count.obs[\"CellID\"] = adata_count.obs.index\n",
    "    adata_count_cellid = set(adata_count.obs[\"CellID\"])\n",
    "    meta_cellid = set(metadata[\"CellID\"])\n",
    "    meta_cellid.issubset(adata_count_cellid)\n",
    "    brain_region = [x for x in metadata[\"brain_area\"].unique()]\n",
    "\n",
    "    select_region=brain_region\n",
    "    select_metadata = metadata.loc[metadata[\"brain_area\"].isin(select_region),:].copy()\n",
    "    select_adata = adata_count[adata_count.obs[\"CellID\"].isin(select_metadata[\"CellID\"]),:]\n",
    "    # merge metadata\n",
    "    tmp = select_adata.obs.loc[:,[\"CellID\", \"brain_area\"]].copy()\n",
    "    tmp = tmp.merge(select_metadata, how=\"left\", on=\"CellID\")\n",
    "    tmp.index = tmp[\"CellID\"]\n",
    "    all(tmp[\"brain_area_x\"] == tmp[\"brain_area_y\"])\n",
    "    all(tmp.index == select_adata.obs.index)\n",
    "    select_adata.obs[\"library\"] = tmp[\"library\"].copy()\n",
    "    select_adata.obs[\"source\"] = tmp[\"source\"].copy()\n",
    "    select_adata.obs[\"Class\"] = tmp[\"Class\"].copy()\n",
    "    select_adata.obs[\"SubClass\"] = tmp[\"SubClass\"].copy()\n",
    "    select_adata.obs[\"Cluster\"] = tmp[\"Cluster\"].copy()\n",
    "    #select_adata.write(data_dir+'/macaque_'+area+'_snRNA.266clusters.h5ad')\n",
    "\n",
    "    # save loom\n",
    "    matrix = select_adata.X.T\n",
    "    row_metadata = {\"Gene\":np.array(select_adata.var.index)}\n",
    "    col_metadata = {\n",
    "        \"CellID\":np.array(select_adata.obs.CellID), \n",
    "        \"brain_area\":np.array(select_adata.obs.brain_area), \n",
    "        \"library\":np.array(select_adata.obs.library), \n",
    "        \"source\":np.array(select_adata.obs.source), \n",
    "        \"Class\":np.array(select_adata.obs.Class), \n",
    "        \"SubClass\":np.array(select_adata.obs.SubClass), \n",
    "        \"Cluster\":np.array(select_adata.obs.Cluster)\n",
    "    }\n",
    "\n",
    "    loompy.create('/home/liuyx/liuyuxuan/spa_seurat/cla/speciesCompare/1012_compare_to_cortex/data/macaque_cortex'+i+'.loom', matrix, row_metadata, col_metadata)\n"
   ]
  },
  {
   "cell_type": "code",
   "execution_count": null,
   "id": "e3a5228a",
   "metadata": {},
   "outputs": [],
   "source": []
  }
 ],
 "metadata": {
  "kernelspec": {
   "display_name": "GraphST2",
   "language": "python",
   "name": "graphst2"
  },
  "language_info": {
   "codemirror_mode": {
    "name": "ipython",
    "version": 3
   },
   "file_extension": ".py",
   "mimetype": "text/x-python",
   "name": "python",
   "nbconvert_exporter": "python",
   "pygments_lexer": "ipython3",
   "version": "3.8.18"
  }
 },
 "nbformat": 4,
 "nbformat_minor": 5
}
